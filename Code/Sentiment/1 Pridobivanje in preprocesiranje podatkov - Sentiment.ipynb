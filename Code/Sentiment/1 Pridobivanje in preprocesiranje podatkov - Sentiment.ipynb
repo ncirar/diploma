{
 "cells": [
  {
   "cell_type": "markdown",
   "id": "ef95905e",
   "metadata": {},
   "source": [
    "[Podatkovno zbirko](https://www.clarin.si/repository/xmlui/handle/11356/1054) z označenimi sentimenti objav s Twitterja smo pridobili s portala Clarin.si V prvem delu se lotimo pridobitve besedila vseh objav v podatkovni zbirki, saj so v prvotni obliki twitti identificirani le z ID-jem in ne s celotnim besedilom objave. V drugem delu se lotimo preprocesiranja podatkov."
   ]
  },
  {
   "cell_type": "markdown",
   "id": "2b9c3697",
   "metadata": {},
   "source": [
    "## Pridobivanje podatkov s pomočjo Twitter API-ja Tweepy\n",
    "Na portalu Twitter developer smo si ustvarili račun in pridobili ključe za uporabo Tweepy API-ja.\n",
    "### Tweepy API ključi"
   ]
  },
  {
   "cell_type": "code",
   "execution_count": 1,
   "id": "e2746fad",
   "metadata": {
    "id": "e2746fad"
   },
   "outputs": [],
   "source": [
    "#!pip install tweepy\n",
    "import tweepy"
   ]
  },
  {
   "cell_type": "code",
   "execution_count": 2,
   "id": "fe1e76ae",
   "metadata": {
    "id": "fe1e76ae"
   },
   "outputs": [],
   "source": [
    "consumer_key = 'tJJWBrVL5ePKzrNMd0upUNCkx'\n",
    "consumer_secret = 'wpb4Jx04ZufeZCIAdpLqSZfpIFO01OvU6F2jwM5QxoL8uDPKC2'\n",
    "access_token = '1549038171714998272-4176ZxEc2amIJWhBJMM8NtstEzWBoC'\n",
    "access_token_secret = 'GQP0HFsWTYN8JEbr9yK47ZJMCzGBHkUsyuatZLsszoPuA'\n",
    "\n",
    "auth = tweepy.OAuthHandler(consumer_key, consumer_secret)\n",
    "auth.set_access_token(access_token, access_token_secret)\n",
    "\n",
    "api = tweepy.API(auth, wait_on_rate_limit = True, wait_on_rate_limit_notify = True)"
   ]
  },
  {
   "cell_type": "markdown",
   "id": "b88e1db8",
   "metadata": {},
   "source": [
    "Naložimo datoteki, pridobljeni s portala Clarin: eno v slovenskem in drugo v angleškem jeziku. Prvo bomo uporabili kot zbirko za učenje modela (angl. *training set*), drugo pa kot zbirko za testiranje (angl. *test set*). Vsako datoteko posebej shranimo v seznam, pri čemer je vsak posamezni twitt sestavljen iz slovarja *{'ID': id_twitta, 'sent': sentiment_twitta}*."
   ]
  },
  {
   "cell_type": "code",
   "execution_count": 3,
   "id": "mzpSnSNkpH-0",
   "metadata": {
    "colab": {
     "base_uri": "https://localhost:8080/",
     "height": 142,
     "resources": {
      "http://localhost:8080/nbextensions/google.colab/files.js": {
       "data": "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",
       "headers": [
        [
         "content-type",
         "application/javascript"
        ]
       ],
       "ok": true,
       "status": 200,
       "status_text": ""
      }
     }
    },
    "id": "mzpSnSNkpH-0",
    "outputId": "b0f0a214-8fba-4440-e784-89189054ed9f"
   },
   "outputs": [
    {
     "data": {
      "text/html": [
       "\n",
       "     <input type=\"file\" id=\"files-c494a955-d8c9-499f-b1a2-e8521416f7af\" name=\"files[]\" multiple disabled\n",
       "        style=\"border:none\" />\n",
       "     <output id=\"result-c494a955-d8c9-499f-b1a2-e8521416f7af\">\n",
       "      Upload widget is only available when the cell has been executed in the\n",
       "      current browser session. Please rerun this cell to enable.\n",
       "      </output>\n",
       "      <script src=\"/nbextensions/google.colab/files.js\"></script> "
      ],
      "text/plain": [
       "<IPython.core.display.HTML object>"
      ]
     },
     "metadata": {},
     "output_type": "display_data"
    },
    {
     "name": "stdout",
     "output_type": "stream",
     "text": [
      "Saving English_Twitter_sentiment.csv to English_Twitter_sentiment.csv\n",
      "Saving Slovenian_Twitter_sentiment.csv to Slovenian_Twitter_sentiment.csv\n",
      "User uploaded file \"English_Twitter_sentiment.csv\" with length 3353147 bytes\n",
      "User uploaded file \"Slovenian_Twitter_sentiment.csv\" with length 4356752 bytes\n"
     ]
    }
   ],
   "source": [
    "from google.colab import files\n",
    "\n",
    "uploaded = files.upload()\n",
    "\n",
    "for fn in uploaded.keys():\n",
    "  print('User uploaded file \"{name}\" with length {length} bytes'.format(\n",
    "      name=fn, length=len(uploaded[fn])))"
   ]
  },
  {
   "cell_type": "markdown",
   "id": "2846b58b",
   "metadata": {},
   "source": [
    "### Shranjevanje korpusov v slovenščini in angleščini v seznam"
   ]
  },
  {
   "cell_type": "code",
   "execution_count": 4,
   "id": "9591f72b",
   "metadata": {
    "id": "9591f72b"
   },
   "outputs": [],
   "source": [
    "import csv\n",
    "corpusSlo = []\n",
    "\n",
    "with open('Slovenian_Twitter_sentiment.csv', 'r') as f:\n",
    "    lineReader = csv.reader(f, delimiter=',', quotechar=\"\\\"\")\n",
    "    for row in lineReader:\n",
    "        if row:\n",
    "            #print(row)\n",
    "            corpusSlo.append({'ID': row[0], 'sent': row[1]})"
   ]
  },
  {
   "cell_type": "code",
   "execution_count": 5,
   "id": "asEnfmuYhNNB",
   "metadata": {
    "colab": {
     "base_uri": "https://localhost:8080/"
    },
    "id": "asEnfmuYhNNB",
    "outputId": "a731f6be-38c8-4cf7-b64d-de5415b66803"
   },
   "outputs": [
    {
     "data": {
      "text/plain": [
       "{'ID': 'TweetID', 'sent': 'HandLabel'}"
      ]
     },
     "execution_count": 5,
     "metadata": {},
     "output_type": "execute_result"
    }
   ],
   "source": [
    "corpusSlo[0]"
   ]
  },
  {
   "cell_type": "code",
   "execution_count": 6,
   "id": "3fd14854",
   "metadata": {
    "id": "3fd14854"
   },
   "outputs": [],
   "source": [
    "corpusSlo = corpusSlo[1:]"
   ]
  },
  {
   "cell_type": "code",
   "execution_count": 7,
   "id": "5MHJpX_GIArq",
   "metadata": {
    "colab": {
     "base_uri": "https://localhost:8080/"
    },
    "id": "5MHJpX_GIArq",
    "outputId": "3304a546-aab2-4807-f4f4-d74481634cb3"
   },
   "outputs": [
    {
     "data": {
      "text/plain": [
       "133935"
      ]
     },
     "execution_count": 7,
     "metadata": {},
     "output_type": "execute_result"
    }
   ],
   "source": [
    "len(corpusSlo)"
   ]
  },
  {
   "cell_type": "code",
   "execution_count": 8,
   "id": "qdSn9bPNHkSN",
   "metadata": {
    "id": "qdSn9bPNHkSN"
   },
   "outputs": [],
   "source": [
    "corpusEng = []\n",
    "\n",
    "with open('English_Twitter_sentiment.csv', 'r') as f:\n",
    "  lineReader = csv.reader(f, delimiter=',', quotechar=\"\\\"\")\n",
    "  for row in lineReader:\n",
    "    if row:\n",
    "      corpusEng.append({'ID': row[0], 'sent': row[1]})"
   ]
  },
  {
   "cell_type": "code",
   "execution_count": 9,
   "id": "duhOUZTdIReM",
   "metadata": {
    "id": "duhOUZTdIReM"
   },
   "outputs": [],
   "source": [
    "corpusEng = corpusEng[1:]"
   ]
  },
  {
   "cell_type": "code",
   "execution_count": 10,
   "id": "9f00cf09",
   "metadata": {
    "colab": {
     "base_uri": "https://localhost:8080/"
    },
    "id": "9f00cf09",
    "outputId": "26299fb5-2fa3-44bc-83bd-e5e918f5b763"
   },
   "outputs": [
    {
     "data": {
      "text/plain": [
       "103034"
      ]
     },
     "execution_count": 10,
     "metadata": {},
     "output_type": "execute_result"
    }
   ],
   "source": [
    "len(corpusEng)"
   ]
  },
  {
   "cell_type": "markdown",
   "id": "3b90af6b",
   "metadata": {},
   "source": [
    "### Pridobivanje besedila objav s Twitterja za slovensko podatkovno zbirko\n",
    "Zapise, ki jih pridobimo s pomočjo Tweepy-ja, sproti zapisujemo v novo ustvarjeno tekstovno datoteko. Ta del nam je vzel dva dneva, saj ima vsak Twitter developer limit twittov, ki jih lahko pridobi v določenem času. Na vsakih 8000 pridobljenih twittov je funkcija mirovala približno 15 minut. Pridobljene twitte smo shranili v tekstovno datoteko raje kot takoj v seznam, da bi se izognili primeru, če bi seja delovnega zvezka iz kakršnekoli napake potekla in bi izgubli že do sedaj pridobljene objave."
   ]
  },
  {
   "cell_type": "code",
   "execution_count": null,
   "id": "3ce16836",
   "metadata": {
    "colab": {
     "base_uri": "https://localhost:8080/"
    },
    "id": "3ce16836",
    "outputId": "9ef0c749-28a2-4910-b58f-4808a4ba25e4"
   },
   "outputs": [],
   "source": [
    "t = ''\n",
    "i = 0\n",
    "\n",
    "with open('tweetsSlo.txt', 'w') as f:\n",
    "    for tweet in corpusSlo[:60000]:\n",
    "        id = tweet['ID']\n",
    "        #print(id)\n",
    "        try:\n",
    "            fetched = api.get_status(id)\n",
    "            t = fetched.text\n",
    "\n",
    "            if \"\\n\" in t:\n",
    "              t = t.replace(\"\\n\", \" \")\n",
    "\n",
    "            #print(i, t, id)\n",
    "\n",
    "        except tweepy.TweepError as e: \n",
    "            t = e\n",
    "            #print(i, t, id)\n",
    "\n",
    "        i += 1\n",
    "        f.write(i, t, id)"
   ]
  },
  {
   "cell_type": "code",
   "execution_count": 55,
   "id": "2f1f8629",
   "metadata": {
    "id": "2f1f8629"
   },
   "outputs": [],
   "source": [
    "tweetsSlo = []"
   ]
  },
  {
   "cell_type": "code",
   "execution_count": 13,
   "id": "AyBntlCAGScB",
   "metadata": {
    "colab": {
     "base_uri": "https://localhost:8080/",
     "height": 90,
     "resources": {
      "http://localhost:8080/nbextensions/google.colab/files.js": {
       "data": "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",
       "headers": [
        [
         "content-type",
         "application/javascript"
        ]
       ],
       "ok": true,
       "status": 200,
       "status_text": ""
      }
     }
    },
    "id": "AyBntlCAGScB",
    "outputId": "d32ac2d9-f97b-46fa-a7f5-febed0bb5abd"
   },
   "outputs": [
    {
     "data": {
      "text/html": [
       "\n",
       "     <input type=\"file\" id=\"files-1a9ff0b5-15e6-4db8-9911-23d1056860cb\" name=\"files[]\" multiple disabled\n",
       "        style=\"border:none\" />\n",
       "     <output id=\"result-1a9ff0b5-15e6-4db8-9911-23d1056860cb\">\n",
       "      Upload widget is only available when the cell has been executed in the\n",
       "      current browser session. Please rerun this cell to enable.\n",
       "      </output>\n",
       "      <script src=\"/nbextensions/google.colab/files.js\"></script> "
      ],
      "text/plain": [
       "<IPython.core.display.HTML object>"
      ]
     },
     "metadata": {},
     "output_type": "display_data"
    },
    {
     "name": "stdout",
     "output_type": "stream",
     "text": [
      "Saving tweetsSlo.txt to tweetsSlo.txt\n",
      "User uploaded file \"tweetsSlo.txt\" with length 6835021 bytes\n"
     ]
    }
   ],
   "source": [
    "from google.colab import files\n",
    "\n",
    "uploaded = files.upload()\n",
    "\n",
    "for fn in uploaded.keys():\n",
    "  print('User uploaded file \"{name}\" with length {length} bytes'.format(\n",
    "      name=fn, length=len(uploaded[fn])))"
   ]
  },
  {
   "cell_type": "markdown",
   "id": "e7525bbe",
   "metadata": {},
   "source": [
    "Iteriramo čez tekstovno datoteko s pridobljenimi twitti ter jih shranimo v seznam. Dolžina seznama je 58700 twittov. Podatke nato shranimo v tabelo s pomočjo knjižnice *Pandas*."
   ]
  },
  {
   "cell_type": "code",
   "execution_count": 56,
   "id": "SxS1giFrKpxU",
   "metadata": {
    "id": "SxS1giFrKpxU"
   },
   "outputs": [],
   "source": [
    "import re\n",
    "import csv\n",
    "\n",
    "with open('tweetsSlo.txt', 'r') as f:\n",
    "  lineReader = csv.reader(f, delimiter=',', quotechar=\"\\\"\")\n",
    "  for row in lineReader:\n",
    "    if row:\n",
    "      row = ' '.join(row)\n",
    "      tweetsSlo.append(row)"
   ]
  },
  {
   "cell_type": "code",
   "execution_count": 57,
   "id": "toBPmEiPYvbn",
   "metadata": {
    "colab": {
     "base_uri": "https://localhost:8080/"
    },
    "id": "toBPmEiPYvbn",
    "outputId": "73929203-8d04-4214-d27d-79b021bf32c9"
   },
   "outputs": [
    {
     "data": {
      "text/plain": [
       "58700"
      ]
     },
     "execution_count": 57,
     "metadata": {},
     "output_type": "execute_result"
    }
   ],
   "source": [
    "len(tweetsSlo)"
   ]
  },
  {
   "cell_type": "code",
   "execution_count": 58,
   "id": "0zB1pYKVWuh3",
   "metadata": {
    "id": "0zB1pYKVWuh3"
   },
   "outputs": [],
   "source": [
    "import pandas as pd\n",
    "df = pd.DataFrame(tweetsSlo, index=None, columns=['Tweet'])"
   ]
  },
  {
   "cell_type": "code",
   "execution_count": 59,
   "id": "yV7S8r6kilHy",
   "metadata": {
    "colab": {
     "base_uri": "https://localhost:8080/"
    },
    "id": "yV7S8r6kilHy",
    "outputId": "3f176a09-b1ae-4165-eb5d-90f70ef6d803"
   },
   "outputs": [
    {
     "data": {
      "text/plain": [
       "(58700, 1)"
      ]
     },
     "execution_count": 59,
     "metadata": {},
     "output_type": "execute_result"
    }
   ],
   "source": [
    "df.shape"
   ]
  },
  {
   "cell_type": "markdown",
   "id": "8bb2a41e",
   "metadata": {},
   "source": [
    "### Preprocesiranje in čiščenje besedila zbirke v slovenskem jeziku\n",
    "Poiščemo indekse vseh vrstic, ki namesto besedil objav s Twitterja vsebujejo besedila napak: doseženih limitov pridobljenih twittov ali napak, ki povedo, da račun objavljenega twitta ne obstaja več. Besedilo pretvorimo v majhne črke ter odstranimo morebitne dodatne presledke. Odstranimo vrstice, ki vsebujejo napake o doseženem limitu."
   ]
  },
  {
   "cell_type": "code",
   "execution_count": 60,
   "id": "Ixe9CDfL9dJz",
   "metadata": {
    "id": "Ixe9CDfL9dJz"
   },
   "outputs": [],
   "source": [
    "str = \"Rate limit reached\"\n",
    "limiti = []\n",
    "errorji = []\n",
    "\n",
    "for i in range(len(df['Tweet'])):\n",
    "  #print(i)\n",
    "  elementi = df['Tweet'][i].split()\n",
    "  if str in df['Tweet'][i]:\n",
    "    limiti.append(i)\n",
    "    df['Tweet'][i-1] += \" \" + df['Tweet'][i]\n",
    "  elif elementi[1] == \"[{'code':\":\n",
    "    errorji.append(i)"
   ]
  },
  {
   "cell_type": "code",
   "execution_count": 61,
   "id": "nqjj6JnfbWB_",
   "metadata": {
    "id": "nqjj6JnfbWB_"
   },
   "outputs": [],
   "source": [
    "df['Tweet'] = df['Tweet'].apply(lambda x: ' '.join(x.lower().split()))"
   ]
  },
  {
   "cell_type": "code",
   "execution_count": 62,
   "id": "pSWEsyHmLndD",
   "metadata": {
    "id": "pSWEsyHmLndD"
   },
   "outputs": [],
   "source": [
    "df['Tweet'] = df['Tweet'].apply(lambda x: ' '.join(x.split()))"
   ]
  },
  {
   "cell_type": "code",
   "execution_count": 63,
   "id": "ZannK0y9L2Gc",
   "metadata": {
    "colab": {
     "base_uri": "https://localhost:8080/",
     "height": 990
    },
    "id": "ZannK0y9L2Gc",
    "outputId": "5c177d3f-418c-4007-bc83-ba16554524cf"
   },
   "outputs": [
    {
     "data": {
      "text/html": [
       "\n",
       "  <div id=\"df-e7a0ae87-fcf9-4e0b-bc10-71c5a15b4ba7\">\n",
       "    <div class=\"colab-df-container\">\n",
       "      <div>\n",
       "<style scoped>\n",
       "    .dataframe tbody tr th:only-of-type {\n",
       "        vertical-align: middle;\n",
       "    }\n",
       "\n",
       "    .dataframe tbody tr th {\n",
       "        vertical-align: top;\n",
       "    }\n",
       "\n",
       "    .dataframe thead th {\n",
       "        text-align: right;\n",
       "    }\n",
       "</style>\n",
       "<table border=\"1\" class=\"dataframe\">\n",
       "  <thead>\n",
       "    <tr style=\"text-align: right;\">\n",
       "      <th></th>\n",
       "      <th>Tweet</th>\n",
       "    </tr>\n",
       "  </thead>\n",
       "  <tbody>\n",
       "    <tr>\n",
       "      <th>0</th>\n",
       "      <td>0 [{'code': 144 'message': 'no status found wi...</td>\n",
       "    </tr>\n",
       "    <tr>\n",
       "      <th>1</th>\n",
       "      <td>1 [{'code': 144 'message': 'no status found wi...</td>\n",
       "    </tr>\n",
       "    <tr>\n",
       "      <th>2</th>\n",
       "      <td>2 [{'code': 144 'message': 'no status found wi...</td>\n",
       "    </tr>\n",
       "    <tr>\n",
       "      <th>3</th>\n",
       "      <td>3 .@matevz_zupancic: \"za uniona olimpijo vedno...</td>\n",
       "    </tr>\n",
       "    <tr>\n",
       "      <th>4</th>\n",
       "      <td>4 [{'code': 63 'message': 'user has been suspe...</td>\n",
       "    </tr>\n",
       "    <tr>\n",
       "      <th>5</th>\n",
       "      <td>5 rt @revijareporter: znp: preganja se novinar...</td>\n",
       "    </tr>\n",
       "    <tr>\n",
       "      <th>6</th>\n",
       "      <td>6 ste zamudili spletno razpravo z @vivianeredi...</td>\n",
       "    </tr>\n",
       "    <tr>\n",
       "      <th>7</th>\n",
       "      <td>7 rt @knjiznicanuk: #nadanasnjidan: 1909 je za...</td>\n",
       "    </tr>\n",
       "    <tr>\n",
       "      <th>8</th>\n",
       "      <td>8 @ajudez ima samo ni čist to kar hočem... 424...</td>\n",
       "    </tr>\n",
       "    <tr>\n",
       "      <th>9</th>\n",
       "      <td>9 @ajudez ima samo ni čist to kar hočem... 424...</td>\n",
       "    </tr>\n",
       "    <tr>\n",
       "      <th>10</th>\n",
       "      <td>10 @jernejch @peropan1 @borisdroid lol. evo sk...</td>\n",
       "    </tr>\n",
       "    <tr>\n",
       "      <th>11</th>\n",
       "      <td>11 @ragnarbelial ubistvu mi je bil synology na...</td>\n",
       "    </tr>\n",
       "    <tr>\n",
       "      <th>12</th>\n",
       "      <td>12 rt @knjiznicanuk: #nadanasnjidan: 1909 je z...</td>\n",
       "    </tr>\n",
       "    <tr>\n",
       "      <th>13</th>\n",
       "      <td>13 [{'code': 144 'message': 'no status found w...</td>\n",
       "    </tr>\n",
       "    <tr>\n",
       "      <th>14</th>\n",
       "      <td>14 [{'code': 144 'message': 'no status found w...</td>\n",
       "    </tr>\n",
       "    <tr>\n",
       "      <th>15</th>\n",
       "      <td>15 čez dve uri #vklopiprihranek od 15. do 17. ...</td>\n",
       "    </tr>\n",
       "    <tr>\n",
       "      <th>16</th>\n",
       "      <td>16 bi pasalo po kosilu? na križarjenju prav vs...</td>\n",
       "    </tr>\n",
       "    <tr>\n",
       "      <th>17</th>\n",
       "      <td>17 bi pasalo po kosilu? na križarjenju prav vs...</td>\n",
       "    </tr>\n",
       "    <tr>\n",
       "      <th>18</th>\n",
       "      <td>18 [{'code': 144 'message': 'no status found w...</td>\n",
       "    </tr>\n",
       "    <tr>\n",
       "      <th>19</th>\n",
       "      <td>19 [{'code': 144 'message': 'no status found w...</td>\n",
       "    </tr>\n",
       "    <tr>\n",
       "      <th>20</th>\n",
       "      <td>20 [{'code': 179 'message': 'sorry you are not...</td>\n",
       "    </tr>\n",
       "    <tr>\n",
       "      <th>21</th>\n",
       "      <td>21 [{'code': 179 'message': 'sorry you are not...</td>\n",
       "    </tr>\n",
       "    <tr>\n",
       "      <th>22</th>\n",
       "      <td>22 kraj z največjim številom zimskih olimpijce...</td>\n",
       "    </tr>\n",
       "    <tr>\n",
       "      <th>23</th>\n",
       "      <td>23 kraj z največjim številom zimskih olimpijce...</td>\n",
       "    </tr>\n",
       "    <tr>\n",
       "      <th>24</th>\n",
       "      <td>24 [{'code': 144 'message': 'no status found w...</td>\n",
       "    </tr>\n",
       "    <tr>\n",
       "      <th>25</th>\n",
       "      <td>25 @tyschew definitivno kako svezo faco npr @k...</td>\n",
       "    </tr>\n",
       "    <tr>\n",
       "      <th>26</th>\n",
       "      <td>26 [{'code': 144 'message': 'no status found w...</td>\n",
       "    </tr>\n",
       "    <tr>\n",
       "      <th>27</th>\n",
       "      <td>27 kako izkoristiti linkedin kot poslovno plat...</td>\n",
       "    </tr>\n",
       "    <tr>\n",
       "      <th>28</th>\n",
       "      <td>28 [{'code': 144 'message': 'no status found w...</td>\n",
       "    </tr>\n",
       "    <tr>\n",
       "      <th>29</th>\n",
       "      <td>29 @tjasaslokar si razumela. žal jih veliko ni...</td>\n",
       "    </tr>\n",
       "  </tbody>\n",
       "</table>\n",
       "</div>\n",
       "      <button class=\"colab-df-convert\" onclick=\"convertToInteractive('df-e7a0ae87-fcf9-4e0b-bc10-71c5a15b4ba7')\"\n",
       "              title=\"Convert this dataframe to an interactive table.\"\n",
       "              style=\"display:none;\">\n",
       "        \n",
       "  <svg xmlns=\"http://www.w3.org/2000/svg\" height=\"24px\"viewBox=\"0 0 24 24\"\n",
       "       width=\"24px\">\n",
       "    <path d=\"M0 0h24v24H0V0z\" fill=\"none\"/>\n",
       "    <path d=\"M18.56 5.44l.94 2.06.94-2.06 2.06-.94-2.06-.94-.94-2.06-.94 2.06-2.06.94zm-11 1L8.5 8.5l.94-2.06 2.06-.94-2.06-.94L8.5 2.5l-.94 2.06-2.06.94zm10 10l.94 2.06.94-2.06 2.06-.94-2.06-.94-.94-2.06-.94 2.06-2.06.94z\"/><path d=\"M17.41 7.96l-1.37-1.37c-.4-.4-.92-.59-1.43-.59-.52 0-1.04.2-1.43.59L10.3 9.45l-7.72 7.72c-.78.78-.78 2.05 0 2.83L4 21.41c.39.39.9.59 1.41.59.51 0 1.02-.2 1.41-.59l7.78-7.78 2.81-2.81c.8-.78.8-2.07 0-2.86zM5.41 20L4 18.59l7.72-7.72 1.47 1.35L5.41 20z\"/>\n",
       "  </svg>\n",
       "      </button>\n",
       "      \n",
       "  <style>\n",
       "    .colab-df-container {\n",
       "      display:flex;\n",
       "      flex-wrap:wrap;\n",
       "      gap: 12px;\n",
       "    }\n",
       "\n",
       "    .colab-df-convert {\n",
       "      background-color: #E8F0FE;\n",
       "      border: none;\n",
       "      border-radius: 50%;\n",
       "      cursor: pointer;\n",
       "      display: none;\n",
       "      fill: #1967D2;\n",
       "      height: 32px;\n",
       "      padding: 0 0 0 0;\n",
       "      width: 32px;\n",
       "    }\n",
       "\n",
       "    .colab-df-convert:hover {\n",
       "      background-color: #E2EBFA;\n",
       "      box-shadow: 0px 1px 2px rgba(60, 64, 67, 0.3), 0px 1px 3px 1px rgba(60, 64, 67, 0.15);\n",
       "      fill: #174EA6;\n",
       "    }\n",
       "\n",
       "    [theme=dark] .colab-df-convert {\n",
       "      background-color: #3B4455;\n",
       "      fill: #D2E3FC;\n",
       "    }\n",
       "\n",
       "    [theme=dark] .colab-df-convert:hover {\n",
       "      background-color: #434B5C;\n",
       "      box-shadow: 0px 1px 3px 1px rgba(0, 0, 0, 0.15);\n",
       "      filter: drop-shadow(0px 1px 2px rgba(0, 0, 0, 0.3));\n",
       "      fill: #FFFFFF;\n",
       "    }\n",
       "  </style>\n",
       "\n",
       "      <script>\n",
       "        const buttonEl =\n",
       "          document.querySelector('#df-e7a0ae87-fcf9-4e0b-bc10-71c5a15b4ba7 button.colab-df-convert');\n",
       "        buttonEl.style.display =\n",
       "          google.colab.kernel.accessAllowed ? 'block' : 'none';\n",
       "\n",
       "        async function convertToInteractive(key) {\n",
       "          const element = document.querySelector('#df-e7a0ae87-fcf9-4e0b-bc10-71c5a15b4ba7');\n",
       "          const dataTable =\n",
       "            await google.colab.kernel.invokeFunction('convertToInteractive',\n",
       "                                                     [key], {});\n",
       "          if (!dataTable) return;\n",
       "\n",
       "          const docLinkHtml = 'Like what you see? Visit the ' +\n",
       "            '<a target=\"_blank\" href=https://colab.research.google.com/notebooks/data_table.ipynb>data table notebook</a>'\n",
       "            + ' to learn more about interactive tables.';\n",
       "          element.innerHTML = '';\n",
       "          dataTable['output_type'] = 'display_data';\n",
       "          await google.colab.output.renderOutput(dataTable, element);\n",
       "          const docLink = document.createElement('div');\n",
       "          docLink.innerHTML = docLinkHtml;\n",
       "          element.appendChild(docLink);\n",
       "        }\n",
       "      </script>\n",
       "    </div>\n",
       "  </div>\n",
       "  "
      ],
      "text/plain": [
       "                                                Tweet\n",
       "0   0 [{'code': 144 'message': 'no status found wi...\n",
       "1   1 [{'code': 144 'message': 'no status found wi...\n",
       "2   2 [{'code': 144 'message': 'no status found wi...\n",
       "3   3 .@matevz_zupancic: \"za uniona olimpijo vedno...\n",
       "4   4 [{'code': 63 'message': 'user has been suspe...\n",
       "5   5 rt @revijareporter: znp: preganja se novinar...\n",
       "6   6 ste zamudili spletno razpravo z @vivianeredi...\n",
       "7   7 rt @knjiznicanuk: #nadanasnjidan: 1909 je za...\n",
       "8   8 @ajudez ima samo ni čist to kar hočem... 424...\n",
       "9   9 @ajudez ima samo ni čist to kar hočem... 424...\n",
       "10  10 @jernejch @peropan1 @borisdroid lol. evo sk...\n",
       "11  11 @ragnarbelial ubistvu mi je bil synology na...\n",
       "12  12 rt @knjiznicanuk: #nadanasnjidan: 1909 je z...\n",
       "13  13 [{'code': 144 'message': 'no status found w...\n",
       "14  14 [{'code': 144 'message': 'no status found w...\n",
       "15  15 čez dve uri #vklopiprihranek od 15. do 17. ...\n",
       "16  16 bi pasalo po kosilu? na križarjenju prav vs...\n",
       "17  17 bi pasalo po kosilu? na križarjenju prav vs...\n",
       "18  18 [{'code': 144 'message': 'no status found w...\n",
       "19  19 [{'code': 144 'message': 'no status found w...\n",
       "20  20 [{'code': 179 'message': 'sorry you are not...\n",
       "21  21 [{'code': 179 'message': 'sorry you are not...\n",
       "22  22 kraj z največjim številom zimskih olimpijce...\n",
       "23  23 kraj z največjim številom zimskih olimpijce...\n",
       "24  24 [{'code': 144 'message': 'no status found w...\n",
       "25  25 @tyschew definitivno kako svezo faco npr @k...\n",
       "26  26 [{'code': 144 'message': 'no status found w...\n",
       "27  27 kako izkoristiti linkedin kot poslovno plat...\n",
       "28  28 [{'code': 144 'message': 'no status found w...\n",
       "29  29 @tjasaslokar si razumela. žal jih veliko ni..."
      ]
     },
     "execution_count": 63,
     "metadata": {},
     "output_type": "execute_result"
    }
   ],
   "source": [
    "df.head(30)"
   ]
  },
  {
   "cell_type": "code",
   "execution_count": 64,
   "id": "KF2vcgnB97rt",
   "metadata": {
    "colab": {
     "base_uri": "https://localhost:8080/"
    },
    "id": "KF2vcgnB97rt",
    "outputId": "84200c93-13dc-4bdb-e990-5062bf99f4ea"
   },
   "outputs": [
    {
     "name": "stderr",
     "output_type": "stream",
     "text": [
      "/usr/local/lib/python3.7/dist-packages/ipykernel_launcher.py:1: FutureWarning: In a future version of pandas all arguments of DataFrame.drop except for the argument 'labels' will be keyword-only\n",
      "  \"\"\"Entry point for launching an IPython kernel.\n"
     ]
    }
   ],
   "source": [
    "df.drop(limiti,0,inplace=True)"
   ]
  },
  {
   "cell_type": "markdown",
   "id": "eff6db80",
   "metadata": {},
   "source": [
    "Tabeli dodamo stolpec s z oznakami sentimenta za posamezno objavo."
   ]
  },
  {
   "cell_type": "code",
   "execution_count": 65,
   "id": "a0ZVvVZ0i9yP",
   "metadata": {
    "id": "a0ZVvVZ0i9yP"
   },
   "outputs": [],
   "source": [
    "sentimentSlo = []\n",
    "for tweet in corpusSlo:\n",
    "  sent = tweet['sent']\n",
    "  sentimentSlo.append(sent)"
   ]
  },
  {
   "cell_type": "code",
   "execution_count": 66,
   "id": "4iP0qfWZjm9P",
   "metadata": {
    "id": "4iP0qfWZjm9P"
   },
   "outputs": [],
   "source": [
    "sentimentSlo = sentimentSlo[:df.shape[0]]"
   ]
  },
  {
   "cell_type": "code",
   "execution_count": 67,
   "id": "tpXxYKOmjse3",
   "metadata": {
    "id": "tpXxYKOmjse3"
   },
   "outputs": [],
   "source": [
    "df['Sentiment'] = sentimentSlo"
   ]
  },
  {
   "cell_type": "code",
   "execution_count": 68,
   "id": "IGckz76XJjLM",
   "metadata": {
    "colab": {
     "base_uri": "https://localhost:8080/"
    },
    "id": "IGckz76XJjLM",
    "outputId": "81fc02d4-c077-4e59-cb10-ae39d477a373"
   },
   "outputs": [
    {
     "data": {
      "text/plain": [
       "58645"
      ]
     },
     "execution_count": 68,
     "metadata": {},
     "output_type": "execute_result"
    }
   ],
   "source": [
    "len(df['Tweet'])"
   ]
  },
  {
   "cell_type": "code",
   "execution_count": 69,
   "id": "Nlptkw5AwGPh",
   "metadata": {
    "colab": {
     "base_uri": "https://localhost:8080/"
    },
    "id": "Nlptkw5AwGPh",
    "outputId": "49c19c7e-2aea-4afa-d4bf-7a897433daa2"
   },
   "outputs": [
    {
     "data": {
      "text/plain": [
       "58645"
      ]
     },
     "execution_count": 69,
     "metadata": {},
     "output_type": "execute_result"
    }
   ],
   "source": [
    "len(df['Sentiment'])"
   ]
  },
  {
   "cell_type": "markdown",
   "id": "03ca833e",
   "metadata": {},
   "source": [
    "Iz posamezne vrstice v besedilu twitta odstranimo število na začetku. Nato odstranimo tudi ID na koncu posamezne vrstice ter izbrišemo vse vrstice, ki vsebujejo besedila o doseženih napakah: uporabnik ne obstaja, uporabnik je bil blokiran, objava ne obstaja."
   ]
  },
  {
   "cell_type": "code",
   "execution_count": 70,
   "id": "_Z6MHz7KDN1T",
   "metadata": {
    "id": "_Z6MHz7KDN1T"
   },
   "outputs": [],
   "source": [
    "tweets = []\n",
    "\n",
    "for tweet in df['Tweet']:\n",
    "  elementi = tweet.split()\n",
    "  #print(elementi)\n",
    "  if elementi[0].isdigit():\n",
    "    elementi = elementi[1:]\n",
    "    tweets.append(' '.join(elementi))\n",
    "  else:\n",
    "    tweets.append(tweet)"
   ]
  },
  {
   "cell_type": "code",
   "execution_count": 71,
   "id": "F-N_9d_RJZmw",
   "metadata": {
    "id": "F-N_9d_RJZmw"
   },
   "outputs": [],
   "source": [
    "df['Tweet'] = tweets"
   ]
  },
  {
   "cell_type": "code",
   "execution_count": 72,
   "id": "TLMPkqXwiRiE",
   "metadata": {
    "id": "TLMPkqXwiRiE"
   },
   "outputs": [],
   "source": [
    "tweets = []\n",
    "\n",
    "for tweet in df['Tweet']:\n",
    "  elementi = tweet.split()\n",
    "  elementi = elementi[:-1]\n",
    "  tweets.append(' '.join(elementi))\n"
   ]
  },
  {
   "cell_type": "code",
   "execution_count": 73,
   "id": "ujORAya_wiL0",
   "metadata": {
    "id": "ujORAya_wiL0"
   },
   "outputs": [],
   "source": [
    "df['Tweet'] = tweets"
   ]
  },
  {
   "cell_type": "code",
   "execution_count": 74,
   "id": "OrNKA77pwk_o",
   "metadata": {
    "colab": {
     "base_uri": "https://localhost:8080/",
     "height": 990
    },
    "id": "OrNKA77pwk_o",
    "outputId": "ffdd0714-915e-42bc-d954-0f015cf40a86"
   },
   "outputs": [
    {
     "data": {
      "text/html": [
       "\n",
       "  <div id=\"df-579930d8-d198-48c4-923e-08fb2c09db53\">\n",
       "    <div class=\"colab-df-container\">\n",
       "      <div>\n",
       "<style scoped>\n",
       "    .dataframe tbody tr th:only-of-type {\n",
       "        vertical-align: middle;\n",
       "    }\n",
       "\n",
       "    .dataframe tbody tr th {\n",
       "        vertical-align: top;\n",
       "    }\n",
       "\n",
       "    .dataframe thead th {\n",
       "        text-align: right;\n",
       "    }\n",
       "</style>\n",
       "<table border=\"1\" class=\"dataframe\">\n",
       "  <thead>\n",
       "    <tr style=\"text-align: right;\">\n",
       "      <th></th>\n",
       "      <th>Tweet</th>\n",
       "      <th>Sentiment</th>\n",
       "    </tr>\n",
       "  </thead>\n",
       "  <tbody>\n",
       "    <tr>\n",
       "      <th>0</th>\n",
       "      <td>[{'code': 144 'message': 'no status found with...</td>\n",
       "      <td>Neutral</td>\n",
       "    </tr>\n",
       "    <tr>\n",
       "      <th>1</th>\n",
       "      <td>[{'code': 144 'message': 'no status found with...</td>\n",
       "      <td>Neutral</td>\n",
       "    </tr>\n",
       "    <tr>\n",
       "      <th>2</th>\n",
       "      <td>[{'code': 144 'message': 'no status found with...</td>\n",
       "      <td>Positive</td>\n",
       "    </tr>\n",
       "    <tr>\n",
       "      <th>3</th>\n",
       "      <td>.@matevz_zupancic: \"za uniona olimpijo vedno c...</td>\n",
       "      <td>Positive</td>\n",
       "    </tr>\n",
       "    <tr>\n",
       "      <th>4</th>\n",
       "      <td>[{'code': 63 'message': 'user has been suspend...</td>\n",
       "      <td>Negative</td>\n",
       "    </tr>\n",
       "    <tr>\n",
       "      <th>5</th>\n",
       "      <td>rt @revijareporter: znp: preganja se novinarje...</td>\n",
       "      <td>Negative</td>\n",
       "    </tr>\n",
       "    <tr>\n",
       "      <th>6</th>\n",
       "      <td>ste zamudili spletno razpravo z @vivianereding...</td>\n",
       "      <td>Neutral</td>\n",
       "    </tr>\n",
       "    <tr>\n",
       "      <th>7</th>\n",
       "      <td>rt @knjiznicanuk: #nadanasnjidan: 1909 je zapa...</td>\n",
       "      <td>Neutral</td>\n",
       "    </tr>\n",
       "    <tr>\n",
       "      <th>8</th>\n",
       "      <td>@ajudez ima samo ni čist to kar hočem...</td>\n",
       "      <td>Neutral</td>\n",
       "    </tr>\n",
       "    <tr>\n",
       "      <th>9</th>\n",
       "      <td>@ajudez ima samo ni čist to kar hočem...</td>\n",
       "      <td>Negative</td>\n",
       "    </tr>\n",
       "    <tr>\n",
       "      <th>10</th>\n",
       "      <td>@jernejch @peropan1 @borisdroid lol. evo skrbi...</td>\n",
       "      <td>Positive</td>\n",
       "    </tr>\n",
       "    <tr>\n",
       "      <th>11</th>\n",
       "      <td>@ragnarbelial ubistvu mi je bil synology na pr...</td>\n",
       "      <td>Positive</td>\n",
       "    </tr>\n",
       "    <tr>\n",
       "      <th>12</th>\n",
       "      <td>rt @knjiznicanuk: #nadanasnjidan: 1909 je zapa...</td>\n",
       "      <td>Neutral</td>\n",
       "    </tr>\n",
       "    <tr>\n",
       "      <th>13</th>\n",
       "      <td>[{'code': 144 'message': 'no status found with...</td>\n",
       "      <td>Neutral</td>\n",
       "    </tr>\n",
       "    <tr>\n",
       "      <th>14</th>\n",
       "      <td>[{'code': 144 'message': 'no status found with...</td>\n",
       "      <td>Neutral</td>\n",
       "    </tr>\n",
       "    <tr>\n",
       "      <th>15</th>\n",
       "      <td>čez dve uri #vklopiprihranek od 15. do 17. ure...</td>\n",
       "      <td>Neutral</td>\n",
       "    </tr>\n",
       "    <tr>\n",
       "      <th>16</th>\n",
       "      <td>bi pasalo po kosilu? na križarjenju prav vsak ...</td>\n",
       "      <td>Neutral</td>\n",
       "    </tr>\n",
       "    <tr>\n",
       "      <th>17</th>\n",
       "      <td>bi pasalo po kosilu? na križarjenju prav vsak ...</td>\n",
       "      <td>Positive</td>\n",
       "    </tr>\n",
       "    <tr>\n",
       "      <th>18</th>\n",
       "      <td>[{'code': 144 'message': 'no status found with...</td>\n",
       "      <td>Neutral</td>\n",
       "    </tr>\n",
       "    <tr>\n",
       "      <th>19</th>\n",
       "      <td>[{'code': 144 'message': 'no status found with...</td>\n",
       "      <td>Neutral</td>\n",
       "    </tr>\n",
       "    <tr>\n",
       "      <th>20</th>\n",
       "      <td>[{'code': 179 'message': 'sorry you are not au...</td>\n",
       "      <td>Negative</td>\n",
       "    </tr>\n",
       "    <tr>\n",
       "      <th>21</th>\n",
       "      <td>[{'code': 179 'message': 'sorry you are not au...</td>\n",
       "      <td>Neutral</td>\n",
       "    </tr>\n",
       "    <tr>\n",
       "      <th>22</th>\n",
       "      <td>kraj z največjim številom zimskih olimpijcev a...</td>\n",
       "      <td>Neutral</td>\n",
       "    </tr>\n",
       "    <tr>\n",
       "      <th>23</th>\n",
       "      <td>kraj z največjim številom zimskih olimpijcev a...</td>\n",
       "      <td>Negative</td>\n",
       "    </tr>\n",
       "    <tr>\n",
       "      <th>24</th>\n",
       "      <td>[{'code': 144 'message': 'no status found with...</td>\n",
       "      <td>Positive</td>\n",
       "    </tr>\n",
       "    <tr>\n",
       "      <th>25</th>\n",
       "      <td>@tyschew definitivno kako svezo faco npr @kokj...</td>\n",
       "      <td>Neutral</td>\n",
       "    </tr>\n",
       "    <tr>\n",
       "      <th>26</th>\n",
       "      <td>[{'code': 144 'message': 'no status found with...</td>\n",
       "      <td>Positive</td>\n",
       "    </tr>\n",
       "    <tr>\n",
       "      <th>27</th>\n",
       "      <td>kako izkoristiti linkedin kot poslovno platfor...</td>\n",
       "      <td>Neutral</td>\n",
       "    </tr>\n",
       "    <tr>\n",
       "      <th>28</th>\n",
       "      <td>[{'code': 144 'message': 'no status found with...</td>\n",
       "      <td>Negative</td>\n",
       "    </tr>\n",
       "    <tr>\n",
       "      <th>29</th>\n",
       "      <td>@tjasaslokar si razumela. žal jih veliko ni. z...</td>\n",
       "      <td>Neutral</td>\n",
       "    </tr>\n",
       "  </tbody>\n",
       "</table>\n",
       "</div>\n",
       "      <button class=\"colab-df-convert\" onclick=\"convertToInteractive('df-579930d8-d198-48c4-923e-08fb2c09db53')\"\n",
       "              title=\"Convert this dataframe to an interactive table.\"\n",
       "              style=\"display:none;\">\n",
       "        \n",
       "  <svg xmlns=\"http://www.w3.org/2000/svg\" height=\"24px\"viewBox=\"0 0 24 24\"\n",
       "       width=\"24px\">\n",
       "    <path d=\"M0 0h24v24H0V0z\" fill=\"none\"/>\n",
       "    <path d=\"M18.56 5.44l.94 2.06.94-2.06 2.06-.94-2.06-.94-.94-2.06-.94 2.06-2.06.94zm-11 1L8.5 8.5l.94-2.06 2.06-.94-2.06-.94L8.5 2.5l-.94 2.06-2.06.94zm10 10l.94 2.06.94-2.06 2.06-.94-2.06-.94-.94-2.06-.94 2.06-2.06.94z\"/><path d=\"M17.41 7.96l-1.37-1.37c-.4-.4-.92-.59-1.43-.59-.52 0-1.04.2-1.43.59L10.3 9.45l-7.72 7.72c-.78.78-.78 2.05 0 2.83L4 21.41c.39.39.9.59 1.41.59.51 0 1.02-.2 1.41-.59l7.78-7.78 2.81-2.81c.8-.78.8-2.07 0-2.86zM5.41 20L4 18.59l7.72-7.72 1.47 1.35L5.41 20z\"/>\n",
       "  </svg>\n",
       "      </button>\n",
       "      \n",
       "  <style>\n",
       "    .colab-df-container {\n",
       "      display:flex;\n",
       "      flex-wrap:wrap;\n",
       "      gap: 12px;\n",
       "    }\n",
       "\n",
       "    .colab-df-convert {\n",
       "      background-color: #E8F0FE;\n",
       "      border: none;\n",
       "      border-radius: 50%;\n",
       "      cursor: pointer;\n",
       "      display: none;\n",
       "      fill: #1967D2;\n",
       "      height: 32px;\n",
       "      padding: 0 0 0 0;\n",
       "      width: 32px;\n",
       "    }\n",
       "\n",
       "    .colab-df-convert:hover {\n",
       "      background-color: #E2EBFA;\n",
       "      box-shadow: 0px 1px 2px rgba(60, 64, 67, 0.3), 0px 1px 3px 1px rgba(60, 64, 67, 0.15);\n",
       "      fill: #174EA6;\n",
       "    }\n",
       "\n",
       "    [theme=dark] .colab-df-convert {\n",
       "      background-color: #3B4455;\n",
       "      fill: #D2E3FC;\n",
       "    }\n",
       "\n",
       "    [theme=dark] .colab-df-convert:hover {\n",
       "      background-color: #434B5C;\n",
       "      box-shadow: 0px 1px 3px 1px rgba(0, 0, 0, 0.15);\n",
       "      filter: drop-shadow(0px 1px 2px rgba(0, 0, 0, 0.3));\n",
       "      fill: #FFFFFF;\n",
       "    }\n",
       "  </style>\n",
       "\n",
       "      <script>\n",
       "        const buttonEl =\n",
       "          document.querySelector('#df-579930d8-d198-48c4-923e-08fb2c09db53 button.colab-df-convert');\n",
       "        buttonEl.style.display =\n",
       "          google.colab.kernel.accessAllowed ? 'block' : 'none';\n",
       "\n",
       "        async function convertToInteractive(key) {\n",
       "          const element = document.querySelector('#df-579930d8-d198-48c4-923e-08fb2c09db53');\n",
       "          const dataTable =\n",
       "            await google.colab.kernel.invokeFunction('convertToInteractive',\n",
       "                                                     [key], {});\n",
       "          if (!dataTable) return;\n",
       "\n",
       "          const docLinkHtml = 'Like what you see? Visit the ' +\n",
       "            '<a target=\"_blank\" href=https://colab.research.google.com/notebooks/data_table.ipynb>data table notebook</a>'\n",
       "            + ' to learn more about interactive tables.';\n",
       "          element.innerHTML = '';\n",
       "          dataTable['output_type'] = 'display_data';\n",
       "          await google.colab.output.renderOutput(dataTable, element);\n",
       "          const docLink = document.createElement('div');\n",
       "          docLink.innerHTML = docLinkHtml;\n",
       "          element.appendChild(docLink);\n",
       "        }\n",
       "      </script>\n",
       "    </div>\n",
       "  </div>\n",
       "  "
      ],
      "text/plain": [
       "                                                Tweet Sentiment\n",
       "0   [{'code': 144 'message': 'no status found with...   Neutral\n",
       "1   [{'code': 144 'message': 'no status found with...   Neutral\n",
       "2   [{'code': 144 'message': 'no status found with...  Positive\n",
       "3   .@matevz_zupancic: \"za uniona olimpijo vedno c...  Positive\n",
       "4   [{'code': 63 'message': 'user has been suspend...  Negative\n",
       "5   rt @revijareporter: znp: preganja se novinarje...  Negative\n",
       "6   ste zamudili spletno razpravo z @vivianereding...   Neutral\n",
       "7   rt @knjiznicanuk: #nadanasnjidan: 1909 je zapa...   Neutral\n",
       "8            @ajudez ima samo ni čist to kar hočem...   Neutral\n",
       "9            @ajudez ima samo ni čist to kar hočem...  Negative\n",
       "10  @jernejch @peropan1 @borisdroid lol. evo skrbi...  Positive\n",
       "11  @ragnarbelial ubistvu mi je bil synology na pr...  Positive\n",
       "12  rt @knjiznicanuk: #nadanasnjidan: 1909 je zapa...   Neutral\n",
       "13  [{'code': 144 'message': 'no status found with...   Neutral\n",
       "14  [{'code': 144 'message': 'no status found with...   Neutral\n",
       "15  čez dve uri #vklopiprihranek od 15. do 17. ure...   Neutral\n",
       "16  bi pasalo po kosilu? na križarjenju prav vsak ...   Neutral\n",
       "17  bi pasalo po kosilu? na križarjenju prav vsak ...  Positive\n",
       "18  [{'code': 144 'message': 'no status found with...   Neutral\n",
       "19  [{'code': 144 'message': 'no status found with...   Neutral\n",
       "20  [{'code': 179 'message': 'sorry you are not au...  Negative\n",
       "21  [{'code': 179 'message': 'sorry you are not au...   Neutral\n",
       "22  kraj z največjim številom zimskih olimpijcev a...   Neutral\n",
       "23  kraj z največjim številom zimskih olimpijcev a...  Negative\n",
       "24  [{'code': 144 'message': 'no status found with...  Positive\n",
       "25  @tyschew definitivno kako svezo faco npr @kokj...   Neutral\n",
       "26  [{'code': 144 'message': 'no status found with...  Positive\n",
       "27  kako izkoristiti linkedin kot poslovno platfor...   Neutral\n",
       "28  [{'code': 144 'message': 'no status found with...  Negative\n",
       "29  @tjasaslokar si razumela. žal jih veliko ni. z...   Neutral"
      ]
     },
     "execution_count": 74,
     "metadata": {},
     "output_type": "execute_result"
    }
   ],
   "source": [
    "df.head(30)"
   ]
  },
  {
   "cell_type": "code",
   "execution_count": 75,
   "id": "nLxnLIXdhpUK",
   "metadata": {
    "colab": {
     "base_uri": "https://localhost:8080/"
    },
    "id": "nLxnLIXdhpUK",
    "outputId": "ba819ef9-4a3c-490a-d7b1-3d145d1f0b48"
   },
   "outputs": [
    {
     "name": "stderr",
     "output_type": "stream",
     "text": [
      "/usr/local/lib/python3.7/dist-packages/ipykernel_launcher.py:1: FutureWarning: In a future version of pandas all arguments of DataFrame.drop except for the argument 'labels' will be keyword-only\n",
      "  \"\"\"Entry point for launching an IPython kernel.\n"
     ]
    }
   ],
   "source": [
    "df.drop(errorji,0,inplace=True)"
   ]
  },
  {
   "cell_type": "code",
   "execution_count": 76,
   "id": "3rsM43v0xbdd",
   "metadata": {
    "colab": {
     "base_uri": "https://localhost:8080/"
    },
    "id": "3rsM43v0xbdd",
    "outputId": "78c3ad79-7851-45c7-e089-7213f811ae6e"
   },
   "outputs": [
    {
     "data": {
      "text/plain": [
       "(42748, 2)"
      ]
     },
     "execution_count": 76,
     "metadata": {},
     "output_type": "execute_result"
    }
   ],
   "source": [
    "df.shape"
   ]
  },
  {
   "cell_type": "markdown",
   "id": "cdd77c09",
   "metadata": {},
   "source": [
    "Iz besedil twittov odstranimo vse *@označbeProfilov*, *#ključnike*, elektronsko pošto, URL naslove, *retweete* ter vse posebne simbole."
   ]
  },
  {
   "cell_type": "code",
   "execution_count": 77,
   "id": "GRkOOaXVjgsH",
   "metadata": {
    "id": "GRkOOaXVjgsH"
   },
   "outputs": [],
   "source": [
    "#remove mentions\n",
    "df['Tweet'] = df['Tweet'].apply(lambda x: re.sub(r'#([a-zA-Z0-9_]{1,50})', '', x).strip())"
   ]
  },
  {
   "cell_type": "code",
   "execution_count": 78,
   "id": "tgVbnXnoiag-",
   "metadata": {
    "id": "tgVbnXnoiag-"
   },
   "outputs": [],
   "source": [
    "#remove hashtags\n",
    "df['Tweet'] = df['Tweet'].apply(lambda x: re.sub(r'@([a-zA-Z0-9_]{1,50})', '', x).strip())"
   ]
  },
  {
   "cell_type": "code",
   "execution_count": 79,
   "id": "eVSrkSCVhooJ",
   "metadata": {
    "id": "eVSrkSCVhooJ"
   },
   "outputs": [],
   "source": [
    "#remove emails\n",
    "df['Tweet'] = df['Tweet'].apply(lambda x: re.sub(r'([a-z0-9+._-]+@[a-z0-9+._-]+\\.[a-z0-9+_-]+)', \"\", x))"
   ]
  },
  {
   "cell_type": "code",
   "execution_count": 80,
   "id": "SU1ovnichtTf",
   "metadata": {
    "id": "SU1ovnichtTf"
   },
   "outputs": [],
   "source": [
    "#remove URLs\n",
    "df['Tweet'] = df['Tweet'].apply(lambda x: re.sub(r'(http|https|ftp|ssh)://([\\w_-]+(?:(?:\\.[\\w_-]+)+))([\\w.,@?^=%&:/~+#-]*[\\w@?^=%&/~+#-])?', \"\", x))"
   ]
  },
  {
   "cell_type": "code",
   "execution_count": 81,
   "id": "QksM5UP9h-tk",
   "metadata": {
    "id": "QksM5UP9h-tk"
   },
   "outputs": [],
   "source": [
    "#remove RTs\n",
    "df['Tweet'] = df['Tweet'].apply(lambda x: re.sub(r'\\brt\\b', '', x).strip())"
   ]
  },
  {
   "cell_type": "code",
   "execution_count": 82,
   "id": "9V5zKASuiBtm",
   "metadata": {
    "id": "9V5zKASuiBtm"
   },
   "outputs": [],
   "source": [
    "#remove special characters and punctuation\n",
    "df['Tweet'] = df['Tweet'].apply(lambda x: re.sub(r'[^\\w ]+', \"\", x))"
   ]
  },
  {
   "cell_type": "code",
   "execution_count": 83,
   "id": "Kkr7by9wYluL",
   "metadata": {
    "id": "Kkr7by9wYluL"
   },
   "outputs": [],
   "source": [
    "#remove multiple spaces\n",
    "df['Tweet'] = df['Tweet'].apply(lambda x: ' '.join(x.split()))"
   ]
  },
  {
   "cell_type": "code",
   "execution_count": 84,
   "id": "CchME5fIFn6x",
   "metadata": {
    "id": "CchME5fIFn6x"
   },
   "outputs": [],
   "source": [
    "df = df.reset_index(drop=True)"
   ]
  },
  {
   "cell_type": "markdown",
   "id": "a4725d13",
   "metadata": {},
   "source": [
    "Preverimo, če obstajajo vrstice, ki imajo vrednost v stolpcu *Tweet* ali *Sentiment* prazno vrednost in take vrstice odstranimo."
   ]
  },
  {
   "cell_type": "code",
   "execution_count": 85,
   "id": "CmlX0SC-FdOi",
   "metadata": {
    "id": "CmlX0SC-FdOi"
   },
   "outputs": [],
   "source": [
    "prazniS = []\n",
    "for i in range(len(df['Sentiment'])):\n",
    "  s = df['Sentiment'][i]\n",
    "  if not s:\n",
    "    prazniS.append(i)"
   ]
  },
  {
   "cell_type": "code",
   "execution_count": 86,
   "id": "rMikW29eGBPi",
   "metadata": {
    "colab": {
     "base_uri": "https://localhost:8080/"
    },
    "id": "rMikW29eGBPi",
    "outputId": "0b74c676-6c90-43ce-c17f-49162d98866e"
   },
   "outputs": [
    {
     "name": "stderr",
     "output_type": "stream",
     "text": [
      "/usr/local/lib/python3.7/dist-packages/ipykernel_launcher.py:1: FutureWarning: In a future version of pandas all arguments of DataFrame.drop except for the argument 'labels' will be keyword-only\n",
      "  \"\"\"Entry point for launching an IPython kernel.\n"
     ]
    }
   ],
   "source": [
    "df.drop(prazniS,0,inplace=True)"
   ]
  },
  {
   "cell_type": "code",
   "execution_count": 87,
   "id": "rp3Xy0_1GBPi",
   "metadata": {
    "id": "rp3Xy0_1GBPi"
   },
   "outputs": [],
   "source": [
    "df = df.reset_index(drop=True)"
   ]
  },
  {
   "cell_type": "code",
   "execution_count": 88,
   "id": "dZG0knMc7dSR",
   "metadata": {
    "id": "dZG0knMc7dSR"
   },
   "outputs": [],
   "source": [
    "prazniText = []\n",
    "for i in range(len(df['Tweet'])):\n",
    "  s = df['Tweet'][i]\n",
    "  if not s:\n",
    "    prazniText.append(i)"
   ]
  },
  {
   "cell_type": "code",
   "execution_count": 89,
   "id": "PsvrKEpk79Wp",
   "metadata": {
    "colab": {
     "base_uri": "https://localhost:8080/"
    },
    "id": "PsvrKEpk79Wp",
    "outputId": "6f60700c-0d06-4c8a-c571-7221a7893255"
   },
   "outputs": [
    {
     "data": {
      "text/plain": [
       "[15427, 15870, 22878, 22879, 26392, 32789, 34379, 36546, 38535, 40253, 41226]"
      ]
     },
     "execution_count": 89,
     "metadata": {},
     "output_type": "execute_result"
    }
   ],
   "source": [
    "prazniText"
   ]
  },
  {
   "cell_type": "code",
   "execution_count": 90,
   "id": "I6i54Smk8NIG",
   "metadata": {
    "colab": {
     "base_uri": "https://localhost:8080/"
    },
    "id": "I6i54Smk8NIG",
    "outputId": "4c9f679e-2709-4ff1-a033-d7226151d251"
   },
   "outputs": [
    {
     "name": "stderr",
     "output_type": "stream",
     "text": [
      "/usr/local/lib/python3.7/dist-packages/ipykernel_launcher.py:1: FutureWarning: In a future version of pandas all arguments of DataFrame.drop except for the argument 'labels' will be keyword-only\n",
      "  \"\"\"Entry point for launching an IPython kernel.\n"
     ]
    }
   ],
   "source": [
    "df.drop(prazniText,0, inplace=True)"
   ]
  },
  {
   "cell_type": "code",
   "execution_count": 91,
   "id": "mwOOMhsP8g-k",
   "metadata": {
    "id": "mwOOMhsP8g-k"
   },
   "outputs": [],
   "source": [
    "df = df.reset_index(drop=True)"
   ]
  },
  {
   "cell_type": "code",
   "execution_count": 92,
   "id": "d6f00AV1IH-v",
   "metadata": {
    "colab": {
     "base_uri": "https://localhost:8080/",
     "height": 990
    },
    "id": "d6f00AV1IH-v",
    "outputId": "3fe1313a-5645-474e-fc31-97160922530a"
   },
   "outputs": [
    {
     "data": {
      "text/html": [
       "\n",
       "  <div id=\"df-3a89f747-1cd1-4111-8446-e07b630a3299\">\n",
       "    <div class=\"colab-df-container\">\n",
       "      <div>\n",
       "<style scoped>\n",
       "    .dataframe tbody tr th:only-of-type {\n",
       "        vertical-align: middle;\n",
       "    }\n",
       "\n",
       "    .dataframe tbody tr th {\n",
       "        vertical-align: top;\n",
       "    }\n",
       "\n",
       "    .dataframe thead th {\n",
       "        text-align: right;\n",
       "    }\n",
       "</style>\n",
       "<table border=\"1\" class=\"dataframe\">\n",
       "  <thead>\n",
       "    <tr style=\"text-align: right;\">\n",
       "      <th></th>\n",
       "      <th>Tweet</th>\n",
       "      <th>Sentiment</th>\n",
       "    </tr>\n",
       "  </thead>\n",
       "  <tbody>\n",
       "    <tr>\n",
       "      <th>0</th>\n",
       "      <td>za uniona olimpijo vedno cilj le en naslov prv...</td>\n",
       "      <td>Positive</td>\n",
       "    </tr>\n",
       "    <tr>\n",
       "      <th>1</th>\n",
       "      <td>znp preganja se novinarje ne pa tudi tistih ki...</td>\n",
       "      <td>Negative</td>\n",
       "    </tr>\n",
       "    <tr>\n",
       "      <th>2</th>\n",
       "      <td>ste zamudili spletno razpravo z oglejte si pos...</td>\n",
       "      <td>Neutral</td>\n",
       "    </tr>\n",
       "    <tr>\n",
       "      <th>3</th>\n",
       "      <td>1909 je zapadel v radovljici visok sneg domači...</td>\n",
       "      <td>Neutral</td>\n",
       "    </tr>\n",
       "    <tr>\n",
       "      <th>4</th>\n",
       "      <td>ima samo ni čist to kar hočem</td>\n",
       "      <td>Neutral</td>\n",
       "    </tr>\n",
       "    <tr>\n",
       "      <th>5</th>\n",
       "      <td>ima samo ni čist to kar hočem</td>\n",
       "      <td>Negative</td>\n",
       "    </tr>\n",
       "    <tr>\n",
       "      <th>6</th>\n",
       "      <td>lol evo skrbimo da ti tudi v mrkih trenutkih o...</td>\n",
       "      <td>Positive</td>\n",
       "    </tr>\n",
       "    <tr>\n",
       "      <th>7</th>\n",
       "      <td>ubistvu mi je bil synology na prvem mestu sam ...</td>\n",
       "      <td>Positive</td>\n",
       "    </tr>\n",
       "    <tr>\n",
       "      <th>8</th>\n",
       "      <td>1909 je zapadel v radovljici visok sneg domači...</td>\n",
       "      <td>Neutral</td>\n",
       "    </tr>\n",
       "    <tr>\n",
       "      <th>9</th>\n",
       "      <td>čez dve uri od 15 do 17 ure 1712014 in prihran...</td>\n",
       "      <td>Neutral</td>\n",
       "    </tr>\n",
       "    <tr>\n",
       "      <th>10</th>\n",
       "      <td>bi pasalo po kosilu na križarjenju prav vsak dan</td>\n",
       "      <td>Neutral</td>\n",
       "    </tr>\n",
       "    <tr>\n",
       "      <th>11</th>\n",
       "      <td>bi pasalo po kosilu na križarjenju prav vsak dan</td>\n",
       "      <td>Positive</td>\n",
       "    </tr>\n",
       "    <tr>\n",
       "      <th>12</th>\n",
       "      <td>kraj z največjim številom zimskih olimpijcev a...</td>\n",
       "      <td>Neutral</td>\n",
       "    </tr>\n",
       "    <tr>\n",
       "      <th>13</th>\n",
       "      <td>kraj z največjim številom zimskih olimpijcev a...</td>\n",
       "      <td>Negative</td>\n",
       "    </tr>\n",
       "    <tr>\n",
       "      <th>14</th>\n",
       "      <td>definitivno kako svezo faco npr je pa imo res ...</td>\n",
       "      <td>Neutral</td>\n",
       "    </tr>\n",
       "    <tr>\n",
       "      <th>15</th>\n",
       "      <td>kako izkoristiti linkedin kot poslovno platformo</td>\n",
       "      <td>Neutral</td>\n",
       "    </tr>\n",
       "    <tr>\n",
       "      <th>16</th>\n",
       "      <td>si razumela žal jih veliko ni zlasti pisci spl...</td>\n",
       "      <td>Neutral</td>\n",
       "    </tr>\n",
       "    <tr>\n",
       "      <th>17</th>\n",
       "      <td>koliko globoko torej</td>\n",
       "      <td>Neutral</td>\n",
       "    </tr>\n",
       "    <tr>\n",
       "      <th>18</th>\n",
       "      <td>koliko globoko torej</td>\n",
       "      <td>Neutral</td>\n",
       "    </tr>\n",
       "    <tr>\n",
       "      <th>19</th>\n",
       "      <td>ne vem kaj še čakate</td>\n",
       "      <td>Neutral</td>\n",
       "    </tr>\n",
       "    <tr>\n",
       "      <th>20</th>\n",
       "      <td>skoraj popolno torej</td>\n",
       "      <td>Positive</td>\n",
       "    </tr>\n",
       "    <tr>\n",
       "      <th>21</th>\n",
       "      <td>skoraj popolno torej</td>\n",
       "      <td>Neutral</td>\n",
       "    </tr>\n",
       "    <tr>\n",
       "      <th>22</th>\n",
       "      <td>kako je veliki propagandist prve janševe oblas...</td>\n",
       "      <td>Neutral</td>\n",
       "    </tr>\n",
       "    <tr>\n",
       "      <th>23</th>\n",
       "      <td>hlapec svetuje hlapcem da je fajn bit hlapec j...</td>\n",
       "      <td>Negative</td>\n",
       "    </tr>\n",
       "    <tr>\n",
       "      <th>24</th>\n",
       "      <td>mar ni kaloh zaposlen v poslanski skupini</td>\n",
       "      <td>Neutral</td>\n",
       "    </tr>\n",
       "    <tr>\n",
       "      <th>25</th>\n",
       "      <td>pussy riot na prostosti in znova v boju</td>\n",
       "      <td>Positive</td>\n",
       "    </tr>\n",
       "    <tr>\n",
       "      <th>26</th>\n",
       "      <td>dostava podatkov za odmero dohodnine za leto 2...</td>\n",
       "      <td>Positive</td>\n",
       "    </tr>\n",
       "    <tr>\n",
       "      <th>27</th>\n",
       "      <td>dostava podatkov za odmero dohodnine za leto 2...</td>\n",
       "      <td>Neutral</td>\n",
       "    </tr>\n",
       "    <tr>\n",
       "      <th>28</th>\n",
       "      <td>alive pearl jam prva danes popoldne ajprou</td>\n",
       "      <td>Neutral</td>\n",
       "    </tr>\n",
       "    <tr>\n",
       "      <th>29</th>\n",
       "      <td>alive pearl jam prva danes popoldne ajprou</td>\n",
       "      <td>Positive</td>\n",
       "    </tr>\n",
       "  </tbody>\n",
       "</table>\n",
       "</div>\n",
       "      <button class=\"colab-df-convert\" onclick=\"convertToInteractive('df-3a89f747-1cd1-4111-8446-e07b630a3299')\"\n",
       "              title=\"Convert this dataframe to an interactive table.\"\n",
       "              style=\"display:none;\">\n",
       "        \n",
       "  <svg xmlns=\"http://www.w3.org/2000/svg\" height=\"24px\"viewBox=\"0 0 24 24\"\n",
       "       width=\"24px\">\n",
       "    <path d=\"M0 0h24v24H0V0z\" fill=\"none\"/>\n",
       "    <path d=\"M18.56 5.44l.94 2.06.94-2.06 2.06-.94-2.06-.94-.94-2.06-.94 2.06-2.06.94zm-11 1L8.5 8.5l.94-2.06 2.06-.94-2.06-.94L8.5 2.5l-.94 2.06-2.06.94zm10 10l.94 2.06.94-2.06 2.06-.94-2.06-.94-.94-2.06-.94 2.06-2.06.94z\"/><path d=\"M17.41 7.96l-1.37-1.37c-.4-.4-.92-.59-1.43-.59-.52 0-1.04.2-1.43.59L10.3 9.45l-7.72 7.72c-.78.78-.78 2.05 0 2.83L4 21.41c.39.39.9.59 1.41.59.51 0 1.02-.2 1.41-.59l7.78-7.78 2.81-2.81c.8-.78.8-2.07 0-2.86zM5.41 20L4 18.59l7.72-7.72 1.47 1.35L5.41 20z\"/>\n",
       "  </svg>\n",
       "      </button>\n",
       "      \n",
       "  <style>\n",
       "    .colab-df-container {\n",
       "      display:flex;\n",
       "      flex-wrap:wrap;\n",
       "      gap: 12px;\n",
       "    }\n",
       "\n",
       "    .colab-df-convert {\n",
       "      background-color: #E8F0FE;\n",
       "      border: none;\n",
       "      border-radius: 50%;\n",
       "      cursor: pointer;\n",
       "      display: none;\n",
       "      fill: #1967D2;\n",
       "      height: 32px;\n",
       "      padding: 0 0 0 0;\n",
       "      width: 32px;\n",
       "    }\n",
       "\n",
       "    .colab-df-convert:hover {\n",
       "      background-color: #E2EBFA;\n",
       "      box-shadow: 0px 1px 2px rgba(60, 64, 67, 0.3), 0px 1px 3px 1px rgba(60, 64, 67, 0.15);\n",
       "      fill: #174EA6;\n",
       "    }\n",
       "\n",
       "    [theme=dark] .colab-df-convert {\n",
       "      background-color: #3B4455;\n",
       "      fill: #D2E3FC;\n",
       "    }\n",
       "\n",
       "    [theme=dark] .colab-df-convert:hover {\n",
       "      background-color: #434B5C;\n",
       "      box-shadow: 0px 1px 3px 1px rgba(0, 0, 0, 0.15);\n",
       "      filter: drop-shadow(0px 1px 2px rgba(0, 0, 0, 0.3));\n",
       "      fill: #FFFFFF;\n",
       "    }\n",
       "  </style>\n",
       "\n",
       "      <script>\n",
       "        const buttonEl =\n",
       "          document.querySelector('#df-3a89f747-1cd1-4111-8446-e07b630a3299 button.colab-df-convert');\n",
       "        buttonEl.style.display =\n",
       "          google.colab.kernel.accessAllowed ? 'block' : 'none';\n",
       "\n",
       "        async function convertToInteractive(key) {\n",
       "          const element = document.querySelector('#df-3a89f747-1cd1-4111-8446-e07b630a3299');\n",
       "          const dataTable =\n",
       "            await google.colab.kernel.invokeFunction('convertToInteractive',\n",
       "                                                     [key], {});\n",
       "          if (!dataTable) return;\n",
       "\n",
       "          const docLinkHtml = 'Like what you see? Visit the ' +\n",
       "            '<a target=\"_blank\" href=https://colab.research.google.com/notebooks/data_table.ipynb>data table notebook</a>'\n",
       "            + ' to learn more about interactive tables.';\n",
       "          element.innerHTML = '';\n",
       "          dataTable['output_type'] = 'display_data';\n",
       "          await google.colab.output.renderOutput(dataTable, element);\n",
       "          const docLink = document.createElement('div');\n",
       "          docLink.innerHTML = docLinkHtml;\n",
       "          element.appendChild(docLink);\n",
       "        }\n",
       "      </script>\n",
       "    </div>\n",
       "  </div>\n",
       "  "
      ],
      "text/plain": [
       "                                                Tweet Sentiment\n",
       "0   za uniona olimpijo vedno cilj le en naslov prv...  Positive\n",
       "1   znp preganja se novinarje ne pa tudi tistih ki...  Negative\n",
       "2   ste zamudili spletno razpravo z oglejte si pos...   Neutral\n",
       "3   1909 je zapadel v radovljici visok sneg domači...   Neutral\n",
       "4                       ima samo ni čist to kar hočem   Neutral\n",
       "5                       ima samo ni čist to kar hočem  Negative\n",
       "6   lol evo skrbimo da ti tudi v mrkih trenutkih o...  Positive\n",
       "7   ubistvu mi je bil synology na prvem mestu sam ...  Positive\n",
       "8   1909 je zapadel v radovljici visok sneg domači...   Neutral\n",
       "9   čez dve uri od 15 do 17 ure 1712014 in prihran...   Neutral\n",
       "10   bi pasalo po kosilu na križarjenju prav vsak dan   Neutral\n",
       "11   bi pasalo po kosilu na križarjenju prav vsak dan  Positive\n",
       "12  kraj z največjim številom zimskih olimpijcev a...   Neutral\n",
       "13  kraj z največjim številom zimskih olimpijcev a...  Negative\n",
       "14  definitivno kako svezo faco npr je pa imo res ...   Neutral\n",
       "15   kako izkoristiti linkedin kot poslovno platformo   Neutral\n",
       "16  si razumela žal jih veliko ni zlasti pisci spl...   Neutral\n",
       "17                               koliko globoko torej   Neutral\n",
       "18                               koliko globoko torej   Neutral\n",
       "19                               ne vem kaj še čakate   Neutral\n",
       "20                               skoraj popolno torej  Positive\n",
       "21                               skoraj popolno torej   Neutral\n",
       "22  kako je veliki propagandist prve janševe oblas...   Neutral\n",
       "23  hlapec svetuje hlapcem da je fajn bit hlapec j...  Negative\n",
       "24          mar ni kaloh zaposlen v poslanski skupini   Neutral\n",
       "25            pussy riot na prostosti in znova v boju  Positive\n",
       "26  dostava podatkov za odmero dohodnine za leto 2...  Positive\n",
       "27  dostava podatkov za odmero dohodnine za leto 2...   Neutral\n",
       "28         alive pearl jam prva danes popoldne ajprou   Neutral\n",
       "29         alive pearl jam prva danes popoldne ajprou  Positive"
      ]
     },
     "execution_count": 92,
     "metadata": {},
     "output_type": "execute_result"
    }
   ],
   "source": [
    "df.head(30)"
   ]
  },
  {
   "cell_type": "markdown",
   "id": "80bd3dc3",
   "metadata": {},
   "source": [
    "Pridobljeno prečiščeno tabelo shranimo v novo csv datoteko."
   ]
  },
  {
   "cell_type": "code",
   "execution_count": 93,
   "id": "LzRgq-98kvHf",
   "metadata": {
    "colab": {
     "base_uri": "https://localhost:8080/",
     "height": 17
    },
    "id": "LzRgq-98kvHf",
    "outputId": "c07e7f5f-f4a7-4a70-8b06-46f4ece2fa60"
   },
   "outputs": [
    {
     "data": {
      "application/javascript": [
       "\n",
       "    async function download(id, filename, size) {\n",
       "      if (!google.colab.kernel.accessAllowed) {\n",
       "        return;\n",
       "      }\n",
       "      const div = document.createElement('div');\n",
       "      const label = document.createElement('label');\n",
       "      label.textContent = `Downloading \"${filename}\": `;\n",
       "      div.appendChild(label);\n",
       "      const progress = document.createElement('progress');\n",
       "      progress.max = size;\n",
       "      div.appendChild(progress);\n",
       "      document.body.appendChild(div);\n",
       "\n",
       "      const buffers = [];\n",
       "      let downloaded = 0;\n",
       "\n",
       "      const channel = await google.colab.kernel.comms.open(id);\n",
       "      // Send a message to notify the kernel that we're ready.\n",
       "      channel.send({})\n",
       "\n",
       "      for await (const message of channel.messages) {\n",
       "        // Send a message to notify the kernel that we're ready.\n",
       "        channel.send({})\n",
       "        if (message.buffers) {\n",
       "          for (const buffer of message.buffers) {\n",
       "            buffers.push(buffer);\n",
       "            downloaded += buffer.byteLength;\n",
       "            progress.value = downloaded;\n",
       "          }\n",
       "        }\n",
       "      }\n",
       "      const blob = new Blob(buffers, {type: 'application/binary'});\n",
       "      const a = document.createElement('a');\n",
       "      a.href = window.URL.createObjectURL(blob);\n",
       "      a.download = filename;\n",
       "      div.appendChild(a);\n",
       "      a.click();\n",
       "      div.remove();\n",
       "    }\n",
       "  "
      ],
      "text/plain": [
       "<IPython.core.display.Javascript object>"
      ]
     },
     "metadata": {},
     "output_type": "display_data"
    },
    {
     "data": {
      "application/javascript": [
       "download(\"download_a6791fc2-6bf6-4072-9684-8eb45edafe85\", \"sentTweetsSlo.csv\", 3524151)"
      ],
      "text/plain": [
       "<IPython.core.display.Javascript object>"
      ]
     },
     "metadata": {},
     "output_type": "display_data"
    }
   ],
   "source": [
    "df.to_csv('sentTweetsSlo.csv', encoding = 'utf-8-sig', index=False) \n",
    "files.download('sentTweetsSlo.csv')"
   ]
  },
  {
   "cell_type": "markdown",
   "id": "f6927f7f",
   "metadata": {},
   "source": [
    "### Pridobivanje besedila objav s Twitterja za slovensko podatkovno zbirko\n",
    "Po enakem postopku se lotimo pridobivanja objav v angleškem jeziku. Ker bomo to zbirko uporabili za testiranje, ki bo z zbirko za učenje v razmerju 2:8, pridobimo manj objav kot za slovensko, zato nam je ta del vzel le en dan."
   ]
  },
  {
   "cell_type": "code",
   "execution_count": null,
   "id": "1f304ca3",
   "metadata": {
    "colab": {
     "base_uri": "https://localhost:8080/"
    },
    "id": "1f304ca3",
    "outputId": "e2def0e8-421d-4292-e21e-a6042d6ddf6e"
   },
   "outputs": [],
   "source": [
    "t = ''\n",
    "i = 0\n",
    "\n",
    "with open('tweetsEng.txt', 'w'):\n",
    "    for tweet in corpusEng[:35000]:\n",
    "        id = tweet['ID']\n",
    "        #print(id)\n",
    "        try:\n",
    "            fetched = api.get_status(id)\n",
    "            t = fetched.text\n",
    "\n",
    "            if \"\\n\" in t:\n",
    "              t = t.replace(\"\\n\", \" \")\n",
    "\n",
    "            #print(i, t, id)\n",
    "\n",
    "        except tweepy.TweepError as e: \n",
    "            t = e\n",
    "            #print(i, t, id)\n",
    "\n",
    "        i += 1\n",
    "        #tweetsSlo.append({'id': id, 'text': t})\n",
    "        f.write(i, t, id)"
   ]
  },
  {
   "cell_type": "code",
   "execution_count": 94,
   "id": "76adfeac",
   "metadata": {
    "id": "76adfeac"
   },
   "outputs": [],
   "source": [
    "tweetsEng = []"
   ]
  },
  {
   "cell_type": "code",
   "execution_count": 95,
   "id": "i19fBR-oGY5y",
   "metadata": {
    "colab": {
     "base_uri": "https://localhost:8080/",
     "height": 90,
     "resources": {
      "http://localhost:8080/nbextensions/google.colab/files.js": {
       "data": "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",
       "headers": [
        [
         "content-type",
         "application/javascript"
        ]
       ],
       "ok": true,
       "status": 200,
       "status_text": ""
      }
     }
    },
    "id": "i19fBR-oGY5y",
    "outputId": "eeed9382-8254-41d2-e30f-f39c7bab2e38"
   },
   "outputs": [
    {
     "data": {
      "text/html": [
       "\n",
       "     <input type=\"file\" id=\"files-6c0f0f1c-3f54-4245-bfaf-4453a88f1506\" name=\"files[]\" multiple disabled\n",
       "        style=\"border:none\" />\n",
       "     <output id=\"result-6c0f0f1c-3f54-4245-bfaf-4453a88f1506\">\n",
       "      Upload widget is only available when the cell has been executed in the\n",
       "      current browser session. Please rerun this cell to enable.\n",
       "      </output>\n",
       "      <script src=\"/nbextensions/google.colab/files.js\"></script> "
      ],
      "text/plain": [
       "<IPython.core.display.HTML object>"
      ]
     },
     "metadata": {},
     "output_type": "display_data"
    },
    {
     "name": "stdout",
     "output_type": "stream",
     "text": [
      "Saving tweetsEng.txt to tweetsEng.txt\n",
      "User uploaded file \"tweetsEng.txt\" with length 3450227 bytes\n"
     ]
    }
   ],
   "source": [
    "from google.colab import files\n",
    "\n",
    "uploaded = files.upload()\n",
    "\n",
    "for fn in uploaded.keys():\n",
    "  print('User uploaded file \"{name}\" with length {length} bytes'.format(\n",
    "      name=fn, length=len(uploaded[fn])))"
   ]
  },
  {
   "cell_type": "code",
   "execution_count": 96,
   "id": "qh1maRzibaSX",
   "metadata": {
    "id": "qh1maRzibaSX"
   },
   "outputs": [],
   "source": [
    "import re\n",
    "\n",
    "with open('tweetsEng.txt', 'r') as f:\n",
    "  lineReader = csv.reader(f, delimiter=',', quotechar=\"\\\"\")\n",
    "  for row in lineReader:\n",
    "    if row:\n",
    "      row = ' '.join(row)\n",
    "      tweetsEng.append(row)"
   ]
  },
  {
   "cell_type": "code",
   "execution_count": 97,
   "id": "_mTzIA-LcZxB",
   "metadata": {
    "colab": {
     "base_uri": "https://localhost:8080/"
    },
    "id": "_mTzIA-LcZxB",
    "outputId": "9b357e8d-5c61-4518-f061-b987489b5e5d"
   },
   "outputs": [
    {
     "data": {
      "text/plain": [
       "34812"
      ]
     },
     "execution_count": 97,
     "metadata": {},
     "output_type": "execute_result"
    }
   ],
   "source": [
    "len(tweetsEng)"
   ]
  },
  {
   "cell_type": "code",
   "execution_count": 98,
   "id": "jMr7ChOMcbyT",
   "metadata": {
    "id": "jMr7ChOMcbyT"
   },
   "outputs": [],
   "source": [
    "dfEng = pd.DataFrame(tweetsEng, index=None, columns=['Tweet'])"
   ]
  },
  {
   "cell_type": "code",
   "execution_count": 99,
   "id": "MoqMuUjKcmHC",
   "metadata": {
    "colab": {
     "base_uri": "https://localhost:8080/"
    },
    "id": "MoqMuUjKcmHC",
    "outputId": "6664eaf4-ca7f-45cd-acc6-f3b53e5e3000"
   },
   "outputs": [
    {
     "data": {
      "text/plain": [
       "(34812, 1)"
      ]
     },
     "execution_count": 99,
     "metadata": {},
     "output_type": "execute_result"
    }
   ],
   "source": [
    "dfEng.shape"
   ]
  },
  {
   "cell_type": "markdown",
   "id": "7c03bf6a",
   "metadata": {},
   "source": [
    "### Preprocesiranje in čiščenje besedila zbirke v angleškem jeziku\n",
    "Postopek je enak tistemu, ki smo za uporabilo za procesiranje podatkovne zbirke v slovenščini."
   ]
  },
  {
   "cell_type": "code",
   "execution_count": 100,
   "id": "UiUg-xgdcnQs",
   "metadata": {
    "id": "UiUg-xgdcnQs"
   },
   "outputs": [],
   "source": [
    "str = \"Rate limit reached\"\n",
    "limitiEng = []\n",
    "errorjiEng = []\n",
    "\n",
    "for i in range(len(dfEng['Tweet'])):\n",
    "  #print(i)\n",
    "  elementi = dfEng['Tweet'][i].split()\n",
    "  if str in dfEng['Tweet'][i]:\n",
    "    limitiEng.append(i)\n",
    "    dfEng['Tweet'][i-1] += \" \" + dfEng['Tweet'][i]\n",
    "  elif elementi[1] == \"[{'code':\":\n",
    "    errorjiEng.append(i)"
   ]
  },
  {
   "cell_type": "code",
   "execution_count": 101,
   "id": "4oGz1EwNc6dX",
   "metadata": {
    "id": "4oGz1EwNc6dX"
   },
   "outputs": [],
   "source": [
    "dfEng['Tweet'] = dfEng['Tweet'].apply(lambda x: ' '.join(x.lower().split()))"
   ]
  },
  {
   "cell_type": "code",
   "execution_count": 102,
   "id": "GE-4EjpQdC45",
   "metadata": {
    "id": "GE-4EjpQdC45"
   },
   "outputs": [],
   "source": [
    "dfEng['Tweet'] = dfEng['Tweet'].apply(lambda x: ' '.join(x.split()))"
   ]
  },
  {
   "cell_type": "code",
   "execution_count": 103,
   "id": "PaSPinhAdJdT",
   "metadata": {
    "colab": {
     "base_uri": "https://localhost:8080/"
    },
    "id": "PaSPinhAdJdT",
    "outputId": "b8457ac8-17fb-4ee6-9a5f-c2d86e9d3257"
   },
   "outputs": [
    {
     "name": "stderr",
     "output_type": "stream",
     "text": [
      "/usr/local/lib/python3.7/dist-packages/ipykernel_launcher.py:1: FutureWarning: In a future version of pandas all arguments of DataFrame.drop except for the argument 'labels' will be keyword-only\n",
      "  \"\"\"Entry point for launching an IPython kernel.\n"
     ]
    }
   ],
   "source": [
    "dfEng.drop(limitiEng,0,inplace=True)"
   ]
  },
  {
   "cell_type": "code",
   "execution_count": 104,
   "id": "D8WvkKL4dPPs",
   "metadata": {
    "colab": {
     "base_uri": "https://localhost:8080/"
    },
    "id": "D8WvkKL4dPPs",
    "outputId": "e96994fa-bfd4-4edf-b91f-4de670a440d8"
   },
   "outputs": [
    {
     "data": {
      "text/plain": [
       "(34790, 1)"
      ]
     },
     "execution_count": 104,
     "metadata": {},
     "output_type": "execute_result"
    }
   ],
   "source": [
    "dfEng.shape"
   ]
  },
  {
   "cell_type": "code",
   "execution_count": 105,
   "id": "7zRKebcIdQbI",
   "metadata": {
    "id": "7zRKebcIdQbI"
   },
   "outputs": [],
   "source": [
    "sentimentEng = []\n",
    "for tweet in corpusEng:\n",
    "  sent = tweet['sent']\n",
    "  sentimentEng.append(sent)"
   ]
  },
  {
   "cell_type": "code",
   "execution_count": 106,
   "id": "hW1ZCVKAdY48",
   "metadata": {
    "id": "hW1ZCVKAdY48"
   },
   "outputs": [],
   "source": [
    "sentimentEng = sentimentEng[:dfEng.shape[0]]"
   ]
  },
  {
   "cell_type": "code",
   "execution_count": 107,
   "id": "dpweeCUAdf3V",
   "metadata": {
    "id": "dpweeCUAdf3V"
   },
   "outputs": [],
   "source": [
    "dfEng['Sentiment'] = sentimentEng"
   ]
  },
  {
   "cell_type": "code",
   "execution_count": 108,
   "id": "VWigbefbdnTT",
   "metadata": {
    "colab": {
     "base_uri": "https://localhost:8080/"
    },
    "id": "VWigbefbdnTT",
    "outputId": "24e9147c-660d-4bb1-e938-10a9a885e79c"
   },
   "outputs": [
    {
     "data": {
      "text/plain": [
       "34790"
      ]
     },
     "execution_count": 108,
     "metadata": {},
     "output_type": "execute_result"
    }
   ],
   "source": [
    "len(dfEng['Tweet'])"
   ]
  },
  {
   "cell_type": "code",
   "execution_count": 109,
   "id": "4jklzLHAdubB",
   "metadata": {
    "colab": {
     "base_uri": "https://localhost:8080/"
    },
    "id": "4jklzLHAdubB",
    "outputId": "818c9e7e-554d-4bbb-c120-7a19fdb739bb"
   },
   "outputs": [
    {
     "data": {
      "text/plain": [
       "34790"
      ]
     },
     "execution_count": 109,
     "metadata": {},
     "output_type": "execute_result"
    }
   ],
   "source": [
    "len(dfEng['Sentiment'])"
   ]
  },
  {
   "cell_type": "code",
   "execution_count": 110,
   "id": "-d84cSm4dxp4",
   "metadata": {
    "id": "-d84cSm4dxp4"
   },
   "outputs": [],
   "source": [
    "tweetsEng = []\n",
    "\n",
    "for tweet in dfEng['Tweet']:\n",
    "  elementi = tweet.split()\n",
    "  #print(elementi)\n",
    "  if elementi[0].isdigit():\n",
    "    elementi = elementi[1:]\n",
    "    tweetsEng.append(' '.join(elementi))\n",
    "  else:\n",
    "    tweetsEng.append(tweet)"
   ]
  },
  {
   "cell_type": "code",
   "execution_count": 111,
   "id": "bBYGoRJ2eDmF",
   "metadata": {
    "id": "bBYGoRJ2eDmF"
   },
   "outputs": [],
   "source": [
    "dfEng['Tweet'] = tweetsEng"
   ]
  },
  {
   "cell_type": "code",
   "execution_count": 112,
   "id": "-5r_Y82IeLcm",
   "metadata": {
    "id": "-5r_Y82IeLcm"
   },
   "outputs": [],
   "source": [
    "tweetsEng = []\n",
    "\n",
    "for tweet in dfEng['Tweet']:\n",
    "  elementi = tweet.split()\n",
    "  elementi = elementi[:-1]\n",
    "  tweetsEng.append(' '.join(elementi))"
   ]
  },
  {
   "cell_type": "code",
   "execution_count": 113,
   "id": "9Y5Ivw-beYaH",
   "metadata": {
    "id": "9Y5Ivw-beYaH"
   },
   "outputs": [],
   "source": [
    "dfEng['Tweet'] = tweetsEng"
   ]
  },
  {
   "cell_type": "code",
   "execution_count": 114,
   "id": "ndA4VOqteeo6",
   "metadata": {
    "colab": {
     "base_uri": "https://localhost:8080/",
     "height": 990
    },
    "id": "ndA4VOqteeo6",
    "outputId": "bd42ca5d-b7c2-47cb-fd84-7b5bf52026ac"
   },
   "outputs": [
    {
     "data": {
      "text/html": [
       "\n",
       "  <div id=\"df-4399e2a0-6708-47e3-92ad-dde1b0b01bf7\">\n",
       "    <div class=\"colab-df-container\">\n",
       "      <div>\n",
       "<style scoped>\n",
       "    .dataframe tbody tr th:only-of-type {\n",
       "        vertical-align: middle;\n",
       "    }\n",
       "\n",
       "    .dataframe tbody tr th {\n",
       "        vertical-align: top;\n",
       "    }\n",
       "\n",
       "    .dataframe thead th {\n",
       "        text-align: right;\n",
       "    }\n",
       "</style>\n",
       "<table border=\"1\" class=\"dataframe\">\n",
       "  <thead>\n",
       "    <tr style=\"text-align: right;\">\n",
       "      <th></th>\n",
       "      <th>Tweet</th>\n",
       "      <th>Sentiment</th>\n",
       "    </tr>\n",
       "  </thead>\n",
       "  <tbody>\n",
       "    <tr>\n",
       "      <th>0</th>\n",
       "      <td>[{'code': 144 'message': 'no status found with...</td>\n",
       "      <td>Negative</td>\n",
       "    </tr>\n",
       "    <tr>\n",
       "      <th>1</th>\n",
       "      <td>[{'code': 144 'message': 'no status found with...</td>\n",
       "      <td>Positive</td>\n",
       "    </tr>\n",
       "    <tr>\n",
       "      <th>2</th>\n",
       "      <td>[{'code': 179 'message': 'sorry you are not au...</td>\n",
       "      <td>Positive</td>\n",
       "    </tr>\n",
       "    <tr>\n",
       "      <th>3</th>\n",
       "      <td>rt @cjayytaughther: rule #1: never be #2</td>\n",
       "      <td>Neutral</td>\n",
       "    </tr>\n",
       "    <tr>\n",
       "      <th>4</th>\n",
       "      <td>[{'code': 179 'message': 'sorry you are not au...</td>\n",
       "      <td>Neutral</td>\n",
       "    </tr>\n",
       "    <tr>\n",
       "      <th>5</th>\n",
       "      <td>[{'code': 144 'message': 'no status found with...</td>\n",
       "      <td>Positive</td>\n",
       "    </tr>\n",
       "    <tr>\n",
       "      <th>6</th>\n",
       "      <td>[{'code': 63 'message': 'user has been suspend...</td>\n",
       "      <td>Neutral</td>\n",
       "    </tr>\n",
       "    <tr>\n",
       "      <th>7</th>\n",
       "      <td>puff puff pass ya hoe</td>\n",
       "      <td>Negative</td>\n",
       "    </tr>\n",
       "    <tr>\n",
       "      <th>8</th>\n",
       "      <td>0808 mon lit</td>\n",
       "      <td>Neutral</td>\n",
       "    </tr>\n",
       "    <tr>\n",
       "      <th>9</th>\n",
       "      <td>@jthizzle when was this</td>\n",
       "      <td>Neutral</td>\n",
       "    </tr>\n",
       "    <tr>\n",
       "      <th>10</th>\n",
       "      <td>@jthizzle when was this</td>\n",
       "      <td>Neutral</td>\n",
       "    </tr>\n",
       "    <tr>\n",
       "      <th>11</th>\n",
       "      <td>[{'code': 144 'message': 'no status found with...</td>\n",
       "      <td>Neutral</td>\n",
       "    </tr>\n",
       "    <tr>\n",
       "      <th>12</th>\n",
       "      <td>[{'code': 63 'message': 'user has been suspend...</td>\n",
       "      <td>Neutral</td>\n",
       "    </tr>\n",
       "    <tr>\n",
       "      <th>13</th>\n",
       "      <td>[{'code': 179 'message': 'sorry you are not au...</td>\n",
       "      <td>Neutral</td>\n",
       "    </tr>\n",
       "    <tr>\n",
       "      <th>14</th>\n",
       "      <td>[{'code': 179 'message': 'sorry you are not au...</td>\n",
       "      <td>Neutral</td>\n",
       "    </tr>\n",
       "    <tr>\n",
       "      <th>15</th>\n",
       "      <td>[{'code': 144 'message': 'no status found with...</td>\n",
       "      <td>Negative</td>\n",
       "    </tr>\n",
       "    <tr>\n",
       "      <th>16</th>\n",
       "      <td>[{'code': 179 'message': 'sorry you are not au...</td>\n",
       "      <td>Neutral</td>\n",
       "    </tr>\n",
       "    <tr>\n",
       "      <th>17</th>\n",
       "      <td>[{'code': 179 'message': 'sorry you are not au...</td>\n",
       "      <td>Neutral</td>\n",
       "    </tr>\n",
       "    <tr>\n",
       "      <th>18</th>\n",
       "      <td>[{'code': 144 'message': 'no status found with...</td>\n",
       "      <td>Negative</td>\n",
       "    </tr>\n",
       "    <tr>\n",
       "      <th>19</th>\n",
       "      <td>i cant believe mickey mouse had sex with shado...</td>\n",
       "      <td>Neutral</td>\n",
       "    </tr>\n",
       "    <tr>\n",
       "      <th>20</th>\n",
       "      <td>[{'code': 179 'message': 'sorry you are not au...</td>\n",
       "      <td>Positive</td>\n",
       "    </tr>\n",
       "    <tr>\n",
       "      <th>21</th>\n",
       "      <td>tgim (thank god its monday) baby! 😀😀😀</td>\n",
       "      <td>Negative</td>\n",
       "    </tr>\n",
       "    <tr>\n",
       "      <th>22</th>\n",
       "      <td>[{'code': 144 'message': 'no status found with...</td>\n",
       "      <td>Negative</td>\n",
       "    </tr>\n",
       "    <tr>\n",
       "      <th>23</th>\n",
       "      <td>[{'code': 63 'message': 'user has been suspend...</td>\n",
       "      <td>Positive</td>\n",
       "    </tr>\n",
       "    <tr>\n",
       "      <th>24</th>\n",
       "      <td>[{'code': 63 'message': 'user has been suspend...</td>\n",
       "      <td>Positive</td>\n",
       "    </tr>\n",
       "    <tr>\n",
       "      <th>25</th>\n",
       "      <td>[{'code': 63 'message': 'user has been suspend...</td>\n",
       "      <td>Neutral</td>\n",
       "    </tr>\n",
       "    <tr>\n",
       "      <th>26</th>\n",
       "      <td>[{'code': 63 'message': 'user has been suspend...</td>\n",
       "      <td>Neutral</td>\n",
       "    </tr>\n",
       "    <tr>\n",
       "      <th>27</th>\n",
       "      <td>[{'code': 63 'message': 'user has been suspend...</td>\n",
       "      <td>Neutral</td>\n",
       "    </tr>\n",
       "    <tr>\n",
       "      <th>28</th>\n",
       "      <td>peace love shea http://t.co/svg2yzx8l0</td>\n",
       "      <td>Neutral</td>\n",
       "    </tr>\n",
       "    <tr>\n",
       "      <th>29</th>\n",
       "      <td>same. https://t.co/gmp7kz35yk</td>\n",
       "      <td>Neutral</td>\n",
       "    </tr>\n",
       "  </tbody>\n",
       "</table>\n",
       "</div>\n",
       "      <button class=\"colab-df-convert\" onclick=\"convertToInteractive('df-4399e2a0-6708-47e3-92ad-dde1b0b01bf7')\"\n",
       "              title=\"Convert this dataframe to an interactive table.\"\n",
       "              style=\"display:none;\">\n",
       "        \n",
       "  <svg xmlns=\"http://www.w3.org/2000/svg\" height=\"24px\"viewBox=\"0 0 24 24\"\n",
       "       width=\"24px\">\n",
       "    <path d=\"M0 0h24v24H0V0z\" fill=\"none\"/>\n",
       "    <path d=\"M18.56 5.44l.94 2.06.94-2.06 2.06-.94-2.06-.94-.94-2.06-.94 2.06-2.06.94zm-11 1L8.5 8.5l.94-2.06 2.06-.94-2.06-.94L8.5 2.5l-.94 2.06-2.06.94zm10 10l.94 2.06.94-2.06 2.06-.94-2.06-.94-.94-2.06-.94 2.06-2.06.94z\"/><path d=\"M17.41 7.96l-1.37-1.37c-.4-.4-.92-.59-1.43-.59-.52 0-1.04.2-1.43.59L10.3 9.45l-7.72 7.72c-.78.78-.78 2.05 0 2.83L4 21.41c.39.39.9.59 1.41.59.51 0 1.02-.2 1.41-.59l7.78-7.78 2.81-2.81c.8-.78.8-2.07 0-2.86zM5.41 20L4 18.59l7.72-7.72 1.47 1.35L5.41 20z\"/>\n",
       "  </svg>\n",
       "      </button>\n",
       "      \n",
       "  <style>\n",
       "    .colab-df-container {\n",
       "      display:flex;\n",
       "      flex-wrap:wrap;\n",
       "      gap: 12px;\n",
       "    }\n",
       "\n",
       "    .colab-df-convert {\n",
       "      background-color: #E8F0FE;\n",
       "      border: none;\n",
       "      border-radius: 50%;\n",
       "      cursor: pointer;\n",
       "      display: none;\n",
       "      fill: #1967D2;\n",
       "      height: 32px;\n",
       "      padding: 0 0 0 0;\n",
       "      width: 32px;\n",
       "    }\n",
       "\n",
       "    .colab-df-convert:hover {\n",
       "      background-color: #E2EBFA;\n",
       "      box-shadow: 0px 1px 2px rgba(60, 64, 67, 0.3), 0px 1px 3px 1px rgba(60, 64, 67, 0.15);\n",
       "      fill: #174EA6;\n",
       "    }\n",
       "\n",
       "    [theme=dark] .colab-df-convert {\n",
       "      background-color: #3B4455;\n",
       "      fill: #D2E3FC;\n",
       "    }\n",
       "\n",
       "    [theme=dark] .colab-df-convert:hover {\n",
       "      background-color: #434B5C;\n",
       "      box-shadow: 0px 1px 3px 1px rgba(0, 0, 0, 0.15);\n",
       "      filter: drop-shadow(0px 1px 2px rgba(0, 0, 0, 0.3));\n",
       "      fill: #FFFFFF;\n",
       "    }\n",
       "  </style>\n",
       "\n",
       "      <script>\n",
       "        const buttonEl =\n",
       "          document.querySelector('#df-4399e2a0-6708-47e3-92ad-dde1b0b01bf7 button.colab-df-convert');\n",
       "        buttonEl.style.display =\n",
       "          google.colab.kernel.accessAllowed ? 'block' : 'none';\n",
       "\n",
       "        async function convertToInteractive(key) {\n",
       "          const element = document.querySelector('#df-4399e2a0-6708-47e3-92ad-dde1b0b01bf7');\n",
       "          const dataTable =\n",
       "            await google.colab.kernel.invokeFunction('convertToInteractive',\n",
       "                                                     [key], {});\n",
       "          if (!dataTable) return;\n",
       "\n",
       "          const docLinkHtml = 'Like what you see? Visit the ' +\n",
       "            '<a target=\"_blank\" href=https://colab.research.google.com/notebooks/data_table.ipynb>data table notebook</a>'\n",
       "            + ' to learn more about interactive tables.';\n",
       "          element.innerHTML = '';\n",
       "          dataTable['output_type'] = 'display_data';\n",
       "          await google.colab.output.renderOutput(dataTable, element);\n",
       "          const docLink = document.createElement('div');\n",
       "          docLink.innerHTML = docLinkHtml;\n",
       "          element.appendChild(docLink);\n",
       "        }\n",
       "      </script>\n",
       "    </div>\n",
       "  </div>\n",
       "  "
      ],
      "text/plain": [
       "                                                Tweet Sentiment\n",
       "0   [{'code': 144 'message': 'no status found with...  Negative\n",
       "1   [{'code': 144 'message': 'no status found with...  Positive\n",
       "2   [{'code': 179 'message': 'sorry you are not au...  Positive\n",
       "3            rt @cjayytaughther: rule #1: never be #2   Neutral\n",
       "4   [{'code': 179 'message': 'sorry you are not au...   Neutral\n",
       "5   [{'code': 144 'message': 'no status found with...  Positive\n",
       "6   [{'code': 63 'message': 'user has been suspend...   Neutral\n",
       "7                               puff puff pass ya hoe  Negative\n",
       "8                                        0808 mon lit   Neutral\n",
       "9                             @jthizzle when was this   Neutral\n",
       "10                            @jthizzle when was this   Neutral\n",
       "11  [{'code': 144 'message': 'no status found with...   Neutral\n",
       "12  [{'code': 63 'message': 'user has been suspend...   Neutral\n",
       "13  [{'code': 179 'message': 'sorry you are not au...   Neutral\n",
       "14  [{'code': 179 'message': 'sorry you are not au...   Neutral\n",
       "15  [{'code': 144 'message': 'no status found with...  Negative\n",
       "16  [{'code': 179 'message': 'sorry you are not au...   Neutral\n",
       "17  [{'code': 179 'message': 'sorry you are not au...   Neutral\n",
       "18  [{'code': 144 'message': 'no status found with...  Negative\n",
       "19  i cant believe mickey mouse had sex with shado...   Neutral\n",
       "20  [{'code': 179 'message': 'sorry you are not au...  Positive\n",
       "21              tgim (thank god its monday) baby! 😀😀😀  Negative\n",
       "22  [{'code': 144 'message': 'no status found with...  Negative\n",
       "23  [{'code': 63 'message': 'user has been suspend...  Positive\n",
       "24  [{'code': 63 'message': 'user has been suspend...  Positive\n",
       "25  [{'code': 63 'message': 'user has been suspend...   Neutral\n",
       "26  [{'code': 63 'message': 'user has been suspend...   Neutral\n",
       "27  [{'code': 63 'message': 'user has been suspend...   Neutral\n",
       "28             peace love shea http://t.co/svg2yzx8l0   Neutral\n",
       "29                      same. https://t.co/gmp7kz35yk   Neutral"
      ]
     },
     "execution_count": 114,
     "metadata": {},
     "output_type": "execute_result"
    }
   ],
   "source": [
    "dfEng.head(30)"
   ]
  },
  {
   "cell_type": "code",
   "execution_count": 115,
   "id": "KhRpO002egAS",
   "metadata": {
    "colab": {
     "base_uri": "https://localhost:8080/"
    },
    "id": "KhRpO002egAS",
    "outputId": "878cfbfa-2a1d-4dc6-cb98-5823c953f93a"
   },
   "outputs": [
    {
     "name": "stderr",
     "output_type": "stream",
     "text": [
      "/usr/local/lib/python3.7/dist-packages/ipykernel_launcher.py:1: FutureWarning: In a future version of pandas all arguments of DataFrame.drop except for the argument 'labels' will be keyword-only\n",
      "  \"\"\"Entry point for launching an IPython kernel.\n"
     ]
    }
   ],
   "source": [
    "dfEng.drop(errorjiEng,0,inplace=True)"
   ]
  },
  {
   "cell_type": "code",
   "execution_count": 116,
   "id": "H3CbGc6Wengr",
   "metadata": {
    "colab": {
     "base_uri": "https://localhost:8080/"
    },
    "id": "H3CbGc6Wengr",
    "outputId": "ef519068-ca41-4036-ec10-cfdd3948d118"
   },
   "outputs": [
    {
     "data": {
      "text/plain": [
       "(16715, 2)"
      ]
     },
     "execution_count": 116,
     "metadata": {},
     "output_type": "execute_result"
    }
   ],
   "source": [
    "dfEng.shape"
   ]
  },
  {
   "cell_type": "code",
   "execution_count": 117,
   "id": "chsn504zkoMv",
   "metadata": {
    "id": "chsn504zkoMv"
   },
   "outputs": [],
   "source": [
    "#remove mentions\n",
    "dfEng['Tweet'] = dfEng['Tweet'].apply(lambda x: re.sub(r'#([a-zA-Z0-9_]{1,50})', '', x).strip())"
   ]
  },
  {
   "cell_type": "code",
   "execution_count": 118,
   "id": "KjPo2uBZkoMw",
   "metadata": {
    "id": "KjPo2uBZkoMw"
   },
   "outputs": [],
   "source": [
    "#remove hashtags\n",
    "dfEng['Tweet'] = dfEng['Tweet'].apply(lambda x: re.sub(r'@([a-zA-Z0-9_]{1,50})', '', x).strip())"
   ]
  },
  {
   "cell_type": "code",
   "execution_count": 119,
   "id": "qxQX5zP6koMx",
   "metadata": {
    "id": "qxQX5zP6koMx"
   },
   "outputs": [],
   "source": [
    "#remove emails\n",
    "dfEng['Tweet'] = dfEng['Tweet'].apply(lambda x: re.sub(r'([a-z0-9+._-]+@[a-z0-9+._-]+\\.[a-z0-9+_-]+)', \"\", x))"
   ]
  },
  {
   "cell_type": "code",
   "execution_count": 120,
   "id": "T6McciyJkoMx",
   "metadata": {
    "id": "T6McciyJkoMx"
   },
   "outputs": [],
   "source": [
    "#remove URLs\n",
    "dfEng['Tweet'] = dfEng['Tweet'].apply(lambda x: re.sub(r'(http|https|ftp|ssh)://([\\w_-]+(?:(?:\\.[\\w_-]+)+))([\\w.,@?^=%&:/~+#-]*[\\w@?^=%&/~+#-])?', \"\", x))"
   ]
  },
  {
   "cell_type": "code",
   "execution_count": 121,
   "id": "M3_ADdLckoMx",
   "metadata": {
    "id": "M3_ADdLckoMx"
   },
   "outputs": [],
   "source": [
    "#remove RTs\n",
    "dfEng['Tweet'] = dfEng['Tweet'].apply(lambda x: re.sub(r'\\brt\\b', '', x).strip())"
   ]
  },
  {
   "cell_type": "code",
   "execution_count": 122,
   "id": "A4dlCk7gkoMx",
   "metadata": {
    "id": "A4dlCk7gkoMx"
   },
   "outputs": [],
   "source": [
    "#remove special characters and punctuation\n",
    "dfEng['Tweet'] = dfEng['Tweet'].apply(lambda x: re.sub(r'[^\\w ]+', \"\", x))"
   ]
  },
  {
   "cell_type": "code",
   "execution_count": 123,
   "id": "HcPGMPJeZozJ",
   "metadata": {
    "id": "HcPGMPJeZozJ"
   },
   "outputs": [],
   "source": [
    "#remove multiple spaces\n",
    "dfEng['Tweet'] = dfEng['Tweet'].apply(lambda x: ' '.join(x.split()))"
   ]
  },
  {
   "cell_type": "code",
   "execution_count": 124,
   "id": "ajFKRd5jFtHR",
   "metadata": {
    "id": "ajFKRd5jFtHR"
   },
   "outputs": [],
   "source": [
    "dfEng = dfEng.reset_index(drop=True)"
   ]
  },
  {
   "cell_type": "code",
   "execution_count": 125,
   "id": "3jfUIMX-FtHR",
   "metadata": {
    "id": "3jfUIMX-FtHR"
   },
   "outputs": [],
   "source": [
    "prazniS = []\n",
    "for i in range(len(dfEng['Sentiment'])):\n",
    "  s = dfEng['Sentiment'][i]\n",
    "  if not s:\n",
    "    prazniS.append(i)"
   ]
  },
  {
   "cell_type": "code",
   "execution_count": 126,
   "id": "PKjpRNlAF2I3",
   "metadata": {
    "colab": {
     "base_uri": "https://localhost:8080/"
    },
    "id": "PKjpRNlAF2I3",
    "outputId": "71aaf708-39f3-4377-a472-9ec697668642"
   },
   "outputs": [
    {
     "name": "stderr",
     "output_type": "stream",
     "text": [
      "/usr/local/lib/python3.7/dist-packages/ipykernel_launcher.py:1: FutureWarning: In a future version of pandas all arguments of DataFrame.drop except for the argument 'labels' will be keyword-only\n",
      "  \"\"\"Entry point for launching an IPython kernel.\n"
     ]
    }
   ],
   "source": [
    "dfEng.drop(prazniS,0,inplace=True)"
   ]
  },
  {
   "cell_type": "code",
   "execution_count": 127,
   "id": "2OxQ-dUWF23F",
   "metadata": {
    "id": "2OxQ-dUWF23F"
   },
   "outputs": [],
   "source": [
    "dfEng = dfEng.reset_index(drop=True)"
   ]
  },
  {
   "cell_type": "code",
   "execution_count": 128,
   "id": "0G-mkaxV8_pv",
   "metadata": {
    "id": "0G-mkaxV8_pv"
   },
   "outputs": [],
   "source": [
    "prazniText = []\n",
    "for i in range(len(dfEng['Tweet'])):\n",
    "  s = dfEng['Tweet'][i]\n",
    "  if not s:\n",
    "    prazniText.append(i)"
   ]
  },
  {
   "cell_type": "code",
   "execution_count": 129,
   "id": "ttrewBW29Hd_",
   "metadata": {
    "colab": {
     "base_uri": "https://localhost:8080/"
    },
    "id": "ttrewBW29Hd_",
    "outputId": "983bda1a-882a-4131-9fe1-bb4badca02f7"
   },
   "outputs": [
    {
     "data": {
      "text/plain": [
       "[649, 3490, 11325]"
      ]
     },
     "execution_count": 129,
     "metadata": {},
     "output_type": "execute_result"
    }
   ],
   "source": [
    "prazniText"
   ]
  },
  {
   "cell_type": "code",
   "execution_count": 130,
   "id": "nGdIJTTZ9NvU",
   "metadata": {
    "colab": {
     "base_uri": "https://localhost:8080/"
    },
    "id": "nGdIJTTZ9NvU",
    "outputId": "0d90c8bb-0196-4343-95e4-434786185621"
   },
   "outputs": [
    {
     "name": "stderr",
     "output_type": "stream",
     "text": [
      "/usr/local/lib/python3.7/dist-packages/ipykernel_launcher.py:1: FutureWarning: In a future version of pandas all arguments of DataFrame.drop except for the argument 'labels' will be keyword-only\n",
      "  \"\"\"Entry point for launching an IPython kernel.\n"
     ]
    }
   ],
   "source": [
    "dfEng.drop(prazniText,0,inplace=True)"
   ]
  },
  {
   "cell_type": "code",
   "execution_count": 131,
   "id": "LnU4YDN09S3b",
   "metadata": {
    "id": "LnU4YDN09S3b"
   },
   "outputs": [],
   "source": [
    "dfEng = dfEng.reset_index(drop=True)"
   ]
  },
  {
   "cell_type": "code",
   "execution_count": 134,
   "id": "Tila-fIt-CQk",
   "metadata": {
    "colab": {
     "base_uri": "https://localhost:8080/"
    },
    "id": "Tila-fIt-CQk",
    "outputId": "ae6e7eba-5bfd-4c25-fd33-f573a9671957"
   },
   "outputs": [
    {
     "data": {
      "text/plain": [
       "(16712, 2)"
      ]
     },
     "execution_count": 134,
     "metadata": {},
     "output_type": "execute_result"
    }
   ],
   "source": [
    "dfEng.shape"
   ]
  },
  {
   "cell_type": "code",
   "execution_count": 132,
   "id": "RuTQvABGlIdj",
   "metadata": {
    "colab": {
     "base_uri": "https://localhost:8080/",
     "height": 990
    },
    "id": "RuTQvABGlIdj",
    "outputId": "8b218648-b72a-462e-a801-9ac929035f93"
   },
   "outputs": [
    {
     "data": {
      "text/html": [
       "\n",
       "  <div id=\"df-9461cd91-e1a1-4330-8abb-0932c389129b\">\n",
       "    <div class=\"colab-df-container\">\n",
       "      <div>\n",
       "<style scoped>\n",
       "    .dataframe tbody tr th:only-of-type {\n",
       "        vertical-align: middle;\n",
       "    }\n",
       "\n",
       "    .dataframe tbody tr th {\n",
       "        vertical-align: top;\n",
       "    }\n",
       "\n",
       "    .dataframe thead th {\n",
       "        text-align: right;\n",
       "    }\n",
       "</style>\n",
       "<table border=\"1\" class=\"dataframe\">\n",
       "  <thead>\n",
       "    <tr style=\"text-align: right;\">\n",
       "      <th></th>\n",
       "      <th>Tweet</th>\n",
       "      <th>Sentiment</th>\n",
       "    </tr>\n",
       "  </thead>\n",
       "  <tbody>\n",
       "    <tr>\n",
       "      <th>0</th>\n",
       "      <td>rule never be</td>\n",
       "      <td>Neutral</td>\n",
       "    </tr>\n",
       "    <tr>\n",
       "      <th>1</th>\n",
       "      <td>puff puff pass ya hoe</td>\n",
       "      <td>Negative</td>\n",
       "    </tr>\n",
       "    <tr>\n",
       "      <th>2</th>\n",
       "      <td>0808 mon lit</td>\n",
       "      <td>Neutral</td>\n",
       "    </tr>\n",
       "    <tr>\n",
       "      <th>3</th>\n",
       "      <td>when was this</td>\n",
       "      <td>Neutral</td>\n",
       "    </tr>\n",
       "    <tr>\n",
       "      <th>4</th>\n",
       "      <td>when was this</td>\n",
       "      <td>Neutral</td>\n",
       "    </tr>\n",
       "    <tr>\n",
       "      <th>5</th>\n",
       "      <td>i cant believe mickey mouse had sex with shado...</td>\n",
       "      <td>Neutral</td>\n",
       "    </tr>\n",
       "    <tr>\n",
       "      <th>6</th>\n",
       "      <td>tgim thank god its monday baby</td>\n",
       "      <td>Negative</td>\n",
       "    </tr>\n",
       "    <tr>\n",
       "      <th>7</th>\n",
       "      <td>peace love shea</td>\n",
       "      <td>Neutral</td>\n",
       "    </tr>\n",
       "    <tr>\n",
       "      <th>8</th>\n",
       "      <td>same</td>\n",
       "      <td>Neutral</td>\n",
       "    </tr>\n",
       "    <tr>\n",
       "      <th>9</th>\n",
       "      <td>otaku loving someone who doesnt exist kpop fan...</td>\n",
       "      <td>Negative</td>\n",
       "    </tr>\n",
       "    <tr>\n",
       "      <th>10</th>\n",
       "      <td>otaku loving someone who doesnt exist kpop fan...</td>\n",
       "      <td>Negative</td>\n",
       "    </tr>\n",
       "    <tr>\n",
       "      <th>11</th>\n",
       "      <td>are most of my tweets categorized as white peo...</td>\n",
       "      <td>Negative</td>\n",
       "    </tr>\n",
       "    <tr>\n",
       "      <th>12</th>\n",
       "      <td>are most of my tweets categorized as white peo...</td>\n",
       "      <td>Negative</td>\n",
       "    </tr>\n",
       "    <tr>\n",
       "      <th>13</th>\n",
       "      <td>lol shutup but hmj</td>\n",
       "      <td>Negative</td>\n",
       "    </tr>\n",
       "    <tr>\n",
       "      <th>14</th>\n",
       "      <td>lmao im not this conversation is too great to ...</td>\n",
       "      <td>Positive</td>\n",
       "    </tr>\n",
       "    <tr>\n",
       "      <th>15</th>\n",
       "      <td>i met michael</td>\n",
       "      <td>Positive</td>\n",
       "    </tr>\n",
       "    <tr>\n",
       "      <th>16</th>\n",
       "      <td>i met michael</td>\n",
       "      <td>Neutral</td>\n",
       "    </tr>\n",
       "    <tr>\n",
       "      <th>17</th>\n",
       "      <td>today kylma sota fin hate fuck feroxity in cow...</td>\n",
       "      <td>Negative</td>\n",
       "    </tr>\n",
       "    <tr>\n",
       "      <th>18</th>\n",
       "      <td>i like this photo of us</td>\n",
       "      <td>Positive</td>\n",
       "    </tr>\n",
       "    <tr>\n",
       "      <th>19</th>\n",
       "      <td>cant find shit on tv</td>\n",
       "      <td>Negative</td>\n",
       "    </tr>\n",
       "    <tr>\n",
       "      <th>20</th>\n",
       "      <td>i dont want to go in today i want to sleeppp</td>\n",
       "      <td>Negative</td>\n",
       "    </tr>\n",
       "    <tr>\n",
       "      <th>21</th>\n",
       "      <td>thats human nature</td>\n",
       "      <td>Neutral</td>\n",
       "    </tr>\n",
       "    <tr>\n",
       "      <th>22</th>\n",
       "      <td>psalms 705 but i am poor and needy make haste ...</td>\n",
       "      <td>Negative</td>\n",
       "    </tr>\n",
       "    <tr>\n",
       "      <th>23</th>\n",
       "      <td>and with that being said goodnight</td>\n",
       "      <td>Neutral</td>\n",
       "    </tr>\n",
       "    <tr>\n",
       "      <th>24</th>\n",
       "      <td>and with that being said goodnight</td>\n",
       "      <td>Neutral</td>\n",
       "    </tr>\n",
       "    <tr>\n",
       "      <th>25</th>\n",
       "      <td>i posted a new photo to facebook</td>\n",
       "      <td>Neutral</td>\n",
       "    </tr>\n",
       "    <tr>\n",
       "      <th>26</th>\n",
       "      <td>but youve slipped under my skin invaded my blo...</td>\n",
       "      <td>Neutral</td>\n",
       "    </tr>\n",
       "    <tr>\n",
       "      <th>27</th>\n",
       "      <td>what djs are actually doing vid</td>\n",
       "      <td>Neutral</td>\n",
       "    </tr>\n",
       "    <tr>\n",
       "      <th>28</th>\n",
       "      <td>what djs are actually doing vid</td>\n",
       "      <td>Neutral</td>\n",
       "    </tr>\n",
       "    <tr>\n",
       "      <th>29</th>\n",
       "      <td>heres my 1st official vimeo for you guys defin...</td>\n",
       "      <td>Positive</td>\n",
       "    </tr>\n",
       "  </tbody>\n",
       "</table>\n",
       "</div>\n",
       "      <button class=\"colab-df-convert\" onclick=\"convertToInteractive('df-9461cd91-e1a1-4330-8abb-0932c389129b')\"\n",
       "              title=\"Convert this dataframe to an interactive table.\"\n",
       "              style=\"display:none;\">\n",
       "        \n",
       "  <svg xmlns=\"http://www.w3.org/2000/svg\" height=\"24px\"viewBox=\"0 0 24 24\"\n",
       "       width=\"24px\">\n",
       "    <path d=\"M0 0h24v24H0V0z\" fill=\"none\"/>\n",
       "    <path d=\"M18.56 5.44l.94 2.06.94-2.06 2.06-.94-2.06-.94-.94-2.06-.94 2.06-2.06.94zm-11 1L8.5 8.5l.94-2.06 2.06-.94-2.06-.94L8.5 2.5l-.94 2.06-2.06.94zm10 10l.94 2.06.94-2.06 2.06-.94-2.06-.94-.94-2.06-.94 2.06-2.06.94z\"/><path d=\"M17.41 7.96l-1.37-1.37c-.4-.4-.92-.59-1.43-.59-.52 0-1.04.2-1.43.59L10.3 9.45l-7.72 7.72c-.78.78-.78 2.05 0 2.83L4 21.41c.39.39.9.59 1.41.59.51 0 1.02-.2 1.41-.59l7.78-7.78 2.81-2.81c.8-.78.8-2.07 0-2.86zM5.41 20L4 18.59l7.72-7.72 1.47 1.35L5.41 20z\"/>\n",
       "  </svg>\n",
       "      </button>\n",
       "      \n",
       "  <style>\n",
       "    .colab-df-container {\n",
       "      display:flex;\n",
       "      flex-wrap:wrap;\n",
       "      gap: 12px;\n",
       "    }\n",
       "\n",
       "    .colab-df-convert {\n",
       "      background-color: #E8F0FE;\n",
       "      border: none;\n",
       "      border-radius: 50%;\n",
       "      cursor: pointer;\n",
       "      display: none;\n",
       "      fill: #1967D2;\n",
       "      height: 32px;\n",
       "      padding: 0 0 0 0;\n",
       "      width: 32px;\n",
       "    }\n",
       "\n",
       "    .colab-df-convert:hover {\n",
       "      background-color: #E2EBFA;\n",
       "      box-shadow: 0px 1px 2px rgba(60, 64, 67, 0.3), 0px 1px 3px 1px rgba(60, 64, 67, 0.15);\n",
       "      fill: #174EA6;\n",
       "    }\n",
       "\n",
       "    [theme=dark] .colab-df-convert {\n",
       "      background-color: #3B4455;\n",
       "      fill: #D2E3FC;\n",
       "    }\n",
       "\n",
       "    [theme=dark] .colab-df-convert:hover {\n",
       "      background-color: #434B5C;\n",
       "      box-shadow: 0px 1px 3px 1px rgba(0, 0, 0, 0.15);\n",
       "      filter: drop-shadow(0px 1px 2px rgba(0, 0, 0, 0.3));\n",
       "      fill: #FFFFFF;\n",
       "    }\n",
       "  </style>\n",
       "\n",
       "      <script>\n",
       "        const buttonEl =\n",
       "          document.querySelector('#df-9461cd91-e1a1-4330-8abb-0932c389129b button.colab-df-convert');\n",
       "        buttonEl.style.display =\n",
       "          google.colab.kernel.accessAllowed ? 'block' : 'none';\n",
       "\n",
       "        async function convertToInteractive(key) {\n",
       "          const element = document.querySelector('#df-9461cd91-e1a1-4330-8abb-0932c389129b');\n",
       "          const dataTable =\n",
       "            await google.colab.kernel.invokeFunction('convertToInteractive',\n",
       "                                                     [key], {});\n",
       "          if (!dataTable) return;\n",
       "\n",
       "          const docLinkHtml = 'Like what you see? Visit the ' +\n",
       "            '<a target=\"_blank\" href=https://colab.research.google.com/notebooks/data_table.ipynb>data table notebook</a>'\n",
       "            + ' to learn more about interactive tables.';\n",
       "          element.innerHTML = '';\n",
       "          dataTable['output_type'] = 'display_data';\n",
       "          await google.colab.output.renderOutput(dataTable, element);\n",
       "          const docLink = document.createElement('div');\n",
       "          docLink.innerHTML = docLinkHtml;\n",
       "          element.appendChild(docLink);\n",
       "        }\n",
       "      </script>\n",
       "    </div>\n",
       "  </div>\n",
       "  "
      ],
      "text/plain": [
       "                                                Tweet Sentiment\n",
       "0                                       rule never be   Neutral\n",
       "1                               puff puff pass ya hoe  Negative\n",
       "2                                        0808 mon lit   Neutral\n",
       "3                                       when was this   Neutral\n",
       "4                                       when was this   Neutral\n",
       "5   i cant believe mickey mouse had sex with shado...   Neutral\n",
       "6                      tgim thank god its monday baby  Negative\n",
       "7                                     peace love shea   Neutral\n",
       "8                                                same   Neutral\n",
       "9   otaku loving someone who doesnt exist kpop fan...  Negative\n",
       "10  otaku loving someone who doesnt exist kpop fan...  Negative\n",
       "11  are most of my tweets categorized as white peo...  Negative\n",
       "12  are most of my tweets categorized as white peo...  Negative\n",
       "13                                 lol shutup but hmj  Negative\n",
       "14  lmao im not this conversation is too great to ...  Positive\n",
       "15                                      i met michael  Positive\n",
       "16                                      i met michael   Neutral\n",
       "17  today kylma sota fin hate fuck feroxity in cow...  Negative\n",
       "18                            i like this photo of us  Positive\n",
       "19                               cant find shit on tv  Negative\n",
       "20       i dont want to go in today i want to sleeppp  Negative\n",
       "21                                 thats human nature   Neutral\n",
       "22  psalms 705 but i am poor and needy make haste ...  Negative\n",
       "23                 and with that being said goodnight   Neutral\n",
       "24                 and with that being said goodnight   Neutral\n",
       "25                   i posted a new photo to facebook   Neutral\n",
       "26  but youve slipped under my skin invaded my blo...   Neutral\n",
       "27                    what djs are actually doing vid   Neutral\n",
       "28                    what djs are actually doing vid   Neutral\n",
       "29  heres my 1st official vimeo for you guys defin...  Positive"
      ]
     },
     "execution_count": 132,
     "metadata": {},
     "output_type": "execute_result"
    }
   ],
   "source": [
    "dfEng.head(30)"
   ]
  },
  {
   "cell_type": "code",
   "execution_count": 133,
   "id": "OMK9IXZ5eoqB",
   "metadata": {
    "colab": {
     "base_uri": "https://localhost:8080/",
     "height": 17
    },
    "id": "OMK9IXZ5eoqB",
    "outputId": "5449b969-55df-406b-ad28-1ddaf12fade3"
   },
   "outputs": [
    {
     "data": {
      "application/javascript": [
       "\n",
       "    async function download(id, filename, size) {\n",
       "      if (!google.colab.kernel.accessAllowed) {\n",
       "        return;\n",
       "      }\n",
       "      const div = document.createElement('div');\n",
       "      const label = document.createElement('label');\n",
       "      label.textContent = `Downloading \"${filename}\": `;\n",
       "      div.appendChild(label);\n",
       "      const progress = document.createElement('progress');\n",
       "      progress.max = size;\n",
       "      div.appendChild(progress);\n",
       "      document.body.appendChild(div);\n",
       "\n",
       "      const buffers = [];\n",
       "      let downloaded = 0;\n",
       "\n",
       "      const channel = await google.colab.kernel.comms.open(id);\n",
       "      // Send a message to notify the kernel that we're ready.\n",
       "      channel.send({})\n",
       "\n",
       "      for await (const message of channel.messages) {\n",
       "        // Send a message to notify the kernel that we're ready.\n",
       "        channel.send({})\n",
       "        if (message.buffers) {\n",
       "          for (const buffer of message.buffers) {\n",
       "            buffers.push(buffer);\n",
       "            downloaded += buffer.byteLength;\n",
       "            progress.value = downloaded;\n",
       "          }\n",
       "        }\n",
       "      }\n",
       "      const blob = new Blob(buffers, {type: 'application/binary'});\n",
       "      const a = document.createElement('a');\n",
       "      a.href = window.URL.createObjectURL(blob);\n",
       "      a.download = filename;\n",
       "      div.appendChild(a);\n",
       "      a.click();\n",
       "      div.remove();\n",
       "    }\n",
       "  "
      ],
      "text/plain": [
       "<IPython.core.display.Javascript object>"
      ]
     },
     "metadata": {},
     "output_type": "display_data"
    },
    {
     "data": {
      "application/javascript": [
       "download(\"download_26077d0e-208c-4347-8ad4-516168a6db43\", \"sentTweetsEng.csv\", 1063871)"
      ],
      "text/plain": [
       "<IPython.core.display.Javascript object>"
      ]
     },
     "metadata": {},
     "output_type": "display_data"
    }
   ],
   "source": [
    "dfEng.to_csv('sentTweetsEng.csv', encoding = 'utf-8-sig', index=False) \n",
    "files.download('sentTweetsEng.csv')"
   ]
  }
 ],
 "metadata": {
  "colab": {
   "collapsed_sections": [],
   "name": "Getting_the_data_Sentiment.ipynb",
   "provenance": []
  },
  "kernelspec": {
   "display_name": "Python 3 (ipykernel)",
   "language": "python",
   "name": "python3"
  },
  "language_info": {
   "codemirror_mode": {
    "name": "ipython",
    "version": 3
   },
   "file_extension": ".py",
   "mimetype": "text/x-python",
   "name": "python",
   "nbconvert_exporter": "python",
   "pygments_lexer": "ipython3",
   "version": "3.9.7"
  }
 },
 "nbformat": 4,
 "nbformat_minor": 5
}
