{
 "cells": [
  {
   "cell_type": "code",
   "execution_count": 1,
   "id": "3dfba5d9",
   "metadata": {},
   "outputs": [],
   "source": [
    "import pandas as pd\n",
    "dfSest = pd.read_csv('dvaSestnajst-crosloengualBERT-hatespeech.csv')"
   ]
  },
  {
   "cell_type": "code",
   "execution_count": 2,
   "id": "feddf0ca",
   "metadata": {},
   "outputs": [
    {
     "data": {
      "text/plain": [
       "nesovrazni    13435\n",
       "sovrazni       1289\n",
       "Name: hs, dtype: int64"
      ]
     },
     "execution_count": 2,
     "metadata": {},
     "output_type": "execute_result"
    }
   ],
   "source": [
    "dfSest['hs'].value_counts()"
   ]
  },
  {
   "cell_type": "code",
   "execution_count": 3,
   "id": "f1143d08",
   "metadata": {},
   "outputs": [
    {
     "data": {
      "text/plain": [
       "M    11709\n",
       "F     3015\n",
       "Name: spol, dtype: int64"
      ]
     },
     "execution_count": 3,
     "metadata": {},
     "output_type": "execute_result"
    }
   ],
   "source": [
    "dfSest['spol'].value_counts()"
   ]
  },
  {
   "cell_type": "code",
   "execution_count": 4,
   "id": "0418b968",
   "metadata": {},
   "outputs": [
    {
     "data": {
      "text/plain": [
       "SMC       4458\n",
       "SD        2714\n",
       "DeSUS     2625\n",
       "SDS       1897\n",
       "Levica     868\n",
       "NSi        769\n",
       "Name: stranka, dtype: int64"
      ]
     },
     "execution_count": 4,
     "metadata": {},
     "output_type": "execute_result"
    }
   ],
   "source": [
    "dfSest['stranka'].value_counts()"
   ]
  },
  {
   "cell_type": "code",
   "execution_count": 5,
   "id": "bdf517e6",
   "metadata": {},
   "outputs": [
    {
     "data": {
      "text/plain": [
       "1967    3324\n",
       "1947    2158\n",
       "1980    1573\n",
       "-\\n      942\n",
       "1971     850\n",
       "1955     466\n",
       "1972     423\n",
       "1969     360\n",
       "1962     349\n",
       "1960     340\n",
       "1970     327\n",
       "1983     322\n",
       "1963     251\n",
       "1961     234\n",
       "1987     222\n",
       "1956     211\n",
       "1957     207\n",
       "1978     202\n",
       "1965     173\n",
       "1973     170\n",
       "1976     167\n",
       "1959     163\n",
       "1989     162\n",
       "1990     155\n",
       "1985      93\n",
       "1979      88\n",
       "1958      85\n",
       "1954      68\n",
       "1952      68\n",
       "1953      67\n",
       "1946      66\n",
       "1964      62\n",
       "1975      60\n",
       "1968      55\n",
       "1944      52\n",
       "1981      51\n",
       "1974      43\n",
       "1949      41\n",
       "1982      39\n",
       "1951      34\n",
       "1950       1\n",
       "Name: rojstvo, dtype: int64"
      ]
     },
     "execution_count": 5,
     "metadata": {},
     "output_type": "execute_result"
    }
   ],
   "source": [
    "dfSest['rojstvo'].value_counts()"
   ]
  },
  {
   "cell_type": "code",
   "execution_count": 6,
   "id": "39eb2fdc",
   "metadata": {},
   "outputs": [],
   "source": [
    "sovrazniSest = dfSest[dfSest['hs']=='sovrazni']"
   ]
  },
  {
   "cell_type": "code",
   "execution_count": 7,
   "id": "ad33bf80",
   "metadata": {},
   "outputs": [
    {
     "data": {
      "text/html": [
       "<div>\n",
       "<style scoped>\n",
       "    .dataframe tbody tr th:only-of-type {\n",
       "        vertical-align: middle;\n",
       "    }\n",
       "\n",
       "    .dataframe tbody tr th {\n",
       "        vertical-align: top;\n",
       "    }\n",
       "\n",
       "    .dataframe thead th {\n",
       "        text-align: right;\n",
       "    }\n",
       "</style>\n",
       "<table border=\"1\" class=\"dataframe\">\n",
       "  <thead>\n",
       "    <tr style=\"text-align: right;\">\n",
       "      <th></th>\n",
       "      <th>text</th>\n",
       "      <th>leto</th>\n",
       "      <th>mesec</th>\n",
       "      <th>rojstvo</th>\n",
       "      <th>stranka</th>\n",
       "      <th>spol</th>\n",
       "      <th>hs</th>\n",
       "    </tr>\n",
       "  </thead>\n",
       "  <tbody>\n",
       "    <tr>\n",
       "      <th>8537</th>\n",
       "      <td>sledi predstavitev stališč poslanskih skupin. ...</td>\n",
       "      <td>2016</td>\n",
       "      <td>7</td>\n",
       "      <td>1967</td>\n",
       "      <td>SMC</td>\n",
       "      <td>M</td>\n",
       "      <td>sovrazni</td>\n",
       "    </tr>\n",
       "    <tr>\n",
       "      <th>548</th>\n",
       "      <td>spoštovani kolegice in kolegi! spoštovana pred...</td>\n",
       "      <td>2016</td>\n",
       "      <td>1</td>\n",
       "      <td>1985</td>\n",
       "      <td>NSi</td>\n",
       "      <td>M</td>\n",
       "      <td>sovrazni</td>\n",
       "    </tr>\n",
       "    <tr>\n",
       "      <th>13939</th>\n",
       "      <td>hvala, spoštovani gospod podpredsednik. najpre...</td>\n",
       "      <td>2016</td>\n",
       "      <td>12</td>\n",
       "      <td>1961</td>\n",
       "      <td>SDS</td>\n",
       "      <td>M</td>\n",
       "      <td>sovrazni</td>\n",
       "    </tr>\n",
       "    <tr>\n",
       "      <th>369</th>\n",
       "      <td>predsedujoči, hvala lepa za besedo. sistem def...</td>\n",
       "      <td>2016</td>\n",
       "      <td>1</td>\n",
       "      <td>1989</td>\n",
       "      <td>Levica</td>\n",
       "      <td>M</td>\n",
       "      <td>sovrazni</td>\n",
       "    </tr>\n",
       "    <tr>\n",
       "      <th>3360</th>\n",
       "      <td>besedo ima poslanska skupina slovenske demokra...</td>\n",
       "      <td>2016</td>\n",
       "      <td>3</td>\n",
       "      <td>1967</td>\n",
       "      <td>SMC</td>\n",
       "      <td>M</td>\n",
       "      <td>sovrazni</td>\n",
       "    </tr>\n",
       "  </tbody>\n",
       "</table>\n",
       "</div>"
      ],
      "text/plain": [
       "                                                    text  leto  mesec rojstvo  \\\n",
       "8537   sledi predstavitev stališč poslanskih skupin. ...  2016      7    1967   \n",
       "548    spoštovani kolegice in kolegi! spoštovana pred...  2016      1    1985   \n",
       "13939  hvala, spoštovani gospod podpredsednik. najpre...  2016     12    1961   \n",
       "369    predsedujoči, hvala lepa za besedo. sistem def...  2016      1    1989   \n",
       "3360   besedo ima poslanska skupina slovenske demokra...  2016      3    1967   \n",
       "\n",
       "      stranka spol        hs  \n",
       "8537      SMC    M  sovrazni  \n",
       "548       NSi    M  sovrazni  \n",
       "13939     SDS    M  sovrazni  \n",
       "369    Levica    M  sovrazni  \n",
       "3360      SMC    M  sovrazni  "
      ]
     },
     "execution_count": 7,
     "metadata": {},
     "output_type": "execute_result"
    }
   ],
   "source": [
    "sovrazniSest.sample(5)"
   ]
  },
  {
   "cell_type": "code",
   "execution_count": 8,
   "id": "6f170399",
   "metadata": {},
   "outputs": [
    {
     "data": {
      "text/plain": [
       "M    1090\n",
       "F     199\n",
       "Name: spol, dtype: int64"
      ]
     },
     "execution_count": 8,
     "metadata": {},
     "output_type": "execute_result"
    }
   ],
   "source": [
    "sovrazniSest['spol'].value_counts()"
   ]
  },
  {
   "cell_type": "code",
   "execution_count": 9,
   "id": "56f2f896",
   "metadata": {},
   "outputs": [
    {
     "data": {
      "text/plain": [
       "1967    642\n",
       "1980    111\n",
       "-\\n     105\n",
       "1947     41\n",
       "1971     34\n",
       "1972     32\n",
       "1983     30\n",
       "1960     28\n",
       "1987     23\n",
       "1970     21\n",
       "1961     19\n",
       "1962     16\n",
       "1957     16\n",
       "1989     15\n",
       "1969     14\n",
       "1963     14\n",
       "1955     13\n",
       "1959     11\n",
       "1965     11\n",
       "1973     11\n",
       "1985      9\n",
       "1956      9\n",
       "1974      7\n",
       "1978      7\n",
       "1981      6\n",
       "1990      6\n",
       "1949      6\n",
       "1976      5\n",
       "1953      5\n",
       "1958      4\n",
       "1964      4\n",
       "1946      3\n",
       "1975      3\n",
       "1954      3\n",
       "1968      1\n",
       "1944      1\n",
       "1979      1\n",
       "1952      1\n",
       "1982      1\n",
       "Name: rojstvo, dtype: int64"
      ]
     },
     "execution_count": 9,
     "metadata": {},
     "output_type": "execute_result"
    }
   ],
   "source": [
    "sovrazniSest['rojstvo'].value_counts()"
   ]
  },
  {
   "cell_type": "code",
   "execution_count": 10,
   "id": "d79c94bc",
   "metadata": {},
   "outputs": [
    {
     "data": {
      "text/plain": [
       "SMC       712\n",
       "SD        172\n",
       "SDS        94\n",
       "NSi        63\n",
       "Levica     60\n",
       "DeSUS      57\n",
       "Name: stranka, dtype: int64"
      ]
     },
     "execution_count": 10,
     "metadata": {},
     "output_type": "execute_result"
    }
   ],
   "source": [
    "sovrazniSest['stranka'].value_counts()"
   ]
  },
  {
   "cell_type": "code",
   "execution_count": 24,
   "id": "839373f2",
   "metadata": {},
   "outputs": [
    {
     "data": {
      "text/plain": [
       "'gospa levičar, jaz, ko smo govorili o posvojitvah, ste oziroma so kimali tudi ostali poslanci, da so zdaj že možne posvojitve, vi ste govorila o bioloških starših, torej, da je eden biološki in potem partner posvoji tega otroka. jaz se sprašujem, ali v temu zakonu piše, da dva istospolna ne moreta, torej vsak za sebe ali pa najprej recimo eden, posvojiti otroka, ki ni biološki. ki ni biološki. ne govorim o bioloških. torej poroka dveh partnerjev, moški moški, ženska ženska, saj je vseeno, eden posvoji otroka. zdaj mi govorite, da je to čisto neko drugo vprašanje, jaz mislim, da ste me narobe razumeli. jaz še enkrat govorim, možne so posvojitve. kot piše v tretji točki . člena partnerja partnerske zveze ne moreta skupaj posvojiti otroka. lahko pa ga po zzzdr vsak za sebe. tako kot kimajo v koaliciji. torej ne mi govoriti, da niso možne, gospa levičar, posvojitve. so možne, tudi otrok, katerih starša v partnerski skupnosti nista biološka starša. kimajo koalicijski poslanci. zdaj, če vam pa niso pravilno razložili zakona, jih pa zdaj še enkrat vprašajte.'"
      ]
     },
     "execution_count": 24,
     "metadata": {},
     "output_type": "execute_result"
    }
   ],
   "source": [
    "dfSest.iloc[937]['text']"
   ]
  },
  {
   "cell_type": "code",
   "execution_count": 11,
   "id": "b9bb5c4b",
   "metadata": {},
   "outputs": [
    {
     "data": {
      "text/html": [
       "<div>\n",
       "<style scoped>\n",
       "    .dataframe tbody tr th:only-of-type {\n",
       "        vertical-align: middle;\n",
       "    }\n",
       "\n",
       "    .dataframe tbody tr th {\n",
       "        vertical-align: top;\n",
       "    }\n",
       "\n",
       "    .dataframe thead th {\n",
       "        text-align: right;\n",
       "    }\n",
       "</style>\n",
       "<table border=\"1\" class=\"dataframe\">\n",
       "  <thead>\n",
       "    <tr style=\"text-align: right;\">\n",
       "      <th></th>\n",
       "      <th>text</th>\n",
       "      <th>leto</th>\n",
       "      <th>mesec</th>\n",
       "      <th>rojstvo</th>\n",
       "      <th>stranka</th>\n",
       "      <th>spol</th>\n",
       "      <th>hs</th>\n",
       "    </tr>\n",
       "  </thead>\n",
       "  <tbody>\n",
       "    <tr>\n",
       "      <th>14033</th>\n",
       "      <td>besedo ima gospod jožef horvat.</td>\n",
       "      <td>2016</td>\n",
       "      <td>12</td>\n",
       "      <td>1967</td>\n",
       "      <td>SMC</td>\n",
       "      <td>M</td>\n",
       "      <td>nesovrazni</td>\n",
       "    </tr>\n",
       "    <tr>\n",
       "      <th>4901</th>\n",
       "      <td>dve dejstvi. prvo, razlaga drugega odstavka . ...</td>\n",
       "      <td>2016</td>\n",
       "      <td>5</td>\n",
       "      <td>1967</td>\n",
       "      <td>SMC</td>\n",
       "      <td>M</td>\n",
       "      <td>nesovrazni</td>\n",
       "    </tr>\n",
       "    <tr>\n",
       "      <th>13905</th>\n",
       "      <td>najlepša hvala za besedo, predsedujoči. jaz mo...</td>\n",
       "      <td>2016</td>\n",
       "      <td>12</td>\n",
       "      <td>1979</td>\n",
       "      <td>SDS</td>\n",
       "      <td>F</td>\n",
       "      <td>nesovrazni</td>\n",
       "    </tr>\n",
       "    <tr>\n",
       "      <th>12595</th>\n",
       "      <td>hvala za besedo in lep pozdrav v imenu poslans...</td>\n",
       "      <td>2016</td>\n",
       "      <td>11</td>\n",
       "      <td>1960</td>\n",
       "      <td>SD</td>\n",
       "      <td>M</td>\n",
       "      <td>nesovrazni</td>\n",
       "    </tr>\n",
       "    <tr>\n",
       "      <th>13596</th>\n",
       "      <td>spoštovane kolegice poslanke, kolegi poslanci,...</td>\n",
       "      <td>2016</td>\n",
       "      <td>12</td>\n",
       "      <td>1947</td>\n",
       "      <td>DeSUS</td>\n",
       "      <td>M</td>\n",
       "      <td>nesovrazni</td>\n",
       "    </tr>\n",
       "  </tbody>\n",
       "</table>\n",
       "</div>"
      ],
      "text/plain": [
       "                                                    text  leto  mesec rojstvo  \\\n",
       "14033                    besedo ima gospod jožef horvat.  2016     12    1967   \n",
       "4901   dve dejstvi. prvo, razlaga drugega odstavka . ...  2016      5    1967   \n",
       "13905  najlepša hvala za besedo, predsedujoči. jaz mo...  2016     12    1979   \n",
       "12595  hvala za besedo in lep pozdrav v imenu poslans...  2016     11    1960   \n",
       "13596  spoštovane kolegice poslanke, kolegi poslanci,...  2016     12    1947   \n",
       "\n",
       "      stranka spol          hs  \n",
       "14033     SMC    M  nesovrazni  \n",
       "4901      SMC    M  nesovrazni  \n",
       "13905     SDS    F  nesovrazni  \n",
       "12595      SD    M  nesovrazni  \n",
       "13596   DeSUS    M  nesovrazni  "
      ]
     },
     "execution_count": 11,
     "metadata": {},
     "output_type": "execute_result"
    }
   ],
   "source": [
    "nesovrazniSest = dfSest[dfSest['hs']=='nesovrazni']\n",
    "nesovrazniSest.sample(5)"
   ]
  },
  {
   "cell_type": "code",
   "execution_count": 28,
   "id": "4ff22a0c",
   "metadata": {},
   "outputs": [
    {
     "data": {
      "text/plain": [
       "'spoštovani predsedujoči, spoštovani prisotni, gospa poslanka! gre zagotovo za eno od bolj aktualnih in zelo pomembnih vprašanj, s katerimi se srečujemo ne le v izobraževanju, ampak sicer v družbi. zato smo tudi v tem mandatu na ministrstvu temu področju, torej področju razvoja nadarjenih najprej pa seveda identifikacija nadarjenih in sistemske umestitve reševanja nadarjenih posvetili že kar nekaj pozornosti. na zavodu za šolstvo republike slovenije je bila v preteklem letu imenovana delovna skupina za pripravo posodobitve koncepta za odkrivanje in delo z nadarjenimi. to se nanaša na odgovor na vaše vprašanje, ali se nam zdi koncept iz leta še dovoljšen, še dovolj osmišljen tudi glede na spremenjene razmere. odgovor je, da je delovna skupina že pripravila predloge in ta koncept bo jeseni tudi predlagan v sprejetje strokovnemu svetu republike slovenije za splošno izobraževanje. gre za skupino, ki so jo sestavili svetovalci zavoda republike slovenije za šolstvo ter visokošolski strokovnjaki s tega področja. vemo, da se posamezne šole, ravnatelji in tudi drugi strokovnjaki v okviru različnih institutov že aktivno ukvarjajo s tem področjem, tudi iz razloga spremenjenih razmer delovanja v družbi in spremenjenih konceptov odkrivanja ne le na strokovni, ampak tudi na dejanski izvedbeni ravni in pri delu z nadarjenimi. bistvena novost oziroma smer razvoja in razmisleka je, da predlog koncepta vsebuje prepoznavanje in odkrivanje nadarjenih, predvsem pa modele podpore znotraj rednega pouka nadarjenim ter na nek način obogatitveni programi oziroma aktivnosti, ki identificirajo oziroma lahko tudi vnaprej usmerjajo nadarjene v njihov kurikularni in karierni razvoj. znotraj pouka, ta razmislek predvideva tudi inkluzivno izobraževalno delo z nadarjenimi, personalizacijo učenja in utemeljenost pričakovanj, načinov in metod dela z nadarjenimi. gre za širše razmišljanje, ki bo moralo imeti potem tudi ustrezno udejanjenje. kot veste in kot ste tudi že sami omenili, prav v okviru izvajanja ukrepov, to je predvsem znotraj koncepta inovativnih učnih okolij, je to eden od primerov preverjanja in tudi usmerjanja tovrstne konceptov, pri čemer se bo v kurikulum oziroma tudi z opiranjem na zunanje deležnike šol pomembno lahko razvijalo nove pristope kot način ustvarjanja tistih podpornih okolij, ki na nek način odkrivajo, usmerjajo in potem tudi spodbujajo razvoj nadarjenih. tisto, kar smo še storili v zadnjem času na ministrstvu, je tudi zelo zanimiv projekt, ki je dal tudi številne podlage za ta konceptualni razmislek, to je znanje za prihodnost, ki smo ga izvajali do leta . vanj je bilo vključenih kar nekaj šol, trinajst srednjih šol, tudi različni instituti, kot so raziskovalne ustanove, tudi raziskovalni inštituti. to je bil recimo primer, kako se spodbuja raziskovanje, znanstveno delo motiviranih dijakov ter hkrati tudi odkriva njihove nadarjenosti in talente. ker pa je bilo tovrstnih projektov kar nekaj, sistemske obogatitve pa so tiste, ki kličejo po razvoju, pa smo v zadnjem času s predstavniki centra za spodbujanje in razvoj nadarjenosti na pedagoški fakulteti ter že omenjenega zavoda republike slovenije za šolstvo, zvezo za tehnično kulturo slovenije, društvom matematikov in fizikov in tako naprej strnili vrste ter pogledali ta koncept nadarjenih. vidimo, da je v resnici tista prava sistemska rešitev v gradnji podpornih okolij. od tod tudi pospešeno pripravljanje ukrepa koncepta inovativnih učnih okolij kot vrste financiranja znotraj kohezijskih virov in da gremo v tako imenovano mrežo regionalnih točk, ki delujejo kot podporna enota tistim, ki želijo usmerjati ta razvoj, predvsem razvoj nadarjenih mladostnikov s pomočjo ustreznih podpornih institucij, tudi javnih zavodov, bodisi raziskovalnih bodisi visokošolskih, tudi višješolskih in ukrepov, ki dajejo analitično strokovno podporo, predvsem sprotno ocenjevanje, tudi evalvacijo za to, da lahko lažje, tudi bolj sistematično gradimo celovit pristop najprej odkrivanja, potem pa usmerjanja podpore nadarjenih. gre za zelo pomembno temo, ki pa je ne moremo posodobiti čez noč, kot temu rečemo, ampak premišljeno in tudi v duhu potreb, ki jih ti mladi mladostniki imajo drugačne, kot so bile nekoč. hvala.'"
      ]
     },
     "execution_count": 28,
     "metadata": {},
     "output_type": "execute_result"
    }
   ],
   "source": [
    "dfSest.iloc[2082]['text']"
   ]
  },
  {
   "cell_type": "code",
   "execution_count": 12,
   "id": "11c3b7dd",
   "metadata": {},
   "outputs": [],
   "source": [
    "dfSedem = pd.read_csv('dvaSedemnajst-crosloengualBERT-hatespeech.csv')"
   ]
  },
  {
   "cell_type": "code",
   "execution_count": 13,
   "id": "229891d2",
   "metadata": {},
   "outputs": [
    {
     "data": {
      "text/plain": [
       "nesovrazni    12327\n",
       "sovrazni       1244\n",
       "Name: hs, dtype: int64"
      ]
     },
     "execution_count": 13,
     "metadata": {},
     "output_type": "execute_result"
    }
   ],
   "source": [
    "dfSedem['hs'].value_counts()"
   ]
  },
  {
   "cell_type": "code",
   "execution_count": 67,
   "id": "037953c6",
   "metadata": {},
   "outputs": [
    {
     "data": {
      "text/plain": [
       "M    11468\n",
       "F     2103\n",
       "Name: spol, dtype: int64"
      ]
     },
     "execution_count": 67,
     "metadata": {},
     "output_type": "execute_result"
    }
   ],
   "source": [
    "dfSedem['spol'].value_counts()"
   ]
  },
  {
   "cell_type": "code",
   "execution_count": 68,
   "id": "b681dd5f",
   "metadata": {},
   "outputs": [
    {
     "data": {
      "text/plain": [
       "SMC       4198\n",
       "DeSUS     2503\n",
       "SD        2413\n",
       "SDS       1523\n",
       "Levica     865\n",
       "NSi        752\n",
       "Name: stranka, dtype: int64"
      ]
     },
     "execution_count": 68,
     "metadata": {},
     "output_type": "execute_result"
    }
   ],
   "source": [
    "dfSedem['stranka'].value_counts()"
   ]
  },
  {
   "cell_type": "code",
   "execution_count": 69,
   "id": "d9407961",
   "metadata": {},
   "outputs": [
    {
     "data": {
      "text/plain": [
       "1967    3059\n",
       "1947    2106\n",
       "1980    2006\n",
       "-\\n      969\n",
       "1969     427\n",
       "1955     414\n",
       "1972     317\n",
       "1970     285\n",
       "1983     264\n",
       "1960     263\n",
       "1962     243\n",
       "1989     227\n",
       "1987     217\n",
       "1957     209\n",
       "1963     196\n",
       "1961     195\n",
       "1956     189\n",
       "1978     184\n",
       "1965     183\n",
       "1990     159\n",
       "1971     158\n",
       "1958     142\n",
       "1959     139\n",
       "1976     126\n",
       "1973     109\n",
       "1952      78\n",
       "1953      76\n",
       "1974      62\n",
       "1985      61\n",
       "1944      60\n",
       "1954      59\n",
       "1981      56\n",
       "1946      54\n",
       "1964      50\n",
       "1968      49\n",
       "1975      41\n",
       "1979      39\n",
       "1949      33\n",
       "1982      31\n",
       "1951      24\n",
       "1950      12\n",
       "Name: rojstvo, dtype: int64"
      ]
     },
     "execution_count": 69,
     "metadata": {},
     "output_type": "execute_result"
    }
   ],
   "source": [
    "dfSedem['rojstvo'].value_counts()"
   ]
  },
  {
   "cell_type": "code",
   "execution_count": 17,
   "id": "7d9d524a",
   "metadata": {},
   "outputs": [],
   "source": [
    "sovrazniSedem = dfSedem[dfSedem['hs']=='sovrazni']"
   ]
  },
  {
   "cell_type": "code",
   "execution_count": 18,
   "id": "69154e56",
   "metadata": {},
   "outputs": [
    {
     "data": {
      "text/html": [
       "<div>\n",
       "<style scoped>\n",
       "    .dataframe tbody tr th:only-of-type {\n",
       "        vertical-align: middle;\n",
       "    }\n",
       "\n",
       "    .dataframe tbody tr th {\n",
       "        vertical-align: top;\n",
       "    }\n",
       "\n",
       "    .dataframe thead th {\n",
       "        text-align: right;\n",
       "    }\n",
       "</style>\n",
       "<table border=\"1\" class=\"dataframe\">\n",
       "  <thead>\n",
       "    <tr style=\"text-align: right;\">\n",
       "      <th></th>\n",
       "      <th>text</th>\n",
       "      <th>leto</th>\n",
       "      <th>mesec</th>\n",
       "      <th>rojstvo</th>\n",
       "      <th>stranka</th>\n",
       "      <th>spol</th>\n",
       "      <th>hs</th>\n",
       "    </tr>\n",
       "  </thead>\n",
       "  <tbody>\n",
       "    <tr>\n",
       "      <th>5477</th>\n",
       "      <td>besedo ima poslanska skupina slovenske demokra...</td>\n",
       "      <td>2017</td>\n",
       "      <td>5</td>\n",
       "      <td>1967</td>\n",
       "      <td>SMC</td>\n",
       "      <td>M</td>\n",
       "      <td>sovrazni</td>\n",
       "    </tr>\n",
       "    <tr>\n",
       "      <th>9093</th>\n",
       "      <td>spoštovani podpredsednik, spoštovana državna s...</td>\n",
       "      <td>2017</td>\n",
       "      <td>9</td>\n",
       "      <td>1955</td>\n",
       "      <td>SMC</td>\n",
       "      <td>F</td>\n",
       "      <td>sovrazni</td>\n",
       "    </tr>\n",
       "    <tr>\n",
       "      <th>3103</th>\n",
       "      <td>besedo ima sedaj gospa suzana lep šimenko. pri...</td>\n",
       "      <td>2017</td>\n",
       "      <td>3</td>\n",
       "      <td>1967</td>\n",
       "      <td>SMC</td>\n",
       "      <td>M</td>\n",
       "      <td>sovrazni</td>\n",
       "    </tr>\n",
       "    <tr>\n",
       "      <th>1126</th>\n",
       "      <td>spoštovani predsednik državnega zbora, spoštov...</td>\n",
       "      <td>2017</td>\n",
       "      <td>2</td>\n",
       "      <td>-\\n</td>\n",
       "      <td>NaN</td>\n",
       "      <td>M</td>\n",
       "      <td>sovrazni</td>\n",
       "    </tr>\n",
       "    <tr>\n",
       "      <th>10877</th>\n",
       "      <td>prehajamo v sklepni del splošne razprave, v ka...</td>\n",
       "      <td>2017</td>\n",
       "      <td>11</td>\n",
       "      <td>1967</td>\n",
       "      <td>SMC</td>\n",
       "      <td>M</td>\n",
       "      <td>sovrazni</td>\n",
       "    </tr>\n",
       "  </tbody>\n",
       "</table>\n",
       "</div>"
      ],
      "text/plain": [
       "                                                    text  leto  mesec rojstvo  \\\n",
       "5477   besedo ima poslanska skupina slovenske demokra...  2017      5    1967   \n",
       "9093   spoštovani podpredsednik, spoštovana državna s...  2017      9    1955   \n",
       "3103   besedo ima sedaj gospa suzana lep šimenko. pri...  2017      3    1967   \n",
       "1126   spoštovani predsednik državnega zbora, spoštov...  2017      2     -\\n   \n",
       "10877  prehajamo v sklepni del splošne razprave, v ka...  2017     11    1967   \n",
       "\n",
       "      stranka spol        hs  \n",
       "5477      SMC    M  sovrazni  \n",
       "9093      SMC    F  sovrazni  \n",
       "3103      SMC    M  sovrazni  \n",
       "1126      NaN    M  sovrazni  \n",
       "10877     SMC    M  sovrazni  "
      ]
     },
     "execution_count": 18,
     "metadata": {},
     "output_type": "execute_result"
    }
   ],
   "source": [
    "sovrazniSedem.sample(5)"
   ]
  },
  {
   "cell_type": "code",
   "execution_count": 19,
   "id": "0aa713a6",
   "metadata": {},
   "outputs": [
    {
     "data": {
      "text/plain": [
       "M    1072\n",
       "F     172\n",
       "Name: spol, dtype: int64"
      ]
     },
     "execution_count": 19,
     "metadata": {},
     "output_type": "execute_result"
    }
   ],
   "source": [
    "sovrazniSedem['spol'].value_counts()"
   ]
  },
  {
   "cell_type": "code",
   "execution_count": 20,
   "id": "b9a633fb",
   "metadata": {},
   "outputs": [
    {
     "data": {
      "text/plain": [
       "SMC       674\n",
       "SD        197\n",
       "SDS        83\n",
       "DeSUS      65\n",
       "NSi        57\n",
       "Levica     56\n",
       "Name: stranka, dtype: int64"
      ]
     },
     "execution_count": 20,
     "metadata": {},
     "output_type": "execute_result"
    }
   ],
   "source": [
    "sovrazniSedem['stranka'].value_counts()"
   ]
  },
  {
   "cell_type": "code",
   "execution_count": 21,
   "id": "18666139",
   "metadata": {},
   "outputs": [
    {
     "data": {
      "text/plain": [
       "1967    593\n",
       "1980    160\n",
       "-\\n      94\n",
       "1947     52\n",
       "1972     26\n",
       "1969     24\n",
       "1989     24\n",
       "1957     22\n",
       "1983     20\n",
       "1960     20\n",
       "1987     19\n",
       "1958     17\n",
       "1970     14\n",
       "1956     14\n",
       "1961     14\n",
       "1963     13\n",
       "1962     12\n",
       "1978     11\n",
       "1959     11\n",
       "1955     10\n",
       "1971      9\n",
       "1990      9\n",
       "1974      7\n",
       "1973      7\n",
       "1981      6\n",
       "1985      5\n",
       "1965      5\n",
       "1976      4\n",
       "1979      4\n",
       "1954      3\n",
       "1953      2\n",
       "1944      2\n",
       "1949      2\n",
       "1946      2\n",
       "1964      2\n",
       "1950      2\n",
       "1975      1\n",
       "1968      1\n",
       "1951      1\n",
       "Name: rojstvo, dtype: int64"
      ]
     },
     "execution_count": 21,
     "metadata": {},
     "output_type": "execute_result"
    }
   ],
   "source": [
    "sovrazniSedem['rojstvo'].value_counts()"
   ]
  },
  {
   "cell_type": "code",
   "execution_count": 35,
   "id": "98c4c007",
   "metadata": {},
   "outputs": [
    {
     "data": {
      "text/plain": [
       "'kakšno vezo ima to s postopkovnim?'"
      ]
     },
     "execution_count": 35,
     "metadata": {},
     "output_type": "execute_result"
    }
   ],
   "source": [
    "dfSedem.iloc[2768]['text']"
   ]
  },
  {
   "cell_type": "code",
   "execution_count": 22,
   "id": "280fdda5",
   "metadata": {},
   "outputs": [],
   "source": [
    "nesovrazniSedem = dfSedem[dfSedem['hs']=='nesovrazni']"
   ]
  },
  {
   "cell_type": "code",
   "execution_count": 23,
   "id": "284abde9",
   "metadata": {},
   "outputs": [
    {
     "data": {
      "text/html": [
       "<div>\n",
       "<style scoped>\n",
       "    .dataframe tbody tr th:only-of-type {\n",
       "        vertical-align: middle;\n",
       "    }\n",
       "\n",
       "    .dataframe tbody tr th {\n",
       "        vertical-align: top;\n",
       "    }\n",
       "\n",
       "    .dataframe thead th {\n",
       "        text-align: right;\n",
       "    }\n",
       "</style>\n",
       "<table border=\"1\" class=\"dataframe\">\n",
       "  <thead>\n",
       "    <tr style=\"text-align: right;\">\n",
       "      <th></th>\n",
       "      <th>text</th>\n",
       "      <th>leto</th>\n",
       "      <th>mesec</th>\n",
       "      <th>rojstvo</th>\n",
       "      <th>stranka</th>\n",
       "      <th>spol</th>\n",
       "      <th>hs</th>\n",
       "    </tr>\n",
       "  </thead>\n",
       "  <tbody>\n",
       "    <tr>\n",
       "      <th>3006</th>\n",
       "      <td>hvala lepa, gospod podpredsednik. spoštovane p...</td>\n",
       "      <td>2017</td>\n",
       "      <td>3</td>\n",
       "      <td>-\\n</td>\n",
       "      <td>NaN</td>\n",
       "      <td>M</td>\n",
       "      <td>nesovrazni</td>\n",
       "    </tr>\n",
       "    <tr>\n",
       "      <th>5402</th>\n",
       "      <td>spoštovani gospod predsednik državnega zbora, ...</td>\n",
       "      <td>2017</td>\n",
       "      <td>5</td>\n",
       "      <td>-\\n</td>\n",
       "      <td>NaN</td>\n",
       "      <td>F</td>\n",
       "      <td>nesovrazni</td>\n",
       "    </tr>\n",
       "    <tr>\n",
       "      <th>6353</th>\n",
       "      <td>mag. julijana bizjak mlakar bo predstavila sta...</td>\n",
       "      <td>2017</td>\n",
       "      <td>6</td>\n",
       "      <td>1980</td>\n",
       "      <td>SD</td>\n",
       "      <td>M</td>\n",
       "      <td>nesovrazni</td>\n",
       "    </tr>\n",
       "    <tr>\n",
       "      <th>4577</th>\n",
       "      <td>hvala za besedo. spoštovane poslanke, spoštova...</td>\n",
       "      <td>2017</td>\n",
       "      <td>5</td>\n",
       "      <td>1944</td>\n",
       "      <td>DeSUS</td>\n",
       "      <td>F</td>\n",
       "      <td>nesovrazni</td>\n",
       "    </tr>\n",
       "    <tr>\n",
       "      <th>10408</th>\n",
       "      <td>replika, gospa anja bah žibert, kako ne, izvol...</td>\n",
       "      <td>2017</td>\n",
       "      <td>10</td>\n",
       "      <td>1980</td>\n",
       "      <td>SD</td>\n",
       "      <td>M</td>\n",
       "      <td>nesovrazni</td>\n",
       "    </tr>\n",
       "  </tbody>\n",
       "</table>\n",
       "</div>"
      ],
      "text/plain": [
       "                                                    text  leto  mesec rojstvo  \\\n",
       "3006   hvala lepa, gospod podpredsednik. spoštovane p...  2017      3     -\\n   \n",
       "5402   spoštovani gospod predsednik državnega zbora, ...  2017      5     -\\n   \n",
       "6353   mag. julijana bizjak mlakar bo predstavila sta...  2017      6    1980   \n",
       "4577   hvala za besedo. spoštovane poslanke, spoštova...  2017      5    1944   \n",
       "10408  replika, gospa anja bah žibert, kako ne, izvol...  2017     10    1980   \n",
       "\n",
       "      stranka spol          hs  \n",
       "3006      NaN    M  nesovrazni  \n",
       "5402      NaN    F  nesovrazni  \n",
       "6353       SD    M  nesovrazni  \n",
       "4577    DeSUS    F  nesovrazni  \n",
       "10408      SD    M  nesovrazni  "
      ]
     },
     "execution_count": 23,
     "metadata": {},
     "output_type": "execute_result"
    }
   ],
   "source": [
    "nesovrazniSedem.sample(5)"
   ]
  },
  {
   "cell_type": "code",
   "execution_count": 38,
   "id": "c1fa3d7e",
   "metadata": {},
   "outputs": [
    {
     "data": {
      "text/plain": [
       "'končali smo s predstavitvijo stališč poslanskih skupin. o predlogu sklepa, da predlog zakona ni primeren za nadaljnjo obravnavo, bomo v skladu s časovnim potekom seje zbora odločali jutri, . . , v okviru glasovanj. s tem prekinjam to točko dnevnega reda. prehajamo na . točko dnevnega reda prva obravnava predloga zakona o spremembah zakona o glavnem mestu republike slovenije. predlog zakona je v obravnavo državnemu zboru predložila vlada. v zvezi s tem predlogom zakona je skupina poslank in poslancev s prvopodpisanim gospodom jožetom tankom zahtevala, da državni zbor opravi splošno razpravo. za dopolnilno obrazložitev predloga zakona dajem besedo predstavniku vlade, državnemu sekretarju na ministrstvu za javno upravo dr. nejcu brezovarju.'"
      ]
     },
     "execution_count": 38,
     "metadata": {},
     "output_type": "execute_result"
    }
   ],
   "source": [
    "dfSedem.iloc[2006]['text']"
   ]
  },
  {
   "cell_type": "code",
   "execution_count": 24,
   "id": "6c3f4993",
   "metadata": {},
   "outputs": [
    {
     "data": {
      "text/plain": [
       "nesovrazni    7817\n",
       "sovrazni       698\n",
       "Name: hs, dtype: int64"
      ]
     },
     "execution_count": 24,
     "metadata": {},
     "output_type": "execute_result"
    }
   ],
   "source": [
    "dfOsem = pd.read_csv('dvaOsemnajst-crosloengualBERT-hatespeech.csv')\n",
    "dfOsem['hs'].value_counts()"
   ]
  },
  {
   "cell_type": "code",
   "execution_count": 70,
   "id": "9aefe618",
   "metadata": {},
   "outputs": [
    {
     "data": {
      "text/plain": [
       "M    6864\n",
       "F    1651\n",
       "Name: spol, dtype: int64"
      ]
     },
     "execution_count": 70,
     "metadata": {},
     "output_type": "execute_result"
    }
   ],
   "source": [
    "dfOsem['spol'].value_counts()"
   ]
  },
  {
   "cell_type": "code",
   "execution_count": 71,
   "id": "2f7f0b46",
   "metadata": {},
   "outputs": [
    {
     "data": {
      "text/plain": [
       "SMC       1551\n",
       "SD        1537\n",
       "DeSUS     1349\n",
       "SDS       1318\n",
       "LMŠ        722\n",
       "NSi        630\n",
       "Levica     487\n",
       "SAB        132\n",
       "SNS        102\n",
       "Name: stranka, dtype: int64"
      ]
     },
     "execution_count": 71,
     "metadata": {},
     "output_type": "execute_result"
    }
   ],
   "source": [
    "dfOsem['stranka'].value_counts()"
   ]
  },
  {
   "cell_type": "code",
   "execution_count": 72,
   "id": "08d9f1e1",
   "metadata": {},
   "outputs": [
    {
     "data": {
      "text/plain": [
       "1967    1655\n",
       "1980     667\n",
       "1947     626\n",
       "1953     541\n",
       "1986     528\n",
       "-\\n      509\n",
       "1956     497\n",
       "1983     290\n",
       "1969     239\n",
       "1962     230\n",
       "1955     223\n",
       "1972     192\n",
       "1965     163\n",
       "1960     152\n",
       "1987     143\n",
       "1978     131\n",
       "1959     125\n",
       "1963     123\n",
       "1970     115\n",
       "1990     109\n",
       "1974     105\n",
       "1971      96\n",
       "1961      95\n",
       "1979      85\n",
       "1973      84\n",
       "1958      84\n",
       "1957      80\n",
       "1989      70\n",
       "1976      65\n",
       "1964      58\n",
       "1952      48\n",
       "1985      46\n",
       "1968      45\n",
       "1977      44\n",
       "1975      38\n",
       "1948      37\n",
       "1984      32\n",
       "1945      28\n",
       "1954      26\n",
       "1944      21\n",
       "1981      21\n",
       "1946      18\n",
       "1982      10\n",
       "1949       9\n",
       "1951       9\n",
       "1950       3\n",
       "Name: rojstvo, dtype: int64"
      ]
     },
     "execution_count": 72,
     "metadata": {},
     "output_type": "execute_result"
    }
   ],
   "source": [
    "dfOsem['rojstvo'].value_counts()"
   ]
  },
  {
   "cell_type": "code",
   "execution_count": 29,
   "id": "9e6e6ee9",
   "metadata": {},
   "outputs": [],
   "source": [
    "sovrazniOsem = dfOsem[dfOsem['hs']=='sovrazni']"
   ]
  },
  {
   "cell_type": "code",
   "execution_count": 31,
   "id": "bda88fbd",
   "metadata": {},
   "outputs": [
    {
     "data": {
      "text/html": [
       "<div>\n",
       "<style scoped>\n",
       "    .dataframe tbody tr th:only-of-type {\n",
       "        vertical-align: middle;\n",
       "    }\n",
       "\n",
       "    .dataframe tbody tr th {\n",
       "        vertical-align: top;\n",
       "    }\n",
       "\n",
       "    .dataframe thead th {\n",
       "        text-align: right;\n",
       "    }\n",
       "</style>\n",
       "<table border=\"1\" class=\"dataframe\">\n",
       "  <thead>\n",
       "    <tr style=\"text-align: right;\">\n",
       "      <th></th>\n",
       "      <th>text</th>\n",
       "      <th>leto</th>\n",
       "      <th>mesec</th>\n",
       "      <th>rojstvo</th>\n",
       "      <th>stranka</th>\n",
       "      <th>spol</th>\n",
       "      <th>hs</th>\n",
       "    </tr>\n",
       "  </thead>\n",
       "  <tbody>\n",
       "    <tr>\n",
       "      <th>6464</th>\n",
       "      <td>spoštovani predsedujoči, hvala za besedo. vsi ...</td>\n",
       "      <td>2018</td>\n",
       "      <td>11</td>\n",
       "      <td>1974</td>\n",
       "      <td>Levica</td>\n",
       "      <td>M</td>\n",
       "      <td>sovrazni</td>\n",
       "    </tr>\n",
       "    <tr>\n",
       "      <th>3108</th>\n",
       "      <td>ceneni kolegice, kolegi, državljanke in državl...</td>\n",
       "      <td>2018</td>\n",
       "      <td>3</td>\n",
       "      <td>1967</td>\n",
       "      <td>SMC</td>\n",
       "      <td>M</td>\n",
       "      <td>sovrazni</td>\n",
       "    </tr>\n",
       "    <tr>\n",
       "      <th>3477</th>\n",
       "      <td>sledi predstavitev stališč poslanskih skupin. ...</td>\n",
       "      <td>2018</td>\n",
       "      <td>4</td>\n",
       "      <td>1967</td>\n",
       "      <td>SMC</td>\n",
       "      <td>M</td>\n",
       "      <td>sovrazni</td>\n",
       "    </tr>\n",
       "    <tr>\n",
       "      <th>3710</th>\n",
       "      <td>besedo ima poslanska skupina demokratične stra...</td>\n",
       "      <td>2018</td>\n",
       "      <td>4</td>\n",
       "      <td>1967</td>\n",
       "      <td>SMC</td>\n",
       "      <td>M</td>\n",
       "      <td>sovrazni</td>\n",
       "    </tr>\n",
       "    <tr>\n",
       "      <th>6450</th>\n",
       "      <td>poslušam in gledam razpravo koalicijskih posla...</td>\n",
       "      <td>2018</td>\n",
       "      <td>11</td>\n",
       "      <td>1983</td>\n",
       "      <td>NSi</td>\n",
       "      <td>M</td>\n",
       "      <td>sovrazni</td>\n",
       "    </tr>\n",
       "  </tbody>\n",
       "</table>\n",
       "</div>"
      ],
      "text/plain": [
       "                                                   text  leto  mesec rojstvo  \\\n",
       "6464  spoštovani predsedujoči, hvala za besedo. vsi ...  2018     11    1974   \n",
       "3108  ceneni kolegice, kolegi, državljanke in državl...  2018      3    1967   \n",
       "3477  sledi predstavitev stališč poslanskih skupin. ...  2018      4    1967   \n",
       "3710  besedo ima poslanska skupina demokratične stra...  2018      4    1967   \n",
       "6450  poslušam in gledam razpravo koalicijskih posla...  2018     11    1983   \n",
       "\n",
       "     stranka spol        hs  \n",
       "6464  Levica    M  sovrazni  \n",
       "3108     SMC    M  sovrazni  \n",
       "3477     SMC    M  sovrazni  \n",
       "3710     SMC    M  sovrazni  \n",
       "6450     NSi    M  sovrazni  "
      ]
     },
     "execution_count": 31,
     "metadata": {},
     "output_type": "execute_result"
    }
   ],
   "source": [
    "sovrazniOsem.sample(5)"
   ]
  },
  {
   "cell_type": "code",
   "execution_count": 32,
   "id": "94dfbca0",
   "metadata": {},
   "outputs": [
    {
     "data": {
      "text/plain": [
       "M    566\n",
       "F    132\n",
       "Name: spol, dtype: int64"
      ]
     },
     "execution_count": 32,
     "metadata": {},
     "output_type": "execute_result"
    }
   ],
   "source": [
    "sovrazniOsem['spol'].value_counts()"
   ]
  },
  {
   "cell_type": "code",
   "execution_count": 33,
   "id": "9d92325d",
   "metadata": {},
   "outputs": [
    {
     "data": {
      "text/plain": [
       "SMC       246\n",
       "SD        111\n",
       "NSi        72\n",
       "SDS        64\n",
       "DeSUS      43\n",
       "Levica     32\n",
       "LMŠ        31\n",
       "SAB        12\n",
       "SNS         6\n",
       "Name: stranka, dtype: int64"
      ]
     },
     "execution_count": 33,
     "metadata": {},
     "output_type": "execute_result"
    }
   ],
   "source": [
    "sovrazniOsem['stranka'].value_counts()"
   ]
  },
  {
   "cell_type": "code",
   "execution_count": 34,
   "id": "10ab6afb",
   "metadata": {},
   "outputs": [
    {
     "data": {
      "text/plain": [
       "1967    226\n",
       "1980     70\n",
       "-\\n      67\n",
       "1983     54\n",
       "1956     22\n",
       "1986     21\n",
       "1962     18\n",
       "1960     15\n",
       "1961     14\n",
       "1947     14\n",
       "1974     14\n",
       "1972     13\n",
       "1963     12\n",
       "1953     10\n",
       "1969     10\n",
       "1987      9\n",
       "1965      8\n",
       "1970      8\n",
       "1957      7\n",
       "1976      6\n",
       "1990      6\n",
       "1964      6\n",
       "1959      6\n",
       "1989      5\n",
       "1979      5\n",
       "1978      5\n",
       "1958      5\n",
       "1955      5\n",
       "1975      4\n",
       "1945      4\n",
       "1973      4\n",
       "1952      4\n",
       "1985      4\n",
       "1971      3\n",
       "1946      2\n",
       "1944      2\n",
       "1977      2\n",
       "1948      1\n",
       "1968      1\n",
       "1954      1\n",
       "1951      1\n",
       "1984      1\n",
       "1950      1\n",
       "1949      1\n",
       "1981      1\n",
       "Name: rojstvo, dtype: int64"
      ]
     },
     "execution_count": 34,
     "metadata": {},
     "output_type": "execute_result"
    }
   ],
   "source": [
    "sovrazniOsem['rojstvo'].value_counts()"
   ]
  },
  {
   "cell_type": "code",
   "execution_count": 54,
   "id": "ebfd5f12",
   "metadata": {},
   "outputs": [
    {
     "data": {
      "text/plain": [
       "'nisem tega rekel. jaz sem samo prosil za lepše izrazoslovje, če zmorete.'"
      ]
     },
     "execution_count": 54,
     "metadata": {},
     "output_type": "execute_result"
    }
   ],
   "source": [
    "dfOsem.iloc[2340]['text']"
   ]
  },
  {
   "cell_type": "code",
   "execution_count": 35,
   "id": "5da4d41e",
   "metadata": {},
   "outputs": [],
   "source": [
    "nesovrazniOsem = dfOsem[dfOsem['hs']=='nesovrazni']"
   ]
  },
  {
   "cell_type": "code",
   "execution_count": 36,
   "id": "cd6acb9e",
   "metadata": {},
   "outputs": [
    {
     "data": {
      "text/html": [
       "<div>\n",
       "<style scoped>\n",
       "    .dataframe tbody tr th:only-of-type {\n",
       "        vertical-align: middle;\n",
       "    }\n",
       "\n",
       "    .dataframe tbody tr th {\n",
       "        vertical-align: top;\n",
       "    }\n",
       "\n",
       "    .dataframe thead th {\n",
       "        text-align: right;\n",
       "    }\n",
       "</style>\n",
       "<table border=\"1\" class=\"dataframe\">\n",
       "  <thead>\n",
       "    <tr style=\"text-align: right;\">\n",
       "      <th></th>\n",
       "      <th>text</th>\n",
       "      <th>leto</th>\n",
       "      <th>mesec</th>\n",
       "      <th>rojstvo</th>\n",
       "      <th>stranka</th>\n",
       "      <th>spol</th>\n",
       "      <th>hs</th>\n",
       "    </tr>\n",
       "  </thead>\n",
       "  <tbody>\n",
       "    <tr>\n",
       "      <th>6779</th>\n",
       "      <td>hvala, gospod poslanec. gospod matjaž han, bes...</td>\n",
       "      <td>2018</td>\n",
       "      <td>12</td>\n",
       "      <td>1967</td>\n",
       "      <td>SD</td>\n",
       "      <td>M</td>\n",
       "      <td>nesovrazni</td>\n",
       "    </tr>\n",
       "    <tr>\n",
       "      <th>6758</th>\n",
       "      <td>hvala za besedo. danes smo nekajkrat slišali p...</td>\n",
       "      <td>2018</td>\n",
       "      <td>11</td>\n",
       "      <td>1952</td>\n",
       "      <td>SAB</td>\n",
       "      <td>M</td>\n",
       "      <td>nesovrazni</td>\n",
       "    </tr>\n",
       "    <tr>\n",
       "      <th>3466</th>\n",
       "      <td>spoštovani predsednik, še enkrat hvala za bese...</td>\n",
       "      <td>2018</td>\n",
       "      <td>4</td>\n",
       "      <td>1975</td>\n",
       "      <td>SMC</td>\n",
       "      <td>F</td>\n",
       "      <td>nesovrazni</td>\n",
       "    </tr>\n",
       "    <tr>\n",
       "      <th>946</th>\n",
       "      <td>spoštovani poslanec tonin, žal mi je, da nimam...</td>\n",
       "      <td>2018</td>\n",
       "      <td>2</td>\n",
       "      <td>1963</td>\n",
       "      <td>SMC</td>\n",
       "      <td>M</td>\n",
       "      <td>nesovrazni</td>\n",
       "    </tr>\n",
       "    <tr>\n",
       "      <th>3879</th>\n",
       "      <td>besedo ima gospa irena grošelj košnik, priprav...</td>\n",
       "      <td>2018</td>\n",
       "      <td>5</td>\n",
       "      <td>1980</td>\n",
       "      <td>SD</td>\n",
       "      <td>M</td>\n",
       "      <td>nesovrazni</td>\n",
       "    </tr>\n",
       "  </tbody>\n",
       "</table>\n",
       "</div>"
      ],
      "text/plain": [
       "                                                   text  leto  mesec rojstvo  \\\n",
       "6779  hvala, gospod poslanec. gospod matjaž han, bes...  2018     12    1967   \n",
       "6758  hvala za besedo. danes smo nekajkrat slišali p...  2018     11    1952   \n",
       "3466  spoštovani predsednik, še enkrat hvala za bese...  2018      4    1975   \n",
       "946   spoštovani poslanec tonin, žal mi je, da nimam...  2018      2    1963   \n",
       "3879  besedo ima gospa irena grošelj košnik, priprav...  2018      5    1980   \n",
       "\n",
       "     stranka spol          hs  \n",
       "6779      SD    M  nesovrazni  \n",
       "6758     SAB    M  nesovrazni  \n",
       "3466     SMC    F  nesovrazni  \n",
       "946      SMC    M  nesovrazni  \n",
       "3879      SD    M  nesovrazni  "
      ]
     },
     "execution_count": 36,
     "metadata": {},
     "output_type": "execute_result"
    }
   ],
   "source": [
    "nesovrazniOsem.sample(5)"
   ]
  },
  {
   "cell_type": "code",
   "execution_count": 37,
   "id": "c082ff7f",
   "metadata": {},
   "outputs": [
    {
     "data": {
      "text/plain": [
       "M    6298\n",
       "F    1519\n",
       "Name: spol, dtype: int64"
      ]
     },
     "execution_count": 37,
     "metadata": {},
     "output_type": "execute_result"
    }
   ],
   "source": [
    "nesovrazniOsem['spol'].value_counts()"
   ]
  },
  {
   "cell_type": "code",
   "execution_count": 38,
   "id": "cc32f319",
   "metadata": {},
   "outputs": [
    {
     "data": {
      "text/plain": [
       "SD        1426\n",
       "DeSUS     1306\n",
       "SMC       1305\n",
       "SDS       1254\n",
       "LMŠ        691\n",
       "NSi        558\n",
       "Levica     455\n",
       "SAB        120\n",
       "SNS         96\n",
       "Name: stranka, dtype: int64"
      ]
     },
     "execution_count": 38,
     "metadata": {},
     "output_type": "execute_result"
    }
   ],
   "source": [
    "nesovrazniOsem['stranka'].value_counts()"
   ]
  },
  {
   "cell_type": "code",
   "execution_count": 39,
   "id": "9446a011",
   "metadata": {},
   "outputs": [
    {
     "data": {
      "text/plain": [
       "1967    1429\n",
       "1947     612\n",
       "1980     597\n",
       "1953     531\n",
       "1986     507\n",
       "1956     475\n",
       "-\\n      442\n",
       "1983     236\n",
       "1969     229\n",
       "1955     218\n",
       "1962     212\n",
       "1972     179\n",
       "1965     155\n",
       "1960     137\n",
       "1987     134\n",
       "1978     126\n",
       "1959     119\n",
       "1963     111\n",
       "1970     107\n",
       "1990     103\n",
       "1971      93\n",
       "1974      91\n",
       "1961      81\n",
       "1973      80\n",
       "1979      80\n",
       "1958      79\n",
       "1957      73\n",
       "1989      65\n",
       "1976      59\n",
       "1964      52\n",
       "1952      44\n",
       "1968      44\n",
       "1985      42\n",
       "1977      42\n",
       "1948      36\n",
       "1975      34\n",
       "1984      31\n",
       "1954      25\n",
       "1945      24\n",
       "1981      20\n",
       "1944      19\n",
       "1946      16\n",
       "1982      10\n",
       "1949       8\n",
       "1951       8\n",
       "1950       2\n",
       "Name: rojstvo, dtype: int64"
      ]
     },
     "execution_count": 39,
     "metadata": {},
     "output_type": "execute_result"
    }
   ],
   "source": [
    "nesovrazniOsem['rojstvo'].value_counts()"
   ]
  },
  {
   "cell_type": "code",
   "execution_count": 55,
   "id": "bced7f8a",
   "metadata": {},
   "outputs": [
    {
     "data": {
      "text/plain": [
       "'gospod minister boštjan poklukar, imate besedo za odgovor.'"
      ]
     },
     "execution_count": 55,
     "metadata": {},
     "output_type": "execute_result"
    }
   ],
   "source": [
    "dfOsem.iloc[2578]['text']"
   ]
  },
  {
   "cell_type": "code",
   "execution_count": 40,
   "id": "48df7e71",
   "metadata": {},
   "outputs": [
    {
     "data": {
      "text/plain": [
       "nesovrazni    11312\n",
       "sovrazni        565\n",
       "Name: hs, dtype: int64"
      ]
     },
     "execution_count": 40,
     "metadata": {},
     "output_type": "execute_result"
    }
   ],
   "source": [
    "dfDevet = pd.read_csv('dvaDevetnajst-crosloengualBERT-hatespeech.csv')\n",
    "dfDevet['hs'].value_counts()"
   ]
  },
  {
   "cell_type": "code",
   "execution_count": 73,
   "id": "770cdd10",
   "metadata": {},
   "outputs": [
    {
     "data": {
      "text/plain": [
       "M    9076\n",
       "F    2801\n",
       "Name: spol, dtype: int64"
      ]
     },
     "execution_count": 73,
     "metadata": {},
     "output_type": "execute_result"
    }
   ],
   "source": [
    "dfDevet['spol'].value_counts()"
   ]
  },
  {
   "cell_type": "code",
   "execution_count": 74,
   "id": "bcae30cd",
   "metadata": {},
   "outputs": [
    {
     "data": {
      "text/plain": [
       "SDS       2606\n",
       "SD        2329\n",
       "LMŠ       1728\n",
       "DeSUS     1618\n",
       "Levica     799\n",
       "SMC        448\n",
       "NSi        428\n",
       "SAB        398\n",
       "SNS        301\n",
       "Name: stranka, dtype: int64"
      ]
     },
     "execution_count": 74,
     "metadata": {},
     "output_type": "execute_result"
    }
   ],
   "source": [
    "dfDevet['stranka'].value_counts()"
   ]
  },
  {
   "cell_type": "code",
   "execution_count": 75,
   "id": "77ff74c2",
   "metadata": {},
   "outputs": [
    {
     "data": {
      "text/plain": [
       "1967    2046\n",
       "1956    1513\n",
       "1953    1430\n",
       "1986    1356\n",
       "-\\n      777\n",
       "1969     418\n",
       "1962     383\n",
       "1980     312\n",
       "1970     261\n",
       "1979     257\n",
       "1972     249\n",
       "1960     224\n",
       "1974     222\n",
       "1989     209\n",
       "1973     196\n",
       "1977     164\n",
       "1987     159\n",
       "1978     147\n",
       "1955     136\n",
       "1958     134\n",
       "1990     126\n",
       "1959     109\n",
       "1952     108\n",
       "1983      92\n",
       "1964      90\n",
       "1975      82\n",
       "1957      78\n",
       "1965      78\n",
       "1976      76\n",
       "1971      69\n",
       "1963      64\n",
       "1984      62\n",
       "1968      54\n",
       "1961      53\n",
       "1948      52\n",
       "1991      39\n",
       "1985      29\n",
       "1954      21\n",
       "1966       2\n",
       "Name: rojstvo, dtype: int64"
      ]
     },
     "execution_count": 75,
     "metadata": {},
     "output_type": "execute_result"
    }
   ],
   "source": [
    "dfDevet['rojstvo'].value_counts()"
   ]
  },
  {
   "cell_type": "code",
   "execution_count": 44,
   "id": "58049a93",
   "metadata": {},
   "outputs": [],
   "source": [
    "sovrazniDevet = dfDevet[dfDevet['hs']=='sovrazni']"
   ]
  },
  {
   "cell_type": "code",
   "execution_count": 45,
   "id": "6ebd6c58",
   "metadata": {},
   "outputs": [
    {
     "data": {
      "text/html": [
       "<div>\n",
       "<style scoped>\n",
       "    .dataframe tbody tr th:only-of-type {\n",
       "        vertical-align: middle;\n",
       "    }\n",
       "\n",
       "    .dataframe tbody tr th {\n",
       "        vertical-align: top;\n",
       "    }\n",
       "\n",
       "    .dataframe thead th {\n",
       "        text-align: right;\n",
       "    }\n",
       "</style>\n",
       "<table border=\"1\" class=\"dataframe\">\n",
       "  <thead>\n",
       "    <tr style=\"text-align: right;\">\n",
       "      <th></th>\n",
       "      <th>text</th>\n",
       "      <th>leto</th>\n",
       "      <th>mesec</th>\n",
       "      <th>rojstvo</th>\n",
       "      <th>stranka</th>\n",
       "      <th>spol</th>\n",
       "      <th>hs</th>\n",
       "    </tr>\n",
       "  </thead>\n",
       "  <tbody>\n",
       "    <tr>\n",
       "      <th>11847</th>\n",
       "      <td>hvala lepa za besedo, gospod predsednik. lep p...</td>\n",
       "      <td>2019</td>\n",
       "      <td>12</td>\n",
       "      <td>1953</td>\n",
       "      <td>DeSUS</td>\n",
       "      <td>M</td>\n",
       "      <td>sovrazni</td>\n",
       "    </tr>\n",
       "    <tr>\n",
       "      <th>3695</th>\n",
       "      <td>spoštovani minister, hvala lepa za korekten od...</td>\n",
       "      <td>2019</td>\n",
       "      <td>5</td>\n",
       "      <td>1979</td>\n",
       "      <td>SAB</td>\n",
       "      <td>M</td>\n",
       "      <td>sovrazni</td>\n",
       "    </tr>\n",
       "    <tr>\n",
       "      <th>750</th>\n",
       "      <td>hvala lepa za besedo, gospod podpredsednik. ti...</td>\n",
       "      <td>2019</td>\n",
       "      <td>1</td>\n",
       "      <td>1967</td>\n",
       "      <td>SD</td>\n",
       "      <td>M</td>\n",
       "      <td>sovrazni</td>\n",
       "    </tr>\n",
       "    <tr>\n",
       "      <th>11645</th>\n",
       "      <td>hvala za besedo, spoštovani podpredsednik. spo...</td>\n",
       "      <td>2019</td>\n",
       "      <td>12</td>\n",
       "      <td>1980</td>\n",
       "      <td>SD</td>\n",
       "      <td>F</td>\n",
       "      <td>sovrazni</td>\n",
       "    </tr>\n",
       "    <tr>\n",
       "      <th>10513</th>\n",
       "      <td>hvala, predsednik, za besedo. spoštovani! skoz...</td>\n",
       "      <td>2019</td>\n",
       "      <td>11</td>\n",
       "      <td>1952</td>\n",
       "      <td>SAB</td>\n",
       "      <td>M</td>\n",
       "      <td>sovrazni</td>\n",
       "    </tr>\n",
       "  </tbody>\n",
       "</table>\n",
       "</div>"
      ],
      "text/plain": [
       "                                                    text  leto  mesec rojstvo  \\\n",
       "11847  hvala lepa za besedo, gospod predsednik. lep p...  2019     12    1953   \n",
       "3695   spoštovani minister, hvala lepa za korekten od...  2019      5    1979   \n",
       "750    hvala lepa za besedo, gospod podpredsednik. ti...  2019      1    1967   \n",
       "11645  hvala za besedo, spoštovani podpredsednik. spo...  2019     12    1980   \n",
       "10513  hvala, predsednik, za besedo. spoštovani! skoz...  2019     11    1952   \n",
       "\n",
       "      stranka spol        hs  \n",
       "11847   DeSUS    M  sovrazni  \n",
       "3695      SAB    M  sovrazni  \n",
       "750        SD    M  sovrazni  \n",
       "11645      SD    F  sovrazni  \n",
       "10513     SAB    M  sovrazni  "
      ]
     },
     "execution_count": 45,
     "metadata": {},
     "output_type": "execute_result"
    }
   ],
   "source": [
    "sovrazniDevet.sample(5)"
   ]
  },
  {
   "cell_type": "code",
   "execution_count": 46,
   "id": "101da229",
   "metadata": {},
   "outputs": [
    {
     "data": {
      "text/plain": [
       "M    420\n",
       "F    145\n",
       "Name: spol, dtype: int64"
      ]
     },
     "execution_count": 46,
     "metadata": {},
     "output_type": "execute_result"
    }
   ],
   "source": [
    "sovrazniDevet['spol'].value_counts()"
   ]
  },
  {
   "cell_type": "code",
   "execution_count": 47,
   "id": "1a55c720",
   "metadata": {},
   "outputs": [
    {
     "data": {
      "text/plain": [
       "SDS       89\n",
       "SD        71\n",
       "Levica    61\n",
       "LMŠ       51\n",
       "SMC       44\n",
       "DeSUS     40\n",
       "NSi       31\n",
       "SAB       30\n",
       "SNS       15\n",
       "Name: stranka, dtype: int64"
      ]
     },
     "execution_count": 47,
     "metadata": {},
     "output_type": "execute_result"
    }
   ],
   "source": [
    "sovrazniDevet['stranka'].value_counts()"
   ]
  },
  {
   "cell_type": "code",
   "execution_count": 48,
   "id": "1d47dd19",
   "metadata": {},
   "outputs": [
    {
     "data": {
      "text/plain": [
       "-\\n     90\n",
       "1967    38\n",
       "1962    36\n",
       "1969    30\n",
       "1979    27\n",
       "1960    26\n",
       "1980    24\n",
       "1974    24\n",
       "1989    23\n",
       "1956    21\n",
       "1972    20\n",
       "1953    17\n",
       "1986    16\n",
       "1970    16\n",
       "1958    13\n",
       "1977    13\n",
       "1952    12\n",
       "1973    10\n",
       "1990    10\n",
       "1957    10\n",
       "1971     9\n",
       "1964     9\n",
       "1987     8\n",
       "1978     8\n",
       "1961     8\n",
       "1965     7\n",
       "1983     7\n",
       "1959     7\n",
       "1975     5\n",
       "1976     4\n",
       "1984     3\n",
       "1963     3\n",
       "1954     3\n",
       "1985     3\n",
       "1948     2\n",
       "1991     2\n",
       "1968     1\n",
       "Name: rojstvo, dtype: int64"
      ]
     },
     "execution_count": 48,
     "metadata": {},
     "output_type": "execute_result"
    }
   ],
   "source": [
    "sovrazniDevet['rojstvo'].value_counts()"
   ]
  },
  {
   "cell_type": "code",
   "execution_count": 59,
   "id": "b23c1168",
   "metadata": {},
   "outputs": [
    {
     "data": {
      "text/plain": [
       "'hvala lepa, predsednik. jaz sem optimist, verjamem v moč parlamentarne razprave, kar pomeni, da so poslanci samostojne osebe, ki se, ko sedejo za poslanske klopi, odločijo na podlagi argumentov, ne pa na podlagi partijske discipline oziroma na podlagi tega, ker jim izvršilna veja oblasti zaukaže. parlamentarna veja oblasti je druga veja oblasti in mislim, da se moramo poslanci tega zelo dobro zavedati. praktično iz vseh poslanskih skupin sem slišal pritrdilo temu, da so invalidske pokojnine prenizke, praktično od vseh. bilo je veliko zamegljevanja in iskanja razlogov, zakaj nekega predloga ne bi potrdili, ampak v glavnem se vsi strinjamo, da je temu tako. spomnite se razprave iz novembra, ko je bil na mizi predlog, da se dvigne denarna socialna pomoč, in sicer na raven , evra. ključni argument ali pa glavni argument vlade in predlagateljev je bil ravno ta, da je to minimum od minimuma za sicer nedostojno, ampak še življenje v republiki sloveniji. pod tem je nesprejemljivo, verjetno se s tem vsi strinjamo, pod tem zneskom je nesprejemljivo. zdaj pa prihajamo do ene zanimive situacije. nekdo, ki ne dela pa nima niti enega dneva delovne dobe, dobi evrov nekdo, ki zaradi svoje invalidnosti ne more delati, pa ne dobi evrov. zdaj mi pa povejte, zakaj smo poslanci poklicani na tem svetu. zato da to neskladje uravnamo in spravimo v normalne okvire, kolikor se da. in vsi se tega zavedamo, tudi vlada se tega zaveda, ampak zdaj manjka samo še tista druga stvar samostojnost poslancev, da bi ravnali tako, kot je prav. ne tako, kot eksekutivna veja oblasti reče, ampak tako, kot je prav, kot so tisti, ki so vas izvolili, rekli. veste, kakšno situacijo imamo danes? imamo približno takšno situacijo, da se nekdo utaplja pred nami v morju, utaplja se, vizualizirajte to, utaplja se pred nami. mi želimo skočiti notri in utapljajočega rešiti. pa pride zraven državni sekretar z ministrstva za delo in nam reče veste kaj, tam je pa znak, da je prepovedano plavati. in poleg tega še doda tako ali tako čez dve uri in pol pride trajekt, ki ima rešilni čoln. vi bi pa gledali. trajekt je sistemska rešitev, ker ima rešilni čoln. znak, da je prepovedano plavati pa kljub temu je plaval in se utaplja, sam si je kriv , je pa to, da bo sprejetje tega predloga prineslo nove krivice. dajte no! rešilo bo tisočim ljudem krivico, ki se jim z vsakim dnem, z vsakim mesecem dogaja. kot sem rekel, pravimo, da je evrov minimum, tukaj imamo pa tiste, ki ne morejo nič, ker ne morejo delati, ker so invalidi in jim je treba zagotoviti teh evrov. tu imam poročilo odbora k predlogu zakona o spremembi zakona o socialnih varstvenih prejemkih, torej o tisti denarni socialni pomoči, o kateri ste razpravljali novembra, da se dvigne na evrov. pa bom prebral samo nekaj izjav iz tistega časa. citiram člani odbora so opozorili, da je potrebno poskrbeti tudi za druge ranljive skupine prebivalstva, ki imajo najnižje prejemke, nizke pokojnine, invalidske pokojnine. ali ste govorili to takrat? ste. mi to predlagamo. naprej. s strani poslanske skupine liste marjana šarca je bil predlagan sklep o zagotovitvi ustreznega povišanja predčasnih in starostnih pokojnin, nižjih od osnovnega zneska minimalnega dohodka, na raven minimalnega dohodka. lista marjana šarca je že sama takrat ugotovila, da so pokojnine nižje od tega in da je treba to dvigniti. takrat ste to predlagali. to se predlaga v nekem drugem zakonu. mi smo to predlagali zdaj, tudi na podlagi tega, kar ste vi rekli ob tisti razpravi novembra. predstavnica poslanske skupine socialnih demokratov je povedala, da njihova poslanska skupina predlogu zakona ne bo nasprotovala, zavedajo pa se, da ob tem prihaja do nesorazmerij. je opozorila na nesorazmernost, pa je kljub temu potrdila ta zakon in dodala prav tako je potrebna sprememba zakona o pokojninskem in invalidskem zavarovanju, ravno zaradi teh razlik, ki pri tem nastanejo. mi smo to pripravili in smo vložili v proceduro. naprej je bila pa še razprava glede amandmaja poslanske skupine sds, ko smo želeli že v tisti fazi to rešiti, s katerim je predlagan potreben uskladitveni dodatek za upokojence, in je večina razpravljavcev menila, da je treba različne tematike urejati z različnimi zakoni, v tem primeru zakon o pokojninskem in invalidskem zavarovanju. zato amandma ni dobil podpore. takrat ste rekli, da zato. zdaj smo to dali v zakon o invalidskem in pokojninskem zavarovanju. kaj pa zdaj pravite? vse argumente, izraz sprave, ko ste dvignili socialne prejemke, smo uporabili za to, da smo pripravili ta zakon in če bi sledil po tistih besedah takrat, je danes jasen ja z vaše strani za ta predlog zakona, ne pa ne . pa pojdimo na to, kaj izvršilna veja oblasti, torej vlada, pravi, zakaj oni vam nalagajo, da ne podpreti tega predloga zakona. vlada republike slovenije se zaveda težkega socialnega položaja, v katerem so nekateri prejemniki invalidske pokojnine. se zaveda in pove, da samo nekateri, torej ne vsi, nekateri. če so nekateri, je to sistemskost ali nesistemskost? ljuba vlada, to je nesistemskost. če dopuščate, da so nekateri prejemniki invalidske pokojnine v zelo težkem položaju, težjem, kot bi si mi lahko privoščili, je to nesistemskost. in je nesistemsko puščati, da je tako ne pa nasprotovati rešitvi, ki to odpravlja. vendar pa meni, da problematike ni primerno reševati parcialno in zgolj za nekatere posameznike znotraj sistema. še enkrat, utaplja se. utaplja se invalid z evri na mesec, ki ne more delati vi pa pravite, znak je, da ne sme plavati tukaj, pa še pomoč pride čez dve uri s trajektom. naprej nasprotuje predlogu zakona, saj le ta ruši razmerja, ki so vzpostavljena pri višini priznavanih pravic in to na neustrezen način. dajte no! tisoč ljudi pri korpusu tisoč upokojencev tu ruši sitem. manj kot jih je, pa to ruši sistem. v ničemer ne ruši sistema vzpostavlja ga. vzpostavlja ga, ker dviga ali pa vrača dostojanstvo tistim, ki ste jim ga vzeli, ker imajo nedopustno nizke prihodke, na kar vsi tukaj v tej dvorani pristajajo. naprej. vlada še meni, da ni smiselno niti pravično dvigovati pravic zgolj nekaterim prejemnikov pravic iz zavarovanja, temveč je potrebno najti ustrezno rešitev za vse prejemnike na način, ki bo ohranjal ustrezna razmerja med temi upravičenci. pod črto, dajmo razpravljati, dajmo nič narediti, dajmo počakati. da je to res, priča izjava državnega sekretarja božiča, ki pravi, da se oblikuje delovna skupina, da se bodo ustvarjala pogajanja, velika razprava, da bodo izračuni, da ne bo napak. krasno, super, ampak medtem se človek utaplja. medtem se človek utaplja. ko ste sprejemali tik pred volitvami, vi ste bili državni sekretar na ministrstvu za finance, denarno socialno pomoč, takrat ste takole naredili en, dva, tri, zakon je prišel, ker je levica predlagala in ste vi sprejeli. en, dva, tri, brez razprave, ni bilo nobenih računov. prej ste rekli, da tega ne boste podprli, ker morate dobro premisliti, da se ne bi zgodila kakšna dodatna krivičnost. tukaj se vam je zgodila krivičnost zaradi tistega predloga takrat, pa niste nič pomišljali. danes pa za tisoč ljudi ne želite reagirati, kot pravite, da je treba dobro premisliti, da ne bo prišlo do kakšne krivičnosti. krivičnost se dogaja danes, zdaj, v tem trenutku, vsak mesec, ko ne uravnavate oziroma ko ne dvignete teh minimalnih invalidskih pokojnin na raven vsaj tistega minimuma, ki ste ga sami dorekli tukaj, v državnem zboru, pri denarni socialni pomoči. naprej v kolikor bi se za vse invalidske upokojence določilo prejemanje invalidske pokojnine v višini osnovnega zneska minimalnega dohodka, bi se porušila razmerja, ki obstajajo pri pravicah iz pokojninskega in invalidskega zavarovanja, kar pa ni ustrezno. dajte no! ni ustrezno to, kar je zdaj. to ni ustrezno! zakaj ste vi? zaradi zakonov ali zaradi ljudi. vi ste zato, da predlagate zakona, ki jih v državnem zboru sprejmemo za ljudi, ne pa da spreminjate zakone oziroma ne spreminjate zakonov, ker pravite, da to ne bi bilo ustrezno, čeprav je rezultat teh zakonov neustrezen. to si moramo priznati. rezultat je neustrezen in treba ga je rešiti, človek se utaplja, še enkrat povem. naprej pravite vlada republike slovenije pojasnjuje še, da se prejemniki invalidskih pokojnin ne štejejo za brezposelne osebe in zato ne more biti prijavljen pri zavodu za zaposlovanje, saj invalidsko pokojnino prejemajo ravno iz razloga, ker zaradi nastopa invalidnosti niso več zmožni za delo v obsegu, da bi s svojim delom še lahko zagotavljali sredstva za preživetje. torej so odvisni zgolj od svoje pokojnine, od socialne države vi pa deset tisočim tega ne daste. to je vaša odgovornost oziroma, spoštovani poslanci, to je naša odgovornost, ker vlada je tukaj odpovedala. to je naša odgovornost in mi smo tisti, ki smo sedaj očitno poklicani, da te krivice rešimo. spoštovana vlada, razložite mi ta stavek v vašem mnenju, ki zavrača ta predlog zakona, ki ga res ne razumem, vsaj upam, da ga ne razumem, ker drugače ste pa izgubili vse moje spoštovanje, to pa res. ga bom prebral, kolegi, če vi to tudi razumete. ne nazadnje pojasnjujemo tudi, da ni nujno, da nekateri posamezniki resnično niso sami krivi, da niso imeli zadosti pokojninske dobe, ker je pri njih nastopila invalidnost kaj hočete reči, da so invalidi sami krivi, da nimajo dovolj pokojninske dobe, ali ste to hoteli reči, ali kaj pa ste zavili v trikratno nikalnico? razložite mi ta zakon. kaj ste s tem zakonom hoteli povedati, zakaj ne podpirate tega zakona? oprostite, če ste na to nakazali, pa ste šli močno preko meje še posebej zato, ker vi osebno pa tudi ministrica prihajate iz tako imenovane moralno etične bivše vlade. naj se še navežem na tisto, na kar je opozoril tudi državni sekretar božič, ko je rekel, da mogoče je pa dobro, da je opomnik za koalicijo od liste marjana šarca prišel tudi do ostalih poslancev. ja, na nek način je dobro, glede na to, da vse vaše sugestije vlade koalicijski poslanci upoštevajo, da bodo tudi vnaprej upoštevali in bodo vse opomnike za zakone, ki se jih predlaga, poslali tudi nam, ostalim poslancem, da bomo videli kakšen mindset, kako razmišljajo koalicijski poslanci. bo to kar dobro. ja, se priporočam za isto, ampak preletimo še ta opomnik, ki ste ga dobili za današnjo odločanje, da bi upravičili svoj glas ne predlogu o spremembi pokojninske zakonodaje, da bi tudi invalidski upokojenci dobili vsaj tisti minimum evrov. pravite takole zakon o pokojninskem in invalidskem zavarovanju iz leta je predstavljal sistemsko rešitev, v vmesnem času se je še dopolnjeval, a se ni nikoli dotaknil urejanja invalidskih upokojencev. prihodki le teh so bistveno manjši od višine mesečnega prihodka, ki meji na prag revščine. ali čutite težo teh besed? prihodki le teh so bistveno manjši od višine mesečnega prihodka, ki meji na prag tveganja revščine. to ste izvedeli tudi koalicijski poslanci iz opomnika. boste prisluhnili vladi, ki vam reče, da tega potem ne rešiti? boste prisluhnili vladi, ko vam v vašem opomniku jasno povedo, da ti ljudje s temi sredstvi ne morejo živeti? še enkrat, utapljajo se. sami to ugotavljali. naprej dogovorjeno je bilo tudi, da ministrstvo za delo, družino in socialne zadeve pošlje argumente proti predlaganemu zakonu. njih morate prositi, vlado, da vam pošljejo predloge, ki jih boste vi tukaj uporabili, da boste nasprotovali temu zakonu. pa kaj ste vi samostojna veja oblasti ali pa ste podaljšana roka vlade ali ministrstva?! ali si sami ne znate izmisliti argumentov proti in morate zato spraševati eksekutivno vejo oblasti, torej vlado, da vam pošlje te argumente? oprostite, ampak to je poden parlamentarizma, da morate vlado spraševati za argumente, ki naj jih tukaj uporabljate proti predlogu zakona, ki rešuje tisoč ljudi in nima barvne oznake oziroma se je ne da vezati na eno ali drugo politično opcijo. in kaj je sedaj ministrstvo naumilo, res naumilo? recimo, kaj bi lahko vi povedali po predlogu ministrstva danes tukaj. predlagane rešitve bi rušile razmerja, ki so vzpostavljena pri višini priznavanja pravic. spoštovani, govorimo o minimalnih standardih. o standardih, glede katerih smo se že vsi uskladili, da pod to ne more iti. nekateri so pa še vedno pod tem. ta argument je prazen. predlog bi pomenil uvedbo uravnilovke v pokojninskem sistemu. ali veste, kaj pomeni uravnilovka? uravnilovka pomeni mejo navzgor, da nihče ne presega tega. navzdol so minimalni standardi. vsi se strinjamo za minimalne standarde, do katerih so upravičeni tudi invalidi, ne samo brezposelni, ampak tudi invalidi. tudi ta argument je prazen. recimo, posamezniki, ki nimajo statusa delovnega invalida, v primeru izgube zaposlitve nimajo nobenih prejemkov iz pokojninskega sistema, dokler ne izpolnijo pogojev starosti, čeprav so morebiti socialno ogroženi in so plačevali v sistem dolgo obdobje. ampak, veste, oni imajo eno bistveno prednost, zato je to neprimerljivo. oni niso invalidi. oni niso invalidi. bistvena prednost. in če gremo naprej, to ste pa danes uporabljali, ste kupili argument, ki vam ga je vlada pripravila. na konkretnem primeru bi to pomenilo, da v primeru, ko je nekdo, ki je v pokojninsko blagajno prispeval let pred invalidsko upokojitvijo, drugi pa samo eno leto v primeru upokojitve pri enaki starosti, bi bil prvi prikrajšan, ker je vplačeval, drugi pa samo eno leto, pa je upravičen do invalidske pokojnine. veste, kaj je kruta resnica? da bi ta drugi vse dal za to, da bi let vplačeval, vse bi dal, verjemite. vse. in je prikrajšan, ker je lahko samo eno leto vplačeval. nekateri še celo nič. jaz imam v družini nekoga, ki ni nič vplačeval v to, in vem, kako je to. to niso tako enostavne zadeve. in na tak jezik spraviti zakon, ki ga je nujno sprejeti, oprostite, ga najlepše povzamejo besede, ki jih pod odstavkom oziroma naslovom argumenti proti sprejetju zakona zapiše poslanska skupina lmš v svojem opomniku in se bere takole predlog zakona, ki ga imamo pred sabo, manifestira neenakost. ali si vi predstavljate to izrazoslovje. predlog zakona, ki ga imamo pred sabo, manifestira neenakost. manifestira neenakost to, kar imamo danes, da ima invalidsko upokojen ki je vsaj nekaj časa plačeval ali pa tudi če ni nič plačeval, ker je, kot sami ugotavljate, nezmožen za delo, ne more nič spremeniti, je odvisen samo od socialne države, je invalid , nižjo pokojnino kot nekdo, ki ne dela, pa je delovno sposoben pa bo lahko delal. to je sistemska neenakost. to je tista neenakost. in to je manifestacija, da ohranjamo tak sistem, manifestacija neenakosti. to je treba rešiti nemudoma. ti ljudje se, kot sem rekel, utapljajo. in da bo mera polna pa potem to, zaradi česar sem malce manj optimističen, kot sem bil na začetku, bom rekel, kar razočaran, je razlog, mislim, da je bil tudi že predhodno povedan, zaradi katerega zavračate ta zakon na usklajevanjih je bilo dogovorjeno, da se predlog zakona zavrne, saj zavira sprejemanje novele zpiz, s katero želi vlada razbremeniti regres. ali veste, kaj sedaj to pomeni? tisti, ki že imajo pa bodo še malo večji regres imeli, so tako vredni za vlado, ker nosijo priljubljenost, volilne glasove da tistih tisoč, ki ne more živeti, ki imajo nižjo pokojnino od minimalnih standardov, ni upravičenih, da se jim predhodno reši situacija. niso upravičeni po vašem mnenju, samo zato, da bi tisti regres zvišali, da bi rekli evo, javnim uslužbencem smo plače zvišali, dali smo regres, super, glejte, koliko smo dobri, še drugo tranšo bodo novembra dobili, koliko smo mi dobri. teh tisoč ljudi, ki se utaplja, je pa za vas nepomembnih. ne zaradi vsebine, vi zaradi postopka zavračate ta predlog zakona, ker bi malce kasneje prišel v veljavo ali pa če mi to pohitimo, lahko ena, dva, tri naredimo, niti ni nujno, da bi kaj zavračali. in ta argument, češ da vi imate že novelo zakona o pokojninskem in invalidskem zavarovanju, ki to spreminja, da tam vse rešuje krasno, super. ampak naš predlog v ničemer ne zavira tega, samo izhodišče bo rahlo drugačno, da za tisoč ljudi ne bo treba več spreminjati te zadeve, vse ostalo pa je isto. torej ni ne vsebinskega ne proceduralnega razloga, da ste proti. mislim, da je to eden tistih zakonov, ki ga je pač enostavno treba podpreti v tem državnem zboru, če želi državni zbor ohraniti neko integriteto, ki mu gre, in če je to zbor izvoljencev ljudstva, ki zagovarjajo ljudi. če je, potem enostavno ta zakon mora sprejeti. in ne morem se čuditi gospodu lepu iz poslanske skupine desus, desus stranka upokojencev, ki pravi, ga citiram, to sem si moral zapisati, ker je bila iz vesolja ta misel ni pa ga primerno s tako lahkoto sprejeti. ne ni ga primerno, nujno ga je sprejeti, nujno, z lahkoto. in to je eden tistih zakonov, pri katerem mislim, da je treba po glasovanju za ta zakon javno objaviti tiste, ki so glasovali proti temu predlogu zakona. redko to rečem, ampak pri tem zakonu je pa res treba, ker nikomur nič ne jemlje, nikomur nič ne jemlje, izenačuje ali pa vsaj prinaša tisto minimalno poštenost, upošteva vsa načela, ki ste jih predstavniki različnih poslanskih skupin v državnem zboru v preteklih razpravah predlagali in je zelo enostaven in hitro sprejet. in tisti, ki bo glasoval proti temu zakonu, mislim, da je ta imena res treba objaviti iz enega preprostega razloga, ker morate stati za svojimi dejanji. in to je eno od tistih dejanj, ki vas loči od tega, ali se to, kar imate v programu, kar obljubljate ali kar v predhodnih razpravah v državnem zboru rečete, potem tudi udejanji pri vašem glasovanju ali pa samo blefirate in delate to, kar vam vlada predlaga. potem ste pa tu res samo glasovalni stroj, daleč nasproti tistega, za kar se posamezne stranke v sicer javnih nastopih zavzemate. hvala.'"
      ]
     },
     "execution_count": 59,
     "metadata": {},
     "output_type": "execute_result"
    }
   ],
   "source": [
    "dfDevet.iloc[414]['text']"
   ]
  },
  {
   "cell_type": "code",
   "execution_count": 49,
   "id": "803b6813",
   "metadata": {},
   "outputs": [],
   "source": [
    "nesovrazniDevet = dfDevet[dfDevet['hs']=='nesovrazni']"
   ]
  },
  {
   "cell_type": "code",
   "execution_count": 50,
   "id": "78346a66",
   "metadata": {},
   "outputs": [
    {
     "data": {
      "text/html": [
       "<div>\n",
       "<style scoped>\n",
       "    .dataframe tbody tr th:only-of-type {\n",
       "        vertical-align: middle;\n",
       "    }\n",
       "\n",
       "    .dataframe tbody tr th {\n",
       "        vertical-align: top;\n",
       "    }\n",
       "\n",
       "    .dataframe thead th {\n",
       "        text-align: right;\n",
       "    }\n",
       "</style>\n",
       "<table border=\"1\" class=\"dataframe\">\n",
       "  <thead>\n",
       "    <tr style=\"text-align: right;\">\n",
       "      <th></th>\n",
       "      <th>text</th>\n",
       "      <th>leto</th>\n",
       "      <th>mesec</th>\n",
       "      <th>rojstvo</th>\n",
       "      <th>stranka</th>\n",
       "      <th>spol</th>\n",
       "      <th>hs</th>\n",
       "    </tr>\n",
       "  </thead>\n",
       "  <tbody>\n",
       "    <tr>\n",
       "      <th>10148</th>\n",
       "      <td>hvala lepa. za obrazložitev mnenja dajem besed...</td>\n",
       "      <td>2019</td>\n",
       "      <td>11</td>\n",
       "      <td>1986</td>\n",
       "      <td>LMŠ</td>\n",
       "      <td>F</td>\n",
       "      <td>nesovrazni</td>\n",
       "    </tr>\n",
       "    <tr>\n",
       "      <th>8372</th>\n",
       "      <td>gospod poslanec, eni so brez vrat, vi pa ste b...</td>\n",
       "      <td>2019</td>\n",
       "      <td>10</td>\n",
       "      <td>1967</td>\n",
       "      <td>SD</td>\n",
       "      <td>M</td>\n",
       "      <td>nesovrazni</td>\n",
       "    </tr>\n",
       "    <tr>\n",
       "      <th>11483</th>\n",
       "      <td>hvala lepa. naslednji ima besedo gospod samo b...</td>\n",
       "      <td>2019</td>\n",
       "      <td>12</td>\n",
       "      <td>1986</td>\n",
       "      <td>LMŠ</td>\n",
       "      <td>F</td>\n",
       "      <td>nesovrazni</td>\n",
       "    </tr>\n",
       "    <tr>\n",
       "      <th>11272</th>\n",
       "      <td>hvala lepa. naslednji je na vrsti mag. marko k...</td>\n",
       "      <td>2019</td>\n",
       "      <td>12</td>\n",
       "      <td>1986</td>\n",
       "      <td>LMŠ</td>\n",
       "      <td>F</td>\n",
       "      <td>nesovrazni</td>\n",
       "    </tr>\n",
       "    <tr>\n",
       "      <th>1119</th>\n",
       "      <td>gospod minister, imate besedo za dopolnitev od...</td>\n",
       "      <td>2019</td>\n",
       "      <td>3</td>\n",
       "      <td>1953</td>\n",
       "      <td>DeSUS</td>\n",
       "      <td>M</td>\n",
       "      <td>nesovrazni</td>\n",
       "    </tr>\n",
       "  </tbody>\n",
       "</table>\n",
       "</div>"
      ],
      "text/plain": [
       "                                                    text  leto  mesec rojstvo  \\\n",
       "10148  hvala lepa. za obrazložitev mnenja dajem besed...  2019     11    1986   \n",
       "8372   gospod poslanec, eni so brez vrat, vi pa ste b...  2019     10    1967   \n",
       "11483  hvala lepa. naslednji ima besedo gospod samo b...  2019     12    1986   \n",
       "11272  hvala lepa. naslednji je na vrsti mag. marko k...  2019     12    1986   \n",
       "1119   gospod minister, imate besedo za dopolnitev od...  2019      3    1953   \n",
       "\n",
       "      stranka spol          hs  \n",
       "10148     LMŠ    F  nesovrazni  \n",
       "8372       SD    M  nesovrazni  \n",
       "11483     LMŠ    F  nesovrazni  \n",
       "11272     LMŠ    F  nesovrazni  \n",
       "1119    DeSUS    M  nesovrazni  "
      ]
     },
     "execution_count": 50,
     "metadata": {},
     "output_type": "execute_result"
    }
   ],
   "source": [
    "nesovrazniDevet.sample(5)"
   ]
  },
  {
   "cell_type": "code",
   "execution_count": 51,
   "id": "b3aa38ca",
   "metadata": {},
   "outputs": [
    {
     "data": {
      "text/plain": [
       "M    8656\n",
       "F    2656\n",
       "Name: spol, dtype: int64"
      ]
     },
     "execution_count": 51,
     "metadata": {},
     "output_type": "execute_result"
    }
   ],
   "source": [
    "nesovrazniDevet['spol'].value_counts()"
   ]
  },
  {
   "cell_type": "code",
   "execution_count": 52,
   "id": "b021a2df",
   "metadata": {},
   "outputs": [
    {
     "data": {
      "text/plain": [
       "SDS       2517\n",
       "SD        2258\n",
       "LMŠ       1677\n",
       "DeSUS     1578\n",
       "Levica     738\n",
       "SMC        404\n",
       "NSi        397\n",
       "SAB        368\n",
       "SNS        286\n",
       "Name: stranka, dtype: int64"
      ]
     },
     "execution_count": 52,
     "metadata": {},
     "output_type": "execute_result"
    }
   ],
   "source": [
    "nesovrazniDevet['stranka'].value_counts()"
   ]
  },
  {
   "cell_type": "code",
   "execution_count": 53,
   "id": "c2e1c3ea",
   "metadata": {},
   "outputs": [
    {
     "data": {
      "text/plain": [
       "1967    2008\n",
       "1956    1492\n",
       "1953    1413\n",
       "1986    1340\n",
       "-\\n      687\n",
       "1969     388\n",
       "1962     347\n",
       "1980     288\n",
       "1970     245\n",
       "1979     230\n",
       "1972     229\n",
       "1974     198\n",
       "1960     198\n",
       "1973     186\n",
       "1989     186\n",
       "1987     151\n",
       "1977     151\n",
       "1978     139\n",
       "1955     136\n",
       "1958     121\n",
       "1990     116\n",
       "1959     102\n",
       "1952      96\n",
       "1983      85\n",
       "1964      81\n",
       "1975      77\n",
       "1976      72\n",
       "1965      71\n",
       "1957      68\n",
       "1963      61\n",
       "1971      60\n",
       "1984      59\n",
       "1968      53\n",
       "1948      50\n",
       "1961      45\n",
       "1991      37\n",
       "1985      26\n",
       "1954      18\n",
       "1966       2\n",
       "Name: rojstvo, dtype: int64"
      ]
     },
     "execution_count": 53,
     "metadata": {},
     "output_type": "execute_result"
    }
   ],
   "source": [
    "nesovrazniDevet['rojstvo'].value_counts()"
   ]
  },
  {
   "cell_type": "code",
   "execution_count": 60,
   "id": "5cc1fb05",
   "metadata": {},
   "outputs": [
    {
     "data": {
      "text/plain": [
       "'hvala lepa. besedo ima predlagatelj žan mahnič.'"
      ]
     },
     "execution_count": 60,
     "metadata": {},
     "output_type": "execute_result"
    }
   ],
   "source": [
    "dfDevet.iloc[1378]['text']"
   ]
  },
  {
   "cell_type": "code",
   "execution_count": 54,
   "id": "331c12ac",
   "metadata": {},
   "outputs": [
    {
     "data": {
      "text/plain": [
       "nesovrazni    6247\n",
       "sovrazni       354\n",
       "Name: hs, dtype: int64"
      ]
     },
     "execution_count": 54,
     "metadata": {},
     "output_type": "execute_result"
    }
   ],
   "source": [
    "dfDvajset = pd.read_csv('dvaDvajset-crosloengualBERT-hatespeech.csv')\n",
    "dfDvajset['hs'].value_counts()"
   ]
  },
  {
   "cell_type": "code",
   "execution_count": 55,
   "id": "d3646264",
   "metadata": {},
   "outputs": [
    {
     "data": {
      "text/plain": [
       "M    5084\n",
       "F    1517\n",
       "Name: spol, dtype: int64"
      ]
     },
     "execution_count": 55,
     "metadata": {},
     "output_type": "execute_result"
    }
   ],
   "source": [
    "dfDvajset['spol'].value_counts()"
   ]
  },
  {
   "cell_type": "code",
   "execution_count": 56,
   "id": "e86d4af2",
   "metadata": {},
   "outputs": [
    {
     "data": {
      "text/plain": [
       "SMC       1395\n",
       "LMŠ       1120\n",
       "SDS        996\n",
       "DeSUS      838\n",
       "Levica     579\n",
       "SD         510\n",
       "SAB        232\n",
       "NSi        191\n",
       "SNS        143\n",
       "Name: stranka, dtype: int64"
      ]
     },
     "execution_count": 56,
     "metadata": {},
     "output_type": "execute_result"
    }
   ],
   "source": [
    "dfDvajset['stranka'].value_counts()"
   ]
  },
  {
   "cell_type": "code",
   "execution_count": 57,
   "id": "648e2a0d",
   "metadata": {},
   "outputs": [
    {
     "data": {
      "text/plain": [
       "1978    1176\n",
       "1953     757\n",
       "1986     696\n",
       "1956     681\n",
       "1969     296\n",
       "-\\n      269\n",
       "1967     223\n",
       "1972     174\n",
       "1989     160\n",
       "1979     156\n",
       "1974     155\n",
       "1962     143\n",
       "1960     136\n",
       "1980     119\n",
       "1987     115\n",
       "1958     105\n",
       "1964      96\n",
       "1959      95\n",
       "1963      94\n",
       "1955      89\n",
       "1971      88\n",
       "1973      87\n",
       "1983      70\n",
       "1957      63\n",
       "1952      59\n",
       "1948      54\n",
       "1965      52\n",
       "1990      50\n",
       "1970      47\n",
       "1977      47\n",
       "1968      40\n",
       "1984      39\n",
       "1975      37\n",
       "1991      36\n",
       "1976      35\n",
       "1985      33\n",
       "1961      20\n",
       "1993       7\n",
       "1945       2\n",
       "Name: rojstvo, dtype: int64"
      ]
     },
     "execution_count": 57,
     "metadata": {},
     "output_type": "execute_result"
    }
   ],
   "source": [
    "dfDvajset['rojstvo'].value_counts()"
   ]
  },
  {
   "cell_type": "code",
   "execution_count": 58,
   "id": "7bbae45a",
   "metadata": {},
   "outputs": [],
   "source": [
    "sovrazniDvajset = dfDvajset[dfDvajset['hs']=='sovrazni']"
   ]
  },
  {
   "cell_type": "code",
   "execution_count": 59,
   "id": "f8731bbc",
   "metadata": {},
   "outputs": [
    {
     "data": {
      "text/html": [
       "<div>\n",
       "<style scoped>\n",
       "    .dataframe tbody tr th:only-of-type {\n",
       "        vertical-align: middle;\n",
       "    }\n",
       "\n",
       "    .dataframe tbody tr th {\n",
       "        vertical-align: top;\n",
       "    }\n",
       "\n",
       "    .dataframe thead th {\n",
       "        text-align: right;\n",
       "    }\n",
       "</style>\n",
       "<table border=\"1\" class=\"dataframe\">\n",
       "  <thead>\n",
       "    <tr style=\"text-align: right;\">\n",
       "      <th></th>\n",
       "      <th>text</th>\n",
       "      <th>leto</th>\n",
       "      <th>mesec</th>\n",
       "      <th>rojstvo</th>\n",
       "      <th>stranka</th>\n",
       "      <th>spol</th>\n",
       "      <th>hs</th>\n",
       "    </tr>\n",
       "  </thead>\n",
       "  <tbody>\n",
       "    <tr>\n",
       "      <th>5977</th>\n",
       "      <td>samo to želim poudariti, da ko dobimo te štiri...</td>\n",
       "      <td>2020</td>\n",
       "      <td>7</td>\n",
       "      <td>1983</td>\n",
       "      <td>NaN</td>\n",
       "      <td>M</td>\n",
       "      <td>sovrazni</td>\n",
       "    </tr>\n",
       "    <tr>\n",
       "      <th>3952</th>\n",
       "      <td>zaključili smo s predstavitvijo stališč poslan...</td>\n",
       "      <td>2020</td>\n",
       "      <td>5</td>\n",
       "      <td>1978</td>\n",
       "      <td>SMC</td>\n",
       "      <td>M</td>\n",
       "      <td>sovrazni</td>\n",
       "    </tr>\n",
       "    <tr>\n",
       "      <th>5878</th>\n",
       "      <td>hvala lepa. o vašem predlogu bo državni zbor o...</td>\n",
       "      <td>2020</td>\n",
       "      <td>7</td>\n",
       "      <td>1978</td>\n",
       "      <td>SMC</td>\n",
       "      <td>M</td>\n",
       "      <td>sovrazni</td>\n",
       "    </tr>\n",
       "    <tr>\n",
       "      <th>424</th>\n",
       "      <td>lep dober dan vsem skupaj! problematika neenak...</td>\n",
       "      <td>2020</td>\n",
       "      <td>1</td>\n",
       "      <td>1969</td>\n",
       "      <td>SNS</td>\n",
       "      <td>M</td>\n",
       "      <td>sovrazni</td>\n",
       "    </tr>\n",
       "    <tr>\n",
       "      <th>3628</th>\n",
       "      <td>gospod pavšič, jaz sem vas poslušal. da vas pa...</td>\n",
       "      <td>2020</td>\n",
       "      <td>5</td>\n",
       "      <td>1956</td>\n",
       "      <td>SDS</td>\n",
       "      <td>M</td>\n",
       "      <td>sovrazni</td>\n",
       "    </tr>\n",
       "  </tbody>\n",
       "</table>\n",
       "</div>"
      ],
      "text/plain": [
       "                                                   text  leto  mesec rojstvo  \\\n",
       "5977  samo to želim poudariti, da ko dobimo te štiri...  2020      7    1983   \n",
       "3952  zaključili smo s predstavitvijo stališč poslan...  2020      5    1978   \n",
       "5878  hvala lepa. o vašem predlogu bo državni zbor o...  2020      7    1978   \n",
       "424   lep dober dan vsem skupaj! problematika neenak...  2020      1    1969   \n",
       "3628  gospod pavšič, jaz sem vas poslušal. da vas pa...  2020      5    1956   \n",
       "\n",
       "     stranka spol        hs  \n",
       "5977     NaN    M  sovrazni  \n",
       "3952     SMC    M  sovrazni  \n",
       "5878     SMC    M  sovrazni  \n",
       "424      SNS    M  sovrazni  \n",
       "3628     SDS    M  sovrazni  "
      ]
     },
     "execution_count": 59,
     "metadata": {},
     "output_type": "execute_result"
    }
   ],
   "source": [
    "sovrazniDvajset.sample(5)"
   ]
  },
  {
   "cell_type": "code",
   "execution_count": 60,
   "id": "e5476bf5",
   "metadata": {},
   "outputs": [
    {
     "data": {
      "text/plain": [
       "M    278\n",
       "F     76\n",
       "Name: spol, dtype: int64"
      ]
     },
     "execution_count": 60,
     "metadata": {},
     "output_type": "execute_result"
    }
   ],
   "source": [
    "sovrazniDvajset['spol'].value_counts()"
   ]
  },
  {
   "cell_type": "code",
   "execution_count": 61,
   "id": "9ba2d6bc",
   "metadata": {},
   "outputs": [
    {
     "data": {
      "text/plain": [
       "SMC       148\n",
       "Levica     35\n",
       "SDS        25\n",
       "LMŠ        21\n",
       "DeSUS      16\n",
       "SAB        15\n",
       "SNS        12\n",
       "SD         12\n",
       "NSi        11\n",
       "Name: stranka, dtype: int64"
      ]
     },
     "execution_count": 61,
     "metadata": {},
     "output_type": "execute_result"
    }
   ],
   "source": [
    "sovrazniDvajset['stranka'].value_counts()"
   ]
  },
  {
   "cell_type": "code",
   "execution_count": 105,
   "id": "ff3e6980",
   "metadata": {},
   "outputs": [
    {
     "data": {
      "text/plain": [
       "1978    35\n",
       "1956     8\n",
       "-\\n      7\n",
       "1960     5\n",
       "1974     5\n",
       "1989     4\n",
       "1948     4\n",
       "1979     4\n",
       "1980     3\n",
       "1986     3\n",
       "1969     3\n",
       "1971     2\n",
       "1959     2\n",
       "1953     2\n",
       "1964     2\n",
       "1987     2\n",
       "1985     2\n",
       "1976     1\n",
       "1973     1\n",
       "1968     1\n",
       "1962     1\n",
       "1983     1\n",
       "1977     1\n",
       "1984     1\n",
       "1945     1\n",
       "1963     1\n",
       "1958     1\n",
       "Name: rojstvo, dtype: int64"
      ]
     },
     "execution_count": 105,
     "metadata": {},
     "output_type": "execute_result"
    }
   ],
   "source": [
    "sovrazniDvajset['rojstvo'].value_counts()"
   ]
  },
  {
   "cell_type": "code",
   "execution_count": 75,
   "id": "faf03c62",
   "metadata": {},
   "outputs": [
    {
     "data": {
      "text/plain": [
       "'miha kordiš, drugi opomin. kršitev in zloraba in zraven še žalitev.'"
      ]
     },
     "execution_count": 75,
     "metadata": {},
     "output_type": "execute_result"
    }
   ],
   "source": [
    "dfDvajset.iloc[1718]['text']"
   ]
  },
  {
   "cell_type": "code",
   "execution_count": 62,
   "id": "44978bfc",
   "metadata": {},
   "outputs": [],
   "source": [
    "nesovrazniDvajset = dfDvajset[dfDvajset['hs']=='sovrazni']"
   ]
  },
  {
   "cell_type": "code",
   "execution_count": 63,
   "id": "cc36c716",
   "metadata": {},
   "outputs": [
    {
     "data": {
      "text/html": [
       "<div>\n",
       "<style scoped>\n",
       "    .dataframe tbody tr th:only-of-type {\n",
       "        vertical-align: middle;\n",
       "    }\n",
       "\n",
       "    .dataframe tbody tr th {\n",
       "        vertical-align: top;\n",
       "    }\n",
       "\n",
       "    .dataframe thead th {\n",
       "        text-align: right;\n",
       "    }\n",
       "</style>\n",
       "<table border=\"1\" class=\"dataframe\">\n",
       "  <thead>\n",
       "    <tr style=\"text-align: right;\">\n",
       "      <th></th>\n",
       "      <th>text</th>\n",
       "      <th>leto</th>\n",
       "      <th>mesec</th>\n",
       "      <th>rojstvo</th>\n",
       "      <th>stranka</th>\n",
       "      <th>spol</th>\n",
       "      <th>hs</th>\n",
       "    </tr>\n",
       "  </thead>\n",
       "  <tbody>\n",
       "    <tr>\n",
       "      <th>5329</th>\n",
       "      <td>najlepša hvala za besedo. spoštovane poslanke,...</td>\n",
       "      <td>2020</td>\n",
       "      <td>6</td>\n",
       "      <td>1976</td>\n",
       "      <td>SDS</td>\n",
       "      <td>F</td>\n",
       "      <td>sovrazni</td>\n",
       "    </tr>\n",
       "    <tr>\n",
       "      <th>3779</th>\n",
       "      <td>besedo ima poslanska skupina nova slovenija kr...</td>\n",
       "      <td>2020</td>\n",
       "      <td>5</td>\n",
       "      <td>1978</td>\n",
       "      <td>SMC</td>\n",
       "      <td>M</td>\n",
       "      <td>sovrazni</td>\n",
       "    </tr>\n",
       "    <tr>\n",
       "      <th>4261</th>\n",
       "      <td>besedo ima kolega koražija.</td>\n",
       "      <td>2020</td>\n",
       "      <td>5</td>\n",
       "      <td>1978</td>\n",
       "      <td>SMC</td>\n",
       "      <td>M</td>\n",
       "      <td>sovrazni</td>\n",
       "    </tr>\n",
       "    <tr>\n",
       "      <th>4668</th>\n",
       "      <td>jaz se borim za vse pomembne investicije, in t...</td>\n",
       "      <td>2020</td>\n",
       "      <td>6</td>\n",
       "      <td>1985</td>\n",
       "      <td>NaN</td>\n",
       "      <td>M</td>\n",
       "      <td>sovrazni</td>\n",
       "    </tr>\n",
       "    <tr>\n",
       "      <th>2734</th>\n",
       "      <td>hvala lepa. republika slovenija se je ob izbru...</td>\n",
       "      <td>2020</td>\n",
       "      <td>5</td>\n",
       "      <td>1974</td>\n",
       "      <td>SMC</td>\n",
       "      <td>F</td>\n",
       "      <td>sovrazni</td>\n",
       "    </tr>\n",
       "  </tbody>\n",
       "</table>\n",
       "</div>"
      ],
      "text/plain": [
       "                                                   text  leto  mesec rojstvo  \\\n",
       "5329  najlepša hvala za besedo. spoštovane poslanke,...  2020      6    1976   \n",
       "3779  besedo ima poslanska skupina nova slovenija kr...  2020      5    1978   \n",
       "4261                        besedo ima kolega koražija.  2020      5    1978   \n",
       "4668  jaz se borim za vse pomembne investicije, in t...  2020      6    1985   \n",
       "2734  hvala lepa. republika slovenija se je ob izbru...  2020      5    1974   \n",
       "\n",
       "     stranka spol        hs  \n",
       "5329     SDS    F  sovrazni  \n",
       "3779     SMC    M  sovrazni  \n",
       "4261     SMC    M  sovrazni  \n",
       "4668     NaN    M  sovrazni  \n",
       "2734     SMC    F  sovrazni  "
      ]
     },
     "execution_count": 63,
     "metadata": {},
     "output_type": "execute_result"
    }
   ],
   "source": [
    "nesovrazniDvajset.sample(5)"
   ]
  },
  {
   "cell_type": "code",
   "execution_count": 64,
   "id": "ab0d5825",
   "metadata": {},
   "outputs": [
    {
     "data": {
      "text/plain": [
       "M    278\n",
       "F     76\n",
       "Name: spol, dtype: int64"
      ]
     },
     "execution_count": 64,
     "metadata": {},
     "output_type": "execute_result"
    }
   ],
   "source": [
    "nesovrazniDvajset['spol'].value_counts()"
   ]
  },
  {
   "cell_type": "code",
   "execution_count": 65,
   "id": "056eb5ac",
   "metadata": {},
   "outputs": [
    {
     "data": {
      "text/plain": [
       "SMC       148\n",
       "Levica     35\n",
       "SDS        25\n",
       "LMŠ        21\n",
       "DeSUS      16\n",
       "SAB        15\n",
       "SNS        12\n",
       "SD         12\n",
       "NSi        11\n",
       "Name: stranka, dtype: int64"
      ]
     },
     "execution_count": 65,
     "metadata": {},
     "output_type": "execute_result"
    }
   ],
   "source": [
    "nesovrazniDvajset['stranka'].value_counts()"
   ]
  },
  {
   "cell_type": "code",
   "execution_count": 66,
   "id": "9cfd6f07",
   "metadata": {},
   "outputs": [
    {
     "data": {
      "text/plain": [
       "1978    124\n",
       "1974     22\n",
       "-\\n      21\n",
       "1960     13\n",
       "1972     12\n",
       "1969     12\n",
       "1980     11\n",
       "1956     11\n",
       "1989     10\n",
       "1979      9\n",
       "1953      9\n",
       "1986      8\n",
       "1964      8\n",
       "1987      7\n",
       "1948      7\n",
       "1963      7\n",
       "1959      7\n",
       "1958      6\n",
       "1971      5\n",
       "1976      5\n",
       "1983      5\n",
       "1962      4\n",
       "1990      4\n",
       "1985      4\n",
       "1957      3\n",
       "1967      3\n",
       "1977      3\n",
       "1973      3\n",
       "1965      3\n",
       "1952      2\n",
       "1984      2\n",
       "1968      2\n",
       "1955      1\n",
       "1945      1\n",
       "Name: rojstvo, dtype: int64"
      ]
     },
     "execution_count": 66,
     "metadata": {},
     "output_type": "execute_result"
    }
   ],
   "source": [
    "nesovrazniDvajset['rojstvo'].value_counts()"
   ]
  },
  {
   "cell_type": "code",
   "execution_count": 76,
   "id": "41671e47",
   "metadata": {},
   "outputs": [
    {
     "data": {
      "text/plain": [
       "'najlepša hvala, gospa podpredsednica. tudi na ministrstvu za delo, družino, socialne zadeve in enake možnosti smo kar aktivno pristopili k reševanju teh razmer. med ukrepi, ki smo jih sprejeli ali pa okrepili, so recimo tako takšni, ki so usmerjeni v zagotavljanje dodatnih znanj in kompetenc tistim, ki so že brezposelni, kakor tudi ukrepi, ki so namenjeni tistim, katerih zaposlitev je ogrožena in jim grozi izguba dela. in ravno to je pomembno da preprečimo izgubo delovnih mest oziroma da delavcu, zaposlenemu omogočimo pridobivanje novih znanj, ki mu zagotavljajo večje možnosti pridobiti novo zaposlitev. izpostavim projekt spin, za katerega je v celotni vzhodni kohezijski regiji namenjenih preko , milijona evrov, vključno s projektom štartaj kariero s potencialom, ki naslavlja sicer še posebej ogroženo regijo podravje. zavod za zaposlovanje pa tudi že izvaja program aktivne politike zaposlovanja usposabljamo lokalno, katerega namen je usposabljanje brezposelnih za deficitarne poklice s ciljem izboljšati njihove zaposlitvene možnosti. toliko zaenkrat.'"
      ]
     },
     "execution_count": 76,
     "metadata": {},
     "output_type": "execute_result"
    }
   ],
   "source": [
    "dfDvajset.iloc[1351]['text']"
   ]
  },
  {
   "cell_type": "code",
   "execution_count": null,
   "id": "9a01ec72",
   "metadata": {},
   "outputs": [],
   "source": []
  }
 ],
 "metadata": {
  "kernelspec": {
   "display_name": "Python 3 (ipykernel)",
   "language": "python",
   "name": "python3"
  },
  "language_info": {
   "codemirror_mode": {
    "name": "ipython",
    "version": 3
   },
   "file_extension": ".py",
   "mimetype": "text/x-python",
   "name": "python",
   "nbconvert_exporter": "python",
   "pygments_lexer": "ipython3",
   "version": "3.8.10"
  }
 },
 "nbformat": 4,
 "nbformat_minor": 5
}
