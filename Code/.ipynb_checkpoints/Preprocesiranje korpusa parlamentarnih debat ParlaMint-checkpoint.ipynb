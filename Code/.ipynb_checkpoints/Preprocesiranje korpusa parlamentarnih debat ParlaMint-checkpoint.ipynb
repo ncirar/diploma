{
 "cells": [
  {
   "cell_type": "markdown",
   "id": "dab81b51",
   "metadata": {},
   "source": [
    "Korpus parlamentarnega govora [ParlaMint](https://www.clarin.si/repository/xmlui/handle/11356/1432), pridobljena iz portala Clarin.si, je zbirka transkriptov iz parlamentarnih debat v 16 jezikih: bulgarskem, hrvaškem, češkem, danskem, nizozemskem, angleškem, francoskem, madžarskem, islandskem, latvijskem, litovskem, polskem, slovenskem, španskem in turškem. Za analizo sovražnega govora in sentimenta bomo uporabili zbirko transkriptov v slovenskem jeziku.<br>\n",
    "V tem delu preberemo datoteke s transkripti ter jih preprocesiramo oz. jih pripravimo v obliko, primerno za procesiranje naravnega jezika"
   ]
  },
  {
   "cell_type": "markdown",
   "id": "3c1eaca3",
   "metadata": {},
   "source": [
    "## Branje tekstovnih datotek in shranjevanje podatkov v tabelo\n",
    "Korpus parlamentarnega govora v slovenščini smo prenesli s portala Clarin. Iteriramo skozi 415 tekstovnih datotek s prepisi parlamentarnih debat ter jih shranimo v seznam, pri čemer vsak posamezen govor shranimo predstavimo v terki *(tekst, datum, vrsta)*."
   ]
  },
  {
   "cell_type": "code",
   "execution_count": 3,
   "id": "c441fd84",
   "metadata": {},
   "outputs": [],
   "source": [
    "import os\n",
    "directory = 'C:\\\\Users\\\\gogi1\\\\Desktop\\\\diploma\\\\ParlaMint-SI\\\\ParlaMint-SI.txt'\n",
    "files = []\n",
    "\n",
    "for filename in os.listdir(directory):\n",
    "    f = os.path.join(directory, filename)\n",
    "    if os.path.isfile(f) and f[-1]=='t':\n",
    "        files.append(f)"
   ]
  },
  {
   "cell_type": "code",
   "execution_count": 4,
   "id": "e85e746a",
   "metadata": {},
   "outputs": [
    {
     "data": {
      "text/plain": [
       "415"
      ]
     },
     "execution_count": 4,
     "metadata": {},
     "output_type": "execute_result"
    }
   ],
   "source": [
    "len(files)"
   ]
  },
  {
   "cell_type": "code",
   "execution_count": 5,
   "id": "2c725b72",
   "metadata": {},
   "outputs": [],
   "source": [
    "import re\n",
    "data = []\n",
    "directory = 'C:\\\\Users\\\\gogi1\\\\Desktop\\\\diploma\\\\ParlaMint-SI\\\\ParlaMint-SI.txt'\n",
    "\n",
    "for file in files[1:]:\n",
    "    with open(file, encoding='utf-8') as f:\n",
    "        lines = f.readlines()\n",
    "        for line in lines:\n",
    "            id = line[:40]\n",
    "            datum = line[13:23]\n",
    "            vrsta = line[29:34]\n",
    "            tekst = line[41:]\n",
    "            tekst = re.sub('[^A-Z\\Č\\Š\\Ž\\Ća-z\\č\\š\\ž\\ć\\.,!?]+', ' ', tekst)\n",
    "            tekst = tekst.strip()\n",
    "            data.append([tekst, datum, vrsta, id])\n",
    "            "
   ]
  },
  {
   "cell_type": "code",
   "execution_count": 6,
   "id": "c849f612",
   "metadata": {},
   "outputs": [
    {
     "data": {
      "text/plain": [
       "75122"
      ]
     },
     "execution_count": 6,
     "metadata": {},
     "output_type": "execute_result"
    }
   ],
   "source": [
    "len(data)"
   ]
  },
  {
   "cell_type": "code",
   "execution_count": 8,
   "id": "6fdc2286",
   "metadata": {},
   "outputs": [],
   "source": [
    "import pandas as pd\n",
    "df = pd.DataFrame(data, index=None, columns=['Tekst', 'Datum', 'Vrsta', 'ID'])"
   ]
  },
  {
   "cell_type": "code",
   "execution_count": 9,
   "id": "cef7c513",
   "metadata": {},
   "outputs": [
    {
     "data": {
      "text/html": [
       "<div>\n",
       "<style scoped>\n",
       "    .dataframe tbody tr th:only-of-type {\n",
       "        vertical-align: middle;\n",
       "    }\n",
       "\n",
       "    .dataframe tbody tr th {\n",
       "        vertical-align: top;\n",
       "    }\n",
       "\n",
       "    .dataframe thead th {\n",
       "        text-align: right;\n",
       "    }\n",
       "</style>\n",
       "<table border=\"1\" class=\"dataframe\">\n",
       "  <thead>\n",
       "    <tr style=\"text-align: right;\">\n",
       "      <th></th>\n",
       "      <th>Tekst</th>\n",
       "      <th>Datum</th>\n",
       "      <th>Vrsta</th>\n",
       "      <th>ID</th>\n",
       "    </tr>\n",
       "  </thead>\n",
       "  <tbody>\n",
       "    <tr>\n",
       "      <th>55938</th>\n",
       "      <td>Še vedno ne razberem vašega postopkovnega pred...</td>\n",
       "      <td>2018-12-18</td>\n",
       "      <td>Redna</td>\n",
       "      <td>ParlaMint-SI_2018-12-18-SDZ8-Redna-03.u1</td>\n",
       "    </tr>\n",
       "    <tr>\n",
       "      <th>6782</th>\n",
       "      <td>Hvala. Niste zaključili. Ne, šalim se. Samo to...</td>\n",
       "      <td>2015-03-04</td>\n",
       "      <td>Redna</td>\n",
       "      <td>ParlaMint-SI_2015-03-04-SDZ7-Redna-05.u1</td>\n",
       "    </tr>\n",
       "    <tr>\n",
       "      <th>70754</th>\n",
       "      <td>Hvala lepa. Predlog zakona je obravnaval Odbor...</td>\n",
       "      <td>2020-04-28</td>\n",
       "      <td>Izred</td>\n",
       "      <td>ParlaMint-SI_2020-04-28-SDZ8-Izredna-35.</td>\n",
       "    </tr>\n",
       "    <tr>\n",
       "      <th>52477</th>\n",
       "      <td>Besedo ima poslanec Igor Peček.</td>\n",
       "      <td>2018-08-17</td>\n",
       "      <td>Izred</td>\n",
       "      <td>ParlaMint-SI_2018-08-17-SDZ8-Izredna-05.</td>\n",
       "    </tr>\n",
       "    <tr>\n",
       "      <th>43015</th>\n",
       "      <td>Dobro. Hvala lepa. Nadaljujemo s poslanskim vp...</td>\n",
       "      <td>2017-09-18</td>\n",
       "      <td>Redna</td>\n",
       "      <td>ParlaMint-SI_2017-09-18-SDZ7-Redna-33.u2</td>\n",
       "    </tr>\n",
       "    <tr>\n",
       "      <th>10590</th>\n",
       "      <td>Hvala za besedo in seveda tudi hvala za vaš od...</td>\n",
       "      <td>2015-06-15</td>\n",
       "      <td>Redna</td>\n",
       "      <td>ParlaMint-SI_2015-06-15-SDZ7-Redna-09.u1</td>\n",
       "    </tr>\n",
       "    <tr>\n",
       "      <th>13125</th>\n",
       "      <td>Besedo dajem ministru za infrastrukturo dr. Pe...</td>\n",
       "      <td>2015-07-14</td>\n",
       "      <td>Redna</td>\n",
       "      <td>ParlaMint-SI_2015-07-14-SDZ7-Redna-10.u4</td>\n",
       "    </tr>\n",
       "    <tr>\n",
       "      <th>7844</th>\n",
       "      <td>Hvala. Besedo ima mag. Branislav Rajić, pripra...</td>\n",
       "      <td>2015-03-27</td>\n",
       "      <td>Redna</td>\n",
       "      <td>ParlaMint-SI_2015-03-27-SDZ7-Redna-06.u4</td>\n",
       "    </tr>\n",
       "    <tr>\n",
       "      <th>70354</th>\n",
       "      <td>Hvala za besedo, gospod predsednik. Drage kole...</td>\n",
       "      <td>2020-04-02</td>\n",
       "      <td>Izred</td>\n",
       "      <td>ParlaMint-SI_2020-04-02-SDZ8-Izredna-33.</td>\n",
       "    </tr>\n",
       "    <tr>\n",
       "      <th>18200</th>\n",
       "      <td>Hvala lepa, predsedujoča, za besedo. Spoštovan...</td>\n",
       "      <td>2015-11-20</td>\n",
       "      <td>Redna</td>\n",
       "      <td>ParlaMint-SI_2015-11-20-SDZ7-Redna-13.u7</td>\n",
       "    </tr>\n",
       "    <tr>\n",
       "      <th>18633</th>\n",
       "      <td>Hvala lepa. Gospod Breznik ima zahtevo za razp...</td>\n",
       "      <td>2015-11-24</td>\n",
       "      <td>Redna</td>\n",
       "      <td>ParlaMint-SI_2015-11-24-SDZ7-Redna-13.u2</td>\n",
       "    </tr>\n",
       "    <tr>\n",
       "      <th>34773</th>\n",
       "      <td>Spoštovani podpredsednik, hvala za besedo. TEŠ...</td>\n",
       "      <td>2017-01-23</td>\n",
       "      <td>Redna</td>\n",
       "      <td>ParlaMint-SI_2017-01-23-SDZ7-Redna-26.u2</td>\n",
       "    </tr>\n",
       "    <tr>\n",
       "      <th>67219</th>\n",
       "      <td>Hvala za besedo, predsedujoči. Lep pozdrav vse...</td>\n",
       "      <td>2019-11-26</td>\n",
       "      <td>Redna</td>\n",
       "      <td>ParlaMint-SI_2019-11-26-SDZ8-Redna-13.u1</td>\n",
       "    </tr>\n",
       "    <tr>\n",
       "      <th>59321</th>\n",
       "      <td>Gospod minister, imate besedo za dopolnitev od...</td>\n",
       "      <td>2019-04-15</td>\n",
       "      <td>Redna</td>\n",
       "      <td>ParlaMint-SI_2019-04-15-SDZ8-Redna-07.u2</td>\n",
       "    </tr>\n",
       "    <tr>\n",
       "      <th>43488</th>\n",
       "      <td>Dobro. Na kratko. Začel bom tukaj, kjer je kon...</td>\n",
       "      <td>2017-09-20</td>\n",
       "      <td>Redna</td>\n",
       "      <td>ParlaMint-SI_2017-09-20-SDZ7-Redna-33.u2</td>\n",
       "    </tr>\n",
       "    <tr>\n",
       "      <th>34365</th>\n",
       "      <td>Ponovno lepo pozdravljeni vsi! Veseli nas, da ...</td>\n",
       "      <td>2016-12-19</td>\n",
       "      <td>Redna</td>\n",
       "      <td>ParlaMint-SI_2016-12-19-SDZ7-Redna-25.u1</td>\n",
       "    </tr>\n",
       "    <tr>\n",
       "      <th>53127</th>\n",
       "      <td>Hvala, gospa Jakopič. Predlog je obravnavala t...</td>\n",
       "      <td>2018-10-09</td>\n",
       "      <td>Izred</td>\n",
       "      <td>ParlaMint-SI_2018-10-09-SDZ8-Izredna-10.</td>\n",
       "    </tr>\n",
       "    <tr>\n",
       "      <th>65224</th>\n",
       "      <td>Hvala lepa. Klar nekaj je bilo že povedanega n...</td>\n",
       "      <td>2019-10-24</td>\n",
       "      <td>Redna</td>\n",
       "      <td>ParlaMint-SI_2019-10-24-SDZ8-Redna-12.u8</td>\n",
       "    </tr>\n",
       "    <tr>\n",
       "      <th>50105</th>\n",
       "      <td>Besedo ima gospod Jan Škoberne. Pripravita naj...</td>\n",
       "      <td>2018-03-07</td>\n",
       "      <td>Izred</td>\n",
       "      <td>ParlaMint-SI_2018-03-07-SDZ7-Izredna-54.</td>\n",
       "    </tr>\n",
       "    <tr>\n",
       "      <th>28341</th>\n",
       "      <td>Hvala. Obrazložitev bo povsem kratka, kajti up...</td>\n",
       "      <td>2016-07-13</td>\n",
       "      <td>Redna</td>\n",
       "      <td>ParlaMint-SI_2016-07-13-SDZ7-Redna-21.u1</td>\n",
       "    </tr>\n",
       "  </tbody>\n",
       "</table>\n",
       "</div>"
      ],
      "text/plain": [
       "                                                   Tekst       Datum  Vrsta  \\\n",
       "55938  Še vedno ne razberem vašega postopkovnega pred...  2018-12-18  Redna   \n",
       "6782   Hvala. Niste zaključili. Ne, šalim se. Samo to...  2015-03-04  Redna   \n",
       "70754  Hvala lepa. Predlog zakona je obravnaval Odbor...  2020-04-28  Izred   \n",
       "52477                    Besedo ima poslanec Igor Peček.  2018-08-17  Izred   \n",
       "43015  Dobro. Hvala lepa. Nadaljujemo s poslanskim vp...  2017-09-18  Redna   \n",
       "10590  Hvala za besedo in seveda tudi hvala za vaš od...  2015-06-15  Redna   \n",
       "13125  Besedo dajem ministru za infrastrukturo dr. Pe...  2015-07-14  Redna   \n",
       "7844   Hvala. Besedo ima mag. Branislav Rajić, pripra...  2015-03-27  Redna   \n",
       "70354  Hvala za besedo, gospod predsednik. Drage kole...  2020-04-02  Izred   \n",
       "18200  Hvala lepa, predsedujoča, za besedo. Spoštovan...  2015-11-20  Redna   \n",
       "18633  Hvala lepa. Gospod Breznik ima zahtevo za razp...  2015-11-24  Redna   \n",
       "34773  Spoštovani podpredsednik, hvala za besedo. TEŠ...  2017-01-23  Redna   \n",
       "67219  Hvala za besedo, predsedujoči. Lep pozdrav vse...  2019-11-26  Redna   \n",
       "59321  Gospod minister, imate besedo za dopolnitev od...  2019-04-15  Redna   \n",
       "43488  Dobro. Na kratko. Začel bom tukaj, kjer je kon...  2017-09-20  Redna   \n",
       "34365  Ponovno lepo pozdravljeni vsi! Veseli nas, da ...  2016-12-19  Redna   \n",
       "53127  Hvala, gospa Jakopič. Predlog je obravnavala t...  2018-10-09  Izred   \n",
       "65224  Hvala lepa. Klar nekaj je bilo že povedanega n...  2019-10-24  Redna   \n",
       "50105  Besedo ima gospod Jan Škoberne. Pripravita naj...  2018-03-07  Izred   \n",
       "28341  Hvala. Obrazložitev bo povsem kratka, kajti up...  2016-07-13  Redna   \n",
       "\n",
       "                                             ID  \n",
       "55938  ParlaMint-SI_2018-12-18-SDZ8-Redna-03.u1  \n",
       "6782   ParlaMint-SI_2015-03-04-SDZ7-Redna-05.u1  \n",
       "70754  ParlaMint-SI_2020-04-28-SDZ8-Izredna-35.  \n",
       "52477  ParlaMint-SI_2018-08-17-SDZ8-Izredna-05.  \n",
       "43015  ParlaMint-SI_2017-09-18-SDZ7-Redna-33.u2  \n",
       "10590  ParlaMint-SI_2015-06-15-SDZ7-Redna-09.u1  \n",
       "13125  ParlaMint-SI_2015-07-14-SDZ7-Redna-10.u4  \n",
       "7844   ParlaMint-SI_2015-03-27-SDZ7-Redna-06.u4  \n",
       "70354  ParlaMint-SI_2020-04-02-SDZ8-Izredna-33.  \n",
       "18200  ParlaMint-SI_2015-11-20-SDZ7-Redna-13.u7  \n",
       "18633  ParlaMint-SI_2015-11-24-SDZ7-Redna-13.u2  \n",
       "34773  ParlaMint-SI_2017-01-23-SDZ7-Redna-26.u2  \n",
       "67219  ParlaMint-SI_2019-11-26-SDZ8-Redna-13.u1  \n",
       "59321  ParlaMint-SI_2019-04-15-SDZ8-Redna-07.u2  \n",
       "43488  ParlaMint-SI_2017-09-20-SDZ7-Redna-33.u2  \n",
       "34365  ParlaMint-SI_2016-12-19-SDZ7-Redna-25.u1  \n",
       "53127  ParlaMint-SI_2018-10-09-SDZ8-Izredna-10.  \n",
       "65224  ParlaMint-SI_2019-10-24-SDZ8-Redna-12.u8  \n",
       "50105  ParlaMint-SI_2018-03-07-SDZ7-Izredna-54.  \n",
       "28341  ParlaMint-SI_2016-07-13-SDZ7-Redna-21.u1  "
      ]
     },
     "execution_count": 9,
     "metadata": {},
     "output_type": "execute_result"
    }
   ],
   "source": [
    "df.sample(20)"
   ]
  },
  {
   "cell_type": "code",
   "execution_count": 10,
   "id": "9c7cf683",
   "metadata": {},
   "outputs": [
    {
     "data": {
      "text/plain": [
       "'Hvala lepa! Vsi prijavljeni razpravljavci, ki ste to želeli, ste dobili besedo. Ker čas, določen za razpravo, še ni potekel, sprašujem, ali želi na podlagi prvega odstavka . člena Poslovnika zbora, še kdo razpravljati. Ker vidim, da je interesa več, bomo Še pred prijavo vas želim opozoriti, da se k prijavi prijavite s pritiskom tipke za vklop mikrofona. Če želita razpravljati tudi predstavnik predlagatelja predloga zakona, Jožef Horvat, in predstavnica Vlade, prosim, da se prav tako prijavita s pritiskom tipke za vklop mikrofona. V tem primeru dobita besedo kot zadnja, in sicer najprej predstavnica Vlade in nato predstavnik predlagatelja. Zdaj pa začenjamo s postopkom za prijavo. Vsak razpravljavec ima na voljo pet minut. Besedo ima, najprej, poslanec Franc Kramar. Izvolite.'"
      ]
     },
     "execution_count": 10,
     "metadata": {},
     "output_type": "execute_result"
    }
   ],
   "source": [
    "df.iloc[54576]['Tekst']"
   ]
  },
  {
   "cell_type": "markdown",
   "id": "e740f2a9",
   "metadata": {},
   "source": [
    "## Preprocesiranje\n",
    "Podatke je nato treba prečistiti, tj. spraviti v obliko, primerno za procesiranje naravnega jezika. Vso besedilo moramo pretvoriti v majhne črke. Na koncu prečiščeno tabelo shranimo v csv datoteko.\n",
    "\n",
    "### Pretvorba v male črke"
   ]
  },
  {
   "cell_type": "code",
   "execution_count": 11,
   "id": "093a7587",
   "metadata": {},
   "outputs": [],
   "source": [
    "df['Tekst'] = df['Tekst'].apply(lambda x: ' '.join(x.lower().split()))"
   ]
  },
  {
   "cell_type": "code",
   "execution_count": 12,
   "id": "b082d978",
   "metadata": {},
   "outputs": [
    {
     "data": {
      "text/html": [
       "<div>\n",
       "<style scoped>\n",
       "    .dataframe tbody tr th:only-of-type {\n",
       "        vertical-align: middle;\n",
       "    }\n",
       "\n",
       "    .dataframe tbody tr th {\n",
       "        vertical-align: top;\n",
       "    }\n",
       "\n",
       "    .dataframe thead th {\n",
       "        text-align: right;\n",
       "    }\n",
       "</style>\n",
       "<table border=\"1\" class=\"dataframe\">\n",
       "  <thead>\n",
       "    <tr style=\"text-align: right;\">\n",
       "      <th></th>\n",
       "      <th>Tekst</th>\n",
       "      <th>Datum</th>\n",
       "      <th>Vrsta</th>\n",
       "      <th>ID</th>\n",
       "    </tr>\n",
       "  </thead>\n",
       "  <tbody>\n",
       "    <tr>\n",
       "      <th>0</th>\n",
       "      <td>spoštovani, prosim, da zasedete svoja mesta. v...</td>\n",
       "      <td>2014-08-01</td>\n",
       "      <td>Redna</td>\n",
       "      <td>ParlaMint-SI_2014-08-01-SDZ7-Redna-01.u1</td>\n",
       "    </tr>\n",
       "    <tr>\n",
       "      <th>1</th>\n",
       "      <td>hvala za besedo, predsedujoča. spoštovani pred...</td>\n",
       "      <td>2014-08-01</td>\n",
       "      <td>Redna</td>\n",
       "      <td>ParlaMint-SI_2014-08-01-SDZ7-Redna-01.u2</td>\n",
       "    </tr>\n",
       "    <tr>\n",
       "      <th>2</th>\n",
       "      <td>zahvaljujem se spoštovanemu gospodu janku vebr...</td>\n",
       "      <td>2014-08-01</td>\n",
       "      <td>Redna</td>\n",
       "      <td>ParlaMint-SI_2014-08-01-SDZ7-Redna-01.u3</td>\n",
       "    </tr>\n",
       "    <tr>\n",
       "      <th>3</th>\n",
       "      <td>spoštovana gospa predsedujoča, spoštovane posl...</td>\n",
       "      <td>2014-08-01</td>\n",
       "      <td>Redna</td>\n",
       "      <td>ParlaMint-SI_2014-08-01-SDZ7-Redna-01.u4</td>\n",
       "    </tr>\n",
       "    <tr>\n",
       "      <th>4</th>\n",
       "      <td>predsedniku republike, spoštovanemu gospodu bo...</td>\n",
       "      <td>2014-08-01</td>\n",
       "      <td>Redna</td>\n",
       "      <td>ParlaMint-SI_2014-08-01-SDZ7-Redna-01.u5</td>\n",
       "    </tr>\n",
       "  </tbody>\n",
       "</table>\n",
       "</div>"
      ],
      "text/plain": [
       "                                               Tekst       Datum  Vrsta  \\\n",
       "0  spoštovani, prosim, da zasedete svoja mesta. v...  2014-08-01  Redna   \n",
       "1  hvala za besedo, predsedujoča. spoštovani pred...  2014-08-01  Redna   \n",
       "2  zahvaljujem se spoštovanemu gospodu janku vebr...  2014-08-01  Redna   \n",
       "3  spoštovana gospa predsedujoča, spoštovane posl...  2014-08-01  Redna   \n",
       "4  predsedniku republike, spoštovanemu gospodu bo...  2014-08-01  Redna   \n",
       "\n",
       "                                         ID  \n",
       "0  ParlaMint-SI_2014-08-01-SDZ7-Redna-01.u1  \n",
       "1  ParlaMint-SI_2014-08-01-SDZ7-Redna-01.u2  \n",
       "2  ParlaMint-SI_2014-08-01-SDZ7-Redna-01.u3  \n",
       "3  ParlaMint-SI_2014-08-01-SDZ7-Redna-01.u4  \n",
       "4  ParlaMint-SI_2014-08-01-SDZ7-Redna-01.u5  "
      ]
     },
     "execution_count": 12,
     "metadata": {},
     "output_type": "execute_result"
    }
   ],
   "source": [
    "df.head(5)"
   ]
  },
  {
   "cell_type": "code",
   "execution_count": 14,
   "id": "006e422e",
   "metadata": {},
   "outputs": [],
   "source": [
    "import os\n",
    "directory = 'C:\\\\Users\\\\gogi1\\\\Desktop\\\\diploma\\\\ParlaMint-SI\\\\ParlaMint-SI.txt'\n",
    "files = []\n",
    "\n",
    "for filename in os.listdir(directory):\n",
    "    f = os.path.join(directory, filename)\n",
    "    if os.path.isfile(f) and f[-1]=='v':\n",
    "        files.append(f)"
   ]
  },
  {
   "cell_type": "code",
   "execution_count": 15,
   "id": "7e845c0e",
   "metadata": {},
   "outputs": [
    {
     "data": {
      "text/plain": [
       "414"
      ]
     },
     "execution_count": 15,
     "metadata": {},
     "output_type": "execute_result"
    }
   ],
   "source": [
    "len(files)"
   ]
  },
  {
   "cell_type": "code",
   "execution_count": 33,
   "id": "dab0872c",
   "metadata": {},
   "outputs": [],
   "source": [
    "import re\n",
    "directory = 'C:\\\\Users\\\\gogi1\\\\Desktop\\\\diploma\\\\ParlaMint-SI\\\\ParlaMint-SI.txt'\n",
    "rojstvo = []\n",
    "spol = []\n",
    "polStranka = []\n",
    "\n",
    "for file in files:\n",
    "    with open(file, encoding='utf-8') as f:\n",
    "        lines = f.readlines()\n",
    "        #next(f) # skip header line\n",
    "        for line in lines[1:]:\n",
    "            elementi = line.split('\\t')\n",
    "            id = elementi[0]\n",
    "            gender = elementi[17]\n",
    "            birth = elementi[18]\n",
    "            party = elementi[13]\n",
    "            rojstvo.append(birth)\n",
    "            spol.append(gender)\n",
    "            polStranka.append(party)"
   ]
  },
  {
   "cell_type": "code",
   "execution_count": 45,
   "id": "699a7bb2",
   "metadata": {},
   "outputs": [],
   "source": [
    "rojstvo2 = []\n",
    "\n",
    "for r in rojstvo:\n",
    "    rojstvo2.append(r[:4])"
   ]
  },
  {
   "cell_type": "code",
   "execution_count": 47,
   "id": "ea72da47",
   "metadata": {},
   "outputs": [
    {
     "data": {
      "text/plain": [
       "(75122, 4)"
      ]
     },
     "execution_count": 47,
     "metadata": {},
     "output_type": "execute_result"
    }
   ],
   "source": [
    "df.shape"
   ]
  },
  {
   "cell_type": "code",
   "execution_count": 48,
   "id": "19ef0e6e",
   "metadata": {},
   "outputs": [
    {
     "data": {
      "text/plain": [
       "75122"
      ]
     },
     "execution_count": 48,
     "metadata": {},
     "output_type": "execute_result"
    }
   ],
   "source": [
    "len(rojstvo2)"
   ]
  },
  {
   "cell_type": "code",
   "execution_count": 49,
   "id": "a1f46236",
   "metadata": {},
   "outputs": [],
   "source": [
    "df['Rojstvo'] = rojstvo2\n",
    "df['PoliticnaStranka'] = polStranka\n",
    "df['Spol'] = spol"
   ]
  },
  {
   "cell_type": "code",
   "execution_count": 50,
   "id": "406cb212",
   "metadata": {},
   "outputs": [
    {
     "data": {
      "text/html": [
       "<div>\n",
       "<style scoped>\n",
       "    .dataframe tbody tr th:only-of-type {\n",
       "        vertical-align: middle;\n",
       "    }\n",
       "\n",
       "    .dataframe tbody tr th {\n",
       "        vertical-align: top;\n",
       "    }\n",
       "\n",
       "    .dataframe thead th {\n",
       "        text-align: right;\n",
       "    }\n",
       "</style>\n",
       "<table border=\"1\" class=\"dataframe\">\n",
       "  <thead>\n",
       "    <tr style=\"text-align: right;\">\n",
       "      <th></th>\n",
       "      <th>Tekst</th>\n",
       "      <th>Datum</th>\n",
       "      <th>Vrsta</th>\n",
       "      <th>ID</th>\n",
       "      <th>Rojstvo</th>\n",
       "      <th>PoliticnaStranka</th>\n",
       "      <th>Spol</th>\n",
       "    </tr>\n",
       "  </thead>\n",
       "  <tbody>\n",
       "    <tr>\n",
       "      <th>0</th>\n",
       "      <td>spoštovani, prosim, da zasedete svoja mesta. v...</td>\n",
       "      <td>2014-08-01</td>\n",
       "      <td>Redna</td>\n",
       "      <td>ParlaMint-SI_2014-08-01-SDZ7-Redna-01.u1</td>\n",
       "      <td>1944</td>\n",
       "      <td>DeSUS</td>\n",
       "      <td>F</td>\n",
       "    </tr>\n",
       "    <tr>\n",
       "      <th>1</th>\n",
       "      <td>hvala za besedo, predsedujoča. spoštovani pred...</td>\n",
       "      <td>2014-08-01</td>\n",
       "      <td>Redna</td>\n",
       "      <td>ParlaMint-SI_2014-08-01-SDZ7-Redna-01.u2</td>\n",
       "      <td>1960</td>\n",
       "      <td>SD</td>\n",
       "      <td>M</td>\n",
       "    </tr>\n",
       "    <tr>\n",
       "      <th>2</th>\n",
       "      <td>zahvaljujem se spoštovanemu gospodu janku vebr...</td>\n",
       "      <td>2014-08-01</td>\n",
       "      <td>Redna</td>\n",
       "      <td>ParlaMint-SI_2014-08-01-SDZ7-Redna-01.u3</td>\n",
       "      <td>1944</td>\n",
       "      <td>DeSUS</td>\n",
       "      <td>F</td>\n",
       "    </tr>\n",
       "    <tr>\n",
       "      <th>3</th>\n",
       "      <td>spoštovana gospa predsedujoča, spoštovane posl...</td>\n",
       "      <td>2014-08-01</td>\n",
       "      <td>Redna</td>\n",
       "      <td>ParlaMint-SI_2014-08-01-SDZ7-Redna-01.u4</td>\n",
       "      <td>1963</td>\n",
       "      <td></td>\n",
       "      <td>M</td>\n",
       "    </tr>\n",
       "    <tr>\n",
       "      <th>4</th>\n",
       "      <td>predsedniku republike, spoštovanemu gospodu bo...</td>\n",
       "      <td>2014-08-01</td>\n",
       "      <td>Redna</td>\n",
       "      <td>ParlaMint-SI_2014-08-01-SDZ7-Redna-01.u5</td>\n",
       "      <td>1944</td>\n",
       "      <td>DeSUS</td>\n",
       "      <td>F</td>\n",
       "    </tr>\n",
       "  </tbody>\n",
       "</table>\n",
       "</div>"
      ],
      "text/plain": [
       "                                               Tekst       Datum  Vrsta  \\\n",
       "0  spoštovani, prosim, da zasedete svoja mesta. v...  2014-08-01  Redna   \n",
       "1  hvala za besedo, predsedujoča. spoštovani pred...  2014-08-01  Redna   \n",
       "2  zahvaljujem se spoštovanemu gospodu janku vebr...  2014-08-01  Redna   \n",
       "3  spoštovana gospa predsedujoča, spoštovane posl...  2014-08-01  Redna   \n",
       "4  predsedniku republike, spoštovanemu gospodu bo...  2014-08-01  Redna   \n",
       "\n",
       "                                         ID Rojstvo PoliticnaStranka Spol  \n",
       "0  ParlaMint-SI_2014-08-01-SDZ7-Redna-01.u1    1944            DeSUS    F  \n",
       "1  ParlaMint-SI_2014-08-01-SDZ7-Redna-01.u2    1960               SD    M  \n",
       "2  ParlaMint-SI_2014-08-01-SDZ7-Redna-01.u3    1944            DeSUS    F  \n",
       "3  ParlaMint-SI_2014-08-01-SDZ7-Redna-01.u4    1963                     M  \n",
       "4  ParlaMint-SI_2014-08-01-SDZ7-Redna-01.u5    1944            DeSUS    F  "
      ]
     },
     "execution_count": 50,
     "metadata": {},
     "output_type": "execute_result"
    }
   ],
   "source": [
    "df.head()"
   ]
  },
  {
   "cell_type": "code",
   "execution_count": 51,
   "id": "25fdb428",
   "metadata": {},
   "outputs": [],
   "source": [
    "df.to_csv('dataframe.csv', encoding='utf-8', index=False)"
   ]
  },
  {
   "cell_type": "code",
   "execution_count": null,
   "id": "aadd66a7",
   "metadata": {},
   "outputs": [],
   "source": []
  }
 ],
 "metadata": {
  "kernelspec": {
   "display_name": "Python 3 (ipykernel)",
   "language": "python",
   "name": "python3"
  },
  "language_info": {
   "codemirror_mode": {
    "name": "ipython",
    "version": 3
   },
   "file_extension": ".py",
   "mimetype": "text/x-python",
   "name": "python",
   "nbconvert_exporter": "python",
   "pygments_lexer": "ipython3",
   "version": "3.9.7"
  }
 },
 "nbformat": 4,
 "nbformat_minor": 5
}
