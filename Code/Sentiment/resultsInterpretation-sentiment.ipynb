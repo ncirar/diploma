{
 "cells": [
  {
   "cell_type": "code",
   "execution_count": 2,
   "id": "3da3b281",
   "metadata": {},
   "outputs": [],
   "source": [
    "import pandas as pd\n",
    "dfSest = pd.read_csv('dvaSestnajst-crosloengualBERT.csv')"
   ]
  },
  {
   "cell_type": "code",
   "execution_count": 3,
   "id": "78979786",
   "metadata": {},
   "outputs": [
    {
     "data": {
      "text/plain": [
       "neutral     3285\n",
       "negative       9\n",
       "positive       6\n",
       "Name: sent, dtype: int64"
      ]
     },
     "execution_count": 3,
     "metadata": {},
     "output_type": "execute_result"
    }
   ],
   "source": [
    "dfSest['sent'].value_counts()"
   ]
  },
  {
   "cell_type": "code",
   "execution_count": 4,
   "id": "b4a54cc9",
   "metadata": {},
   "outputs": [],
   "source": [
    "positiveSest = dfSest[dfSest['sent']=='positive']"
   ]
  },
  {
   "cell_type": "code",
   "execution_count": 3,
   "id": "9b4dd18e",
   "metadata": {},
   "outputs": [
    {
     "data": {
      "text/html": [
       "<div>\n",
       "<style scoped>\n",
       "    .dataframe tbody tr th:only-of-type {\n",
       "        vertical-align: middle;\n",
       "    }\n",
       "\n",
       "    .dataframe tbody tr th {\n",
       "        vertical-align: top;\n",
       "    }\n",
       "\n",
       "    .dataframe thead th {\n",
       "        text-align: right;\n",
       "    }\n",
       "</style>\n",
       "<table border=\"1\" class=\"dataframe\">\n",
       "  <thead>\n",
       "    <tr style=\"text-align: right;\">\n",
       "      <th></th>\n",
       "      <th>text</th>\n",
       "      <th>leto</th>\n",
       "      <th>mesec</th>\n",
       "      <th>rojstvo</th>\n",
       "      <th>stranka</th>\n",
       "      <th>spol</th>\n",
       "      <th>sent</th>\n",
       "    </tr>\n",
       "  </thead>\n",
       "  <tbody>\n",
       "    <tr>\n",
       "      <th>40</th>\n",
       "      <td>spoštovana predsedujoča, spoštovani zbor, spoš...</td>\n",
       "      <td>2016</td>\n",
       "      <td>1</td>\n",
       "      <td>-\\n</td>\n",
       "      <td>NaN</td>\n",
       "      <td>F</td>\n",
       "      <td>positive</td>\n",
       "    </tr>\n",
       "    <tr>\n",
       "      <th>872</th>\n",
       "      <td>hvala za besedo, predsednik. lep pozdrav minis...</td>\n",
       "      <td>2016</td>\n",
       "      <td>3</td>\n",
       "      <td>1958</td>\n",
       "      <td>SDS</td>\n",
       "      <td>M</td>\n",
       "      <td>positive</td>\n",
       "    </tr>\n",
       "    <tr>\n",
       "      <th>2107</th>\n",
       "      <td>mi se močno zavedamo skrbi za uporabo in razvo...</td>\n",
       "      <td>2016</td>\n",
       "      <td>9</td>\n",
       "      <td>-\\n</td>\n",
       "      <td>NaN</td>\n",
       "      <td>F</td>\n",
       "      <td>positive</td>\n",
       "    </tr>\n",
       "    <tr>\n",
       "      <th>2283</th>\n",
       "      <td>mir v dvorani!</td>\n",
       "      <td>2016</td>\n",
       "      <td>9</td>\n",
       "      <td>1967</td>\n",
       "      <td>SMC</td>\n",
       "      <td>M</td>\n",
       "      <td>positive</td>\n",
       "    </tr>\n",
       "    <tr>\n",
       "      <th>2738</th>\n",
       "      <td>mir v dvorani!</td>\n",
       "      <td>2016</td>\n",
       "      <td>11</td>\n",
       "      <td>1967</td>\n",
       "      <td>SMC</td>\n",
       "      <td>M</td>\n",
       "      <td>positive</td>\n",
       "    </tr>\n",
       "    <tr>\n",
       "      <th>3141</th>\n",
       "      <td>predsednik, hvala za besedo. spoštovani minist...</td>\n",
       "      <td>2016</td>\n",
       "      <td>12</td>\n",
       "      <td>1982</td>\n",
       "      <td>SMC</td>\n",
       "      <td>F</td>\n",
       "      <td>positive</td>\n",
       "    </tr>\n",
       "  </tbody>\n",
       "</table>\n",
       "</div>"
      ],
      "text/plain": [
       "                                                   text  leto  mesec rojstvo  \\\n",
       "40    spoštovana predsedujoča, spoštovani zbor, spoš...  2016      1     -\\n   \n",
       "872   hvala za besedo, predsednik. lep pozdrav minis...  2016      3    1958   \n",
       "2107  mi se močno zavedamo skrbi za uporabo in razvo...  2016      9     -\\n   \n",
       "2283                                     mir v dvorani!  2016      9    1967   \n",
       "2738                                     mir v dvorani!  2016     11    1967   \n",
       "3141  predsednik, hvala za besedo. spoštovani minist...  2016     12    1982   \n",
       "\n",
       "     stranka spol      sent  \n",
       "40       NaN    F  positive  \n",
       "872      SDS    M  positive  \n",
       "2107     NaN    F  positive  \n",
       "2283     SMC    M  positive  \n",
       "2738     SMC    M  positive  \n",
       "3141     SMC    F  positive  "
      ]
     },
     "execution_count": 3,
     "metadata": {},
     "output_type": "execute_result"
    }
   ],
   "source": [
    "dfSest[dfSest['sent']=='positive']"
   ]
  },
  {
   "cell_type": "code",
   "execution_count": 5,
   "id": "f64ca633",
   "metadata": {},
   "outputs": [
    {
     "data": {
      "text/plain": [
       "F    3\n",
       "M    3\n",
       "Name: spol, dtype: int64"
      ]
     },
     "execution_count": 5,
     "metadata": {},
     "output_type": "execute_result"
    }
   ],
   "source": [
    "positiveSest['spol'].value_counts()"
   ]
  },
  {
   "cell_type": "code",
   "execution_count": 6,
   "id": "32650cb7",
   "metadata": {},
   "outputs": [
    {
     "data": {
      "text/plain": [
       "SMC    3\n",
       "SDS    1\n",
       "Name: stranka, dtype: int64"
      ]
     },
     "execution_count": 6,
     "metadata": {},
     "output_type": "execute_result"
    }
   ],
   "source": [
    "positiveSest['stranka'].value_counts()"
   ]
  },
  {
   "cell_type": "code",
   "execution_count": 7,
   "id": "397437dd",
   "metadata": {},
   "outputs": [
    {
     "data": {
      "text/plain": [
       "-\\n     2\n",
       "1967    2\n",
       "1958    1\n",
       "1982    1\n",
       "Name: rojstvo, dtype: int64"
      ]
     },
     "execution_count": 7,
     "metadata": {},
     "output_type": "execute_result"
    }
   ],
   "source": [
    "positiveSest['rojstvo'].value_counts()"
   ]
  },
  {
   "cell_type": "code",
   "execution_count": 8,
   "id": "b0285bd4",
   "metadata": {},
   "outputs": [],
   "source": [
    "negativeSest = dfSest[dfSest['sent']=='negative']"
   ]
  },
  {
   "cell_type": "code",
   "execution_count": 4,
   "id": "9c3c667c",
   "metadata": {},
   "outputs": [
    {
     "data": {
      "text/html": [
       "<div>\n",
       "<style scoped>\n",
       "    .dataframe tbody tr th:only-of-type {\n",
       "        vertical-align: middle;\n",
       "    }\n",
       "\n",
       "    .dataframe tbody tr th {\n",
       "        vertical-align: top;\n",
       "    }\n",
       "\n",
       "    .dataframe thead th {\n",
       "        text-align: right;\n",
       "    }\n",
       "</style>\n",
       "<table border=\"1\" class=\"dataframe\">\n",
       "  <thead>\n",
       "    <tr style=\"text-align: right;\">\n",
       "      <th></th>\n",
       "      <th>text</th>\n",
       "      <th>leto</th>\n",
       "      <th>mesec</th>\n",
       "      <th>rojstvo</th>\n",
       "      <th>stranka</th>\n",
       "      <th>spol</th>\n",
       "      <th>sent</th>\n",
       "    </tr>\n",
       "  </thead>\n",
       "  <tbody>\n",
       "    <tr>\n",
       "      <th>115</th>\n",
       "      <td>hvala vam za ta odgovor. boste imeli še možnos...</td>\n",
       "      <td>2016</td>\n",
       "      <td>1</td>\n",
       "      <td>1963</td>\n",
       "      <td>Levica</td>\n",
       "      <td>F</td>\n",
       "      <td>negative</td>\n",
       "    </tr>\n",
       "    <tr>\n",
       "      <th>123</th>\n",
       "      <td>hvala za besedo, predsedujoči. dopolnilno zdra...</td>\n",
       "      <td>2016</td>\n",
       "      <td>1</td>\n",
       "      <td>1989</td>\n",
       "      <td>Levica</td>\n",
       "      <td>M</td>\n",
       "      <td>negative</td>\n",
       "    </tr>\n",
       "    <tr>\n",
       "      <th>549</th>\n",
       "      <td>hvala. ljudem s socialnega dna je seveda siste...</td>\n",
       "      <td>2016</td>\n",
       "      <td>2</td>\n",
       "      <td>1983</td>\n",
       "      <td>Levica</td>\n",
       "      <td>M</td>\n",
       "      <td>negative</td>\n",
       "    </tr>\n",
       "    <tr>\n",
       "      <th>1145</th>\n",
       "      <td>spoštovani! problematika delavcev migrantov, k...</td>\n",
       "      <td>2016</td>\n",
       "      <td>4</td>\n",
       "      <td>1961</td>\n",
       "      <td>SDS</td>\n",
       "      <td>M</td>\n",
       "      <td>negative</td>\n",
       "    </tr>\n",
       "    <tr>\n",
       "      <th>1270</th>\n",
       "      <td>spoštovani gospod predsedujoči, dragi kolegice...</td>\n",
       "      <td>2016</td>\n",
       "      <td>5</td>\n",
       "      <td>1964</td>\n",
       "      <td>SMC</td>\n",
       "      <td>M</td>\n",
       "      <td>negative</td>\n",
       "    </tr>\n",
       "    <tr>\n",
       "      <th>1737</th>\n",
       "      <td>spoštovani predsednik, spoštovana državna sekr...</td>\n",
       "      <td>2016</td>\n",
       "      <td>6</td>\n",
       "      <td>1972</td>\n",
       "      <td>NSi</td>\n",
       "      <td>F</td>\n",
       "      <td>negative</td>\n",
       "    </tr>\n",
       "    <tr>\n",
       "      <th>1766</th>\n",
       "      <td>hvala, predsedujoči, za besedo. lep pozdrav vs...</td>\n",
       "      <td>2016</td>\n",
       "      <td>6</td>\n",
       "      <td>1987</td>\n",
       "      <td>Levica</td>\n",
       "      <td>M</td>\n",
       "      <td>negative</td>\n",
       "    </tr>\n",
       "    <tr>\n",
       "      <th>2349</th>\n",
       "      <td>hvala lepa za besedo, gospod podpredsednik. sp...</td>\n",
       "      <td>2016</td>\n",
       "      <td>9</td>\n",
       "      <td>1956</td>\n",
       "      <td>DeSUS</td>\n",
       "      <td>F</td>\n",
       "      <td>negative</td>\n",
       "    </tr>\n",
       "    <tr>\n",
       "      <th>2598</th>\n",
       "      <td>spoštovani kolegice in kolegi, spoštovana gosp...</td>\n",
       "      <td>2016</td>\n",
       "      <td>10</td>\n",
       "      <td>1985</td>\n",
       "      <td>NSi</td>\n",
       "      <td>M</td>\n",
       "      <td>negative</td>\n",
       "    </tr>\n",
       "  </tbody>\n",
       "</table>\n",
       "</div>"
      ],
      "text/plain": [
       "                                                   text  leto  mesec rojstvo  \\\n",
       "115   hvala vam za ta odgovor. boste imeli še možnos...  2016      1    1963   \n",
       "123   hvala za besedo, predsedujoči. dopolnilno zdra...  2016      1    1989   \n",
       "549   hvala. ljudem s socialnega dna je seveda siste...  2016      2    1983   \n",
       "1145  spoštovani! problematika delavcev migrantov, k...  2016      4    1961   \n",
       "1270  spoštovani gospod predsedujoči, dragi kolegice...  2016      5    1964   \n",
       "1737  spoštovani predsednik, spoštovana državna sekr...  2016      6    1972   \n",
       "1766  hvala, predsedujoči, za besedo. lep pozdrav vs...  2016      6    1987   \n",
       "2349  hvala lepa za besedo, gospod podpredsednik. sp...  2016      9    1956   \n",
       "2598  spoštovani kolegice in kolegi, spoštovana gosp...  2016     10    1985   \n",
       "\n",
       "     stranka spol      sent  \n",
       "115   Levica    F  negative  \n",
       "123   Levica    M  negative  \n",
       "549   Levica    M  negative  \n",
       "1145     SDS    M  negative  \n",
       "1270     SMC    M  negative  \n",
       "1737     NSi    F  negative  \n",
       "1766  Levica    M  negative  \n",
       "2349   DeSUS    F  negative  \n",
       "2598     NSi    M  negative  "
      ]
     },
     "execution_count": 4,
     "metadata": {},
     "output_type": "execute_result"
    }
   ],
   "source": [
    "dfSest[dfSest['sent']=='negative']"
   ]
  },
  {
   "cell_type": "code",
   "execution_count": 9,
   "id": "ab2b94fa",
   "metadata": {},
   "outputs": [
    {
     "data": {
      "text/plain": [
       "M    6\n",
       "F    3\n",
       "Name: spol, dtype: int64"
      ]
     },
     "execution_count": 9,
     "metadata": {},
     "output_type": "execute_result"
    }
   ],
   "source": [
    "negativeSest['spol'].value_counts()"
   ]
  },
  {
   "cell_type": "code",
   "execution_count": 10,
   "id": "c3a83ae0",
   "metadata": {},
   "outputs": [
    {
     "data": {
      "text/plain": [
       "Levica    4\n",
       "NSi       2\n",
       "SDS       1\n",
       "SMC       1\n",
       "DeSUS     1\n",
       "Name: stranka, dtype: int64"
      ]
     },
     "execution_count": 10,
     "metadata": {},
     "output_type": "execute_result"
    }
   ],
   "source": [
    "negativeSest['stranka'].value_counts()"
   ]
  },
  {
   "cell_type": "code",
   "execution_count": 11,
   "id": "6a911afd",
   "metadata": {},
   "outputs": [
    {
     "data": {
      "text/plain": [
       "1963    1\n",
       "1989    1\n",
       "1983    1\n",
       "1961    1\n",
       "1964    1\n",
       "1972    1\n",
       "1987    1\n",
       "1956    1\n",
       "1985    1\n",
       "Name: rojstvo, dtype: int64"
      ]
     },
     "execution_count": 11,
     "metadata": {},
     "output_type": "execute_result"
    }
   ],
   "source": [
    "negativeSest['rojstvo'].value_counts()"
   ]
  },
  {
   "cell_type": "code",
   "execution_count": 5,
   "id": "84853c77",
   "metadata": {},
   "outputs": [
    {
     "data": {
      "text/plain": [
       "'predsednik, hvala za besedo. spoštovani ministri, ministrski zbor! v zadnjem času se precej govori o investicijah in tujih investicijah nasploh, vesela pa sem seveda, da so to predvsem pozitivne novice. zanimanje tujih investitorjev za vlaganje v sloveniji se krepi, leta je bilo tujih neposrednih investicij v sloveniji za , milijarde evrov, v prvih devetih mesecih leta pa se je ta številka povečala kar za kot v enakem obdobju lanskega leta. osebno seveda zelo pozdravljam prizadevanja v to smer, da imamo teh investicij vedno več, imam pa nekaj dodatnih vprašanj za ministra kako bi se lahko slovenija v prihodnje še bolj pozicionirala kot država oziroma kot lokacija, ki je zanimiva predvsem za investitorje? koliko ljudi deluje v oddelku za tuje investicije v spiritu? s koliko zaposlenimi razpolagajo v podobnih oddelkih v drugih državah evropske unije? katere so po vašem mnenju primerjalne prednosti slovenije, ko gre za odločitev investitorja, da bo ustvaril nova delovna mesta prav tu v sloveniji? ali se ministrstva med seboj povezujejo in sodelujejo ob pripravi novih pravnih podlag, pomembnih za privabljanje novih investicij? za odgovore se vam zahvaljujem že vnaprej.'"
      ]
     },
     "execution_count": 5,
     "metadata": {},
     "output_type": "execute_result"
    }
   ],
   "source": [
    "dfSest.iloc[3141]['text']"
   ]
  },
  {
   "cell_type": "code",
   "execution_count": 6,
   "id": "4d8b40c1",
   "metadata": {},
   "outputs": [
    {
     "data": {
      "text/plain": [
       "'spoštovani! problematika delavcev migrantov, ki so zaposleni izven naših meja, je zelo pereča in izpostavljena. zelo visoka brezposelnost na meji z republiko avstrijo je povzročila, da so si ljudje poiskali službo izven naših meja, in to večina v republiki avstriji. ampak službe niso iskali izven naših meja zato, da bi hlepeli po višjem zaslužku, ampak izključno zato, ker pri nas dela za njih ni bilo in prav tako niso želeli sloneti na slovenski sociali in na miloščini, s katero ne moreš preživeti in ne umreti. ti ljudje so se podali s trebuhom za kruhom, zato da lahko svoje družine dostojanstveno preživijo. prav tako je dejstvo in logično, da so zaposleni kot delovni migranti obdavčeni v državi, v kateri delajo, torej v republiki avstriji, zato večina ali pa nekaj njih ni oddala davčnih napovedi v republiki sloveniji. ker je dohodnina v republiki avstriji nižja, kot je v sloveniji, razlika v davčnih lestvicah torej, je razlog, da morajo delovni migranti doplačevati dohodnino, to razliko dohodnine tudi v republiki sloveniji. problem, ki je nastal s sodbo upravnega sodišča leta , da se v primeru samoprijave posebne dohodninske olajšave ne upoštevajo za vzdrževanje družinske člane, za stroške prevoza in prehrane in posebna olajšava za delavce migrante za čas, ko je veljala. tej sodbi je sledil furs in posledica tega so zelo visoka davčna doplačila tudi tam preko tisoč evrov. predlagatelji avtentične razlage smo prepričani, da je bila ob sprejemu instituta samoprijave zakon o davčnem postopku iz leta volja zakonodajalca, da se tudi v tem primeru upoštevajo posebne dohodninske olajšave. v prid tega govorijo tudi dejstva, da zakonodajalec ni določil, da se te olajšave v primeru uporabe samoprijave ne bi upoštevale. določil je zgolj, da se obračunajo obresti na davčno osnovo, določeno na podlagi samoprijave, to je tudi logično, saj bi v tem primeru institut samoprijave izgubil svoj smisel in namen. zavezanci, ki bi uporabili institut samoprijave, bi se namreč na nek način samokaznovali. zato smo predlagatelji avtentične razlage . člena zakona o davčnem postopku, s katero določamo, da se ta člen mora razumeti tako, da vložitev davčne napovedi na podlagi instituta samoprijave ne povzroči izgube iz naslova materialne zakonodaje oziroma posebnih dohodninskih olajšav. avtentična razlaga ima veljavo za nazaj in s tem pa bi omilili plačilo zelo visokih davčnih doplačil zavezancev, ki so uporabili institut samoprijave. smo pa v slovenski demokratski stranki zelo razočarani nad odnosov sedanje oblasti, torej vlade mira cerarja in koalicije, ki jo sestavljajo stranke smc, sd in desus, do tega kritičnega problema, ki določene posameznike potiska celo na rob obupa. prav zato smo v slovenski demokratski stranki predlagali dolgoročno rešitev tega vprašanja kakor tudi kratkoročno, vendar je bilo s strani vlade in koalicije vse zavrnjeno. iz tega izhaja, da sedanja oblast nima nikakršnega interesa ta problem rešiti niti kratkoročno, kaj šele dolgoročno. ponovno se je izkazalo kot že velikokrat, da vlada mira cerarja govori eno, dela pa povsem nekaj drugega in ta dvoličnost, nesposobnost, neodgovornost te oblasti pelje slovenijo daleč od želenih ciljev, ki so jih obljubljali tako imenovani novi obrazi. upam, da bodo slovenke volivke in volivci v prihodnje bolj previdni, komu bodo oddali svoj glas na volitvah.'"
      ]
     },
     "execution_count": 6,
     "metadata": {},
     "output_type": "execute_result"
    }
   ],
   "source": [
    "dfSest.iloc[1145]['text']"
   ]
  },
  {
   "cell_type": "code",
   "execution_count": 13,
   "id": "6e7912ae",
   "metadata": {},
   "outputs": [],
   "source": [
    "dfSedem = pd.read_csv('dvaSedemnajst-crosloengualBERT.csv')"
   ]
  },
  {
   "cell_type": "code",
   "execution_count": 14,
   "id": "2c8c52b5",
   "metadata": {},
   "outputs": [
    {
     "data": {
      "text/plain": [
       "neutral     3283\n",
       "positive      13\n",
       "negative       4\n",
       "Name: sent, dtype: int64"
      ]
     },
     "execution_count": 14,
     "metadata": {},
     "output_type": "execute_result"
    }
   ],
   "source": [
    "dfSedem['sent'].value_counts()"
   ]
  },
  {
   "cell_type": "code",
   "execution_count": 15,
   "id": "a1568c10",
   "metadata": {},
   "outputs": [],
   "source": [
    "positiveSedem = dfSedem[dfSedem['sent']=='positive']"
   ]
  },
  {
   "cell_type": "code",
   "execution_count": 11,
   "id": "20368d11",
   "metadata": {},
   "outputs": [
    {
     "data": {
      "text/html": [
       "<div>\n",
       "<style scoped>\n",
       "    .dataframe tbody tr th:only-of-type {\n",
       "        vertical-align: middle;\n",
       "    }\n",
       "\n",
       "    .dataframe tbody tr th {\n",
       "        vertical-align: top;\n",
       "    }\n",
       "\n",
       "    .dataframe thead th {\n",
       "        text-align: right;\n",
       "    }\n",
       "</style>\n",
       "<table border=\"1\" class=\"dataframe\">\n",
       "  <thead>\n",
       "    <tr style=\"text-align: right;\">\n",
       "      <th></th>\n",
       "      <th>text</th>\n",
       "      <th>leto</th>\n",
       "      <th>mesec</th>\n",
       "      <th>rojstvo</th>\n",
       "      <th>stranka</th>\n",
       "      <th>spol</th>\n",
       "      <th>sent</th>\n",
       "    </tr>\n",
       "  </thead>\n",
       "  <tbody>\n",
       "    <tr>\n",
       "      <th>745</th>\n",
       "      <td>spoštovani, lep pozdrav tudi z moje strani! si...</td>\n",
       "      <td>2017</td>\n",
       "      <td>3</td>\n",
       "      <td>1981</td>\n",
       "      <td>SMC</td>\n",
       "      <td>M</td>\n",
       "      <td>positive</td>\n",
       "    </tr>\n",
       "    <tr>\n",
       "      <th>826</th>\n",
       "      <td>hvala za besedo in lep pozdrav vsem v imenu po...</td>\n",
       "      <td>2017</td>\n",
       "      <td>3</td>\n",
       "      <td>1960</td>\n",
       "      <td>SD</td>\n",
       "      <td>M</td>\n",
       "      <td>positive</td>\n",
       "    </tr>\n",
       "    <tr>\n",
       "      <th>885</th>\n",
       "      <td>hvala lepa. slovenci smo in imamo razlog, da s...</td>\n",
       "      <td>2017</td>\n",
       "      <td>3</td>\n",
       "      <td>1980</td>\n",
       "      <td>SD</td>\n",
       "      <td>M</td>\n",
       "      <td>positive</td>\n",
       "    </tr>\n",
       "    <tr>\n",
       "      <th>1291</th>\n",
       "      <td>hvala lepa. en lep pozdrav, ponovno, tudi v mo...</td>\n",
       "      <td>2017</td>\n",
       "      <td>5</td>\n",
       "      <td>1954</td>\n",
       "      <td>NaN</td>\n",
       "      <td>F</td>\n",
       "      <td>positive</td>\n",
       "    </tr>\n",
       "    <tr>\n",
       "      <th>1405</th>\n",
       "      <td>spoštovani predsednik, kolegice in kolegi! tri...</td>\n",
       "      <td>2017</td>\n",
       "      <td>5</td>\n",
       "      <td>1958</td>\n",
       "      <td>NSi</td>\n",
       "      <td>M</td>\n",
       "      <td>positive</td>\n",
       "    </tr>\n",
       "    <tr>\n",
       "      <th>1555</th>\n",
       "      <td>spoštovani predsednik, kolegice in kolegi! špo...</td>\n",
       "      <td>2017</td>\n",
       "      <td>6</td>\n",
       "      <td>1981</td>\n",
       "      <td>SMC</td>\n",
       "      <td>M</td>\n",
       "      <td>positive</td>\n",
       "    </tr>\n",
       "    <tr>\n",
       "      <th>1561</th>\n",
       "      <td>hvala lepa, predsedujoči. spoštovani minister,...</td>\n",
       "      <td>2017</td>\n",
       "      <td>6</td>\n",
       "      <td>1972</td>\n",
       "      <td>DeSUS</td>\n",
       "      <td>M</td>\n",
       "      <td>positive</td>\n",
       "    </tr>\n",
       "    <tr>\n",
       "      <th>1669</th>\n",
       "      <td>mir v dvorani!</td>\n",
       "      <td>2017</td>\n",
       "      <td>6</td>\n",
       "      <td>1967</td>\n",
       "      <td>SMC</td>\n",
       "      <td>M</td>\n",
       "      <td>positive</td>\n",
       "    </tr>\n",
       "    <tr>\n",
       "      <th>2008</th>\n",
       "      <td>hvala lepa, spoštovani poslanec matić. nedvomn...</td>\n",
       "      <td>2017</td>\n",
       "      <td>7</td>\n",
       "      <td>1963</td>\n",
       "      <td>SMC</td>\n",
       "      <td>M</td>\n",
       "      <td>positive</td>\n",
       "    </tr>\n",
       "    <tr>\n",
       "      <th>2349</th>\n",
       "      <td>hvala za besedo, še enkrat, in lep pozdrav vse...</td>\n",
       "      <td>2017</td>\n",
       "      <td>9</td>\n",
       "      <td>1960</td>\n",
       "      <td>SD</td>\n",
       "      <td>M</td>\n",
       "      <td>positive</td>\n",
       "    </tr>\n",
       "    <tr>\n",
       "      <th>2607</th>\n",
       "      <td>ene bolj prijazne izraze.</td>\n",
       "      <td>2017</td>\n",
       "      <td>10</td>\n",
       "      <td>1947</td>\n",
       "      <td>DeSUS</td>\n",
       "      <td>M</td>\n",
       "      <td>positive</td>\n",
       "    </tr>\n",
       "    <tr>\n",
       "      <th>2952</th>\n",
       "      <td>hvala lepa, spoštovana poslanka andreja potočn...</td>\n",
       "      <td>2017</td>\n",
       "      <td>11</td>\n",
       "      <td>1963</td>\n",
       "      <td>SMC</td>\n",
       "      <td>M</td>\n",
       "      <td>positive</td>\n",
       "    </tr>\n",
       "    <tr>\n",
       "      <th>3245</th>\n",
       "      <td>spoštovani predstavniki ministrstva, spoštovan...</td>\n",
       "      <td>2017</td>\n",
       "      <td>12</td>\n",
       "      <td>1960</td>\n",
       "      <td>SDS</td>\n",
       "      <td>M</td>\n",
       "      <td>positive</td>\n",
       "    </tr>\n",
       "  </tbody>\n",
       "</table>\n",
       "</div>"
      ],
      "text/plain": [
       "                                                   text  leto  mesec rojstvo  \\\n",
       "745   spoštovani, lep pozdrav tudi z moje strani! si...  2017      3    1981   \n",
       "826   hvala za besedo in lep pozdrav vsem v imenu po...  2017      3    1960   \n",
       "885   hvala lepa. slovenci smo in imamo razlog, da s...  2017      3    1980   \n",
       "1291  hvala lepa. en lep pozdrav, ponovno, tudi v mo...  2017      5    1954   \n",
       "1405  spoštovani predsednik, kolegice in kolegi! tri...  2017      5    1958   \n",
       "1555  spoštovani predsednik, kolegice in kolegi! špo...  2017      6    1981   \n",
       "1561  hvala lepa, predsedujoči. spoštovani minister,...  2017      6    1972   \n",
       "1669                                     mir v dvorani!  2017      6    1967   \n",
       "2008  hvala lepa, spoštovani poslanec matić. nedvomn...  2017      7    1963   \n",
       "2349  hvala za besedo, še enkrat, in lep pozdrav vse...  2017      9    1960   \n",
       "2607                          ene bolj prijazne izraze.  2017     10    1947   \n",
       "2952  hvala lepa, spoštovana poslanka andreja potočn...  2017     11    1963   \n",
       "3245  spoštovani predstavniki ministrstva, spoštovan...  2017     12    1960   \n",
       "\n",
       "     stranka spol      sent  \n",
       "745      SMC    M  positive  \n",
       "826       SD    M  positive  \n",
       "885       SD    M  positive  \n",
       "1291     NaN    F  positive  \n",
       "1405     NSi    M  positive  \n",
       "1555     SMC    M  positive  \n",
       "1561   DeSUS    M  positive  \n",
       "1669     SMC    M  positive  \n",
       "2008     SMC    M  positive  \n",
       "2349      SD    M  positive  \n",
       "2607   DeSUS    M  positive  \n",
       "2952     SMC    M  positive  \n",
       "3245     SDS    M  positive  "
      ]
     },
     "execution_count": 11,
     "metadata": {},
     "output_type": "execute_result"
    }
   ],
   "source": [
    "dfSedem[dfSedem['sent']=='positive']"
   ]
  },
  {
   "cell_type": "code",
   "execution_count": 16,
   "id": "e4d1181f",
   "metadata": {},
   "outputs": [
    {
     "data": {
      "text/plain": [
       "M    12\n",
       "F     1\n",
       "Name: spol, dtype: int64"
      ]
     },
     "execution_count": 16,
     "metadata": {},
     "output_type": "execute_result"
    }
   ],
   "source": [
    "positiveSedem['spol'].value_counts()"
   ]
  },
  {
   "cell_type": "code",
   "execution_count": 17,
   "id": "00289b42",
   "metadata": {},
   "outputs": [
    {
     "data": {
      "text/plain": [
       "SMC      5\n",
       "SD       3\n",
       "DeSUS    2\n",
       "NSi      1\n",
       "SDS      1\n",
       "Name: stranka, dtype: int64"
      ]
     },
     "execution_count": 17,
     "metadata": {},
     "output_type": "execute_result"
    }
   ],
   "source": [
    "positiveSedem['stranka'].value_counts()"
   ]
  },
  {
   "cell_type": "code",
   "execution_count": 18,
   "id": "8e77ed5b",
   "metadata": {},
   "outputs": [
    {
     "data": {
      "text/plain": [
       "1960    3\n",
       "1981    2\n",
       "1963    2\n",
       "1980    1\n",
       "1954    1\n",
       "1958    1\n",
       "1972    1\n",
       "1967    1\n",
       "1947    1\n",
       "Name: rojstvo, dtype: int64"
      ]
     },
     "execution_count": 18,
     "metadata": {},
     "output_type": "execute_result"
    }
   ],
   "source": [
    "positiveSedem['rojstvo'].value_counts()"
   ]
  },
  {
   "cell_type": "code",
   "execution_count": 19,
   "id": "54d581d1",
   "metadata": {},
   "outputs": [],
   "source": [
    "negativeSedem = dfSedem[dfSedem['sent']=='negative']"
   ]
  },
  {
   "cell_type": "code",
   "execution_count": 10,
   "id": "7899542e",
   "metadata": {},
   "outputs": [
    {
     "data": {
      "text/html": [
       "<div>\n",
       "<style scoped>\n",
       "    .dataframe tbody tr th:only-of-type {\n",
       "        vertical-align: middle;\n",
       "    }\n",
       "\n",
       "    .dataframe tbody tr th {\n",
       "        vertical-align: top;\n",
       "    }\n",
       "\n",
       "    .dataframe thead th {\n",
       "        text-align: right;\n",
       "    }\n",
       "</style>\n",
       "<table border=\"1\" class=\"dataframe\">\n",
       "  <thead>\n",
       "    <tr style=\"text-align: right;\">\n",
       "      <th></th>\n",
       "      <th>text</th>\n",
       "      <th>leto</th>\n",
       "      <th>mesec</th>\n",
       "      <th>rojstvo</th>\n",
       "      <th>stranka</th>\n",
       "      <th>spol</th>\n",
       "      <th>sent</th>\n",
       "    </tr>\n",
       "  </thead>\n",
       "  <tbody>\n",
       "    <tr>\n",
       "      <th>948</th>\n",
       "      <td>hvala za besedo, predsedujoči. izkoriščanje, d...</td>\n",
       "      <td>2017</td>\n",
       "      <td>4</td>\n",
       "      <td>1989</td>\n",
       "      <td>Levica</td>\n",
       "      <td>M</td>\n",
       "      <td>negative</td>\n",
       "    </tr>\n",
       "    <tr>\n",
       "      <th>2115</th>\n",
       "      <td>spoštovane kolegice in kolegi, spoštovana gosp...</td>\n",
       "      <td>2017</td>\n",
       "      <td>9</td>\n",
       "      <td>1985</td>\n",
       "      <td>NSi</td>\n",
       "      <td>M</td>\n",
       "      <td>negative</td>\n",
       "    </tr>\n",
       "    <tr>\n",
       "      <th>2495</th>\n",
       "      <td>spoštovani predsednik, predstavniki ministrstv...</td>\n",
       "      <td>2017</td>\n",
       "      <td>10</td>\n",
       "      <td>1972</td>\n",
       "      <td>NSi</td>\n",
       "      <td>F</td>\n",
       "      <td>negative</td>\n",
       "    </tr>\n",
       "    <tr>\n",
       "      <th>3099</th>\n",
       "      <td>spoštovani predsednik, hvala za besedo. kolegi...</td>\n",
       "      <td>2017</td>\n",
       "      <td>12</td>\n",
       "      <td>1963</td>\n",
       "      <td>Levica</td>\n",
       "      <td>F</td>\n",
       "      <td>negative</td>\n",
       "    </tr>\n",
       "  </tbody>\n",
       "</table>\n",
       "</div>"
      ],
      "text/plain": [
       "                                                   text  leto  mesec rojstvo  \\\n",
       "948   hvala za besedo, predsedujoči. izkoriščanje, d...  2017      4    1989   \n",
       "2115  spoštovane kolegice in kolegi, spoštovana gosp...  2017      9    1985   \n",
       "2495  spoštovani predsednik, predstavniki ministrstv...  2017     10    1972   \n",
       "3099  spoštovani predsednik, hvala za besedo. kolegi...  2017     12    1963   \n",
       "\n",
       "     stranka spol      sent  \n",
       "948   Levica    M  negative  \n",
       "2115     NSi    M  negative  \n",
       "2495     NSi    F  negative  \n",
       "3099  Levica    F  negative  "
      ]
     },
     "execution_count": 10,
     "metadata": {},
     "output_type": "execute_result"
    }
   ],
   "source": [
    "dfSedem[dfSedem['sent']=='negative']"
   ]
  },
  {
   "cell_type": "code",
   "execution_count": 20,
   "id": "16d046e7",
   "metadata": {},
   "outputs": [
    {
     "data": {
      "text/plain": [
       "M    2\n",
       "F    2\n",
       "Name: spol, dtype: int64"
      ]
     },
     "execution_count": 20,
     "metadata": {},
     "output_type": "execute_result"
    }
   ],
   "source": [
    "negativeSedem['spol'].value_counts()"
   ]
  },
  {
   "cell_type": "code",
   "execution_count": 21,
   "id": "26e0e626",
   "metadata": {},
   "outputs": [
    {
     "data": {
      "text/plain": [
       "Levica    2\n",
       "NSi       2\n",
       "Name: stranka, dtype: int64"
      ]
     },
     "execution_count": 21,
     "metadata": {},
     "output_type": "execute_result"
    }
   ],
   "source": [
    "negativeSedem['stranka'].value_counts()"
   ]
  },
  {
   "cell_type": "code",
   "execution_count": 22,
   "id": "faab2ac8",
   "metadata": {},
   "outputs": [
    {
     "data": {
      "text/plain": [
       "1989    1\n",
       "1985    1\n",
       "1972    1\n",
       "1963    1\n",
       "Name: rojstvo, dtype: int64"
      ]
     },
     "execution_count": 22,
     "metadata": {},
     "output_type": "execute_result"
    }
   ],
   "source": [
    "negativeSedem['rojstvo'].value_counts()"
   ]
  },
  {
   "cell_type": "code",
   "execution_count": 23,
   "id": "5b647a50",
   "metadata": {},
   "outputs": [],
   "source": [
    "dfOsem = pd.read_csv('dvaOsemnajst-crosloengualBERT.csv')"
   ]
  },
  {
   "cell_type": "code",
   "execution_count": 24,
   "id": "95c6962f",
   "metadata": {},
   "outputs": [
    {
     "data": {
      "text/plain": [
       "neutral     3136\n",
       "positive      12\n",
       "negative       9\n",
       "Name: sent, dtype: int64"
      ]
     },
     "execution_count": 24,
     "metadata": {},
     "output_type": "execute_result"
    }
   ],
   "source": [
    "dfOsem['sent'].value_counts()"
   ]
  },
  {
   "cell_type": "code",
   "execution_count": 25,
   "id": "8c8054a8",
   "metadata": {},
   "outputs": [],
   "source": [
    "positiveOsem = dfOsem[dfOsem['sent']=='positive']"
   ]
  },
  {
   "cell_type": "code",
   "execution_count": 15,
   "id": "29de9f6f",
   "metadata": {},
   "outputs": [
    {
     "data": {
      "text/html": [
       "<div>\n",
       "<style scoped>\n",
       "    .dataframe tbody tr th:only-of-type {\n",
       "        vertical-align: middle;\n",
       "    }\n",
       "\n",
       "    .dataframe tbody tr th {\n",
       "        vertical-align: top;\n",
       "    }\n",
       "\n",
       "    .dataframe thead th {\n",
       "        text-align: right;\n",
       "    }\n",
       "</style>\n",
       "<table border=\"1\" class=\"dataframe\">\n",
       "  <thead>\n",
       "    <tr style=\"text-align: right;\">\n",
       "      <th></th>\n",
       "      <th>text</th>\n",
       "      <th>leto</th>\n",
       "      <th>mesec</th>\n",
       "      <th>rojstvo</th>\n",
       "      <th>stranka</th>\n",
       "      <th>spol</th>\n",
       "      <th>sent</th>\n",
       "    </tr>\n",
       "  </thead>\n",
       "  <tbody>\n",
       "    <tr>\n",
       "      <th>185</th>\n",
       "      <td>hvala lepa, podpredsednik, za besedo. spoštova...</td>\n",
       "      <td>2018</td>\n",
       "      <td>1</td>\n",
       "      <td>1971</td>\n",
       "      <td>SD</td>\n",
       "      <td>F</td>\n",
       "      <td>positive</td>\n",
       "    </tr>\n",
       "    <tr>\n",
       "      <th>236</th>\n",
       "      <td>hvala lepa, predsedujoči. lepo pozdravljeni, p...</td>\n",
       "      <td>2018</td>\n",
       "      <td>1</td>\n",
       "      <td>1955</td>\n",
       "      <td>SMC</td>\n",
       "      <td>M</td>\n",
       "      <td>positive</td>\n",
       "    </tr>\n",
       "    <tr>\n",
       "      <th>389</th>\n",
       "      <td>minister, pri shemah kakovosti je ministrstvo ...</td>\n",
       "      <td>2018</td>\n",
       "      <td>2</td>\n",
       "      <td>1963</td>\n",
       "      <td>Levica</td>\n",
       "      <td>F</td>\n",
       "      <td>positive</td>\n",
       "    </tr>\n",
       "    <tr>\n",
       "      <th>556</th>\n",
       "      <td>hvala za besedo, predsedujoči. glejte, bom še ...</td>\n",
       "      <td>2018</td>\n",
       "      <td>2</td>\n",
       "      <td>1969</td>\n",
       "      <td>Levica</td>\n",
       "      <td>M</td>\n",
       "      <td>positive</td>\n",
       "    </tr>\n",
       "    <tr>\n",
       "      <th>740</th>\n",
       "      <td>hvala za besedo, podpredsednik. državni sekret...</td>\n",
       "      <td>2018</td>\n",
       "      <td>3</td>\n",
       "      <td>1953</td>\n",
       "      <td>DeSUS</td>\n",
       "      <td>M</td>\n",
       "      <td>positive</td>\n",
       "    </tr>\n",
       "    <tr>\n",
       "      <th>759</th>\n",
       "      <td>hvala lepa. kolegice in kolegi! poslanci smc s...</td>\n",
       "      <td>2018</td>\n",
       "      <td>3</td>\n",
       "      <td>1961</td>\n",
       "      <td>SMC</td>\n",
       "      <td>F</td>\n",
       "      <td>positive</td>\n",
       "    </tr>\n",
       "    <tr>\n",
       "      <th>782</th>\n",
       "      <td>spoštovani predsedujoči, spoštovani državna se...</td>\n",
       "      <td>2018</td>\n",
       "      <td>3</td>\n",
       "      <td>1955</td>\n",
       "      <td>SMC</td>\n",
       "      <td>F</td>\n",
       "      <td>positive</td>\n",
       "    </tr>\n",
       "    <tr>\n",
       "      <th>871</th>\n",
       "      <td>spoštovani zbrani, drage poslanke in poslanci,...</td>\n",
       "      <td>2018</td>\n",
       "      <td>3</td>\n",
       "      <td>1983</td>\n",
       "      <td>NSi</td>\n",
       "      <td>M</td>\n",
       "      <td>positive</td>\n",
       "    </tr>\n",
       "    <tr>\n",
       "      <th>1009</th>\n",
       "      <td>hvala za besedo spoštovani podpredsednik, spoš...</td>\n",
       "      <td>2018</td>\n",
       "      <td>4</td>\n",
       "      <td>1978</td>\n",
       "      <td>SDS</td>\n",
       "      <td>M</td>\n",
       "      <td>positive</td>\n",
       "    </tr>\n",
       "    <tr>\n",
       "      <th>1099</th>\n",
       "      <td>hvala lepa. spoštovani predsednik, drage koleg...</td>\n",
       "      <td>2018</td>\n",
       "      <td>4</td>\n",
       "      <td>1972</td>\n",
       "      <td>DeSUS</td>\n",
       "      <td>M</td>\n",
       "      <td>positive</td>\n",
       "    </tr>\n",
       "    <tr>\n",
       "      <th>2338</th>\n",
       "      <td>ene bolj prijazne izraze.</td>\n",
       "      <td>2018</td>\n",
       "      <td>10</td>\n",
       "      <td>1947</td>\n",
       "      <td>NaN</td>\n",
       "      <td>M</td>\n",
       "      <td>positive</td>\n",
       "    </tr>\n",
       "    <tr>\n",
       "      <th>2604</th>\n",
       "      <td>najlepša hvala za dano besedo. spoštovani posl...</td>\n",
       "      <td>2018</td>\n",
       "      <td>11</td>\n",
       "      <td>1979</td>\n",
       "      <td>SDS</td>\n",
       "      <td>F</td>\n",
       "      <td>positive</td>\n",
       "    </tr>\n",
       "  </tbody>\n",
       "</table>\n",
       "</div>"
      ],
      "text/plain": [
       "                                                   text  leto  mesec rojstvo  \\\n",
       "185   hvala lepa, podpredsednik, za besedo. spoštova...  2018      1    1971   \n",
       "236   hvala lepa, predsedujoči. lepo pozdravljeni, p...  2018      1    1955   \n",
       "389   minister, pri shemah kakovosti je ministrstvo ...  2018      2    1963   \n",
       "556   hvala za besedo, predsedujoči. glejte, bom še ...  2018      2    1969   \n",
       "740   hvala za besedo, podpredsednik. državni sekret...  2018      3    1953   \n",
       "759   hvala lepa. kolegice in kolegi! poslanci smc s...  2018      3    1961   \n",
       "782   spoštovani predsedujoči, spoštovani državna se...  2018      3    1955   \n",
       "871   spoštovani zbrani, drage poslanke in poslanci,...  2018      3    1983   \n",
       "1009  hvala za besedo spoštovani podpredsednik, spoš...  2018      4    1978   \n",
       "1099  hvala lepa. spoštovani predsednik, drage koleg...  2018      4    1972   \n",
       "2338                          ene bolj prijazne izraze.  2018     10    1947   \n",
       "2604  najlepša hvala za dano besedo. spoštovani posl...  2018     11    1979   \n",
       "\n",
       "     stranka spol      sent  \n",
       "185       SD    F  positive  \n",
       "236      SMC    M  positive  \n",
       "389   Levica    F  positive  \n",
       "556   Levica    M  positive  \n",
       "740    DeSUS    M  positive  \n",
       "759      SMC    F  positive  \n",
       "782      SMC    F  positive  \n",
       "871      NSi    M  positive  \n",
       "1009     SDS    M  positive  \n",
       "1099   DeSUS    M  positive  \n",
       "2338     NaN    M  positive  \n",
       "2604     SDS    F  positive  "
      ]
     },
     "execution_count": 15,
     "metadata": {},
     "output_type": "execute_result"
    }
   ],
   "source": [
    "dfOsem[dfOsem['sent']=='positive']"
   ]
  },
  {
   "cell_type": "code",
   "execution_count": 26,
   "id": "38f92f76",
   "metadata": {},
   "outputs": [
    {
     "data": {
      "text/plain": [
       "M    7\n",
       "F    5\n",
       "Name: spol, dtype: int64"
      ]
     },
     "execution_count": 26,
     "metadata": {},
     "output_type": "execute_result"
    }
   ],
   "source": [
    "positiveOsem['spol'].value_counts()"
   ]
  },
  {
   "cell_type": "code",
   "execution_count": 27,
   "id": "7789c8c7",
   "metadata": {},
   "outputs": [
    {
     "data": {
      "text/plain": [
       "SMC       3\n",
       "Levica    2\n",
       "DeSUS     2\n",
       "SDS       2\n",
       "SD        1\n",
       "NSi       1\n",
       "Name: stranka, dtype: int64"
      ]
     },
     "execution_count": 27,
     "metadata": {},
     "output_type": "execute_result"
    }
   ],
   "source": [
    "positiveOsem['stranka'].value_counts()"
   ]
  },
  {
   "cell_type": "code",
   "execution_count": 28,
   "id": "4d15ac95",
   "metadata": {},
   "outputs": [
    {
     "data": {
      "text/plain": [
       "1955    2\n",
       "1971    1\n",
       "1963    1\n",
       "1969    1\n",
       "1953    1\n",
       "1961    1\n",
       "1983    1\n",
       "1978    1\n",
       "1972    1\n",
       "1947    1\n",
       "1979    1\n",
       "Name: rojstvo, dtype: int64"
      ]
     },
     "execution_count": 28,
     "metadata": {},
     "output_type": "execute_result"
    }
   ],
   "source": [
    "positiveOsem['rojstvo'].value_counts()"
   ]
  },
  {
   "cell_type": "code",
   "execution_count": 29,
   "id": "2e7fcc23",
   "metadata": {},
   "outputs": [],
   "source": [
    "negativeOsem = dfOsem[dfOsem['sent']=='negative']"
   ]
  },
  {
   "cell_type": "code",
   "execution_count": 16,
   "id": "82101e88",
   "metadata": {},
   "outputs": [
    {
     "data": {
      "text/html": [
       "<div>\n",
       "<style scoped>\n",
       "    .dataframe tbody tr th:only-of-type {\n",
       "        vertical-align: middle;\n",
       "    }\n",
       "\n",
       "    .dataframe tbody tr th {\n",
       "        vertical-align: top;\n",
       "    }\n",
       "\n",
       "    .dataframe thead th {\n",
       "        text-align: right;\n",
       "    }\n",
       "</style>\n",
       "<table border=\"1\" class=\"dataframe\">\n",
       "  <thead>\n",
       "    <tr style=\"text-align: right;\">\n",
       "      <th></th>\n",
       "      <th>text</th>\n",
       "      <th>leto</th>\n",
       "      <th>mesec</th>\n",
       "      <th>rojstvo</th>\n",
       "      <th>stranka</th>\n",
       "      <th>spol</th>\n",
       "      <th>sent</th>\n",
       "    </tr>\n",
       "  </thead>\n",
       "  <tbody>\n",
       "    <tr>\n",
       "      <th>112</th>\n",
       "      <td>ja, z žalitvijo se krši red na seji državnega ...</td>\n",
       "      <td>2018</td>\n",
       "      <td>1</td>\n",
       "      <td>1967</td>\n",
       "      <td>SMC</td>\n",
       "      <td>M</td>\n",
       "      <td>negative</td>\n",
       "    </tr>\n",
       "    <tr>\n",
       "      <th>281</th>\n",
       "      <td>spoštovani! . in . decembra je huda ujma zajel...</td>\n",
       "      <td>2018</td>\n",
       "      <td>1</td>\n",
       "      <td>1962</td>\n",
       "      <td>SDS</td>\n",
       "      <td>M</td>\n",
       "      <td>negative</td>\n",
       "    </tr>\n",
       "    <tr>\n",
       "      <th>320</th>\n",
       "      <td>spoštovani! državni zbor in pristojni odbor za...</td>\n",
       "      <td>2018</td>\n",
       "      <td>2</td>\n",
       "      <td>1980</td>\n",
       "      <td>SMC</td>\n",
       "      <td>M</td>\n",
       "      <td>negative</td>\n",
       "    </tr>\n",
       "    <tr>\n",
       "      <th>546</th>\n",
       "      <td>spoštovani predsednik, spoštovani predstavniki...</td>\n",
       "      <td>2018</td>\n",
       "      <td>2</td>\n",
       "      <td>1956</td>\n",
       "      <td>DeSUS</td>\n",
       "      <td>M</td>\n",
       "      <td>negative</td>\n",
       "    </tr>\n",
       "    <tr>\n",
       "      <th>937</th>\n",
       "      <td>v sloveniji se premalo zavedamo pomena kiberne...</td>\n",
       "      <td>2018</td>\n",
       "      <td>4</td>\n",
       "      <td>1974</td>\n",
       "      <td>SMC</td>\n",
       "      <td>F</td>\n",
       "      <td>negative</td>\n",
       "    </tr>\n",
       "    <tr>\n",
       "      <th>2191</th>\n",
       "      <td>hvala lepa za besedo. spoštovani! daleč smo pr...</td>\n",
       "      <td>2018</td>\n",
       "      <td>9</td>\n",
       "      <td>1980</td>\n",
       "      <td>NSi</td>\n",
       "      <td>M</td>\n",
       "      <td>negative</td>\n",
       "    </tr>\n",
       "    <tr>\n",
       "      <th>2214</th>\n",
       "      <td>spoštovani predsedujoči, spoštovani predsednik...</td>\n",
       "      <td>2018</td>\n",
       "      <td>9</td>\n",
       "      <td>1964</td>\n",
       "      <td>SD</td>\n",
       "      <td>M</td>\n",
       "      <td>negative</td>\n",
       "    </tr>\n",
       "    <tr>\n",
       "      <th>2299</th>\n",
       "      <td>spoštovani predsednik, predstavniki ministrstv...</td>\n",
       "      <td>2018</td>\n",
       "      <td>10</td>\n",
       "      <td>1972</td>\n",
       "      <td>NSi</td>\n",
       "      <td>F</td>\n",
       "      <td>negative</td>\n",
       "    </tr>\n",
       "    <tr>\n",
       "      <th>2958</th>\n",
       "      <td>hvala lepa za besedo. s ponedeljkom, . ., se j...</td>\n",
       "      <td>2018</td>\n",
       "      <td>12</td>\n",
       "      <td>1974</td>\n",
       "      <td>SMC</td>\n",
       "      <td>F</td>\n",
       "      <td>negative</td>\n",
       "    </tr>\n",
       "  </tbody>\n",
       "</table>\n",
       "</div>"
      ],
      "text/plain": [
       "                                                   text  leto  mesec rojstvo  \\\n",
       "112   ja, z žalitvijo se krši red na seji državnega ...  2018      1    1967   \n",
       "281   spoštovani! . in . decembra je huda ujma zajel...  2018      1    1962   \n",
       "320   spoštovani! državni zbor in pristojni odbor za...  2018      2    1980   \n",
       "546   spoštovani predsednik, spoštovani predstavniki...  2018      2    1956   \n",
       "937   v sloveniji se premalo zavedamo pomena kiberne...  2018      4    1974   \n",
       "2191  hvala lepa za besedo. spoštovani! daleč smo pr...  2018      9    1980   \n",
       "2214  spoštovani predsedujoči, spoštovani predsednik...  2018      9    1964   \n",
       "2299  spoštovani predsednik, predstavniki ministrstv...  2018     10    1972   \n",
       "2958  hvala lepa za besedo. s ponedeljkom, . ., se j...  2018     12    1974   \n",
       "\n",
       "     stranka spol      sent  \n",
       "112      SMC    M  negative  \n",
       "281      SDS    M  negative  \n",
       "320      SMC    M  negative  \n",
       "546    DeSUS    M  negative  \n",
       "937      SMC    F  negative  \n",
       "2191     NSi    M  negative  \n",
       "2214      SD    M  negative  \n",
       "2299     NSi    F  negative  \n",
       "2958     SMC    F  negative  "
      ]
     },
     "execution_count": 16,
     "metadata": {},
     "output_type": "execute_result"
    }
   ],
   "source": [
    "dfOsem[dfOsem['sent']=='negative']"
   ]
  },
  {
   "cell_type": "code",
   "execution_count": 30,
   "id": "6ba826de",
   "metadata": {},
   "outputs": [
    {
     "data": {
      "text/plain": [
       "M    6\n",
       "F    3\n",
       "Name: spol, dtype: int64"
      ]
     },
     "execution_count": 30,
     "metadata": {},
     "output_type": "execute_result"
    }
   ],
   "source": [
    "negativeOsem['spol'].value_counts()"
   ]
  },
  {
   "cell_type": "code",
   "execution_count": 31,
   "id": "7338a19d",
   "metadata": {},
   "outputs": [
    {
     "data": {
      "text/plain": [
       "SMC      4\n",
       "NSi      2\n",
       "SDS      1\n",
       "DeSUS    1\n",
       "SD       1\n",
       "Name: stranka, dtype: int64"
      ]
     },
     "execution_count": 31,
     "metadata": {},
     "output_type": "execute_result"
    }
   ],
   "source": [
    "negativeOsem['stranka'].value_counts()"
   ]
  },
  {
   "cell_type": "code",
   "execution_count": 32,
   "id": "64efc47f",
   "metadata": {},
   "outputs": [
    {
     "data": {
      "text/plain": [
       "1980    2\n",
       "1974    2\n",
       "1967    1\n",
       "1962    1\n",
       "1956    1\n",
       "1964    1\n",
       "1972    1\n",
       "Name: rojstvo, dtype: int64"
      ]
     },
     "execution_count": 32,
     "metadata": {},
     "output_type": "execute_result"
    }
   ],
   "source": [
    "negativeOsem['rojstvo'].value_counts()"
   ]
  },
  {
   "cell_type": "code",
   "execution_count": 33,
   "id": "71945705",
   "metadata": {},
   "outputs": [],
   "source": [
    "dfDevet = pd.read_csv('dvaDevetnajst-crosloengualBERT.csv')"
   ]
  },
  {
   "cell_type": "code",
   "execution_count": 34,
   "id": "27bc4d6f",
   "metadata": {},
   "outputs": [
    {
     "data": {
      "text/plain": [
       "neutral     3014\n",
       "negative      10\n",
       "positive       5\n",
       "Name: sent, dtype: int64"
      ]
     },
     "execution_count": 34,
     "metadata": {},
     "output_type": "execute_result"
    }
   ],
   "source": [
    "dfDevet['sent'].value_counts()"
   ]
  },
  {
   "cell_type": "code",
   "execution_count": 35,
   "id": "c9d2c5cd",
   "metadata": {},
   "outputs": [],
   "source": [
    "positiveDevet = dfDevet[dfDevet['sent']=='positive']"
   ]
  },
  {
   "cell_type": "code",
   "execution_count": 19,
   "id": "d487a779",
   "metadata": {},
   "outputs": [
    {
     "data": {
      "text/html": [
       "<div>\n",
       "<style scoped>\n",
       "    .dataframe tbody tr th:only-of-type {\n",
       "        vertical-align: middle;\n",
       "    }\n",
       "\n",
       "    .dataframe tbody tr th {\n",
       "        vertical-align: top;\n",
       "    }\n",
       "\n",
       "    .dataframe thead th {\n",
       "        text-align: right;\n",
       "    }\n",
       "</style>\n",
       "<table border=\"1\" class=\"dataframe\">\n",
       "  <thead>\n",
       "    <tr style=\"text-align: right;\">\n",
       "      <th></th>\n",
       "      <th>text</th>\n",
       "      <th>leto</th>\n",
       "      <th>mesec</th>\n",
       "      <th>rojstvo</th>\n",
       "      <th>stranka</th>\n",
       "      <th>spol</th>\n",
       "      <th>sent</th>\n",
       "    </tr>\n",
       "  </thead>\n",
       "  <tbody>\n",
       "    <tr>\n",
       "      <th>1784</th>\n",
       "      <td>predsedujoči, hvala lepa za besedo. spoštovane...</td>\n",
       "      <td>2019</td>\n",
       "      <td>7</td>\n",
       "      <td>1991</td>\n",
       "      <td>LMŠ</td>\n",
       "      <td>M</td>\n",
       "      <td>positive</td>\n",
       "    </tr>\n",
       "    <tr>\n",
       "      <th>2287</th>\n",
       "      <td>hvala lepa, predsedujoči izklop mikrofona vklo...</td>\n",
       "      <td>2019</td>\n",
       "      <td>10</td>\n",
       "      <td>1979</td>\n",
       "      <td>SAB</td>\n",
       "      <td>M</td>\n",
       "      <td>positive</td>\n",
       "    </tr>\n",
       "    <tr>\n",
       "      <th>2293</th>\n",
       "      <td>spoštovani! temeljno načelo na področju zdravi...</td>\n",
       "      <td>2019</td>\n",
       "      <td>10</td>\n",
       "      <td>1972</td>\n",
       "      <td>NSi</td>\n",
       "      <td>F</td>\n",
       "      <td>positive</td>\n",
       "    </tr>\n",
       "    <tr>\n",
       "      <th>2443</th>\n",
       "      <td>hvala, predsednik. spoštovani kolegice in kole...</td>\n",
       "      <td>2019</td>\n",
       "      <td>11</td>\n",
       "      <td>1990</td>\n",
       "      <td>SDS</td>\n",
       "      <td>M</td>\n",
       "      <td>positive</td>\n",
       "    </tr>\n",
       "    <tr>\n",
       "      <th>2873</th>\n",
       "      <td>spoštovane poslanke, spoštovani poslanci, spoš...</td>\n",
       "      <td>2019</td>\n",
       "      <td>12</td>\n",
       "      <td>-\\n</td>\n",
       "      <td>NaN</td>\n",
       "      <td>F</td>\n",
       "      <td>positive</td>\n",
       "    </tr>\n",
       "  </tbody>\n",
       "</table>\n",
       "</div>"
      ],
      "text/plain": [
       "                                                   text  leto  mesec rojstvo  \\\n",
       "1784  predsedujoči, hvala lepa za besedo. spoštovane...  2019      7    1991   \n",
       "2287  hvala lepa, predsedujoči izklop mikrofona vklo...  2019     10    1979   \n",
       "2293  spoštovani! temeljno načelo na področju zdravi...  2019     10    1972   \n",
       "2443  hvala, predsednik. spoštovani kolegice in kole...  2019     11    1990   \n",
       "2873  spoštovane poslanke, spoštovani poslanci, spoš...  2019     12     -\\n   \n",
       "\n",
       "     stranka spol      sent  \n",
       "1784     LMŠ    M  positive  \n",
       "2287     SAB    M  positive  \n",
       "2293     NSi    F  positive  \n",
       "2443     SDS    M  positive  \n",
       "2873     NaN    F  positive  "
      ]
     },
     "execution_count": 19,
     "metadata": {},
     "output_type": "execute_result"
    }
   ],
   "source": [
    "dfDevet[dfDevet['sent']=='positive']"
   ]
  },
  {
   "cell_type": "code",
   "execution_count": 36,
   "id": "857be1ed",
   "metadata": {},
   "outputs": [
    {
     "data": {
      "text/plain": [
       "M    3\n",
       "F    2\n",
       "Name: spol, dtype: int64"
      ]
     },
     "execution_count": 36,
     "metadata": {},
     "output_type": "execute_result"
    }
   ],
   "source": [
    "positiveDevet['spol'].value_counts()"
   ]
  },
  {
   "cell_type": "code",
   "execution_count": 37,
   "id": "b55eb403",
   "metadata": {},
   "outputs": [
    {
     "data": {
      "text/plain": [
       "LMŠ    1\n",
       "SAB    1\n",
       "NSi    1\n",
       "SDS    1\n",
       "Name: stranka, dtype: int64"
      ]
     },
     "execution_count": 37,
     "metadata": {},
     "output_type": "execute_result"
    }
   ],
   "source": [
    "positiveDevet['stranka'].value_counts()"
   ]
  },
  {
   "cell_type": "code",
   "execution_count": 38,
   "id": "cc2233c0",
   "metadata": {},
   "outputs": [
    {
     "data": {
      "text/plain": [
       "1991    1\n",
       "1979    1\n",
       "1972    1\n",
       "1990    1\n",
       "-\\n     1\n",
       "Name: rojstvo, dtype: int64"
      ]
     },
     "execution_count": 38,
     "metadata": {},
     "output_type": "execute_result"
    }
   ],
   "source": [
    "positiveDevet['rojstvo'].value_counts()"
   ]
  },
  {
   "cell_type": "code",
   "execution_count": 39,
   "id": "22b9cfde",
   "metadata": {},
   "outputs": [],
   "source": [
    "negativeDevet = dfDevet[dfDevet['sent']=='negative']"
   ]
  },
  {
   "cell_type": "code",
   "execution_count": 20,
   "id": "9355f2ae",
   "metadata": {},
   "outputs": [
    {
     "data": {
      "text/html": [
       "<div>\n",
       "<style scoped>\n",
       "    .dataframe tbody tr th:only-of-type {\n",
       "        vertical-align: middle;\n",
       "    }\n",
       "\n",
       "    .dataframe tbody tr th {\n",
       "        vertical-align: top;\n",
       "    }\n",
       "\n",
       "    .dataframe thead th {\n",
       "        text-align: right;\n",
       "    }\n",
       "</style>\n",
       "<table border=\"1\" class=\"dataframe\">\n",
       "  <thead>\n",
       "    <tr style=\"text-align: right;\">\n",
       "      <th></th>\n",
       "      <th>text</th>\n",
       "      <th>leto</th>\n",
       "      <th>mesec</th>\n",
       "      <th>rojstvo</th>\n",
       "      <th>stranka</th>\n",
       "      <th>spol</th>\n",
       "      <th>sent</th>\n",
       "    </tr>\n",
       "  </thead>\n",
       "  <tbody>\n",
       "    <tr>\n",
       "      <th>9</th>\n",
       "      <td>gospod poslanec, prekoračili ste čas.</td>\n",
       "      <td>2019</td>\n",
       "      <td>1</td>\n",
       "      <td>1967</td>\n",
       "      <td>SD</td>\n",
       "      <td>M</td>\n",
       "      <td>negative</td>\n",
       "    </tr>\n",
       "    <tr>\n",
       "      <th>597</th>\n",
       "      <td>spoštovani podpredsednik, spoštovane kolegice ...</td>\n",
       "      <td>2019</td>\n",
       "      <td>3</td>\n",
       "      <td>1975</td>\n",
       "      <td>NSi</td>\n",
       "      <td>M</td>\n",
       "      <td>negative</td>\n",
       "    </tr>\n",
       "    <tr>\n",
       "      <th>1349</th>\n",
       "      <td>spoštovana, hvala za besedo. po podatkih društ...</td>\n",
       "      <td>2019</td>\n",
       "      <td>6</td>\n",
       "      <td>1974</td>\n",
       "      <td>Levica</td>\n",
       "      <td>M</td>\n",
       "      <td>negative</td>\n",
       "    </tr>\n",
       "    <tr>\n",
       "      <th>1845</th>\n",
       "      <td>hvala, gospod predsednik. lep pozdrav, kolegic...</td>\n",
       "      <td>2019</td>\n",
       "      <td>9</td>\n",
       "      <td>1984</td>\n",
       "      <td>SMC</td>\n",
       "      <td>M</td>\n",
       "      <td>negative</td>\n",
       "    </tr>\n",
       "    <tr>\n",
       "      <th>1928</th>\n",
       "      <td>dober dan! hvala za besedo. spoštovani gospod ...</td>\n",
       "      <td>2019</td>\n",
       "      <td>9</td>\n",
       "      <td>1990</td>\n",
       "      <td>NSi</td>\n",
       "      <td>F</td>\n",
       "      <td>negative</td>\n",
       "    </tr>\n",
       "    <tr>\n",
       "      <th>2071</th>\n",
       "      <td>hvala. spoštovana ministrica, zahvaljujem se v...</td>\n",
       "      <td>2019</td>\n",
       "      <td>9</td>\n",
       "      <td>1969</td>\n",
       "      <td>SNS</td>\n",
       "      <td>M</td>\n",
       "      <td>negative</td>\n",
       "    </tr>\n",
       "    <tr>\n",
       "      <th>2508</th>\n",
       "      <td>lep pozdrav! slovenija se uvršča med države z ...</td>\n",
       "      <td>2019</td>\n",
       "      <td>11</td>\n",
       "      <td>1973</td>\n",
       "      <td>SDS</td>\n",
       "      <td>F</td>\n",
       "      <td>negative</td>\n",
       "    </tr>\n",
       "    <tr>\n",
       "      <th>2827</th>\n",
       "      <td>spoštovani podpredsednik, hvala za besedo. spo...</td>\n",
       "      <td>2019</td>\n",
       "      <td>12</td>\n",
       "      <td>1987</td>\n",
       "      <td>SD</td>\n",
       "      <td>M</td>\n",
       "      <td>negative</td>\n",
       "    </tr>\n",
       "    <tr>\n",
       "      <th>2887</th>\n",
       "      <td>hvala. spoštovani premier! živimo v času podne...</td>\n",
       "      <td>2019</td>\n",
       "      <td>12</td>\n",
       "      <td>1962</td>\n",
       "      <td>Levica</td>\n",
       "      <td>F</td>\n",
       "      <td>negative</td>\n",
       "    </tr>\n",
       "    <tr>\n",
       "      <th>3025</th>\n",
       "      <td>hvala za besedo in lep pozdrav! kot smo v levi...</td>\n",
       "      <td>2019</td>\n",
       "      <td>12</td>\n",
       "      <td>1987</td>\n",
       "      <td>Levica</td>\n",
       "      <td>M</td>\n",
       "      <td>negative</td>\n",
       "    </tr>\n",
       "  </tbody>\n",
       "</table>\n",
       "</div>"
      ],
      "text/plain": [
       "                                                   text  leto  mesec rojstvo  \\\n",
       "9                 gospod poslanec, prekoračili ste čas.  2019      1    1967   \n",
       "597   spoštovani podpredsednik, spoštovane kolegice ...  2019      3    1975   \n",
       "1349  spoštovana, hvala za besedo. po podatkih društ...  2019      6    1974   \n",
       "1845  hvala, gospod predsednik. lep pozdrav, kolegic...  2019      9    1984   \n",
       "1928  dober dan! hvala za besedo. spoštovani gospod ...  2019      9    1990   \n",
       "2071  hvala. spoštovana ministrica, zahvaljujem se v...  2019      9    1969   \n",
       "2508  lep pozdrav! slovenija se uvršča med države z ...  2019     11    1973   \n",
       "2827  spoštovani podpredsednik, hvala za besedo. spo...  2019     12    1987   \n",
       "2887  hvala. spoštovani premier! živimo v času podne...  2019     12    1962   \n",
       "3025  hvala za besedo in lep pozdrav! kot smo v levi...  2019     12    1987   \n",
       "\n",
       "     stranka spol      sent  \n",
       "9         SD    M  negative  \n",
       "597      NSi    M  negative  \n",
       "1349  Levica    M  negative  \n",
       "1845     SMC    M  negative  \n",
       "1928     NSi    F  negative  \n",
       "2071     SNS    M  negative  \n",
       "2508     SDS    F  negative  \n",
       "2827      SD    M  negative  \n",
       "2887  Levica    F  negative  \n",
       "3025  Levica    M  negative  "
      ]
     },
     "execution_count": 20,
     "metadata": {},
     "output_type": "execute_result"
    }
   ],
   "source": [
    "dfDevet[dfDevet['sent']=='negative']"
   ]
  },
  {
   "cell_type": "code",
   "execution_count": 40,
   "id": "0fd8ee7a",
   "metadata": {},
   "outputs": [
    {
     "data": {
      "text/plain": [
       "M    7\n",
       "F    3\n",
       "Name: spol, dtype: int64"
      ]
     },
     "execution_count": 40,
     "metadata": {},
     "output_type": "execute_result"
    }
   ],
   "source": [
    "negativeDevet['spol'].value_counts()"
   ]
  },
  {
   "cell_type": "code",
   "execution_count": 41,
   "id": "28a526a2",
   "metadata": {},
   "outputs": [
    {
     "data": {
      "text/plain": [
       "Levica    3\n",
       "SD        2\n",
       "NSi       2\n",
       "SMC       1\n",
       "SNS       1\n",
       "SDS       1\n",
       "Name: stranka, dtype: int64"
      ]
     },
     "execution_count": 41,
     "metadata": {},
     "output_type": "execute_result"
    }
   ],
   "source": [
    "negativeDevet['stranka'].value_counts()"
   ]
  },
  {
   "cell_type": "code",
   "execution_count": 42,
   "id": "7158fd2a",
   "metadata": {},
   "outputs": [
    {
     "data": {
      "text/plain": [
       "1987    2\n",
       "1967    1\n",
       "1975    1\n",
       "1974    1\n",
       "1984    1\n",
       "1990    1\n",
       "1969    1\n",
       "1973    1\n",
       "1962    1\n",
       "Name: rojstvo, dtype: int64"
      ]
     },
     "execution_count": 42,
     "metadata": {},
     "output_type": "execute_result"
    }
   ],
   "source": [
    "negativeDevet['rojstvo'].value_counts()"
   ]
  },
  {
   "cell_type": "code",
   "execution_count": 43,
   "id": "c838c5f5",
   "metadata": {},
   "outputs": [],
   "source": [
    "dfDvajset = pd.read_csv('dvaDvajset-crosloengualBERT.csv')"
   ]
  },
  {
   "cell_type": "code",
   "execution_count": 44,
   "id": "16e4542b",
   "metadata": {},
   "outputs": [
    {
     "data": {
      "text/plain": [
       "neutral     1786\n",
       "negative       8\n",
       "positive       6\n",
       "Name: sent, dtype: int64"
      ]
     },
     "execution_count": 44,
     "metadata": {},
     "output_type": "execute_result"
    }
   ],
   "source": [
    "dfDvajset['sent'].value_counts()"
   ]
  },
  {
   "cell_type": "code",
   "execution_count": 45,
   "id": "d5976978",
   "metadata": {},
   "outputs": [],
   "source": [
    "positiveDvajset = dfDvajset[dfDvajset['sent']=='positive']"
   ]
  },
  {
   "cell_type": "code",
   "execution_count": 24,
   "id": "3771adc8",
   "metadata": {},
   "outputs": [
    {
     "data": {
      "text/html": [
       "<div>\n",
       "<style scoped>\n",
       "    .dataframe tbody tr th:only-of-type {\n",
       "        vertical-align: middle;\n",
       "    }\n",
       "\n",
       "    .dataframe tbody tr th {\n",
       "        vertical-align: top;\n",
       "    }\n",
       "\n",
       "    .dataframe thead th {\n",
       "        text-align: right;\n",
       "    }\n",
       "</style>\n",
       "<table border=\"1\" class=\"dataframe\">\n",
       "  <thead>\n",
       "    <tr style=\"text-align: right;\">\n",
       "      <th></th>\n",
       "      <th>text</th>\n",
       "      <th>leto</th>\n",
       "      <th>mesec</th>\n",
       "      <th>rojstvo</th>\n",
       "      <th>stranka</th>\n",
       "      <th>spol</th>\n",
       "      <th>sent</th>\n",
       "    </tr>\n",
       "  </thead>\n",
       "  <tbody>\n",
       "    <tr>\n",
       "      <th>6</th>\n",
       "      <td>hvala lepa za besedo. spoštovani minister za i...</td>\n",
       "      <td>2020</td>\n",
       "      <td>1</td>\n",
       "      <td>1965</td>\n",
       "      <td>SMC</td>\n",
       "      <td>M</td>\n",
       "      <td>positive</td>\n",
       "    </tr>\n",
       "    <tr>\n",
       "      <th>151</th>\n",
       "      <td>hvala še enkrat za besedo. gospod minister, hv...</td>\n",
       "      <td>2020</td>\n",
       "      <td>1</td>\n",
       "      <td>1969</td>\n",
       "      <td>SDS</td>\n",
       "      <td>M</td>\n",
       "      <td>positive</td>\n",
       "    </tr>\n",
       "    <tr>\n",
       "      <th>209</th>\n",
       "      <td>mislim, da je danes tudi priložnost, da naši r...</td>\n",
       "      <td>2020</td>\n",
       "      <td>1</td>\n",
       "      <td>1965</td>\n",
       "      <td>SMC</td>\n",
       "      <td>M</td>\n",
       "      <td>positive</td>\n",
       "    </tr>\n",
       "    <tr>\n",
       "      <th>607</th>\n",
       "      <td>hvala lepa, gospod podpredsednik, za besedo. l...</td>\n",
       "      <td>2020</td>\n",
       "      <td>4</td>\n",
       "      <td>1953</td>\n",
       "      <td>DeSUS</td>\n",
       "      <td>M</td>\n",
       "      <td>positive</td>\n",
       "    </tr>\n",
       "    <tr>\n",
       "      <th>1302</th>\n",
       "      <td>hvala lepa. spoštovani predsednik vlade! slove...</td>\n",
       "      <td>2020</td>\n",
       "      <td>6</td>\n",
       "      <td>1974</td>\n",
       "      <td>SMC</td>\n",
       "      <td>F</td>\n",
       "      <td>positive</td>\n",
       "    </tr>\n",
       "    <tr>\n",
       "      <th>1307</th>\n",
       "      <td>lep pozdrav vsem skupaj! živali so eno izmed p...</td>\n",
       "      <td>2020</td>\n",
       "      <td>6</td>\n",
       "      <td>1979</td>\n",
       "      <td>SAB</td>\n",
       "      <td>M</td>\n",
       "      <td>positive</td>\n",
       "    </tr>\n",
       "  </tbody>\n",
       "</table>\n",
       "</div>"
      ],
      "text/plain": [
       "                                                   text  leto  mesec rojstvo  \\\n",
       "6     hvala lepa za besedo. spoštovani minister za i...  2020      1    1965   \n",
       "151   hvala še enkrat za besedo. gospod minister, hv...  2020      1    1969   \n",
       "209   mislim, da je danes tudi priložnost, da naši r...  2020      1    1965   \n",
       "607   hvala lepa, gospod podpredsednik, za besedo. l...  2020      4    1953   \n",
       "1302  hvala lepa. spoštovani predsednik vlade! slove...  2020      6    1974   \n",
       "1307  lep pozdrav vsem skupaj! živali so eno izmed p...  2020      6    1979   \n",
       "\n",
       "     stranka spol      sent  \n",
       "6        SMC    M  positive  \n",
       "151      SDS    M  positive  \n",
       "209      SMC    M  positive  \n",
       "607    DeSUS    M  positive  \n",
       "1302     SMC    F  positive  \n",
       "1307     SAB    M  positive  "
      ]
     },
     "execution_count": 24,
     "metadata": {},
     "output_type": "execute_result"
    }
   ],
   "source": [
    "dfDvajset[dfDvajset['sent']=='positive']"
   ]
  },
  {
   "cell_type": "code",
   "execution_count": 46,
   "id": "95d70e71",
   "metadata": {},
   "outputs": [
    {
     "data": {
      "text/plain": [
       "M    5\n",
       "F    1\n",
       "Name: spol, dtype: int64"
      ]
     },
     "execution_count": 46,
     "metadata": {},
     "output_type": "execute_result"
    }
   ],
   "source": [
    "positiveDvajset['spol'].value_counts()"
   ]
  },
  {
   "cell_type": "code",
   "execution_count": 47,
   "id": "fd5ebd81",
   "metadata": {},
   "outputs": [
    {
     "data": {
      "text/plain": [
       "SMC      3\n",
       "SDS      1\n",
       "DeSUS    1\n",
       "SAB      1\n",
       "Name: stranka, dtype: int64"
      ]
     },
     "execution_count": 47,
     "metadata": {},
     "output_type": "execute_result"
    }
   ],
   "source": [
    "positiveDvajset['stranka'].value_counts()"
   ]
  },
  {
   "cell_type": "code",
   "execution_count": 48,
   "id": "f95cc8bd",
   "metadata": {},
   "outputs": [
    {
     "data": {
      "text/plain": [
       "1965    2\n",
       "1969    1\n",
       "1953    1\n",
       "1974    1\n",
       "1979    1\n",
       "Name: rojstvo, dtype: int64"
      ]
     },
     "execution_count": 48,
     "metadata": {},
     "output_type": "execute_result"
    }
   ],
   "source": [
    "positiveDvajset['rojstvo'].value_counts()"
   ]
  },
  {
   "cell_type": "code",
   "execution_count": 28,
   "id": "b8175e06",
   "metadata": {},
   "outputs": [
    {
     "data": {
      "text/plain": [
       "'mislim, da je danes tudi priložnost, da naši rokometni reprezentanci čestitamo za osvojeno četrto mesto na evropskem prvenstvu. škoda, ker nismo bili tretji. mislim, da bi se potem vsi majčkeno nižje doli pokazali, ampak vsa čast jim. strinjava se, da je tisti projekt za izgradnjo šolskih telovadnic za zunanjo uporabo zelo dobra stvar. s tem smo dobili neke sodobne objekte, kjer so lahko trenirali in otroci v šoli, oziroma se je izvajal pouk, in klubi. za kakšne velike dogodke pa to ni. jaz upam, da smo toliko ambiciozni, da si bomo privoščili tudi kakšno veliko tekmovanje. saj pravim, v šolski telovadnici tega ne moremo izvajati, na žalost. jaz sem mogoče malo prehitel stvar pa bom rekel, na začetku, ne vem, če ste opazili, da vas nisem poimenoval tudi za ministra za šport. oproščam se za to zadevo, to je bilo malo provokativno. moj namen je, da bi mogoče enkrat v bližnji prihodnosti, kakor imamo ministrstvo za kulturo, ki si zasluži to, tudi šport imel svoje posebno ministrstvo. saj pravim, ti veliki dogodki so mogoče že v bližnji prihodnosti. vemo, da bo v mariboru kmalu evropsko prvenstvo za mlade nogometaše. mogoče že takrat malo pomagamo, pomagate, ne samo z denarjem, tudi z navijanjem. hvala lepa.'"
      ]
     },
     "execution_count": 28,
     "metadata": {},
     "output_type": "execute_result"
    }
   ],
   "source": [
    "dfDvajset.iloc[209]['text']"
   ]
  },
  {
   "cell_type": "code",
   "execution_count": 49,
   "id": "37056532",
   "metadata": {},
   "outputs": [],
   "source": [
    "negativeDvajset = dfDvajset[dfDvajset['sent']=='negative']"
   ]
  },
  {
   "cell_type": "code",
   "execution_count": 25,
   "id": "056a02f1",
   "metadata": {},
   "outputs": [
    {
     "data": {
      "text/html": [
       "<div>\n",
       "<style scoped>\n",
       "    .dataframe tbody tr th:only-of-type {\n",
       "        vertical-align: middle;\n",
       "    }\n",
       "\n",
       "    .dataframe tbody tr th {\n",
       "        vertical-align: top;\n",
       "    }\n",
       "\n",
       "    .dataframe thead th {\n",
       "        text-align: right;\n",
       "    }\n",
       "</style>\n",
       "<table border=\"1\" class=\"dataframe\">\n",
       "  <thead>\n",
       "    <tr style=\"text-align: right;\">\n",
       "      <th></th>\n",
       "      <th>text</th>\n",
       "      <th>leto</th>\n",
       "      <th>mesec</th>\n",
       "      <th>rojstvo</th>\n",
       "      <th>stranka</th>\n",
       "      <th>spol</th>\n",
       "      <th>sent</th>\n",
       "    </tr>\n",
       "  </thead>\n",
       "  <tbody>\n",
       "    <tr>\n",
       "      <th>17</th>\n",
       "      <td>hvala lepa še enkrat. ugotavljam, da kot marsi...</td>\n",
       "      <td>2020</td>\n",
       "      <td>1</td>\n",
       "      <td>1980</td>\n",
       "      <td>NSi</td>\n",
       "      <td>M</td>\n",
       "      <td>negative</td>\n",
       "    </tr>\n",
       "    <tr>\n",
       "      <th>95</th>\n",
       "      <td>hvala, podpredsednik. kolegice in kolegi, spoš...</td>\n",
       "      <td>2020</td>\n",
       "      <td>1</td>\n",
       "      <td>1990</td>\n",
       "      <td>SDS</td>\n",
       "      <td>M</td>\n",
       "      <td>negative</td>\n",
       "    </tr>\n",
       "    <tr>\n",
       "      <th>143</th>\n",
       "      <td>hvala lepa, podpredsednik, za besedo. spoštova...</td>\n",
       "      <td>2020</td>\n",
       "      <td>1</td>\n",
       "      <td>1971</td>\n",
       "      <td>SD</td>\n",
       "      <td>F</td>\n",
       "      <td>negative</td>\n",
       "    </tr>\n",
       "    <tr>\n",
       "      <th>371</th>\n",
       "      <td>hvala lepa za besedo. posledice izbruha okužbe...</td>\n",
       "      <td>2020</td>\n",
       "      <td>3</td>\n",
       "      <td>1974</td>\n",
       "      <td>SMC</td>\n",
       "      <td>F</td>\n",
       "      <td>negative</td>\n",
       "    </tr>\n",
       "    <tr>\n",
       "      <th>516</th>\n",
       "      <td>spoštovani vsi prisotni! naš planet ima zelo j...</td>\n",
       "      <td>2020</td>\n",
       "      <td>3</td>\n",
       "      <td>1987</td>\n",
       "      <td>SD</td>\n",
       "      <td>M</td>\n",
       "      <td>negative</td>\n",
       "    </tr>\n",
       "    <tr>\n",
       "      <th>591</th>\n",
       "      <td>hvala, predsednik. spoštovana predstavnica vla...</td>\n",
       "      <td>2020</td>\n",
       "      <td>3</td>\n",
       "      <td>1962</td>\n",
       "      <td>SD</td>\n",
       "      <td>M</td>\n",
       "      <td>negative</td>\n",
       "    </tr>\n",
       "    <tr>\n",
       "      <th>663</th>\n",
       "      <td>predsedujoči, hvala za besedo. vsakoletne ujme...</td>\n",
       "      <td>2020</td>\n",
       "      <td>4</td>\n",
       "      <td>1964</td>\n",
       "      <td>SD</td>\n",
       "      <td>M</td>\n",
       "      <td>negative</td>\n",
       "    </tr>\n",
       "    <tr>\n",
       "      <th>840</th>\n",
       "      <td>hvala za besedo, spoštovani gospod predsednik....</td>\n",
       "      <td>2020</td>\n",
       "      <td>4</td>\n",
       "      <td>1980</td>\n",
       "      <td>SD</td>\n",
       "      <td>F</td>\n",
       "      <td>negative</td>\n",
       "    </tr>\n",
       "  </tbody>\n",
       "</table>\n",
       "</div>"
      ],
      "text/plain": [
       "                                                  text  leto  mesec rojstvo  \\\n",
       "17   hvala lepa še enkrat. ugotavljam, da kot marsi...  2020      1    1980   \n",
       "95   hvala, podpredsednik. kolegice in kolegi, spoš...  2020      1    1990   \n",
       "143  hvala lepa, podpredsednik, za besedo. spoštova...  2020      1    1971   \n",
       "371  hvala lepa za besedo. posledice izbruha okužbe...  2020      3    1974   \n",
       "516  spoštovani vsi prisotni! naš planet ima zelo j...  2020      3    1987   \n",
       "591  hvala, predsednik. spoštovana predstavnica vla...  2020      3    1962   \n",
       "663  predsedujoči, hvala za besedo. vsakoletne ujme...  2020      4    1964   \n",
       "840  hvala za besedo, spoštovani gospod predsednik....  2020      4    1980   \n",
       "\n",
       "    stranka spol      sent  \n",
       "17      NSi    M  negative  \n",
       "95      SDS    M  negative  \n",
       "143      SD    F  negative  \n",
       "371     SMC    F  negative  \n",
       "516      SD    M  negative  \n",
       "591      SD    M  negative  \n",
       "663      SD    M  negative  \n",
       "840      SD    F  negative  "
      ]
     },
     "execution_count": 25,
     "metadata": {},
     "output_type": "execute_result"
    }
   ],
   "source": [
    "dfDvajset[dfDvajset['sent']=='negative']"
   ]
  },
  {
   "cell_type": "code",
   "execution_count": 50,
   "id": "bd1aacf1",
   "metadata": {},
   "outputs": [
    {
     "data": {
      "text/plain": [
       "M    5\n",
       "F    3\n",
       "Name: spol, dtype: int64"
      ]
     },
     "execution_count": 50,
     "metadata": {},
     "output_type": "execute_result"
    }
   ],
   "source": [
    "negativeDvajset['spol'].value_counts()"
   ]
  },
  {
   "cell_type": "code",
   "execution_count": 51,
   "id": "3ddba302",
   "metadata": {},
   "outputs": [
    {
     "data": {
      "text/plain": [
       "SD     5\n",
       "NSi    1\n",
       "SDS    1\n",
       "SMC    1\n",
       "Name: stranka, dtype: int64"
      ]
     },
     "execution_count": 51,
     "metadata": {},
     "output_type": "execute_result"
    }
   ],
   "source": [
    "negativeDvajset['stranka'].value_counts()"
   ]
  },
  {
   "cell_type": "code",
   "execution_count": 52,
   "id": "dd9e9e68",
   "metadata": {},
   "outputs": [
    {
     "data": {
      "text/plain": [
       "1980    2\n",
       "1990    1\n",
       "1971    1\n",
       "1974    1\n",
       "1987    1\n",
       "1962    1\n",
       "1964    1\n",
       "Name: rojstvo, dtype: int64"
      ]
     },
     "execution_count": 52,
     "metadata": {},
     "output_type": "execute_result"
    }
   ],
   "source": [
    "negativeDvajset['rojstvo'].value_counts()"
   ]
  },
  {
   "cell_type": "code",
   "execution_count": 30,
   "id": "27e94988",
   "metadata": {},
   "outputs": [
    {
     "data": {
      "text/plain": [
       "'spoštovani vsi prisotni! naš planet ima zelo jasne meje okoljske vzdržnosti. obremenitev teh pa se zaradi slabega ravnanja z njegovimi naravnimi viri in ob vse bolj ekstremnih podnebnih spremembah vsako leto veča. človeštvo vse bolj občuti globalno segrevanje. ozračje se segreva, ledeniki se topijo, gladina morij se viša, povečujejo se emisije toplogrednih plinov, zrak, ki ga dihamo mi in naši otroci, je vse bolj onesnažen. prav tako se nenehno soočamo s poplavami, sušami in katastrofami. vsako leto pa ob vsem tem izginja še na tisoče rastlinskih in živalskih vrst. pri tem pa slovenija ni izjema. še več, zaradi svoje lege in v primerjavi z drugimi območji se segreva kar dvakrat hitreje od svetovnega povprečja, zato je stopnja nujnosti za podnebno prilagajanje in omilitev posledic še toliko večja. vzrok segrevanja je jasen človeštvo je tisto, ki s svojo dejavnostjo spreminja sestavo ozračja in lastnosti površja do te mere, da se je energijsko ravnovesje na površini zemlje spremenilo. segrevanje ozračja je zatorej velika grožnja, ki zahteva korenite spremembe načinov, kako živimo ter kako se oskrbujemo z energijo in dobrinami. socialni demokrati si prizadevamo za napredno in socialno pravično podnebno politiko. v središče le te ter naših prioritet pa postavljamo ravno varovanje okolja, boj proti podnebnim spremembam in pravičen prehod v nizkoogljično družbo. naš pogled v prihodnost je zelena in razvojno naravnana politika, ki ponuja več kot le odgovor na podnebne spremembe in na izziv prilaganja na posledice globalnega segrevanja. varstvo okolja in zeleni razvoj morata postati osnovni okvir vseh politik naše države, saj bomo le tako lahko dosegli družbeno in okoljsko samoobnavljanje. prehod v trajnostno organizirano družbo je po našem prepričanju ključni element napredne podnebne politike, ki zahteva horizontalen premik, prilagoditve in ukrepe na vseh področjih energetike, kmetijstva, mobilnosti dela in proizvodnje, zato da se doseže večja energetska in snovna učinkovitost. podnebne razmere nimajo ideologije in tako ne smejo biti podrejene političnim interesom, zato je ključnega pomena, da si pri reševanju podnebne krize nalijemo čistega vina in prepoznamo ter upoštevamo omejitve našega planeta ter v luči teh tudi odgovorneje delujemo s konkretnimi ukrepi. na pobudo poslanske skupine socialnih demokratov je bila prejšnji teden skupaj z ostalimi poslanskimi skupinami v zakonodajni postopek vložena resolucija o razglasitvi izrednih podnebnih in okoljskih razmer v sloveniji. oba dokumenta, nacionalni program varstva okolja za obdobje in tudi omenjena resolucija, morata postati temelj za nadaljnje ukrepe in umeritve vseh politik naše države. podnebne spremembe, omejenost naravnih virov ter neenak dostop do ključnih življenjskih in ekonomskih dobrin so namreč naš največji skupni izziv, ki zahteva premik v globalni zavesti, da je zemlja edini planet, ki ga imamo, in je skrb zanj prednostna predvsem pa skupna naloga celotne družbe. le na takšen način bomo lahko obrnili trend globalnega segrevanja in prihodnjim generacijam omogočili vsaj enake pogoje in možnosti, kot jih imamo danes mi. poslanska skupina socialnih demokratov pozdravlja predlog nacionalnega programa kot pomemben strateški dokument, ki vsebuje dolgoročne usmeritve, cilje, naloge in ukrepe na področju varstva okolja ter ohranjanja biotske raznovrstnosti ter varstva naravnih vrednot. prav tako ta dokument podaja usmeritve in pomembno podpira tudi ostale politike s področja varstva okolja in ohranjanja narave. zato ga bomo v poslanski skupini socialnih demokratov tudi podprli.'"
      ]
     },
     "execution_count": 30,
     "metadata": {},
     "output_type": "execute_result"
    }
   ],
   "source": [
    "dfDvajset.iloc[516]['text']"
   ]
  },
  {
   "cell_type": "code",
   "execution_count": null,
   "id": "1891b894",
   "metadata": {},
   "outputs": [],
   "source": []
  }
 ],
 "metadata": {
  "kernelspec": {
   "display_name": "Python 3 (ipykernel)",
   "language": "python",
   "name": "python3"
  },
  "language_info": {
   "codemirror_mode": {
    "name": "ipython",
    "version": 3
   },
   "file_extension": ".py",
   "mimetype": "text/x-python",
   "name": "python",
   "nbconvert_exporter": "python",
   "pygments_lexer": "ipython3",
   "version": "3.8.10"
  }
 },
 "nbformat": 4,
 "nbformat_minor": 5
}
