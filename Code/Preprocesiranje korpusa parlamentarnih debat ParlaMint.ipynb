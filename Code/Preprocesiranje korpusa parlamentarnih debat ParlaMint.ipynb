{
 "cells": [
  {
   "cell_type": "markdown",
   "id": "dab81b51",
   "metadata": {},
   "source": [
    "Korpus parlamentarnega govora [ParlaMint](https://www.clarin.si/repository/xmlui/handle/11356/1432), pridobljena iz portala Clarin.si, je zbirka transkriptov iz parlamentarnih debat v 16 jezikih: bulgarskem, hrvaškem, češkem, danskem, nizozemskem, angleškem, francoskem, madžarskem, islandskem, latvijskem, litovskem, polskem, slovenskem, španskem in turškem. Za analizo sovražnega govora in sentimenta bomo uporabili zbirko transkriptov v slovenskem jeziku.<br>\n",
    "V tem delu preberemo datoteke s transkripti ter jih preprocesiramo oz. jih pripravimo v obliko, primerno za procesiranje naravnega jezika"
   ]
  },
  {
   "cell_type": "markdown",
   "id": "3c1eaca3",
   "metadata": {},
   "source": [
    "## Branje tekstovnih datotek in shranjevanje podatkov v tabelo\n",
    "Korpus parlamentarnega govora v slovenščini smo prenesli s portala Clarin. Iteriramo skozi 415 tekstovnih datotek s prepisi parlamentarnih debat ter jih shranimo v seznam, pri čemer vsak posamezen govor shranimo predstavimo v terki *(tekst, datum, vrsta)*."
   ]
  },
  {
   "cell_type": "code",
   "execution_count": 1,
   "id": "c441fd84",
   "metadata": {},
   "outputs": [],
   "source": [
    "import os\n",
    "directory = 'C:\\\\Users\\\\gogi1\\\\Desktop\\\\diploma\\\\ParlaMint-SI\\\\ParlaMint-SI.txt'\n",
    "files = []\n",
    "\n",
    "for filename in os.listdir(directory):\n",
    "    f = os.path.join(directory, filename)\n",
    "    if os.path.isfile(f) and f[-1]=='t':\n",
    "        files.append(f)"
   ]
  },
  {
   "cell_type": "code",
   "execution_count": 2,
   "id": "e85e746a",
   "metadata": {},
   "outputs": [
    {
     "data": {
      "text/plain": [
       "415"
      ]
     },
     "execution_count": 2,
     "metadata": {},
     "output_type": "execute_result"
    }
   ],
   "source": [
    "len(files)"
   ]
  },
  {
   "cell_type": "code",
   "execution_count": 3,
   "id": "2c725b72",
   "metadata": {},
   "outputs": [],
   "source": [
    "import re\n",
    "data = []\n",
    "directory = 'C:\\\\Users\\\\gogi1\\\\Desktop\\\\diploma\\\\ParlaMint-SI\\\\ParlaMint-SI.txt'\n",
    "\n",
    "for file in files[1:]:\n",
    "    with open(file, encoding='utf-8') as f:\n",
    "        lines = f.readlines()\n",
    "        for line in lines:\n",
    "            id = line[:40]\n",
    "            datum = line[13:23]\n",
    "            vrsta = line[29:34]\n",
    "            tekst = line[41:]\n",
    "            tekst = re.sub('[^A-Z\\Č\\Š\\Ž\\Ća-z\\č\\š\\ž\\ć\\.,!?]+', ' ', tekst)\n",
    "            tekst = tekst.strip()\n",
    "            data.append([tekst, datum, vrsta, id])\n",
    "            "
   ]
  },
  {
   "cell_type": "code",
   "execution_count": 4,
   "id": "c849f612",
   "metadata": {},
   "outputs": [
    {
     "data": {
      "text/plain": [
       "75122"
      ]
     },
     "execution_count": 4,
     "metadata": {},
     "output_type": "execute_result"
    }
   ],
   "source": [
    "len(data)"
   ]
  },
  {
   "cell_type": "code",
   "execution_count": 5,
   "id": "6fdc2286",
   "metadata": {},
   "outputs": [],
   "source": [
    "import pandas as pd\n",
    "df = pd.DataFrame(data, index=None, columns=['Tekst', 'Datum', 'Vrsta', 'ID'])"
   ]
  },
  {
   "cell_type": "code",
   "execution_count": 6,
   "id": "cef7c513",
   "metadata": {},
   "outputs": [
    {
     "data": {
      "text/html": [
       "<div>\n",
       "<style scoped>\n",
       "    .dataframe tbody tr th:only-of-type {\n",
       "        vertical-align: middle;\n",
       "    }\n",
       "\n",
       "    .dataframe tbody tr th {\n",
       "        vertical-align: top;\n",
       "    }\n",
       "\n",
       "    .dataframe thead th {\n",
       "        text-align: right;\n",
       "    }\n",
       "</style>\n",
       "<table border=\"1\" class=\"dataframe\">\n",
       "  <thead>\n",
       "    <tr style=\"text-align: right;\">\n",
       "      <th></th>\n",
       "      <th>Tekst</th>\n",
       "      <th>Datum</th>\n",
       "      <th>Vrsta</th>\n",
       "      <th>ID</th>\n",
       "    </tr>\n",
       "  </thead>\n",
       "  <tbody>\n",
       "    <tr>\n",
       "      <th>73479</th>\n",
       "      <td>Za obrazložitev mnenja dajem besedo predstavni...</td>\n",
       "      <td>2020-06-16</td>\n",
       "      <td>Redna</td>\n",
       "      <td>ParlaMint-SI_2020-06-16-SDZ8-Redna-18.u5</td>\n",
       "    </tr>\n",
       "    <tr>\n",
       "      <th>63656</th>\n",
       "      <td>Podpredsednik, hvala lepa za najavo. Spoštovan...</td>\n",
       "      <td>2019-09-25</td>\n",
       "      <td>Redna</td>\n",
       "      <td>ParlaMint-SI_2019-09-25-SDZ8-Redna-11.u1</td>\n",
       "    </tr>\n",
       "    <tr>\n",
       "      <th>42865</th>\n",
       "      <td>Ministrica za notranje zadeve mag. Vesna Gy rk...</td>\n",
       "      <td>2017-09-18</td>\n",
       "      <td>Redna</td>\n",
       "      <td>ParlaMint-SI_2017-09-18-SDZ7-Redna-33.u6</td>\n",
       "    </tr>\n",
       "    <tr>\n",
       "      <th>3442</th>\n",
       "      <td>Hvala za besedo. Kolega Andrej Čuš je povedal ...</td>\n",
       "      <td>2014-12-16</td>\n",
       "      <td>Redna</td>\n",
       "      <td>ParlaMint-SI_2014-12-16-SDZ7-Redna-03.u3</td>\n",
       "    </tr>\n",
       "    <tr>\n",
       "      <th>60951</th>\n",
       "      <td>Hvala, podpredsednica. Včasih molk pove več ko...</td>\n",
       "      <td>2019-05-28</td>\n",
       "      <td>Redna</td>\n",
       "      <td>ParlaMint-SI_2019-05-28-SDZ8-Redna-08.u9</td>\n",
       "    </tr>\n",
       "    <tr>\n",
       "      <th>63709</th>\n",
       "      <td>Hvala lepa. Še kot zadnji ima besedo mag. Mate...</td>\n",
       "      <td>2019-09-25</td>\n",
       "      <td>Redna</td>\n",
       "      <td>ParlaMint-SI_2019-09-25-SDZ8-Redna-11.u2</td>\n",
       "    </tr>\n",
       "    <tr>\n",
       "      <th>71506</th>\n",
       "      <td>Hvala lepa. Kolega Mesec, predsednik delovnega...</td>\n",
       "      <td>2020-05-25</td>\n",
       "      <td>Redna</td>\n",
       "      <td>ParlaMint-SI_2020-05-25-SDZ8-Redna-17.u3</td>\n",
       "    </tr>\n",
       "    <tr>\n",
       "      <th>68815</th>\n",
       "      <td>Hvala lepa. Gospa ministrica, izvolite.</td>\n",
       "      <td>2020-01-27</td>\n",
       "      <td>Redna</td>\n",
       "      <td>ParlaMint-SI_2020-01-27-SDZ8-Redna-15.u2</td>\n",
       "    </tr>\n",
       "    <tr>\n",
       "      <th>58479</th>\n",
       "      <td>Hvala lepa. Gospod minister boste odgovoril? I...</td>\n",
       "      <td>2019-03-25</td>\n",
       "      <td>Redna</td>\n",
       "      <td>ParlaMint-SI_2019-03-25-SDZ8-Redna-06.u9</td>\n",
       "    </tr>\n",
       "    <tr>\n",
       "      <th>50054</th>\n",
       "      <td>Hvala za besedo. Tisto prej je bila razprava, ...</td>\n",
       "      <td>2018-02-20</td>\n",
       "      <td>Redna</td>\n",
       "      <td>ParlaMint-SI_2018-02-20-SDZ7-Redna-38.u1</td>\n",
       "    </tr>\n",
       "    <tr>\n",
       "      <th>49259</th>\n",
       "      <td>Hvala lepa za besedo. Lep pozdrav ministrom, k...</td>\n",
       "      <td>2018-02-12</td>\n",
       "      <td>Redna</td>\n",
       "      <td>ParlaMint-SI_2018-02-12-SDZ7-Redna-38.u2</td>\n",
       "    </tr>\n",
       "    <tr>\n",
       "      <th>67586</th>\n",
       "      <td>Spoštovana podpredsednica, spoštovana poslanka...</td>\n",
       "      <td>2019-12-16</td>\n",
       "      <td>Redna</td>\n",
       "      <td>ParlaMint-SI_2019-12-16-SDZ8-Redna-14.u1</td>\n",
       "    </tr>\n",
       "    <tr>\n",
       "      <th>72277</th>\n",
       "      <td>Hvala lepa, spoštovani predsednik. Gospa držav...</td>\n",
       "      <td>2020-05-27</td>\n",
       "      <td>Redna</td>\n",
       "      <td>ParlaMint-SI_2020-05-27-SDZ8-Redna-17.u1</td>\n",
       "    </tr>\n",
       "    <tr>\n",
       "      <th>13339</th>\n",
       "      <td>in poskušajo pisati. To je vse povezano</td>\n",
       "      <td>2015-07-15</td>\n",
       "      <td>Redna</td>\n",
       "      <td>ParlaMint-SI_2015-07-15-SDZ7-Redna-10.u1</td>\n",
       "    </tr>\n",
       "    <tr>\n",
       "      <th>62581</th>\n",
       "      <td>Gospod poslanec, čas vam je potekel. Za nasled...</td>\n",
       "      <td>2019-07-10</td>\n",
       "      <td>Redna</td>\n",
       "      <td>ParlaMint-SI_2019-07-10-SDZ8-Redna-10.u7</td>\n",
       "    </tr>\n",
       "    <tr>\n",
       "      <th>38482</th>\n",
       "      <td>Hvala tudi za to vprašanje. Vam bom povedala z...</td>\n",
       "      <td>2017-04-24</td>\n",
       "      <td>Redna</td>\n",
       "      <td>ParlaMint-SI_2017-04-24-SDZ7-Redna-29.u3</td>\n",
       "    </tr>\n",
       "    <tr>\n",
       "      <th>29527</th>\n",
       "      <td>Sicer to ni bilo postopkovno, pa bom vseeno vs...</td>\n",
       "      <td>2016-09-22</td>\n",
       "      <td>Redna</td>\n",
       "      <td>ParlaMint-SI_2016-09-22-SDZ7-Redna-22.u1</td>\n",
       "    </tr>\n",
       "    <tr>\n",
       "      <th>11192</th>\n",
       "      <td>Hvala, predsedujoča. Že kar nekaj časa smo tuk...</td>\n",
       "      <td>2015-06-17</td>\n",
       "      <td>Redna</td>\n",
       "      <td>ParlaMint-SI_2015-06-17-SDZ7-Redna-09.u1</td>\n",
       "    </tr>\n",
       "    <tr>\n",
       "      <th>8439</th>\n",
       "      <td>Obrazložitev glasu v imenu Poslanske skupine S...</td>\n",
       "      <td>2015-03-31</td>\n",
       "      <td>Redna</td>\n",
       "      <td>ParlaMint-SI_2015-03-31-SDZ7-Redna-06.u1</td>\n",
       "    </tr>\n",
       "    <tr>\n",
       "      <th>16084</th>\n",
       "      <td>Glasujemo. Navzočih je poslank in poslancev. Z...</td>\n",
       "      <td>2015-10-21</td>\n",
       "      <td>Redna</td>\n",
       "      <td>ParlaMint-SI_2015-10-21-SDZ7-Redna-12.u1</td>\n",
       "    </tr>\n",
       "  </tbody>\n",
       "</table>\n",
       "</div>"
      ],
      "text/plain": [
       "                                                   Tekst       Datum  Vrsta  \\\n",
       "73479  Za obrazložitev mnenja dajem besedo predstavni...  2020-06-16  Redna   \n",
       "63656  Podpredsednik, hvala lepa za najavo. Spoštovan...  2019-09-25  Redna   \n",
       "42865  Ministrica za notranje zadeve mag. Vesna Gy rk...  2017-09-18  Redna   \n",
       "3442   Hvala za besedo. Kolega Andrej Čuš je povedal ...  2014-12-16  Redna   \n",
       "60951  Hvala, podpredsednica. Včasih molk pove več ko...  2019-05-28  Redna   \n",
       "63709  Hvala lepa. Še kot zadnji ima besedo mag. Mate...  2019-09-25  Redna   \n",
       "71506  Hvala lepa. Kolega Mesec, predsednik delovnega...  2020-05-25  Redna   \n",
       "68815            Hvala lepa. Gospa ministrica, izvolite.  2020-01-27  Redna   \n",
       "58479  Hvala lepa. Gospod minister boste odgovoril? I...  2019-03-25  Redna   \n",
       "50054  Hvala za besedo. Tisto prej je bila razprava, ...  2018-02-20  Redna   \n",
       "49259  Hvala lepa za besedo. Lep pozdrav ministrom, k...  2018-02-12  Redna   \n",
       "67586  Spoštovana podpredsednica, spoštovana poslanka...  2019-12-16  Redna   \n",
       "72277  Hvala lepa, spoštovani predsednik. Gospa držav...  2020-05-27  Redna   \n",
       "13339            in poskušajo pisati. To je vse povezano  2015-07-15  Redna   \n",
       "62581  Gospod poslanec, čas vam je potekel. Za nasled...  2019-07-10  Redna   \n",
       "38482  Hvala tudi za to vprašanje. Vam bom povedala z...  2017-04-24  Redna   \n",
       "29527  Sicer to ni bilo postopkovno, pa bom vseeno vs...  2016-09-22  Redna   \n",
       "11192  Hvala, predsedujoča. Že kar nekaj časa smo tuk...  2015-06-17  Redna   \n",
       "8439   Obrazložitev glasu v imenu Poslanske skupine S...  2015-03-31  Redna   \n",
       "16084  Glasujemo. Navzočih je poslank in poslancev. Z...  2015-10-21  Redna   \n",
       "\n",
       "                                             ID  \n",
       "73479  ParlaMint-SI_2020-06-16-SDZ8-Redna-18.u5  \n",
       "63656  ParlaMint-SI_2019-09-25-SDZ8-Redna-11.u1  \n",
       "42865  ParlaMint-SI_2017-09-18-SDZ7-Redna-33.u6  \n",
       "3442   ParlaMint-SI_2014-12-16-SDZ7-Redna-03.u3  \n",
       "60951  ParlaMint-SI_2019-05-28-SDZ8-Redna-08.u9  \n",
       "63709  ParlaMint-SI_2019-09-25-SDZ8-Redna-11.u2  \n",
       "71506  ParlaMint-SI_2020-05-25-SDZ8-Redna-17.u3  \n",
       "68815  ParlaMint-SI_2020-01-27-SDZ8-Redna-15.u2  \n",
       "58479  ParlaMint-SI_2019-03-25-SDZ8-Redna-06.u9  \n",
       "50054  ParlaMint-SI_2018-02-20-SDZ7-Redna-38.u1  \n",
       "49259  ParlaMint-SI_2018-02-12-SDZ7-Redna-38.u2  \n",
       "67586  ParlaMint-SI_2019-12-16-SDZ8-Redna-14.u1  \n",
       "72277  ParlaMint-SI_2020-05-27-SDZ8-Redna-17.u1  \n",
       "13339  ParlaMint-SI_2015-07-15-SDZ7-Redna-10.u1  \n",
       "62581  ParlaMint-SI_2019-07-10-SDZ8-Redna-10.u7  \n",
       "38482  ParlaMint-SI_2017-04-24-SDZ7-Redna-29.u3  \n",
       "29527  ParlaMint-SI_2016-09-22-SDZ7-Redna-22.u1  \n",
       "11192  ParlaMint-SI_2015-06-17-SDZ7-Redna-09.u1  \n",
       "8439   ParlaMint-SI_2015-03-31-SDZ7-Redna-06.u1  \n",
       "16084  ParlaMint-SI_2015-10-21-SDZ7-Redna-12.u1  "
      ]
     },
     "execution_count": 6,
     "metadata": {},
     "output_type": "execute_result"
    }
   ],
   "source": [
    "df.sample(20)"
   ]
  },
  {
   "cell_type": "code",
   "execution_count": 7,
   "id": "9c7cf683",
   "metadata": {},
   "outputs": [
    {
     "data": {
      "text/plain": [
       "'Hvala lepa! Vsi prijavljeni razpravljavci, ki ste to želeli, ste dobili besedo. Ker čas, določen za razpravo, še ni potekel, sprašujem, ali želi na podlagi prvega odstavka . člena Poslovnika zbora, še kdo razpravljati. Ker vidim, da je interesa več, bomo Še pred prijavo vas želim opozoriti, da se k prijavi prijavite s pritiskom tipke za vklop mikrofona. Če želita razpravljati tudi predstavnik predlagatelja predloga zakona, Jožef Horvat, in predstavnica Vlade, prosim, da se prav tako prijavita s pritiskom tipke za vklop mikrofona. V tem primeru dobita besedo kot zadnja, in sicer najprej predstavnica Vlade in nato predstavnik predlagatelja. Zdaj pa začenjamo s postopkom za prijavo. Vsak razpravljavec ima na voljo pet minut. Besedo ima, najprej, poslanec Franc Kramar. Izvolite.'"
      ]
     },
     "execution_count": 7,
     "metadata": {},
     "output_type": "execute_result"
    }
   ],
   "source": [
    "df.iloc[54576]['Tekst']"
   ]
  },
  {
   "cell_type": "markdown",
   "id": "e740f2a9",
   "metadata": {},
   "source": [
    "## Preprocesiranje\n",
    "Podatke je nato treba prečistiti, tj. spraviti v obliko, primerno za procesiranje naravnega jezika. Vso besedilo moramo pretvoriti v majhne črke. Na koncu prečiščeno tabelo shranimo v csv datoteko.\n",
    "\n",
    "### Pretvorba v male črke"
   ]
  },
  {
   "cell_type": "code",
   "execution_count": 8,
   "id": "093a7587",
   "metadata": {},
   "outputs": [],
   "source": [
    "df['Tekst'] = df['Tekst'].apply(lambda x: ' '.join(x.lower().split()))"
   ]
  },
  {
   "cell_type": "code",
   "execution_count": 9,
   "id": "b082d978",
   "metadata": {},
   "outputs": [
    {
     "data": {
      "text/html": [
       "<div>\n",
       "<style scoped>\n",
       "    .dataframe tbody tr th:only-of-type {\n",
       "        vertical-align: middle;\n",
       "    }\n",
       "\n",
       "    .dataframe tbody tr th {\n",
       "        vertical-align: top;\n",
       "    }\n",
       "\n",
       "    .dataframe thead th {\n",
       "        text-align: right;\n",
       "    }\n",
       "</style>\n",
       "<table border=\"1\" class=\"dataframe\">\n",
       "  <thead>\n",
       "    <tr style=\"text-align: right;\">\n",
       "      <th></th>\n",
       "      <th>Tekst</th>\n",
       "      <th>Datum</th>\n",
       "      <th>Vrsta</th>\n",
       "      <th>ID</th>\n",
       "    </tr>\n",
       "  </thead>\n",
       "  <tbody>\n",
       "    <tr>\n",
       "      <th>0</th>\n",
       "      <td>spoštovani, prosim, da zasedete svoja mesta. v...</td>\n",
       "      <td>2014-08-01</td>\n",
       "      <td>Redna</td>\n",
       "      <td>ParlaMint-SI_2014-08-01-SDZ7-Redna-01.u1</td>\n",
       "    </tr>\n",
       "    <tr>\n",
       "      <th>1</th>\n",
       "      <td>hvala za besedo, predsedujoča. spoštovani pred...</td>\n",
       "      <td>2014-08-01</td>\n",
       "      <td>Redna</td>\n",
       "      <td>ParlaMint-SI_2014-08-01-SDZ7-Redna-01.u2</td>\n",
       "    </tr>\n",
       "    <tr>\n",
       "      <th>2</th>\n",
       "      <td>zahvaljujem se spoštovanemu gospodu janku vebr...</td>\n",
       "      <td>2014-08-01</td>\n",
       "      <td>Redna</td>\n",
       "      <td>ParlaMint-SI_2014-08-01-SDZ7-Redna-01.u3</td>\n",
       "    </tr>\n",
       "    <tr>\n",
       "      <th>3</th>\n",
       "      <td>spoštovana gospa predsedujoča, spoštovane posl...</td>\n",
       "      <td>2014-08-01</td>\n",
       "      <td>Redna</td>\n",
       "      <td>ParlaMint-SI_2014-08-01-SDZ7-Redna-01.u4</td>\n",
       "    </tr>\n",
       "    <tr>\n",
       "      <th>4</th>\n",
       "      <td>predsedniku republike, spoštovanemu gospodu bo...</td>\n",
       "      <td>2014-08-01</td>\n",
       "      <td>Redna</td>\n",
       "      <td>ParlaMint-SI_2014-08-01-SDZ7-Redna-01.u5</td>\n",
       "    </tr>\n",
       "  </tbody>\n",
       "</table>\n",
       "</div>"
      ],
      "text/plain": [
       "                                               Tekst       Datum  Vrsta  \\\n",
       "0  spoštovani, prosim, da zasedete svoja mesta. v...  2014-08-01  Redna   \n",
       "1  hvala za besedo, predsedujoča. spoštovani pred...  2014-08-01  Redna   \n",
       "2  zahvaljujem se spoštovanemu gospodu janku vebr...  2014-08-01  Redna   \n",
       "3  spoštovana gospa predsedujoča, spoštovane posl...  2014-08-01  Redna   \n",
       "4  predsedniku republike, spoštovanemu gospodu bo...  2014-08-01  Redna   \n",
       "\n",
       "                                         ID  \n",
       "0  ParlaMint-SI_2014-08-01-SDZ7-Redna-01.u1  \n",
       "1  ParlaMint-SI_2014-08-01-SDZ7-Redna-01.u2  \n",
       "2  ParlaMint-SI_2014-08-01-SDZ7-Redna-01.u3  \n",
       "3  ParlaMint-SI_2014-08-01-SDZ7-Redna-01.u4  \n",
       "4  ParlaMint-SI_2014-08-01-SDZ7-Redna-01.u5  "
      ]
     },
     "execution_count": 9,
     "metadata": {},
     "output_type": "execute_result"
    }
   ],
   "source": [
    "df.head(5)"
   ]
  },
  {
   "cell_type": "code",
   "execution_count": 10,
   "id": "006e422e",
   "metadata": {},
   "outputs": [],
   "source": [
    "import os\n",
    "directory = 'C:\\\\Users\\\\gogi1\\\\Desktop\\\\diploma\\\\ParlaMint-SI\\\\ParlaMint-SI.txt'\n",
    "files = []\n",
    "\n",
    "for filename in os.listdir(directory):\n",
    "    f = os.path.join(directory, filename)\n",
    "    if os.path.isfile(f) and f[-1]=='v':\n",
    "        files.append(f)"
   ]
  },
  {
   "cell_type": "code",
   "execution_count": 11,
   "id": "7e845c0e",
   "metadata": {},
   "outputs": [
    {
     "data": {
      "text/plain": [
       "414"
      ]
     },
     "execution_count": 11,
     "metadata": {},
     "output_type": "execute_result"
    }
   ],
   "source": [
    "len(files)"
   ]
  },
  {
   "cell_type": "code",
   "execution_count": 12,
   "id": "dab0872c",
   "metadata": {},
   "outputs": [],
   "source": [
    "import re\n",
    "directory = 'C:\\\\Users\\\\gogi1\\\\Desktop\\\\diploma\\\\ParlaMint-SI\\\\ParlaMint-SI.txt'\n",
    "rojstvo = []\n",
    "spol = []\n",
    "polStranka = []\n",
    "ime = []\n",
    "\n",
    "for file in files:\n",
    "    with open(file, encoding='utf-8') as f:\n",
    "        lines = f.readlines()\n",
    "        #next(f) # skip header line\n",
    "        for line in lines[1:]:\n",
    "            elementi = line.split('\\t')\n",
    "            id = elementi[0]\n",
    "            name = elementi[16]\n",
    "            gender = elementi[17]\n",
    "            birth = elementi[18]\n",
    "            party = elementi[13]\n",
    "            ime.append(name)\n",
    "            rojstvo.append(birth)\n",
    "            spol.append(gender)\n",
    "            polStranka.append(party)"
   ]
  },
  {
   "cell_type": "code",
   "execution_count": 13,
   "id": "699a7bb2",
   "metadata": {},
   "outputs": [],
   "source": [
    "rojstvo2 = []\n",
    "\n",
    "for r in rojstvo:\n",
    "    rojstvo2.append(r[:4])"
   ]
  },
  {
   "cell_type": "code",
   "execution_count": 14,
   "id": "ea72da47",
   "metadata": {},
   "outputs": [
    {
     "data": {
      "text/plain": [
       "(75122, 4)"
      ]
     },
     "execution_count": 14,
     "metadata": {},
     "output_type": "execute_result"
    }
   ],
   "source": [
    "df.shape"
   ]
  },
  {
   "cell_type": "code",
   "execution_count": 15,
   "id": "19ef0e6e",
   "metadata": {},
   "outputs": [
    {
     "data": {
      "text/plain": [
       "75122"
      ]
     },
     "execution_count": 15,
     "metadata": {},
     "output_type": "execute_result"
    }
   ],
   "source": [
    "len(rojstvo2)"
   ]
  },
  {
   "cell_type": "code",
   "execution_count": 16,
   "id": "a1f46236",
   "metadata": {},
   "outputs": [],
   "source": [
    "df['Ime'] = ime\n",
    "df['Rojstvo'] = rojstvo2\n",
    "df['PoliticnaStranka'] = polStranka\n",
    "df['Spol'] = spol"
   ]
  },
  {
   "cell_type": "code",
   "execution_count": 17,
   "id": "406cb212",
   "metadata": {},
   "outputs": [
    {
     "data": {
      "text/html": [
       "<div>\n",
       "<style scoped>\n",
       "    .dataframe tbody tr th:only-of-type {\n",
       "        vertical-align: middle;\n",
       "    }\n",
       "\n",
       "    .dataframe tbody tr th {\n",
       "        vertical-align: top;\n",
       "    }\n",
       "\n",
       "    .dataframe thead th {\n",
       "        text-align: right;\n",
       "    }\n",
       "</style>\n",
       "<table border=\"1\" class=\"dataframe\">\n",
       "  <thead>\n",
       "    <tr style=\"text-align: right;\">\n",
       "      <th></th>\n",
       "      <th>Tekst</th>\n",
       "      <th>Datum</th>\n",
       "      <th>Vrsta</th>\n",
       "      <th>ID</th>\n",
       "      <th>Ime</th>\n",
       "      <th>Rojstvo</th>\n",
       "      <th>PoliticnaStranka</th>\n",
       "      <th>Spol</th>\n",
       "    </tr>\n",
       "  </thead>\n",
       "  <tbody>\n",
       "    <tr>\n",
       "      <th>0</th>\n",
       "      <td>spoštovani, prosim, da zasedete svoja mesta. v...</td>\n",
       "      <td>2014-08-01</td>\n",
       "      <td>Redna</td>\n",
       "      <td>ParlaMint-SI_2014-08-01-SDZ7-Redna-01.u1</td>\n",
       "      <td>Kotnik Poropat, Marjana</td>\n",
       "      <td>1944</td>\n",
       "      <td>DeSUS</td>\n",
       "      <td>F</td>\n",
       "    </tr>\n",
       "    <tr>\n",
       "      <th>1</th>\n",
       "      <td>hvala za besedo, predsedujoča. spoštovani pred...</td>\n",
       "      <td>2014-08-01</td>\n",
       "      <td>Redna</td>\n",
       "      <td>ParlaMint-SI_2014-08-01-SDZ7-Redna-01.u2</td>\n",
       "      <td>Veber, Janko</td>\n",
       "      <td>1960</td>\n",
       "      <td>SD</td>\n",
       "      <td>M</td>\n",
       "    </tr>\n",
       "    <tr>\n",
       "      <th>2</th>\n",
       "      <td>zahvaljujem se spoštovanemu gospodu janku vebr...</td>\n",
       "      <td>2014-08-01</td>\n",
       "      <td>Redna</td>\n",
       "      <td>ParlaMint-SI_2014-08-01-SDZ7-Redna-01.u3</td>\n",
       "      <td>Kotnik Poropat, Marjana</td>\n",
       "      <td>1944</td>\n",
       "      <td>DeSUS</td>\n",
       "      <td>F</td>\n",
       "    </tr>\n",
       "    <tr>\n",
       "      <th>3</th>\n",
       "      <td>spoštovana gospa predsedujoča, spoštovane posl...</td>\n",
       "      <td>2014-08-01</td>\n",
       "      <td>Redna</td>\n",
       "      <td>ParlaMint-SI_2014-08-01-SDZ7-Redna-01.u4</td>\n",
       "      <td>Pahor, Borut</td>\n",
       "      <td>1963</td>\n",
       "      <td></td>\n",
       "      <td>M</td>\n",
       "    </tr>\n",
       "    <tr>\n",
       "      <th>4</th>\n",
       "      <td>predsedniku republike, spoštovanemu gospodu bo...</td>\n",
       "      <td>2014-08-01</td>\n",
       "      <td>Redna</td>\n",
       "      <td>ParlaMint-SI_2014-08-01-SDZ7-Redna-01.u5</td>\n",
       "      <td>Kotnik Poropat, Marjana</td>\n",
       "      <td>1944</td>\n",
       "      <td>DeSUS</td>\n",
       "      <td>F</td>\n",
       "    </tr>\n",
       "  </tbody>\n",
       "</table>\n",
       "</div>"
      ],
      "text/plain": [
       "                                               Tekst       Datum  Vrsta  \\\n",
       "0  spoštovani, prosim, da zasedete svoja mesta. v...  2014-08-01  Redna   \n",
       "1  hvala za besedo, predsedujoča. spoštovani pred...  2014-08-01  Redna   \n",
       "2  zahvaljujem se spoštovanemu gospodu janku vebr...  2014-08-01  Redna   \n",
       "3  spoštovana gospa predsedujoča, spoštovane posl...  2014-08-01  Redna   \n",
       "4  predsedniku republike, spoštovanemu gospodu bo...  2014-08-01  Redna   \n",
       "\n",
       "                                         ID                      Ime Rojstvo  \\\n",
       "0  ParlaMint-SI_2014-08-01-SDZ7-Redna-01.u1  Kotnik Poropat, Marjana    1944   \n",
       "1  ParlaMint-SI_2014-08-01-SDZ7-Redna-01.u2             Veber, Janko    1960   \n",
       "2  ParlaMint-SI_2014-08-01-SDZ7-Redna-01.u3  Kotnik Poropat, Marjana    1944   \n",
       "3  ParlaMint-SI_2014-08-01-SDZ7-Redna-01.u4             Pahor, Borut    1963   \n",
       "4  ParlaMint-SI_2014-08-01-SDZ7-Redna-01.u5  Kotnik Poropat, Marjana    1944   \n",
       "\n",
       "  PoliticnaStranka Spol  \n",
       "0            DeSUS    F  \n",
       "1               SD    M  \n",
       "2            DeSUS    F  \n",
       "3                     M  \n",
       "4            DeSUS    F  "
      ]
     },
     "execution_count": 17,
     "metadata": {},
     "output_type": "execute_result"
    }
   ],
   "source": [
    "df.head()"
   ]
  },
  {
   "cell_type": "code",
   "execution_count": 18,
   "id": "25fdb428",
   "metadata": {},
   "outputs": [],
   "source": [
    "df.to_csv('dataframe.csv', encoding='utf-8', index=False)"
   ]
  },
  {
   "cell_type": "code",
   "execution_count": null,
   "id": "aadd66a7",
   "metadata": {},
   "outputs": [],
   "source": []
  }
 ],
 "metadata": {
  "kernelspec": {
   "display_name": "Python 3 (ipykernel)",
   "language": "python",
   "name": "python3"
  },
  "language_info": {
   "codemirror_mode": {
    "name": "ipython",
    "version": 3
   },
   "file_extension": ".py",
   "mimetype": "text/x-python",
   "name": "python",
   "nbconvert_exporter": "python",
   "pygments_lexer": "ipython3",
   "version": "3.9.7"
  }
 },
 "nbformat": 4,
 "nbformat_minor": 5
}
