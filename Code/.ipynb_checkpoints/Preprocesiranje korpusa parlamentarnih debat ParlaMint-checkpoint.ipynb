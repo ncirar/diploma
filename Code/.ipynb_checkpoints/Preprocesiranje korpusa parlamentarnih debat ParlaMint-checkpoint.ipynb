{
 "cells": [
  {
   "cell_type": "markdown",
   "id": "dab81b51",
   "metadata": {},
   "source": [
    "Korpus parlamentarnega govora [ParlaMint](https://www.clarin.si/repository/xmlui/handle/11356/1432), pridobljena iz portala Clarin.si, je zbirka transkriptov iz parlamentarnih debat v 16 jezikih: bulgarskem, hrvaškem, češkem, danskem, nizozemskem, angleškem, francoskem, madžarskem, islandskem, latvijskem, litovskem, polskem, slovenskem, španskem in turškem. Za analizo sovražnega govora in sentimenta bomo uporabili zbirko transkriptov v slovenskem jeziku.<br>\n",
    "V tem delu preberemo datoteke s transkripti ter jih preprocesiramo oz. jih pripravimo v obliko, primerno za procesiranje naravnega jezika"
   ]
  },
  {
   "cell_type": "markdown",
   "id": "3c1eaca3",
   "metadata": {},
   "source": [
    "## Branje tekstovnih datotek in shranjevanje podatkov v tabelo\n",
    "Korpus parlamentarnega govora v slovenščini smo prenesli s portala Clarin. Iteriramo skozi 415 tekstovnih datotek s prepisi parlamentarnih debat ter jih shranimo v seznam, pri čemer vsak posamezen govor shranimo predstavimo v terki *(tekst, datum, vrsta)*."
   ]
  },
  {
   "cell_type": "code",
   "execution_count": 2,
   "id": "c441fd84",
   "metadata": {},
   "outputs": [],
   "source": [
    "import os\n",
    "directory = 'C:\\\\Users\\\\gogi1\\\\Desktop\\\\diploma\\\\ParlaMint-SI\\\\ParlaMint-SI.txt'\n",
    "files = []\n",
    "\n",
    "for filename in os.listdir(directory):\n",
    "    f = os.path.join(directory, filename)\n",
    "    if os.path.isfile(f) and f[-1]=='t':\n",
    "        files.append(f)"
   ]
  },
  {
   "cell_type": "code",
   "execution_count": 3,
   "id": "e85e746a",
   "metadata": {},
   "outputs": [
    {
     "data": {
      "text/plain": [
       "415"
      ]
     },
     "execution_count": 3,
     "metadata": {},
     "output_type": "execute_result"
    }
   ],
   "source": [
    "len(files)"
   ]
  },
  {
   "cell_type": "code",
   "execution_count": 4,
   "id": "2c725b72",
   "metadata": {},
   "outputs": [],
   "source": [
    "import re\n",
    "data = []\n",
    "directory = 'C:\\\\Users\\\\gogi1\\\\Desktop\\\\diploma\\\\ParlaMint-SI\\\\ParlaMint-SI.txt'\n",
    "\n",
    "for file in files[1:]:\n",
    "    with open(file, encoding='utf-8') as f:\n",
    "        lines = f.readlines()\n",
    "        for line in lines:\n",
    "            datum = line[13:23]\n",
    "            vrsta = line[29:34]\n",
    "            tekst = line[41:]\n",
    "            tekst = re.sub('[^A-Z\\Č\\Š\\Ž\\Ća-z\\č\\š\\ž\\ć\\.,!?]+', ' ', tekst)\n",
    "            tekst = tekst.strip()\n",
    "            data.append([tekst, datum, vrsta])\n",
    "            "
   ]
  },
  {
   "cell_type": "code",
   "execution_count": 5,
   "id": "c849f612",
   "metadata": {},
   "outputs": [
    {
     "data": {
      "text/plain": [
       "75122"
      ]
     },
     "execution_count": 5,
     "metadata": {},
     "output_type": "execute_result"
    }
   ],
   "source": [
    "len(data)"
   ]
  },
  {
   "cell_type": "code",
   "execution_count": 6,
   "id": "6fdc2286",
   "metadata": {},
   "outputs": [],
   "source": [
    "import pandas as pd\n",
    "df = pd.DataFrame(data, index=None, columns=['Tekst', 'Datum', 'Vrsta'])"
   ]
  },
  {
   "cell_type": "code",
   "execution_count": 12,
   "id": "cef7c513",
   "metadata": {},
   "outputs": [
    {
     "data": {
      "text/html": [
       "<div>\n",
       "<style scoped>\n",
       "    .dataframe tbody tr th:only-of-type {\n",
       "        vertical-align: middle;\n",
       "    }\n",
       "\n",
       "    .dataframe tbody tr th {\n",
       "        vertical-align: top;\n",
       "    }\n",
       "\n",
       "    .dataframe thead th {\n",
       "        text-align: right;\n",
       "    }\n",
       "</style>\n",
       "<table border=\"1\" class=\"dataframe\">\n",
       "  <thead>\n",
       "    <tr style=\"text-align: right;\">\n",
       "      <th></th>\n",
       "      <th>Tekst</th>\n",
       "      <th>Datum</th>\n",
       "      <th>Vrsta</th>\n",
       "    </tr>\n",
       "  </thead>\n",
       "  <tbody>\n",
       "    <tr>\n",
       "      <th>54576</th>\n",
       "      <td>Hvala lepa! Vsi prijavljeni razpravljavci, ki ...</td>\n",
       "      <td>2018-11-28</td>\n",
       "      <td>Redna</td>\n",
       "    </tr>\n",
       "    <tr>\n",
       "      <th>53151</th>\n",
       "      <td>Hvala lepa. Jaz predlagam, spoštovani predsedn...</td>\n",
       "      <td>2018-10-11</td>\n",
       "      <td>Izred</td>\n",
       "    </tr>\n",
       "    <tr>\n",
       "      <th>70496</th>\n",
       "      <td>Spoštovana poslanka Sukič, tudi ti, ki so dolž...</td>\n",
       "      <td>2020-04-02</td>\n",
       "      <td>Izred</td>\n",
       "    </tr>\n",
       "    <tr>\n",
       "      <th>35851</th>\n",
       "      <td>Hvala lepa. Gospa Milojka Kolar Celarc, izvoli...</td>\n",
       "      <td>2017-02-13</td>\n",
       "      <td>Redna</td>\n",
       "    </tr>\n",
       "    <tr>\n",
       "      <th>61012</th>\n",
       "      <td>Imamo postopkovno vprašanje. Gospod Danijel Kr...</td>\n",
       "      <td>2019-06-17</td>\n",
       "      <td>Redna</td>\n",
       "    </tr>\n",
       "    <tr>\n",
       "      <th>2088</th>\n",
       "      <td>Gospa Marjana Kotnik Poropat je imela repliko....</td>\n",
       "      <td>2014-11-20</td>\n",
       "      <td>Redna</td>\n",
       "    </tr>\n",
       "    <tr>\n",
       "      <th>54558</th>\n",
       "      <td>Hvala lepa. Lep pozdrav! Kot smo danes že večk...</td>\n",
       "      <td>2018-11-28</td>\n",
       "      <td>Redna</td>\n",
       "    </tr>\n",
       "    <tr>\n",
       "      <th>65485</th>\n",
       "      <td>Hvala za besedo. Ko boste poslanci sprejeli ta...</td>\n",
       "      <td>2019-10-25</td>\n",
       "      <td>Redna</td>\n",
       "    </tr>\n",
       "    <tr>\n",
       "      <th>40836</th>\n",
       "      <td>Spoštovani predsedujoči, spoštovana direktoric...</td>\n",
       "      <td>2017-06-20</td>\n",
       "      <td>Redna</td>\n",
       "    </tr>\n",
       "    <tr>\n",
       "      <th>12898</th>\n",
       "      <td>Gospod Branko Grims, o vašem predlogu, da se o...</td>\n",
       "      <td>2015-07-14</td>\n",
       "      <td>Redna</td>\n",
       "    </tr>\n",
       "    <tr>\n",
       "      <th>60258</th>\n",
       "      <td>Hvala lepa, gospa ministrica. Naslednja bo pos...</td>\n",
       "      <td>2019-05-20</td>\n",
       "      <td>Redna</td>\n",
       "    </tr>\n",
       "    <tr>\n",
       "      <th>54287</th>\n",
       "      <td>Sem opazoval, če bo replika, pa je ni. Ali je?...</td>\n",
       "      <td>2018-11-23</td>\n",
       "      <td>Redna</td>\n",
       "    </tr>\n",
       "    <tr>\n",
       "      <th>55787</th>\n",
       "      <td>Spoštovana predsedujoča, spoštovani poslanke i...</td>\n",
       "      <td>2018-12-18</td>\n",
       "      <td>Redna</td>\n",
       "    </tr>\n",
       "    <tr>\n",
       "      <th>20775</th>\n",
       "      <td>Hvala lepa. Besedo ima gospod Ivan Škodnik, pr...</td>\n",
       "      <td>2016-02-22</td>\n",
       "      <td>Izred</td>\n",
       "    </tr>\n",
       "    <tr>\n",
       "      <th>2249</th>\n",
       "      <td>Hvala lepa, spoštovani predsedujoči. Tole, kar...</td>\n",
       "      <td>2014-11-20</td>\n",
       "      <td>Redna</td>\n",
       "    </tr>\n",
       "    <tr>\n",
       "      <th>63106</th>\n",
       "      <td>Hvala. Čas je potekel. O vašem predlogu bomo o...</td>\n",
       "      <td>2019-09-23</td>\n",
       "      <td>Redna</td>\n",
       "    </tr>\n",
       "    <tr>\n",
       "      <th>63182</th>\n",
       "      <td>Potem bom vprašalgospoda ministra za kulturo. ...</td>\n",
       "      <td>2019-09-23</td>\n",
       "      <td>Redna</td>\n",
       "    </tr>\n",
       "    <tr>\n",
       "      <th>62484</th>\n",
       "      <td>Hvala lepa. Če sem prav razumela, želite odgov...</td>\n",
       "      <td>2019-07-09</td>\n",
       "      <td>Redna</td>\n",
       "    </tr>\n",
       "    <tr>\n",
       "      <th>12942</th>\n",
       "      <td>Se opravičujem, ni bilo vprašanje, ampak je bi...</td>\n",
       "      <td>2015-07-14</td>\n",
       "      <td>Redna</td>\n",
       "    </tr>\n",
       "    <tr>\n",
       "      <th>62975</th>\n",
       "      <td>Hvala za besedo. Zavedam se, da je to v določe...</td>\n",
       "      <td>2019-09-23</td>\n",
       "      <td>Redna</td>\n",
       "    </tr>\n",
       "  </tbody>\n",
       "</table>\n",
       "</div>"
      ],
      "text/plain": [
       "                                                   Tekst       Datum  Vrsta\n",
       "54576  Hvala lepa! Vsi prijavljeni razpravljavci, ki ...  2018-11-28  Redna\n",
       "53151  Hvala lepa. Jaz predlagam, spoštovani predsedn...  2018-10-11  Izred\n",
       "70496  Spoštovana poslanka Sukič, tudi ti, ki so dolž...  2020-04-02  Izred\n",
       "35851  Hvala lepa. Gospa Milojka Kolar Celarc, izvoli...  2017-02-13  Redna\n",
       "61012  Imamo postopkovno vprašanje. Gospod Danijel Kr...  2019-06-17  Redna\n",
       "2088   Gospa Marjana Kotnik Poropat je imela repliko....  2014-11-20  Redna\n",
       "54558  Hvala lepa. Lep pozdrav! Kot smo danes že večk...  2018-11-28  Redna\n",
       "65485  Hvala za besedo. Ko boste poslanci sprejeli ta...  2019-10-25  Redna\n",
       "40836  Spoštovani predsedujoči, spoštovana direktoric...  2017-06-20  Redna\n",
       "12898  Gospod Branko Grims, o vašem predlogu, da se o...  2015-07-14  Redna\n",
       "60258  Hvala lepa, gospa ministrica. Naslednja bo pos...  2019-05-20  Redna\n",
       "54287  Sem opazoval, če bo replika, pa je ni. Ali je?...  2018-11-23  Redna\n",
       "55787  Spoštovana predsedujoča, spoštovani poslanke i...  2018-12-18  Redna\n",
       "20775  Hvala lepa. Besedo ima gospod Ivan Škodnik, pr...  2016-02-22  Izred\n",
       "2249   Hvala lepa, spoštovani predsedujoči. Tole, kar...  2014-11-20  Redna\n",
       "63106  Hvala. Čas je potekel. O vašem predlogu bomo o...  2019-09-23  Redna\n",
       "63182  Potem bom vprašalgospoda ministra za kulturo. ...  2019-09-23  Redna\n",
       "62484  Hvala lepa. Če sem prav razumela, želite odgov...  2019-07-09  Redna\n",
       "12942  Se opravičujem, ni bilo vprašanje, ampak je bi...  2015-07-14  Redna\n",
       "62975  Hvala za besedo. Zavedam se, da je to v določe...  2019-09-23  Redna"
      ]
     },
     "execution_count": 12,
     "metadata": {},
     "output_type": "execute_result"
    }
   ],
   "source": [
    "df.sample(20)"
   ]
  },
  {
   "cell_type": "code",
   "execution_count": 13,
   "id": "9c7cf683",
   "metadata": {},
   "outputs": [
    {
     "data": {
      "text/plain": [
       "'Hvala lepa! Vsi prijavljeni razpravljavci, ki ste to želeli, ste dobili besedo. Ker čas, določen za razpravo, še ni potekel, sprašujem, ali želi na podlagi prvega odstavka . člena Poslovnika zbora, še kdo razpravljati. Ker vidim, da je interesa več, bomo Še pred prijavo vas želim opozoriti, da se k prijavi prijavite s pritiskom tipke za vklop mikrofona. Če želita razpravljati tudi predstavnik predlagatelja predloga zakona, Jožef Horvat, in predstavnica Vlade, prosim, da se prav tako prijavita s pritiskom tipke za vklop mikrofona. V tem primeru dobita besedo kot zadnja, in sicer najprej predstavnica Vlade in nato predstavnik predlagatelja. Zdaj pa začenjamo s postopkom za prijavo. Vsak razpravljavec ima na voljo pet minut. Besedo ima, najprej, poslanec Franc Kramar. Izvolite.'"
      ]
     },
     "execution_count": 13,
     "metadata": {},
     "output_type": "execute_result"
    }
   ],
   "source": [
    "df.iloc[54576]['Tekst']"
   ]
  },
  {
   "cell_type": "markdown",
   "id": "e740f2a9",
   "metadata": {},
   "source": [
    "## Preprocesiranje\n",
    "Podatke je nato treba prečistiti, tj. spraviti v obliko, primerno za procesiranje naravnega jezika. Vso besedilo moramo pretvoriti v majhne črke. Na koncu prečiščeno tabelo shranimo v csv datoteko.\n",
    "\n",
    "### Pretvorba v male črke"
   ]
  },
  {
   "cell_type": "code",
   "execution_count": 9,
   "id": "093a7587",
   "metadata": {},
   "outputs": [],
   "source": [
    "df['Tekst'] = df['Tekst'].apply(lambda x: ' '.join(x.lower().split()))"
   ]
  },
  {
   "cell_type": "code",
   "execution_count": 10,
   "id": "b082d978",
   "metadata": {},
   "outputs": [
    {
     "data": {
      "text/html": [
       "<div>\n",
       "<style scoped>\n",
       "    .dataframe tbody tr th:only-of-type {\n",
       "        vertical-align: middle;\n",
       "    }\n",
       "\n",
       "    .dataframe tbody tr th {\n",
       "        vertical-align: top;\n",
       "    }\n",
       "\n",
       "    .dataframe thead th {\n",
       "        text-align: right;\n",
       "    }\n",
       "</style>\n",
       "<table border=\"1\" class=\"dataframe\">\n",
       "  <thead>\n",
       "    <tr style=\"text-align: right;\">\n",
       "      <th></th>\n",
       "      <th>Tekst</th>\n",
       "      <th>Datum</th>\n",
       "      <th>Vrsta</th>\n",
       "    </tr>\n",
       "  </thead>\n",
       "  <tbody>\n",
       "    <tr>\n",
       "      <th>0</th>\n",
       "      <td>spoštovani, prosim, da zasedete svoja mesta. v...</td>\n",
       "      <td>2014-08-01</td>\n",
       "      <td>Redna</td>\n",
       "    </tr>\n",
       "    <tr>\n",
       "      <th>1</th>\n",
       "      <td>hvala za besedo, predsedujoča. spoštovani pred...</td>\n",
       "      <td>2014-08-01</td>\n",
       "      <td>Redna</td>\n",
       "    </tr>\n",
       "    <tr>\n",
       "      <th>2</th>\n",
       "      <td>zahvaljujem se spoštovanemu gospodu janku vebr...</td>\n",
       "      <td>2014-08-01</td>\n",
       "      <td>Redna</td>\n",
       "    </tr>\n",
       "    <tr>\n",
       "      <th>3</th>\n",
       "      <td>spoštovana gospa predsedujoča, spoštovane posl...</td>\n",
       "      <td>2014-08-01</td>\n",
       "      <td>Redna</td>\n",
       "    </tr>\n",
       "    <tr>\n",
       "      <th>4</th>\n",
       "      <td>predsedniku republike, spoštovanemu gospodu bo...</td>\n",
       "      <td>2014-08-01</td>\n",
       "      <td>Redna</td>\n",
       "    </tr>\n",
       "  </tbody>\n",
       "</table>\n",
       "</div>"
      ],
      "text/plain": [
       "                                               Tekst       Datum  Vrsta\n",
       "0  spoštovani, prosim, da zasedete svoja mesta. v...  2014-08-01  Redna\n",
       "1  hvala za besedo, predsedujoča. spoštovani pred...  2014-08-01  Redna\n",
       "2  zahvaljujem se spoštovanemu gospodu janku vebr...  2014-08-01  Redna\n",
       "3  spoštovana gospa predsedujoča, spoštovane posl...  2014-08-01  Redna\n",
       "4  predsedniku republike, spoštovanemu gospodu bo...  2014-08-01  Redna"
      ]
     },
     "execution_count": 10,
     "metadata": {},
     "output_type": "execute_result"
    }
   ],
   "source": [
    "df.head(5)"
   ]
  },
  {
   "cell_type": "code",
   "execution_count": 11,
   "id": "0d75d4a6",
   "metadata": {},
   "outputs": [],
   "source": [
    "df.to_csv('dataframe.csv', encoding='utf-8', index=False)"
   ]
  },
  {
   "cell_type": "code",
   "execution_count": null,
   "id": "006e422e",
   "metadata": {},
   "outputs": [],
   "source": []
  }
 ],
 "metadata": {
  "kernelspec": {
   "display_name": "Python 3 (ipykernel)",
   "language": "python",
   "name": "python3"
  },
  "language_info": {
   "codemirror_mode": {
    "name": "ipython",
    "version": 3
   },
   "file_extension": ".py",
   "mimetype": "text/x-python",
   "name": "python",
   "nbconvert_exporter": "python",
   "pygments_lexer": "ipython3",
   "version": "3.9.7"
  }
 },
 "nbformat": 4,
 "nbformat_minor": 5
}
