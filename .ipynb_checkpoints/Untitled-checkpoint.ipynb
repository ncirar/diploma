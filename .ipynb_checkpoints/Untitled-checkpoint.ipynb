{
 "cells": [
  {
   "cell_type": "code",
   "execution_count": 1,
   "id": "0fef23f7",
   "metadata": {},
   "outputs": [],
   "source": [
    "import csv\n",
    "import re\n",
    "\n",
    "data = []\n",
    "i = 0\n",
    "\n",
    "with open('ParlaMint-SI/ParlaMint-SI.txt/ParlaMint-SI_2019-02-12-SDZ8-Izredna-19.txt', 'r', encoding='utf-8') as f:\n",
    "    lines = f.readlines()\n",
    "    for line in lines:\n",
    "        i+=1\n",
    "        datum = line[13:23]\n",
    "        vrsta = line[29:34]\n",
    "        tekst = line[41:]\n",
    "        tekst = re.sub('[^A-Z\\Č\\Š\\Ž\\Ća-z\\č\\š\\ž\\ć\\.,!?]+', ' ', tekst)\n",
    "        tekst = tekst.strip()\n",
    "        if i<50:\n",
    "            data.append([tekst, datum, vrsta])"
   ]
  },
  {
   "cell_type": "code",
   "execution_count": 2,
   "id": "aa922bf1",
   "metadata": {},
   "outputs": [],
   "source": [
    "import pandas as pd\n",
    "df = pd.DataFrame(data, index=None, columns=['Tekst', 'Datum', 'Vrsta'])"
   ]
  },
  {
   "cell_type": "code",
   "execution_count": 3,
   "id": "9c9e5152",
   "metadata": {},
   "outputs": [
    {
     "data": {
      "text/html": [
       "<div>\n",
       "<style scoped>\n",
       "    .dataframe tbody tr th:only-of-type {\n",
       "        vertical-align: middle;\n",
       "    }\n",
       "\n",
       "    .dataframe tbody tr th {\n",
       "        vertical-align: top;\n",
       "    }\n",
       "\n",
       "    .dataframe thead th {\n",
       "        text-align: right;\n",
       "    }\n",
       "</style>\n",
       "<table border=\"1\" class=\"dataframe\">\n",
       "  <thead>\n",
       "    <tr style=\"text-align: right;\">\n",
       "      <th></th>\n",
       "      <th>Tekst</th>\n",
       "      <th>Datum</th>\n",
       "      <th>Vrsta</th>\n",
       "    </tr>\n",
       "  </thead>\n",
       "  <tbody>\n",
       "    <tr>\n",
       "      <th>0</th>\n",
       "      <td>Spoštovane kolegice poslanke, spoštovani koleg...</td>\n",
       "      <td>2019-02-12</td>\n",
       "      <td>Izred</td>\n",
       "    </tr>\n",
       "    <tr>\n",
       "      <th>1</th>\n",
       "      <td>Spoštovani predsednik Državnega zbora, spoštov...</td>\n",
       "      <td>2019-02-12</td>\n",
       "      <td>Izred</td>\n",
       "    </tr>\n",
       "    <tr>\n",
       "      <th>2</th>\n",
       "      <td>Hvala, gospod minister. Predlog zakona je kot ...</td>\n",
       "      <td>2019-02-12</td>\n",
       "      <td>Izred</td>\n",
       "    </tr>\n",
       "    <tr>\n",
       "      <th>3</th>\n",
       "      <td>Hvala lepa, spoštovani predsednik. Spoštovani ...</td>\n",
       "      <td>2019-02-12</td>\n",
       "      <td>Izred</td>\n",
       "    </tr>\n",
       "    <tr>\n",
       "      <th>4</th>\n",
       "      <td>Hvala, gospod poslanec. Sedaj prehajamo na pre...</td>\n",
       "      <td>2019-02-12</td>\n",
       "      <td>Izred</td>\n",
       "    </tr>\n",
       "  </tbody>\n",
       "</table>\n",
       "</div>"
      ],
      "text/plain": [
       "                                               Tekst       Datum  Vrsta\n",
       "0  Spoštovane kolegice poslanke, spoštovani koleg...  2019-02-12  Izred\n",
       "1  Spoštovani predsednik Državnega zbora, spoštov...  2019-02-12  Izred\n",
       "2  Hvala, gospod minister. Predlog zakona je kot ...  2019-02-12  Izred\n",
       "3  Hvala lepa, spoštovani predsednik. Spoštovani ...  2019-02-12  Izred\n",
       "4  Hvala, gospod poslanec. Sedaj prehajamo na pre...  2019-02-12  Izred"
      ]
     },
     "execution_count": 3,
     "metadata": {},
     "output_type": "execute_result"
    }
   ],
   "source": [
    "df.head(5)"
   ]
  },
  {
   "cell_type": "code",
   "execution_count": 4,
   "id": "6f861008",
   "metadata": {},
   "outputs": [],
   "source": [
    "df['Tekst'] = df['Tekst'].apply(lambda x: ' '.join(x.lower().split()))"
   ]
  },
  {
   "cell_type": "code",
   "execution_count": 5,
   "id": "22424f84",
   "metadata": {},
   "outputs": [
    {
     "data": {
      "text/html": [
       "<div>\n",
       "<style scoped>\n",
       "    .dataframe tbody tr th:only-of-type {\n",
       "        vertical-align: middle;\n",
       "    }\n",
       "\n",
       "    .dataframe tbody tr th {\n",
       "        vertical-align: top;\n",
       "    }\n",
       "\n",
       "    .dataframe thead th {\n",
       "        text-align: right;\n",
       "    }\n",
       "</style>\n",
       "<table border=\"1\" class=\"dataframe\">\n",
       "  <thead>\n",
       "    <tr style=\"text-align: right;\">\n",
       "      <th></th>\n",
       "      <th>Tekst</th>\n",
       "      <th>Datum</th>\n",
       "      <th>Vrsta</th>\n",
       "    </tr>\n",
       "  </thead>\n",
       "  <tbody>\n",
       "    <tr>\n",
       "      <th>0</th>\n",
       "      <td>spoštovane kolegice poslanke, spoštovani koleg...</td>\n",
       "      <td>2019-02-12</td>\n",
       "      <td>Izred</td>\n",
       "    </tr>\n",
       "    <tr>\n",
       "      <th>1</th>\n",
       "      <td>spoštovani predsednik državnega zbora, spoštov...</td>\n",
       "      <td>2019-02-12</td>\n",
       "      <td>Izred</td>\n",
       "    </tr>\n",
       "    <tr>\n",
       "      <th>2</th>\n",
       "      <td>hvala, gospod minister. predlog zakona je kot ...</td>\n",
       "      <td>2019-02-12</td>\n",
       "      <td>Izred</td>\n",
       "    </tr>\n",
       "    <tr>\n",
       "      <th>3</th>\n",
       "      <td>hvala lepa, spoštovani predsednik. spoštovani ...</td>\n",
       "      <td>2019-02-12</td>\n",
       "      <td>Izred</td>\n",
       "    </tr>\n",
       "    <tr>\n",
       "      <th>4</th>\n",
       "      <td>hvala, gospod poslanec. sedaj prehajamo na pre...</td>\n",
       "      <td>2019-02-12</td>\n",
       "      <td>Izred</td>\n",
       "    </tr>\n",
       "  </tbody>\n",
       "</table>\n",
       "</div>"
      ],
      "text/plain": [
       "                                               Tekst       Datum  Vrsta\n",
       "0  spoštovane kolegice poslanke, spoštovani koleg...  2019-02-12  Izred\n",
       "1  spoštovani predsednik državnega zbora, spoštov...  2019-02-12  Izred\n",
       "2  hvala, gospod minister. predlog zakona je kot ...  2019-02-12  Izred\n",
       "3  hvala lepa, spoštovani predsednik. spoštovani ...  2019-02-12  Izred\n",
       "4  hvala, gospod poslanec. sedaj prehajamo na pre...  2019-02-12  Izred"
      ]
     },
     "execution_count": 5,
     "metadata": {},
     "output_type": "execute_result"
    }
   ],
   "source": [
    "df.head(5)"
   ]
  },
  {
   "cell_type": "code",
   "execution_count": 6,
   "id": "9f166722",
   "metadata": {},
   "outputs": [],
   "source": [
    "with open('testDataParlament4.txt', 'w', encoding='utf-8') as f:\n",
    "    for t in df['Tekst']:\n",
    "        f.write(t + \"\\n\")"
   ]
  },
  {
   "cell_type": "code",
   "execution_count": 22,
   "id": "65fcb771",
   "metadata": {},
   "outputs": [],
   "source": [
    "import csv\n",
    "import pandas as pd\n",
    "data = []\n",
    "tkst= []\n",
    "s = []\n",
    "i = 0\n",
    "\n",
    "with open('testDataParlamentS.txt', 'r', encoding='utf-8') as f:\n",
    "    lineReader = csv.reader(f, delimiter='\\t', quotechar=\"\\\"\")\n",
    "    for row in lineReader:\n",
    "        tekst = row[0]\n",
    "        sent=row[1]\n",
    "        #print(i, row[1])\n",
    "        #i+=1\n",
    "        tkst.append(tekst)\n",
    "        s.append(sent)"
   ]
  },
  {
   "cell_type": "code",
   "execution_count": 23,
   "id": "bad12bf9",
   "metadata": {},
   "outputs": [],
   "source": [
    "df = pd.DataFrame(tkst, index=None, columns=['text'])"
   ]
  },
  {
   "cell_type": "code",
   "execution_count": 24,
   "id": "75ac7c9a",
   "metadata": {},
   "outputs": [
    {
     "data": {
      "text/html": [
       "<div>\n",
       "<style scoped>\n",
       "    .dataframe tbody tr th:only-of-type {\n",
       "        vertical-align: middle;\n",
       "    }\n",
       "\n",
       "    .dataframe tbody tr th {\n",
       "        vertical-align: top;\n",
       "    }\n",
       "\n",
       "    .dataframe thead th {\n",
       "        text-align: right;\n",
       "    }\n",
       "</style>\n",
       "<table border=\"1\" class=\"dataframe\">\n",
       "  <thead>\n",
       "    <tr style=\"text-align: right;\">\n",
       "      <th></th>\n",
       "      <th>text</th>\n",
       "    </tr>\n",
       "  </thead>\n",
       "  <tbody>\n",
       "    <tr>\n",
       "      <th>0</th>\n",
       "      <td>bom kar začel. spoštovane kolegice poslanke in...</td>\n",
       "    </tr>\n",
       "    <tr>\n",
       "      <th>1</th>\n",
       "      <td>spoštovane kolegice in kolegi, lepo pozdravlje...</td>\n",
       "    </tr>\n",
       "    <tr>\n",
       "      <th>2</th>\n",
       "      <td>hvala lepa. prehajamo na predstavitev stališč ...</td>\n",
       "    </tr>\n",
       "    <tr>\n",
       "      <th>3</th>\n",
       "      <td>spoštovani kolegice in kolegi, spoštovani mini...</td>\n",
       "    </tr>\n",
       "    <tr>\n",
       "      <th>4</th>\n",
       "      <td>hvala lepa. stališče poslanke skupine demokrat...</td>\n",
       "    </tr>\n",
       "  </tbody>\n",
       "</table>\n",
       "</div>"
      ],
      "text/plain": [
       "                                                text\n",
       "0  bom kar začel. spoštovane kolegice poslanke in...\n",
       "1  spoštovane kolegice in kolegi, lepo pozdravlje...\n",
       "2  hvala lepa. prehajamo na predstavitev stališč ...\n",
       "3  spoštovani kolegice in kolegi, spoštovani mini...\n",
       "4  hvala lepa. stališče poslanke skupine demokrat..."
      ]
     },
     "execution_count": 24,
     "metadata": {},
     "output_type": "execute_result"
    }
   ],
   "source": [
    "df.head(5)"
   ]
  },
  {
   "cell_type": "code",
   "execution_count": 25,
   "id": "3cbd2f26",
   "metadata": {},
   "outputs": [],
   "source": [
    "df['sent']=s"
   ]
  },
  {
   "cell_type": "code",
   "execution_count": 26,
   "id": "d4b70039",
   "metadata": {},
   "outputs": [
    {
     "data": {
      "text/html": [
       "<div>\n",
       "<style scoped>\n",
       "    .dataframe tbody tr th:only-of-type {\n",
       "        vertical-align: middle;\n",
       "    }\n",
       "\n",
       "    .dataframe tbody tr th {\n",
       "        vertical-align: top;\n",
       "    }\n",
       "\n",
       "    .dataframe thead th {\n",
       "        text-align: right;\n",
       "    }\n",
       "</style>\n",
       "<table border=\"1\" class=\"dataframe\">\n",
       "  <thead>\n",
       "    <tr style=\"text-align: right;\">\n",
       "      <th></th>\n",
       "      <th>text</th>\n",
       "      <th>sent</th>\n",
       "    </tr>\n",
       "  </thead>\n",
       "  <tbody>\n",
       "    <tr>\n",
       "      <th>0</th>\n",
       "      <td>bom kar začel. spoštovane kolegice poslanke in...</td>\n",
       "      <td>neutral</td>\n",
       "    </tr>\n",
       "    <tr>\n",
       "      <th>1</th>\n",
       "      <td>spoštovane kolegice in kolegi, lepo pozdravlje...</td>\n",
       "      <td>negative</td>\n",
       "    </tr>\n",
       "    <tr>\n",
       "      <th>2</th>\n",
       "      <td>hvala lepa. prehajamo na predstavitev stališč ...</td>\n",
       "      <td>neutral</td>\n",
       "    </tr>\n",
       "    <tr>\n",
       "      <th>3</th>\n",
       "      <td>spoštovani kolegice in kolegi, spoštovani mini...</td>\n",
       "      <td>negative</td>\n",
       "    </tr>\n",
       "    <tr>\n",
       "      <th>4</th>\n",
       "      <td>hvala lepa. stališče poslanke skupine demokrat...</td>\n",
       "      <td>neutral</td>\n",
       "    </tr>\n",
       "  </tbody>\n",
       "</table>\n",
       "</div>"
      ],
      "text/plain": [
       "                                                text      sent\n",
       "0  bom kar začel. spoštovane kolegice poslanke in...   neutral\n",
       "1  spoštovane kolegice in kolegi, lepo pozdravlje...  negative\n",
       "2  hvala lepa. prehajamo na predstavitev stališč ...   neutral\n",
       "3  spoštovani kolegice in kolegi, spoštovani mini...  negative\n",
       "4  hvala lepa. stališče poslanke skupine demokrat...   neutral"
      ]
     },
     "execution_count": 26,
     "metadata": {},
     "output_type": "execute_result"
    }
   ],
   "source": [
    "df.head()"
   ]
  },
  {
   "cell_type": "code",
   "execution_count": 27,
   "id": "c6087a6d",
   "metadata": {},
   "outputs": [
    {
     "data": {
      "text/plain": [
       "negative    35\n",
       "neutral     30\n",
       "positive     7\n",
       "Name: sent, dtype: int64"
      ]
     },
     "execution_count": 27,
     "metadata": {},
     "output_type": "execute_result"
    }
   ],
   "source": [
    "df['sent'].value_counts()"
   ]
  },
  {
   "cell_type": "code",
   "execution_count": 28,
   "id": "874b82eb",
   "metadata": {},
   "outputs": [],
   "source": [
    "df.to_csv('dataParlamentS.csv', encoding = 'utf-8-sig', index=False)"
   ]
  },
  {
   "cell_type": "code",
   "execution_count": 30,
   "id": "84170b79",
   "metadata": {},
   "outputs": [],
   "source": [
    "data = []\n",
    "tkst= []\n",
    "hate = []\n",
    "i=0\n",
    "\n",
    "with open('testDataParlamentH.txt', 'r', encoding='utf-8') as f:\n",
    "    lineReader = csv.reader(f, delimiter='\\t', quotechar=\"\\\"\")\n",
    "    for row in lineReader:\n",
    "        tekst = row[0]\n",
    "        hs=row[1]\n",
    "        #print(i, tekst, hs)\n",
    "        #rint(i, tekst, hs)\n",
    "        i+=1\n",
    "        tkst.append(tekst)\n",
    "        hate.append(hs)"
   ]
  },
  {
   "cell_type": "code",
   "execution_count": 31,
   "id": "6faf46ed",
   "metadata": {},
   "outputs": [
    {
     "data": {
      "text/html": [
       "<div>\n",
       "<style scoped>\n",
       "    .dataframe tbody tr th:only-of-type {\n",
       "        vertical-align: middle;\n",
       "    }\n",
       "\n",
       "    .dataframe tbody tr th {\n",
       "        vertical-align: top;\n",
       "    }\n",
       "\n",
       "    .dataframe thead th {\n",
       "        text-align: right;\n",
       "    }\n",
       "</style>\n",
       "<table border=\"1\" class=\"dataframe\">\n",
       "  <thead>\n",
       "    <tr style=\"text-align: right;\">\n",
       "      <th></th>\n",
       "      <th>text</th>\n",
       "      <th>hs</th>\n",
       "    </tr>\n",
       "  </thead>\n",
       "  <tbody>\n",
       "    <tr>\n",
       "      <th>26</th>\n",
       "      <td>hvala lepa. začenjamo z razpravo poslank in po...</td>\n",
       "      <td>0 ni sporni govor</td>\n",
       "    </tr>\n",
       "    <tr>\n",
       "      <th>34</th>\n",
       "      <td>postopkovno miha kordiš.</td>\n",
       "      <td>0 ni sporni govor</td>\n",
       "    </tr>\n",
       "    <tr>\n",
       "      <th>61</th>\n",
       "      <td>jemljem vam besedo, kolega kordiš.</td>\n",
       "      <td>0 ni sporni govor</td>\n",
       "    </tr>\n",
       "    <tr>\n",
       "      <th>59</th>\n",
       "      <td>kar ni v gabaritih delovanja državnega zbora, ...</td>\n",
       "      <td>1 nespodobni govor</td>\n",
       "    </tr>\n",
       "    <tr>\n",
       "      <th>21</th>\n",
       "      <td>hvala za besedo, predsedujoči. to, kar smo rav...</td>\n",
       "      <td>2 žalitev</td>\n",
       "    </tr>\n",
       "    <tr>\n",
       "      <th>60</th>\n",
       "      <td>na kateri člen poslovnika se sklicujete?</td>\n",
       "      <td>0 ni sporni govor</td>\n",
       "    </tr>\n",
       "    <tr>\n",
       "      <th>65</th>\n",
       "      <td>hvala, predsednik. lep pozdrav vsem! ob vseh f...</td>\n",
       "      <td>1 nespodobni govor</td>\n",
       "    </tr>\n",
       "    <tr>\n",
       "      <th>47</th>\n",
       "      <td>če je ta znesek v letih pač predviden. ne se r...</td>\n",
       "      <td>1 nespodobni govor</td>\n",
       "    </tr>\n",
       "    <tr>\n",
       "      <th>48</th>\n",
       "      <td>hvala lepa. besedo, minister, izvolite.</td>\n",
       "      <td>0 ni sporni govor</td>\n",
       "    </tr>\n",
       "    <tr>\n",
       "      <th>19</th>\n",
       "      <td>hvala lepa, spoštovani gospod predsednik. prav...</td>\n",
       "      <td>0 ni sporni govor</td>\n",
       "    </tr>\n",
       "    <tr>\n",
       "      <th>33</th>\n",
       "      <td>postopkovno.</td>\n",
       "      <td>0 ni sporni govor</td>\n",
       "    </tr>\n",
       "    <tr>\n",
       "      <th>25</th>\n",
       "      <td>uvodoma bi se rad zahvalil vsem poslanskim sku...</td>\n",
       "      <td>0 ni sporni govor</td>\n",
       "    </tr>\n",
       "    <tr>\n",
       "      <th>10</th>\n",
       "      <td>hvala lepa. stališče poslanske skupine liste m...</td>\n",
       "      <td>0 ni sporni govor</td>\n",
       "    </tr>\n",
       "    <tr>\n",
       "      <th>0</th>\n",
       "      <td>bom kar začel. spoštovane kolegice poslanke in...</td>\n",
       "      <td>0 ni sporni govor</td>\n",
       "    </tr>\n",
       "    <tr>\n",
       "      <th>8</th>\n",
       "      <td>hvala lepa. stališče poslanske skupine slovens...</td>\n",
       "      <td>0 ni sporni govor</td>\n",
       "    </tr>\n",
       "    <tr>\n",
       "      <th>37</th>\n",
       "      <td>hvala lepa spoštovani predsedujoči, kolegice i...</td>\n",
       "      <td>2 žalitev</td>\n",
       "    </tr>\n",
       "    <tr>\n",
       "      <th>22</th>\n",
       "      <td>kolega kordiš, izrekam vam opomin, upam, da se...</td>\n",
       "      <td>0 ni sporni govor</td>\n",
       "    </tr>\n",
       "    <tr>\n",
       "      <th>70</th>\n",
       "      <td>hvala lepa, spoštovani predsednik. kolegice, k...</td>\n",
       "      <td>0 ni sporni govor</td>\n",
       "    </tr>\n",
       "    <tr>\n",
       "      <th>32</th>\n",
       "      <td>miha kordiš, drugi opomin. kršitev in zloraba ...</td>\n",
       "      <td>0 ni sporni govor</td>\n",
       "    </tr>\n",
       "    <tr>\n",
       "      <th>36</th>\n",
       "      <td>kolega kordiš, poslušal sem vašo razpravo, to,...</td>\n",
       "      <td>0 ni sporni govor</td>\n",
       "    </tr>\n",
       "  </tbody>\n",
       "</table>\n",
       "</div>"
      ],
      "text/plain": [
       "                                                 text                  hs\n",
       "26  hvala lepa. začenjamo z razpravo poslank in po...   0 ni sporni govor\n",
       "34                           postopkovno miha kordiš.   0 ni sporni govor\n",
       "61                 jemljem vam besedo, kolega kordiš.   0 ni sporni govor\n",
       "59  kar ni v gabaritih delovanja državnega zbora, ...  1 nespodobni govor\n",
       "21  hvala za besedo, predsedujoči. to, kar smo rav...           2 žalitev\n",
       "60           na kateri člen poslovnika se sklicujete?   0 ni sporni govor\n",
       "65  hvala, predsednik. lep pozdrav vsem! ob vseh f...  1 nespodobni govor\n",
       "47  če je ta znesek v letih pač predviden. ne se r...  1 nespodobni govor\n",
       "48            hvala lepa. besedo, minister, izvolite.   0 ni sporni govor\n",
       "19  hvala lepa, spoštovani gospod predsednik. prav...   0 ni sporni govor\n",
       "33                                       postopkovno.   0 ni sporni govor\n",
       "25  uvodoma bi se rad zahvalil vsem poslanskim sku...   0 ni sporni govor\n",
       "10  hvala lepa. stališče poslanske skupine liste m...   0 ni sporni govor\n",
       "0   bom kar začel. spoštovane kolegice poslanke in...   0 ni sporni govor\n",
       "8   hvala lepa. stališče poslanske skupine slovens...   0 ni sporni govor\n",
       "37  hvala lepa spoštovani predsedujoči, kolegice i...           2 žalitev\n",
       "22  kolega kordiš, izrekam vam opomin, upam, da se...   0 ni sporni govor\n",
       "70  hvala lepa, spoštovani predsednik. kolegice, k...   0 ni sporni govor\n",
       "32  miha kordiš, drugi opomin. kršitev in zloraba ...   0 ni sporni govor\n",
       "36  kolega kordiš, poslušal sem vašo razpravo, to,...   0 ni sporni govor"
      ]
     },
     "execution_count": 31,
     "metadata": {},
     "output_type": "execute_result"
    }
   ],
   "source": [
    "df = pd.DataFrame(tkst, index=None, columns=['text'])\n",
    "df['hs']=hate\n",
    "df.sample(20)"
   ]
  },
  {
   "cell_type": "code",
   "execution_count": 32,
   "id": "43ec8918",
   "metadata": {},
   "outputs": [
    {
     "data": {
      "text/plain": [
       "0 ni sporni govor     58\n",
       "1 nespodobni govor     8\n",
       "2 žalitev              6\n",
       "Name: hs, dtype: int64"
      ]
     },
     "execution_count": 32,
     "metadata": {},
     "output_type": "execute_result"
    }
   ],
   "source": [
    "df['hs'].value_counts()"
   ]
  },
  {
   "cell_type": "code",
   "execution_count": 34,
   "id": "4773eaf5",
   "metadata": {},
   "outputs": [],
   "source": [
    "df.to_csv('dataParlamentH.tsv', encoding = 'utf-8-sig', index=False)"
   ]
  },
  {
   "cell_type": "code",
   "execution_count": null,
   "id": "12f1670b",
   "metadata": {},
   "outputs": [],
   "source": []
  }
 ],
 "metadata": {
  "kernelspec": {
   "display_name": "Python 3 (ipykernel)",
   "language": "python",
   "name": "python3"
  },
  "language_info": {
   "codemirror_mode": {
    "name": "ipython",
    "version": 3
   },
   "file_extension": ".py",
   "mimetype": "text/x-python",
   "name": "python",
   "nbconvert_exporter": "python",
   "pygments_lexer": "ipython3",
   "version": "3.9.7"
  }
 },
 "nbformat": 4,
 "nbformat_minor": 5
}
