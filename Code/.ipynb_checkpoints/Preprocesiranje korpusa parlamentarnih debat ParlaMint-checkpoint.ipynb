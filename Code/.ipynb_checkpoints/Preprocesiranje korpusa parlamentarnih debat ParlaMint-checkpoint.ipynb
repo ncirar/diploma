{
 "cells": [
  {
   "cell_type": "markdown",
   "id": "dab81b51",
   "metadata": {},
   "source": [
    "Korpus parlamentarnega govora [ParlaMint](https://www.clarin.si/repository/xmlui/handle/11356/1432), pridobljena iz portala Clarin.si, je zbirka transkriptov iz parlamentarnih debat v 16 jezikih: bulgarskem, hrvaškem, češkem, danskem, nizozemskem, angleškem, francoskem, madžarskem, islandskem, latvijskem, litovskem, polskem, slovenskem, španskem in turškem. Za analizo sovražnega govora in sentimenta bomo uporabili zbirko transkriptov v slovenskem jeziku.<br>\n",
    "V tem delu preberemo datoteke s transkripti ter jih preprocesiramo oz. jih pripravimo v obliko, primerno za procesiranje naravnega jezika"
   ]
  },
  {
   "cell_type": "markdown",
   "id": "3c1eaca3",
   "metadata": {},
   "source": [
    "## Branje tekstovnih datotek in shranjevanje podatkov v tabelo\n",
    "Korpus parlamentarnega govora v slovenščini smo prenesli s portala Clarin. Iteriramo skozi 415 tekstovnih datotek s prepisi parlamentarnih debat ter jih shranimo v seznam, pri čemer vsak posamezen govor shranimo predstavimo v terki *(tekst, datum, vrsta)*."
   ]
  },
  {
   "cell_type": "code",
   "execution_count": 1,
   "id": "c441fd84",
   "metadata": {},
   "outputs": [],
   "source": [
    "import os\n",
    "directory = 'C:\\\\Users\\\\gogi1\\\\Desktop\\\\diploma\\\\ParlaMint-SI\\\\ParlaMint-SI.txt'\n",
    "files = []\n",
    "\n",
    "for filename in os.listdir(directory):\n",
    "    f = os.path.join(directory, filename)\n",
    "    if os.path.isfile(f) and f[-1]=='t':\n",
    "        files.append(f)"
   ]
  },
  {
   "cell_type": "code",
   "execution_count": 2,
   "id": "e85e746a",
   "metadata": {},
   "outputs": [
    {
     "data": {
      "text/plain": [
       "415"
      ]
     },
     "execution_count": 2,
     "metadata": {},
     "output_type": "execute_result"
    }
   ],
   "source": [
    "len(files)"
   ]
  },
  {
   "cell_type": "code",
   "execution_count": 3,
   "id": "2c725b72",
   "metadata": {},
   "outputs": [],
   "source": [
    "import re\n",
    "data = []\n",
    "directory = 'C:\\\\Users\\\\gogi1\\\\Desktop\\\\diploma\\\\ParlaMint-SI\\\\ParlaMint-SI.txt'\n",
    "\n",
    "for file in files[1:]:\n",
    "    with open(file, encoding='utf-8') as f:\n",
    "        lines = f.readlines()\n",
    "        for line in lines:\n",
    "            datum = line[13:23]\n",
    "            vrsta = line[29:34]\n",
    "            tekst = line[41:]\n",
    "            tekst = re.sub('[^A-Z\\Č\\Š\\Ž\\Ća-z\\č\\š\\ž\\ć]+', ' ', tekst)\n",
    "            tekst = tekst.strip()\n",
    "            data.append([tekst, datum, vrsta])\n",
    "            "
   ]
  },
  {
   "cell_type": "code",
   "execution_count": 4,
   "id": "c849f612",
   "metadata": {},
   "outputs": [
    {
     "data": {
      "text/plain": [
       "75122"
      ]
     },
     "execution_count": 4,
     "metadata": {},
     "output_type": "execute_result"
    }
   ],
   "source": [
    "len(data)"
   ]
  },
  {
   "cell_type": "code",
   "execution_count": 5,
   "id": "6fdc2286",
   "metadata": {},
   "outputs": [],
   "source": [
    "import pandas as pd\n",
    "df = pd.DataFrame(data, index=None, columns=['Tekst', 'Datum', 'Vrsta'])"
   ]
  },
  {
   "cell_type": "code",
   "execution_count": 6,
   "id": "9c7cf683",
   "metadata": {},
   "outputs": [
    {
     "data": {
      "text/html": [
       "<div>\n",
       "<style scoped>\n",
       "    .dataframe tbody tr th:only-of-type {\n",
       "        vertical-align: middle;\n",
       "    }\n",
       "\n",
       "    .dataframe tbody tr th {\n",
       "        vertical-align: top;\n",
       "    }\n",
       "\n",
       "    .dataframe thead th {\n",
       "        text-align: right;\n",
       "    }\n",
       "</style>\n",
       "<table border=\"1\" class=\"dataframe\">\n",
       "  <thead>\n",
       "    <tr style=\"text-align: right;\">\n",
       "      <th></th>\n",
       "      <th>Tekst</th>\n",
       "      <th>Datum</th>\n",
       "      <th>Vrsta</th>\n",
       "    </tr>\n",
       "  </thead>\n",
       "  <tbody>\n",
       "    <tr>\n",
       "      <th>0</th>\n",
       "      <td>Spoštovani prosim da zasedete svoja mesta V na...</td>\n",
       "      <td>2014-08-01</td>\n",
       "      <td>Redna</td>\n",
       "    </tr>\n",
       "    <tr>\n",
       "      <th>1</th>\n",
       "      <td>Hvala za besedo predsedujoča Spoštovani predse...</td>\n",
       "      <td>2014-08-01</td>\n",
       "      <td>Redna</td>\n",
       "    </tr>\n",
       "    <tr>\n",
       "      <th>2</th>\n",
       "      <td>Zahvaljujem se spoštovanemu gospodu Janku Vebr...</td>\n",
       "      <td>2014-08-01</td>\n",
       "      <td>Redna</td>\n",
       "    </tr>\n",
       "    <tr>\n",
       "      <th>3</th>\n",
       "      <td>Spoštovana gospa predsedujoča spoštovane posla...</td>\n",
       "      <td>2014-08-01</td>\n",
       "      <td>Redna</td>\n",
       "    </tr>\n",
       "    <tr>\n",
       "      <th>4</th>\n",
       "      <td>Predsedniku republike spoštovanemu gospodu Bor...</td>\n",
       "      <td>2014-08-01</td>\n",
       "      <td>Redna</td>\n",
       "    </tr>\n",
       "    <tr>\n",
       "      <th>...</th>\n",
       "      <td>...</td>\n",
       "      <td>...</td>\n",
       "      <td>...</td>\n",
       "    </tr>\n",
       "    <tr>\n",
       "      <th>75117</th>\n",
       "      <td>Hvala lepa Jože Lenart želite besedo</td>\n",
       "      <td>2020-07-16</td>\n",
       "      <td>Izred</td>\n",
       "    </tr>\n",
       "    <tr>\n",
       "      <th>75118</th>\n",
       "      <td>Ja hvala lepa Spoštovane kolegice in kolegi Ko...</td>\n",
       "      <td>2020-07-16</td>\n",
       "      <td>Izred</td>\n",
       "    </tr>\n",
       "    <tr>\n",
       "      <th>75119</th>\n",
       "      <td>Hvala lepa Kot zadnji ima besedo predstavnik V...</td>\n",
       "      <td>2020-07-16</td>\n",
       "      <td>Izred</td>\n",
       "    </tr>\n",
       "    <tr>\n",
       "      <th>75120</th>\n",
       "      <td>Drage poslanke in poslanci Vsem vam privoščim ...</td>\n",
       "      <td>2020-07-16</td>\n",
       "      <td>Izred</td>\n",
       "    </tr>\n",
       "    <tr>\n",
       "      <th>75121</th>\n",
       "      <td>Hvala lepa Zaključujem splošno razpravo in pre...</td>\n",
       "      <td>2020-07-16</td>\n",
       "      <td>Izred</td>\n",
       "    </tr>\n",
       "  </tbody>\n",
       "</table>\n",
       "<p>75122 rows × 3 columns</p>\n",
       "</div>"
      ],
      "text/plain": [
       "                                                   Tekst       Datum  Vrsta\n",
       "0      Spoštovani prosim da zasedete svoja mesta V na...  2014-08-01  Redna\n",
       "1      Hvala za besedo predsedujoča Spoštovani predse...  2014-08-01  Redna\n",
       "2      Zahvaljujem se spoštovanemu gospodu Janku Vebr...  2014-08-01  Redna\n",
       "3      Spoštovana gospa predsedujoča spoštovane posla...  2014-08-01  Redna\n",
       "4      Predsedniku republike spoštovanemu gospodu Bor...  2014-08-01  Redna\n",
       "...                                                  ...         ...    ...\n",
       "75117               Hvala lepa Jože Lenart želite besedo  2020-07-16  Izred\n",
       "75118  Ja hvala lepa Spoštovane kolegice in kolegi Ko...  2020-07-16  Izred\n",
       "75119  Hvala lepa Kot zadnji ima besedo predstavnik V...  2020-07-16  Izred\n",
       "75120  Drage poslanke in poslanci Vsem vam privoščim ...  2020-07-16  Izred\n",
       "75121  Hvala lepa Zaključujem splošno razpravo in pre...  2020-07-16  Izred\n",
       "\n",
       "[75122 rows x 3 columns]"
      ]
     },
     "execution_count": 6,
     "metadata": {},
     "output_type": "execute_result"
    }
   ],
   "source": [
    "df"
   ]
  },
  {
   "cell_type": "markdown",
   "id": "e740f2a9",
   "metadata": {},
   "source": [
    "## Preprocesiranje\n",
    "Podatke je nato treba prečistiti, tj. spraviti v obliko, primerno za procesiranje naravnega jezika. Vso besedilo moramo pretvoriti v majhne črke. Na koncu prečiščeno tabelo shranimo v csv datoteko.\n",
    "\n",
    "### Pretvorba v male črke"
   ]
  },
  {
   "cell_type": "code",
   "execution_count": 7,
   "id": "093a7587",
   "metadata": {},
   "outputs": [],
   "source": [
    "df['Tekst'] = df['Tekst'].apply(lambda x: ' '.join(x.lower().split()))"
   ]
  },
  {
   "cell_type": "code",
   "execution_count": 9,
   "id": "b082d978",
   "metadata": {},
   "outputs": [
    {
     "data": {
      "text/html": [
       "<div>\n",
       "<style scoped>\n",
       "    .dataframe tbody tr th:only-of-type {\n",
       "        vertical-align: middle;\n",
       "    }\n",
       "\n",
       "    .dataframe tbody tr th {\n",
       "        vertical-align: top;\n",
       "    }\n",
       "\n",
       "    .dataframe thead th {\n",
       "        text-align: right;\n",
       "    }\n",
       "</style>\n",
       "<table border=\"1\" class=\"dataframe\">\n",
       "  <thead>\n",
       "    <tr style=\"text-align: right;\">\n",
       "      <th></th>\n",
       "      <th>Tekst</th>\n",
       "      <th>Datum</th>\n",
       "      <th>Vrsta</th>\n",
       "    </tr>\n",
       "  </thead>\n",
       "  <tbody>\n",
       "    <tr>\n",
       "      <th>0</th>\n",
       "      <td>spoštovani prosim da zasedete svoja mesta v na...</td>\n",
       "      <td>2014-08-01</td>\n",
       "      <td>Redna</td>\n",
       "    </tr>\n",
       "    <tr>\n",
       "      <th>1</th>\n",
       "      <td>hvala za besedo predsedujoča spoštovani predse...</td>\n",
       "      <td>2014-08-01</td>\n",
       "      <td>Redna</td>\n",
       "    </tr>\n",
       "    <tr>\n",
       "      <th>2</th>\n",
       "      <td>zahvaljujem se spoštovanemu gospodu janku vebr...</td>\n",
       "      <td>2014-08-01</td>\n",
       "      <td>Redna</td>\n",
       "    </tr>\n",
       "    <tr>\n",
       "      <th>3</th>\n",
       "      <td>spoštovana gospa predsedujoča spoštovane posla...</td>\n",
       "      <td>2014-08-01</td>\n",
       "      <td>Redna</td>\n",
       "    </tr>\n",
       "    <tr>\n",
       "      <th>4</th>\n",
       "      <td>predsedniku republike spoštovanemu gospodu bor...</td>\n",
       "      <td>2014-08-01</td>\n",
       "      <td>Redna</td>\n",
       "    </tr>\n",
       "  </tbody>\n",
       "</table>\n",
       "</div>"
      ],
      "text/plain": [
       "                                               Tekst       Datum  Vrsta\n",
       "0  spoštovani prosim da zasedete svoja mesta v na...  2014-08-01  Redna\n",
       "1  hvala za besedo predsedujoča spoštovani predse...  2014-08-01  Redna\n",
       "2  zahvaljujem se spoštovanemu gospodu janku vebr...  2014-08-01  Redna\n",
       "3  spoštovana gospa predsedujoča spoštovane posla...  2014-08-01  Redna\n",
       "4  predsedniku republike spoštovanemu gospodu bor...  2014-08-01  Redna"
      ]
     },
     "execution_count": 9,
     "metadata": {},
     "output_type": "execute_result"
    }
   ],
   "source": [
    "df.head(5)"
   ]
  },
  {
   "cell_type": "code",
   "execution_count": 10,
   "id": "0d75d4a6",
   "metadata": {},
   "outputs": [],
   "source": [
    "df.to_csv('dataframe.csv', encoding='utf-8', index=False)"
   ]
  }
 ],
 "metadata": {
  "kernelspec": {
   "display_name": "Python 3 (ipykernel)",
   "language": "python",
   "name": "python3"
  },
  "language_info": {
   "codemirror_mode": {
    "name": "ipython",
    "version": 3
   },
   "file_extension": ".py",
   "mimetype": "text/x-python",
   "name": "python",
   "nbconvert_exporter": "python",
   "pygments_lexer": "ipython3",
   "version": "3.9.7"
  }
 },
 "nbformat": 4,
 "nbformat_minor": 5
}
