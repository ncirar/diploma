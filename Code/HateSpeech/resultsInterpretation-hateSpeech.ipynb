{
 "cells": [
  {
   "cell_type": "code",
   "execution_count": 2,
   "id": "3dfba5d9",
   "metadata": {},
   "outputs": [],
   "source": [
    "import pandas as pd\n",
    "dfSest = pd.read_csv('dvaSestnajst-crosloengualBERT-hatespeech.csv')"
   ]
  },
  {
   "cell_type": "code",
   "execution_count": 4,
   "id": "feddf0ca",
   "metadata": {},
   "outputs": [
    {
     "data": {
      "text/plain": [
       "nesovrazni    3012\n",
       "sovrazni       288\n",
       "Name: hs, dtype: int64"
      ]
     },
     "execution_count": 4,
     "metadata": {},
     "output_type": "execute_result"
    }
   ],
   "source": [
    "dfSest['hs'].value_counts()"
   ]
  },
  {
   "cell_type": "code",
   "execution_count": 77,
   "id": "39eb2fdc",
   "metadata": {},
   "outputs": [],
   "source": [
    "sovrazniSest = dfSest[dfSest['hs']=='sovrazni']"
   ]
  },
  {
   "cell_type": "code",
   "execution_count": 23,
   "id": "ad33bf80",
   "metadata": {},
   "outputs": [
    {
     "data": {
      "text/html": [
       "<div>\n",
       "<style scoped>\n",
       "    .dataframe tbody tr th:only-of-type {\n",
       "        vertical-align: middle;\n",
       "    }\n",
       "\n",
       "    .dataframe tbody tr th {\n",
       "        vertical-align: top;\n",
       "    }\n",
       "\n",
       "    .dataframe thead th {\n",
       "        text-align: right;\n",
       "    }\n",
       "</style>\n",
       "<table border=\"1\" class=\"dataframe\">\n",
       "  <thead>\n",
       "    <tr style=\"text-align: right;\">\n",
       "      <th></th>\n",
       "      <th>text</th>\n",
       "      <th>leto</th>\n",
       "      <th>mesec</th>\n",
       "      <th>rojstvo</th>\n",
       "      <th>stranka</th>\n",
       "      <th>spol</th>\n",
       "      <th>hs</th>\n",
       "    </tr>\n",
       "  </thead>\n",
       "  <tbody>\n",
       "    <tr>\n",
       "      <th>1631</th>\n",
       "      <td>hvala lepa, bom izjemno kratek. zelo pozorno s...</td>\n",
       "      <td>2016</td>\n",
       "      <td>6</td>\n",
       "      <td>-\\n</td>\n",
       "      <td>NaN</td>\n",
       "      <td>M</td>\n",
       "      <td>sovrazni</td>\n",
       "    </tr>\n",
       "    <tr>\n",
       "      <th>937</th>\n",
       "      <td>gospa levičar, jaz, ko smo govorili o posvojit...</td>\n",
       "      <td>2016</td>\n",
       "      <td>4</td>\n",
       "      <td>1969</td>\n",
       "      <td>SDS</td>\n",
       "      <td>F</td>\n",
       "      <td>sovrazni</td>\n",
       "    </tr>\n",
       "    <tr>\n",
       "      <th>1334</th>\n",
       "      <td>besedo ima gospa marija bačič, pripravita naj ...</td>\n",
       "      <td>2016</td>\n",
       "      <td>5</td>\n",
       "      <td>1967</td>\n",
       "      <td>SMC</td>\n",
       "      <td>M</td>\n",
       "      <td>sovrazni</td>\n",
       "    </tr>\n",
       "    <tr>\n",
       "      <th>1418</th>\n",
       "      <td>priznam, da sem z nekaterimi težavami seznanje...</td>\n",
       "      <td>2016</td>\n",
       "      <td>5</td>\n",
       "      <td>-\\n</td>\n",
       "      <td>NaN</td>\n",
       "      <td>F</td>\n",
       "      <td>sovrazni</td>\n",
       "    </tr>\n",
       "    <tr>\n",
       "      <th>1430</th>\n",
       "      <td>postopkovno ima dr. franc trček.</td>\n",
       "      <td>2016</td>\n",
       "      <td>5</td>\n",
       "      <td>1967</td>\n",
       "      <td>SMC</td>\n",
       "      <td>M</td>\n",
       "      <td>sovrazni</td>\n",
       "    </tr>\n",
       "  </tbody>\n",
       "</table>\n",
       "</div>"
      ],
      "text/plain": [
       "                                                   text  leto  mesec rojstvo  \\\n",
       "1631  hvala lepa, bom izjemno kratek. zelo pozorno s...  2016      6     -\\n   \n",
       "937   gospa levičar, jaz, ko smo govorili o posvojit...  2016      4    1969   \n",
       "1334  besedo ima gospa marija bačič, pripravita naj ...  2016      5    1967   \n",
       "1418  priznam, da sem z nekaterimi težavami seznanje...  2016      5     -\\n   \n",
       "1430                   postopkovno ima dr. franc trček.  2016      5    1967   \n",
       "\n",
       "     stranka spol        hs  \n",
       "1631     NaN    M  sovrazni  \n",
       "937      SDS    F  sovrazni  \n",
       "1334     SMC    M  sovrazni  \n",
       "1418     NaN    F  sovrazni  \n",
       "1430     SMC    M  sovrazni  "
      ]
     },
     "execution_count": 23,
     "metadata": {},
     "output_type": "execute_result"
    }
   ],
   "source": [
    "sovrazniSest.sample(5)"
   ]
  },
  {
   "cell_type": "code",
   "execution_count": 78,
   "id": "6f170399",
   "metadata": {},
   "outputs": [
    {
     "data": {
      "text/plain": [
       "M    241\n",
       "F     47\n",
       "Name: spol, dtype: int64"
      ]
     },
     "execution_count": 78,
     "metadata": {},
     "output_type": "execute_result"
    }
   ],
   "source": [
    "sovrazniSest['spol'].value_counts()"
   ]
  },
  {
   "cell_type": "code",
   "execution_count": 79,
   "id": "56f2f896",
   "metadata": {},
   "outputs": [
    {
     "data": {
      "text/plain": [
       "1967    146\n",
       "-\\n      24\n",
       "1980     22\n",
       "1947     10\n",
       "1983     10\n",
       "1972      9\n",
       "1969      7\n",
       "1960      7\n",
       "1971      6\n",
       "1961      6\n",
       "1987      5\n",
       "1970      4\n",
       "1963      4\n",
       "1962      3\n",
       "1957      3\n",
       "1959      2\n",
       "1990      2\n",
       "1974      2\n",
       "1956      2\n",
       "1989      2\n",
       "1985      2\n",
       "1955      2\n",
       "1953      1\n",
       "1968      1\n",
       "1965      1\n",
       "1964      1\n",
       "1958      1\n",
       "1981      1\n",
       "1973      1\n",
       "1976      1\n",
       "Name: rojstvo, dtype: int64"
      ]
     },
     "execution_count": 79,
     "metadata": {},
     "output_type": "execute_result"
    }
   ],
   "source": [
    "sovrazniSest['rojstvo'].value_counts()"
   ]
  },
  {
   "cell_type": "code",
   "execution_count": 80,
   "id": "d79c94bc",
   "metadata": {},
   "outputs": [
    {
     "data": {
      "text/plain": [
       "SMC       157\n",
       "SD         36\n",
       "SDS        19\n",
       "DeSUS      17\n",
       "NSi        16\n",
       "Levica     14\n",
       "Name: stranka, dtype: int64"
      ]
     },
     "execution_count": 80,
     "metadata": {},
     "output_type": "execute_result"
    }
   ],
   "source": [
    "sovrazniSest['stranka'].value_counts()"
   ]
  },
  {
   "cell_type": "code",
   "execution_count": 24,
   "id": "839373f2",
   "metadata": {},
   "outputs": [
    {
     "data": {
      "text/plain": [
       "'gospa levičar, jaz, ko smo govorili o posvojitvah, ste oziroma so kimali tudi ostali poslanci, da so zdaj že možne posvojitve, vi ste govorila o bioloških starših, torej, da je eden biološki in potem partner posvoji tega otroka. jaz se sprašujem, ali v temu zakonu piše, da dva istospolna ne moreta, torej vsak za sebe ali pa najprej recimo eden, posvojiti otroka, ki ni biološki. ki ni biološki. ne govorim o bioloških. torej poroka dveh partnerjev, moški moški, ženska ženska, saj je vseeno, eden posvoji otroka. zdaj mi govorite, da je to čisto neko drugo vprašanje, jaz mislim, da ste me narobe razumeli. jaz še enkrat govorim, možne so posvojitve. kot piše v tretji točki . člena partnerja partnerske zveze ne moreta skupaj posvojiti otroka. lahko pa ga po zzzdr vsak za sebe. tako kot kimajo v koaliciji. torej ne mi govoriti, da niso možne, gospa levičar, posvojitve. so možne, tudi otrok, katerih starša v partnerski skupnosti nista biološka starša. kimajo koalicijski poslanci. zdaj, če vam pa niso pravilno razložili zakona, jih pa zdaj še enkrat vprašajte.'"
      ]
     },
     "execution_count": 24,
     "metadata": {},
     "output_type": "execute_result"
    }
   ],
   "source": [
    "dfSest.iloc[937]['text']"
   ]
  },
  {
   "cell_type": "code",
   "execution_count": 25,
   "id": "b9bb5c4b",
   "metadata": {},
   "outputs": [
    {
     "data": {
      "text/html": [
       "<div>\n",
       "<style scoped>\n",
       "    .dataframe tbody tr th:only-of-type {\n",
       "        vertical-align: middle;\n",
       "    }\n",
       "\n",
       "    .dataframe tbody tr th {\n",
       "        vertical-align: top;\n",
       "    }\n",
       "\n",
       "    .dataframe thead th {\n",
       "        text-align: right;\n",
       "    }\n",
       "</style>\n",
       "<table border=\"1\" class=\"dataframe\">\n",
       "  <thead>\n",
       "    <tr style=\"text-align: right;\">\n",
       "      <th></th>\n",
       "      <th>text</th>\n",
       "      <th>leto</th>\n",
       "      <th>mesec</th>\n",
       "      <th>rojstvo</th>\n",
       "      <th>stranka</th>\n",
       "      <th>spol</th>\n",
       "      <th>hs</th>\n",
       "    </tr>\n",
       "  </thead>\n",
       "  <tbody>\n",
       "    <tr>\n",
       "      <th>2495</th>\n",
       "      <td>hvala lepa. minister za infrastrukturo dr. pet...</td>\n",
       "      <td>2016</td>\n",
       "      <td>10</td>\n",
       "      <td>1980</td>\n",
       "      <td>SD</td>\n",
       "      <td>M</td>\n",
       "      <td>nesovrazni</td>\n",
       "    </tr>\n",
       "    <tr>\n",
       "      <th>1152</th>\n",
       "      <td>hvala lepa. besedo ima poslanska skupina slove...</td>\n",
       "      <td>2016</td>\n",
       "      <td>4</td>\n",
       "      <td>1971</td>\n",
       "      <td>SD</td>\n",
       "      <td>F</td>\n",
       "      <td>nesovrazni</td>\n",
       "    </tr>\n",
       "    <tr>\n",
       "      <th>1786</th>\n",
       "      <td>hvala lepa. gospod ljubo žnidar, o vašem predl...</td>\n",
       "      <td>2016</td>\n",
       "      <td>6</td>\n",
       "      <td>1947</td>\n",
       "      <td>DeSUS</td>\n",
       "      <td>M</td>\n",
       "      <td>nesovrazni</td>\n",
       "    </tr>\n",
       "    <tr>\n",
       "      <th>2082</th>\n",
       "      <td>spoštovani predsedujoči, spoštovani prisotni, ...</td>\n",
       "      <td>2016</td>\n",
       "      <td>7</td>\n",
       "      <td>-\\n</td>\n",
       "      <td>NaN</td>\n",
       "      <td>F</td>\n",
       "      <td>nesovrazni</td>\n",
       "    </tr>\n",
       "    <tr>\n",
       "      <th>2439</th>\n",
       "      <td>gospa iva dimic. se oproščam, ker nisem pravil...</td>\n",
       "      <td>2016</td>\n",
       "      <td>10</td>\n",
       "      <td>1967</td>\n",
       "      <td>SMC</td>\n",
       "      <td>M</td>\n",
       "      <td>nesovrazni</td>\n",
       "    </tr>\n",
       "  </tbody>\n",
       "</table>\n",
       "</div>"
      ],
      "text/plain": [
       "                                                   text  leto  mesec rojstvo  \\\n",
       "2495  hvala lepa. minister za infrastrukturo dr. pet...  2016     10    1980   \n",
       "1152  hvala lepa. besedo ima poslanska skupina slove...  2016      4    1971   \n",
       "1786  hvala lepa. gospod ljubo žnidar, o vašem predl...  2016      6    1947   \n",
       "2082  spoštovani predsedujoči, spoštovani prisotni, ...  2016      7     -\\n   \n",
       "2439  gospa iva dimic. se oproščam, ker nisem pravil...  2016     10    1967   \n",
       "\n",
       "     stranka spol          hs  \n",
       "2495      SD    M  nesovrazni  \n",
       "1152      SD    F  nesovrazni  \n",
       "1786   DeSUS    M  nesovrazni  \n",
       "2082     NaN    F  nesovrazni  \n",
       "2439     SMC    M  nesovrazni  "
      ]
     },
     "execution_count": 25,
     "metadata": {},
     "output_type": "execute_result"
    }
   ],
   "source": [
    "nesovrazniSest = dfSest[dfSest['hs']=='nesovrazni']\n",
    "nesovrazniSest.sample(5)"
   ]
  },
  {
   "cell_type": "code",
   "execution_count": 28,
   "id": "4ff22a0c",
   "metadata": {},
   "outputs": [
    {
     "data": {
      "text/plain": [
       "'spoštovani predsedujoči, spoštovani prisotni, gospa poslanka! gre zagotovo za eno od bolj aktualnih in zelo pomembnih vprašanj, s katerimi se srečujemo ne le v izobraževanju, ampak sicer v družbi. zato smo tudi v tem mandatu na ministrstvu temu področju, torej področju razvoja nadarjenih najprej pa seveda identifikacija nadarjenih in sistemske umestitve reševanja nadarjenih posvetili že kar nekaj pozornosti. na zavodu za šolstvo republike slovenije je bila v preteklem letu imenovana delovna skupina za pripravo posodobitve koncepta za odkrivanje in delo z nadarjenimi. to se nanaša na odgovor na vaše vprašanje, ali se nam zdi koncept iz leta še dovoljšen, še dovolj osmišljen tudi glede na spremenjene razmere. odgovor je, da je delovna skupina že pripravila predloge in ta koncept bo jeseni tudi predlagan v sprejetje strokovnemu svetu republike slovenije za splošno izobraževanje. gre za skupino, ki so jo sestavili svetovalci zavoda republike slovenije za šolstvo ter visokošolski strokovnjaki s tega področja. vemo, da se posamezne šole, ravnatelji in tudi drugi strokovnjaki v okviru različnih institutov že aktivno ukvarjajo s tem področjem, tudi iz razloga spremenjenih razmer delovanja v družbi in spremenjenih konceptov odkrivanja ne le na strokovni, ampak tudi na dejanski izvedbeni ravni in pri delu z nadarjenimi. bistvena novost oziroma smer razvoja in razmisleka je, da predlog koncepta vsebuje prepoznavanje in odkrivanje nadarjenih, predvsem pa modele podpore znotraj rednega pouka nadarjenim ter na nek način obogatitveni programi oziroma aktivnosti, ki identificirajo oziroma lahko tudi vnaprej usmerjajo nadarjene v njihov kurikularni in karierni razvoj. znotraj pouka, ta razmislek predvideva tudi inkluzivno izobraževalno delo z nadarjenimi, personalizacijo učenja in utemeljenost pričakovanj, načinov in metod dela z nadarjenimi. gre za širše razmišljanje, ki bo moralo imeti potem tudi ustrezno udejanjenje. kot veste in kot ste tudi že sami omenili, prav v okviru izvajanja ukrepov, to je predvsem znotraj koncepta inovativnih učnih okolij, je to eden od primerov preverjanja in tudi usmerjanja tovrstne konceptov, pri čemer se bo v kurikulum oziroma tudi z opiranjem na zunanje deležnike šol pomembno lahko razvijalo nove pristope kot način ustvarjanja tistih podpornih okolij, ki na nek način odkrivajo, usmerjajo in potem tudi spodbujajo razvoj nadarjenih. tisto, kar smo še storili v zadnjem času na ministrstvu, je tudi zelo zanimiv projekt, ki je dal tudi številne podlage za ta konceptualni razmislek, to je znanje za prihodnost, ki smo ga izvajali do leta . vanj je bilo vključenih kar nekaj šol, trinajst srednjih šol, tudi različni instituti, kot so raziskovalne ustanove, tudi raziskovalni inštituti. to je bil recimo primer, kako se spodbuja raziskovanje, znanstveno delo motiviranih dijakov ter hkrati tudi odkriva njihove nadarjenosti in talente. ker pa je bilo tovrstnih projektov kar nekaj, sistemske obogatitve pa so tiste, ki kličejo po razvoju, pa smo v zadnjem času s predstavniki centra za spodbujanje in razvoj nadarjenosti na pedagoški fakulteti ter že omenjenega zavoda republike slovenije za šolstvo, zvezo za tehnično kulturo slovenije, društvom matematikov in fizikov in tako naprej strnili vrste ter pogledali ta koncept nadarjenih. vidimo, da je v resnici tista prava sistemska rešitev v gradnji podpornih okolij. od tod tudi pospešeno pripravljanje ukrepa koncepta inovativnih učnih okolij kot vrste financiranja znotraj kohezijskih virov in da gremo v tako imenovano mrežo regionalnih točk, ki delujejo kot podporna enota tistim, ki želijo usmerjati ta razvoj, predvsem razvoj nadarjenih mladostnikov s pomočjo ustreznih podpornih institucij, tudi javnih zavodov, bodisi raziskovalnih bodisi visokošolskih, tudi višješolskih in ukrepov, ki dajejo analitično strokovno podporo, predvsem sprotno ocenjevanje, tudi evalvacijo za to, da lahko lažje, tudi bolj sistematično gradimo celovit pristop najprej odkrivanja, potem pa usmerjanja podpore nadarjenih. gre za zelo pomembno temo, ki pa je ne moremo posodobiti čez noč, kot temu rečemo, ampak premišljeno in tudi v duhu potreb, ki jih ti mladi mladostniki imajo drugačne, kot so bile nekoč. hvala.'"
      ]
     },
     "execution_count": 28,
     "metadata": {},
     "output_type": "execute_result"
    }
   ],
   "source": [
    "dfSest.iloc[2082]['text']"
   ]
  },
  {
   "cell_type": "code",
   "execution_count": 29,
   "id": "11c3b7dd",
   "metadata": {},
   "outputs": [],
   "source": [
    "dfSedem = pd.read_csv('dvaSedemnajst-crosloengualBERT-hatespeech.csv')"
   ]
  },
  {
   "cell_type": "code",
   "execution_count": 30,
   "id": "229891d2",
   "metadata": {},
   "outputs": [
    {
     "data": {
      "text/plain": [
       "nesovrazni    2987\n",
       "sovrazni       313\n",
       "Name: hs, dtype: int64"
      ]
     },
     "execution_count": 30,
     "metadata": {},
     "output_type": "execute_result"
    }
   ],
   "source": [
    "dfSedem['hs'].value_counts()"
   ]
  },
  {
   "cell_type": "code",
   "execution_count": 81,
   "id": "7d9d524a",
   "metadata": {},
   "outputs": [],
   "source": [
    "sovrazniSedem = dfSedem[dfSedem['hs']=='sovrazni']"
   ]
  },
  {
   "cell_type": "code",
   "execution_count": 34,
   "id": "69154e56",
   "metadata": {},
   "outputs": [
    {
     "data": {
      "text/html": [
       "<div>\n",
       "<style scoped>\n",
       "    .dataframe tbody tr th:only-of-type {\n",
       "        vertical-align: middle;\n",
       "    }\n",
       "\n",
       "    .dataframe tbody tr th {\n",
       "        vertical-align: top;\n",
       "    }\n",
       "\n",
       "    .dataframe thead th {\n",
       "        text-align: right;\n",
       "    }\n",
       "</style>\n",
       "<table border=\"1\" class=\"dataframe\">\n",
       "  <thead>\n",
       "    <tr style=\"text-align: right;\">\n",
       "      <th></th>\n",
       "      <th>text</th>\n",
       "      <th>leto</th>\n",
       "      <th>mesec</th>\n",
       "      <th>rojstvo</th>\n",
       "      <th>stranka</th>\n",
       "      <th>spol</th>\n",
       "      <th>hs</th>\n",
       "    </tr>\n",
       "  </thead>\n",
       "  <tbody>\n",
       "    <tr>\n",
       "      <th>2768</th>\n",
       "      <td>kakšno vezo ima to s postopkovnim?</td>\n",
       "      <td>2017</td>\n",
       "      <td>11</td>\n",
       "      <td>1967</td>\n",
       "      <td>SMC</td>\n",
       "      <td>M</td>\n",
       "      <td>sovrazni</td>\n",
       "    </tr>\n",
       "    <tr>\n",
       "      <th>2061</th>\n",
       "      <td>sledi predstavitev stališč poslanskih skupin. ...</td>\n",
       "      <td>2017</td>\n",
       "      <td>7</td>\n",
       "      <td>1967</td>\n",
       "      <td>SMC</td>\n",
       "      <td>M</td>\n",
       "      <td>sovrazni</td>\n",
       "    </tr>\n",
       "    <tr>\n",
       "      <th>3203</th>\n",
       "      <td>prehajamo na predstavitev stališč poslanskih s...</td>\n",
       "      <td>2017</td>\n",
       "      <td>12</td>\n",
       "      <td>1967</td>\n",
       "      <td>SMC</td>\n",
       "      <td>M</td>\n",
       "      <td>sovrazni</td>\n",
       "    </tr>\n",
       "    <tr>\n",
       "      <th>2073</th>\n",
       "      <td>besedo ima gospod janko veber, pripravita naj ...</td>\n",
       "      <td>2017</td>\n",
       "      <td>7</td>\n",
       "      <td>1967</td>\n",
       "      <td>SMC</td>\n",
       "      <td>M</td>\n",
       "      <td>sovrazni</td>\n",
       "    </tr>\n",
       "    <tr>\n",
       "      <th>2493</th>\n",
       "      <td>še enkrat hvala za besedo. kadar se preiskuje ...</td>\n",
       "      <td>2017</td>\n",
       "      <td>10</td>\n",
       "      <td>1962</td>\n",
       "      <td>SDS</td>\n",
       "      <td>M</td>\n",
       "      <td>sovrazni</td>\n",
       "    </tr>\n",
       "  </tbody>\n",
       "</table>\n",
       "</div>"
      ],
      "text/plain": [
       "                                                   text  leto  mesec rojstvo  \\\n",
       "2768                 kakšno vezo ima to s postopkovnim?  2017     11    1967   \n",
       "2061  sledi predstavitev stališč poslanskih skupin. ...  2017      7    1967   \n",
       "3203  prehajamo na predstavitev stališč poslanskih s...  2017     12    1967   \n",
       "2073  besedo ima gospod janko veber, pripravita naj ...  2017      7    1967   \n",
       "2493  še enkrat hvala za besedo. kadar se preiskuje ...  2017     10    1962   \n",
       "\n",
       "     stranka spol        hs  \n",
       "2768     SMC    M  sovrazni  \n",
       "2061     SMC    M  sovrazni  \n",
       "3203     SMC    M  sovrazni  \n",
       "2073     SMC    M  sovrazni  \n",
       "2493     SDS    M  sovrazni  "
      ]
     },
     "execution_count": 34,
     "metadata": {},
     "output_type": "execute_result"
    }
   ],
   "source": [
    "sovrazniSedem.sample(5)"
   ]
  },
  {
   "cell_type": "code",
   "execution_count": 82,
   "id": "0aa713a6",
   "metadata": {},
   "outputs": [
    {
     "data": {
      "text/plain": [
       "M    275\n",
       "F     38\n",
       "Name: spol, dtype: int64"
      ]
     },
     "execution_count": 82,
     "metadata": {},
     "output_type": "execute_result"
    }
   ],
   "source": [
    "sovrazniSedem['spol'].value_counts()"
   ]
  },
  {
   "cell_type": "code",
   "execution_count": 83,
   "id": "b9a633fb",
   "metadata": {},
   "outputs": [
    {
     "data": {
      "text/plain": [
       "SMC       171\n",
       "SD         59\n",
       "SDS        20\n",
       "DeSUS      15\n",
       "Levica     11\n",
       "NSi         9\n",
       "Name: stranka, dtype: int64"
      ]
     },
     "execution_count": 83,
     "metadata": {},
     "output_type": "execute_result"
    }
   ],
   "source": [
    "sovrazniSedem['stranka'].value_counts()"
   ]
  },
  {
   "cell_type": "code",
   "execution_count": 84,
   "id": "18666139",
   "metadata": {},
   "outputs": [
    {
     "data": {
      "text/plain": [
       "1967    150\n",
       "1980     46\n",
       "-\\n      22\n",
       "1947     13\n",
       "1960      7\n",
       "1970      7\n",
       "1989      7\n",
       "1957      6\n",
       "1961      5\n",
       "1955      5\n",
       "1972      4\n",
       "1990      4\n",
       "1987      4\n",
       "1973      4\n",
       "1969      3\n",
       "1983      3\n",
       "1958      3\n",
       "1950      2\n",
       "1962      2\n",
       "1985      2\n",
       "1956      2\n",
       "1963      2\n",
       "1974      2\n",
       "1978      2\n",
       "1976      1\n",
       "1954      1\n",
       "1953      1\n",
       "1981      1\n",
       "1965      1\n",
       "1971      1\n",
       "Name: rojstvo, dtype: int64"
      ]
     },
     "execution_count": 84,
     "metadata": {},
     "output_type": "execute_result"
    }
   ],
   "source": [
    "sovrazniSedem['rojstvo'].value_counts()"
   ]
  },
  {
   "cell_type": "code",
   "execution_count": 35,
   "id": "98c4c007",
   "metadata": {},
   "outputs": [
    {
     "data": {
      "text/plain": [
       "'kakšno vezo ima to s postopkovnim?'"
      ]
     },
     "execution_count": 35,
     "metadata": {},
     "output_type": "execute_result"
    }
   ],
   "source": [
    "dfSedem.iloc[2768]['text']"
   ]
  },
  {
   "cell_type": "code",
   "execution_count": 85,
   "id": "280fdda5",
   "metadata": {},
   "outputs": [],
   "source": [
    "nesovrazniSedem = dfSedem[dfSedem['hs']=='nesovrazni']"
   ]
  },
  {
   "cell_type": "code",
   "execution_count": 36,
   "id": "284abde9",
   "metadata": {},
   "outputs": [
    {
     "data": {
      "text/html": [
       "<div>\n",
       "<style scoped>\n",
       "    .dataframe tbody tr th:only-of-type {\n",
       "        vertical-align: middle;\n",
       "    }\n",
       "\n",
       "    .dataframe tbody tr th {\n",
       "        vertical-align: top;\n",
       "    }\n",
       "\n",
       "    .dataframe thead th {\n",
       "        text-align: right;\n",
       "    }\n",
       "</style>\n",
       "<table border=\"1\" class=\"dataframe\">\n",
       "  <thead>\n",
       "    <tr style=\"text-align: right;\">\n",
       "      <th></th>\n",
       "      <th>text</th>\n",
       "      <th>leto</th>\n",
       "      <th>mesec</th>\n",
       "      <th>rojstvo</th>\n",
       "      <th>stranka</th>\n",
       "      <th>spol</th>\n",
       "      <th>hs</th>\n",
       "    </tr>\n",
       "  </thead>\n",
       "  <tbody>\n",
       "    <tr>\n",
       "      <th>3093</th>\n",
       "      <td>hvala lepa. spremembo zakona o minimalni plači...</td>\n",
       "      <td>2017</td>\n",
       "      <td>12</td>\n",
       "      <td>1954</td>\n",
       "      <td>NaN</td>\n",
       "      <td>F</td>\n",
       "      <td>nesovrazni</td>\n",
       "    </tr>\n",
       "    <tr>\n",
       "      <th>2449</th>\n",
       "      <td>hvala za besedo. pozdrav ministrici in ministr...</td>\n",
       "      <td>2017</td>\n",
       "      <td>10</td>\n",
       "      <td>1967</td>\n",
       "      <td>SMC</td>\n",
       "      <td>M</td>\n",
       "      <td>nesovrazni</td>\n",
       "    </tr>\n",
       "    <tr>\n",
       "      <th>2671</th>\n",
       "      <td>je še kakšna potreba po razpravi glede te točk...</td>\n",
       "      <td>2017</td>\n",
       "      <td>10</td>\n",
       "      <td>1967</td>\n",
       "      <td>SMC</td>\n",
       "      <td>M</td>\n",
       "      <td>nesovrazni</td>\n",
       "    </tr>\n",
       "    <tr>\n",
       "      <th>279</th>\n",
       "      <td>hvala za besedo, spoštovani predsedujoči. spoš...</td>\n",
       "      <td>2017</td>\n",
       "      <td>1</td>\n",
       "      <td>-\\n</td>\n",
       "      <td>NaN</td>\n",
       "      <td>F</td>\n",
       "      <td>nesovrazni</td>\n",
       "    </tr>\n",
       "    <tr>\n",
       "      <th>2006</th>\n",
       "      <td>končali smo s predstavitvijo stališč poslanski...</td>\n",
       "      <td>2017</td>\n",
       "      <td>7</td>\n",
       "      <td>1967</td>\n",
       "      <td>SMC</td>\n",
       "      <td>M</td>\n",
       "      <td>nesovrazni</td>\n",
       "    </tr>\n",
       "  </tbody>\n",
       "</table>\n",
       "</div>"
      ],
      "text/plain": [
       "                                                   text  leto  mesec rojstvo  \\\n",
       "3093  hvala lepa. spremembo zakona o minimalni plači...  2017     12    1954   \n",
       "2449  hvala za besedo. pozdrav ministrici in ministr...  2017     10    1967   \n",
       "2671  je še kakšna potreba po razpravi glede te točk...  2017     10    1967   \n",
       "279   hvala za besedo, spoštovani predsedujoči. spoš...  2017      1     -\\n   \n",
       "2006  končali smo s predstavitvijo stališč poslanski...  2017      7    1967   \n",
       "\n",
       "     stranka spol          hs  \n",
       "3093     NaN    F  nesovrazni  \n",
       "2449     SMC    M  nesovrazni  \n",
       "2671     SMC    M  nesovrazni  \n",
       "279      NaN    F  nesovrazni  \n",
       "2006     SMC    M  nesovrazni  "
      ]
     },
     "execution_count": 36,
     "metadata": {},
     "output_type": "execute_result"
    }
   ],
   "source": [
    "nesovrazniSedem.sample(5)"
   ]
  },
  {
   "cell_type": "code",
   "execution_count": 38,
   "id": "c1fa3d7e",
   "metadata": {},
   "outputs": [
    {
     "data": {
      "text/plain": [
       "'končali smo s predstavitvijo stališč poslanskih skupin. o predlogu sklepa, da predlog zakona ni primeren za nadaljnjo obravnavo, bomo v skladu s časovnim potekom seje zbora odločali jutri, . . , v okviru glasovanj. s tem prekinjam to točko dnevnega reda. prehajamo na . točko dnevnega reda prva obravnava predloga zakona o spremembah zakona o glavnem mestu republike slovenije. predlog zakona je v obravnavo državnemu zboru predložila vlada. v zvezi s tem predlogom zakona je skupina poslank in poslancev s prvopodpisanim gospodom jožetom tankom zahtevala, da državni zbor opravi splošno razpravo. za dopolnilno obrazložitev predloga zakona dajem besedo predstavniku vlade, državnemu sekretarju na ministrstvu za javno upravo dr. nejcu brezovarju.'"
      ]
     },
     "execution_count": 38,
     "metadata": {},
     "output_type": "execute_result"
    }
   ],
   "source": [
    "dfSedem.iloc[2006]['text']"
   ]
  },
  {
   "cell_type": "code",
   "execution_count": 39,
   "id": "6c3f4993",
   "metadata": {},
   "outputs": [
    {
     "data": {
      "text/plain": [
       "nesovrazni    2863\n",
       "sovrazni       294\n",
       "Name: hs, dtype: int64"
      ]
     },
     "execution_count": 39,
     "metadata": {},
     "output_type": "execute_result"
    }
   ],
   "source": [
    "dfOsem = pd.read_csv('dvaOsemnajst-crosloengualBERT-hatespeech.csv')\n",
    "dfOsem['hs'].value_counts()"
   ]
  },
  {
   "cell_type": "code",
   "execution_count": 86,
   "id": "9e6e6ee9",
   "metadata": {},
   "outputs": [],
   "source": [
    "sovrazniOsem = dfOsem[dfOsem['hs']=='sovrazni']"
   ]
  },
  {
   "cell_type": "code",
   "execution_count": 53,
   "id": "bda88fbd",
   "metadata": {},
   "outputs": [
    {
     "data": {
      "text/html": [
       "<div>\n",
       "<style scoped>\n",
       "    .dataframe tbody tr th:only-of-type {\n",
       "        vertical-align: middle;\n",
       "    }\n",
       "\n",
       "    .dataframe tbody tr th {\n",
       "        vertical-align: top;\n",
       "    }\n",
       "\n",
       "    .dataframe thead th {\n",
       "        text-align: right;\n",
       "    }\n",
       "</style>\n",
       "<table border=\"1\" class=\"dataframe\">\n",
       "  <thead>\n",
       "    <tr style=\"text-align: right;\">\n",
       "      <th></th>\n",
       "      <th>text</th>\n",
       "      <th>leto</th>\n",
       "      <th>mesec</th>\n",
       "      <th>rojstvo</th>\n",
       "      <th>stranka</th>\n",
       "      <th>spol</th>\n",
       "      <th>hs</th>\n",
       "    </tr>\n",
       "  </thead>\n",
       "  <tbody>\n",
       "    <tr>\n",
       "      <th>1715</th>\n",
       "      <td>besedo ima poslanska skupina slovenske demokra...</td>\n",
       "      <td>2018</td>\n",
       "      <td>8</td>\n",
       "      <td>1983</td>\n",
       "      <td>NSi</td>\n",
       "      <td>M</td>\n",
       "      <td>sovrazni</td>\n",
       "    </tr>\n",
       "    <tr>\n",
       "      <th>517</th>\n",
       "      <td>bom dopolnila svoj odgovor tudi s tem dodatnim...</td>\n",
       "      <td>2018</td>\n",
       "      <td>2</td>\n",
       "      <td>-\\n</td>\n",
       "      <td>NaN</td>\n",
       "      <td>F</td>\n",
       "      <td>sovrazni</td>\n",
       "    </tr>\n",
       "    <tr>\n",
       "      <th>2340</th>\n",
       "      <td>nisem tega rekel. jaz sem samo prosil za lepše...</td>\n",
       "      <td>2018</td>\n",
       "      <td>10</td>\n",
       "      <td>1947</td>\n",
       "      <td>NaN</td>\n",
       "      <td>M</td>\n",
       "      <td>sovrazni</td>\n",
       "    </tr>\n",
       "    <tr>\n",
       "      <th>1756</th>\n",
       "      <td>besedo ima poslanec mag. branislav rajić.</td>\n",
       "      <td>2018</td>\n",
       "      <td>8</td>\n",
       "      <td>1983</td>\n",
       "      <td>NSi</td>\n",
       "      <td>M</td>\n",
       "      <td>sovrazni</td>\n",
       "    </tr>\n",
       "    <tr>\n",
       "      <th>384</th>\n",
       "      <td>besedo ima državna sekretarka na ministrstvu z...</td>\n",
       "      <td>2018</td>\n",
       "      <td>2</td>\n",
       "      <td>1967</td>\n",
       "      <td>SMC</td>\n",
       "      <td>M</td>\n",
       "      <td>sovrazni</td>\n",
       "    </tr>\n",
       "  </tbody>\n",
       "</table>\n",
       "</div>"
      ],
      "text/plain": [
       "                                                   text  leto  mesec rojstvo  \\\n",
       "1715  besedo ima poslanska skupina slovenske demokra...  2018      8    1983   \n",
       "517   bom dopolnila svoj odgovor tudi s tem dodatnim...  2018      2     -\\n   \n",
       "2340  nisem tega rekel. jaz sem samo prosil za lepše...  2018     10    1947   \n",
       "1756          besedo ima poslanec mag. branislav rajić.  2018      8    1983   \n",
       "384   besedo ima državna sekretarka na ministrstvu z...  2018      2    1967   \n",
       "\n",
       "     stranka spol        hs  \n",
       "1715     NSi    M  sovrazni  \n",
       "517      NaN    F  sovrazni  \n",
       "2340     NaN    M  sovrazni  \n",
       "1756     NSi    M  sovrazni  \n",
       "384      SMC    M  sovrazni  "
      ]
     },
     "execution_count": 53,
     "metadata": {},
     "output_type": "execute_result"
    }
   ],
   "source": [
    "sovrazniOsem.sample(5)"
   ]
  },
  {
   "cell_type": "code",
   "execution_count": 87,
   "id": "94dfbca0",
   "metadata": {},
   "outputs": [
    {
     "data": {
      "text/plain": [
       "M    241\n",
       "F     53\n",
       "Name: spol, dtype: int64"
      ]
     },
     "execution_count": 87,
     "metadata": {},
     "output_type": "execute_result"
    }
   ],
   "source": [
    "sovrazniOsem['spol'].value_counts()"
   ]
  },
  {
   "cell_type": "code",
   "execution_count": 88,
   "id": "9d92325d",
   "metadata": {},
   "outputs": [
    {
     "data": {
      "text/plain": [
       "SMC       87\n",
       "SD        50\n",
       "NSi       49\n",
       "SDS       29\n",
       "LMŠ       21\n",
       "DeSUS     17\n",
       "Levica    12\n",
       "SAB        7\n",
       "SNS        3\n",
       "Name: stranka, dtype: int64"
      ]
     },
     "execution_count": 88,
     "metadata": {},
     "output_type": "execute_result"
    }
   ],
   "source": [
    "sovrazniOsem['stranka'].value_counts()"
   ]
  },
  {
   "cell_type": "code",
   "execution_count": 89,
   "id": "10ab6afb",
   "metadata": {},
   "outputs": [
    {
     "data": {
      "text/plain": [
       "1967    88\n",
       "1983    47\n",
       "1980    29\n",
       "1986    16\n",
       "-\\n     14\n",
       "1956    13\n",
       "1972     8\n",
       "1960     7\n",
       "1962     6\n",
       "1953     6\n",
       "1947     5\n",
       "1974     5\n",
       "1963     4\n",
       "1945     4\n",
       "1969     3\n",
       "1957     3\n",
       "1976     3\n",
       "1979     3\n",
       "1970     3\n",
       "1965     3\n",
       "1971     2\n",
       "1964     2\n",
       "1990     2\n",
       "1978     2\n",
       "1958     2\n",
       "1987     2\n",
       "1959     2\n",
       "1946     2\n",
       "1989     2\n",
       "1944     1\n",
       "1985     1\n",
       "1952     1\n",
       "1973     1\n",
       "1975     1\n",
       "1948     1\n",
       "Name: rojstvo, dtype: int64"
      ]
     },
     "execution_count": 89,
     "metadata": {},
     "output_type": "execute_result"
    }
   ],
   "source": [
    "sovrazniOsem['rojstvo'].value_counts()"
   ]
  },
  {
   "cell_type": "code",
   "execution_count": 54,
   "id": "ebfd5f12",
   "metadata": {},
   "outputs": [
    {
     "data": {
      "text/plain": [
       "'nisem tega rekel. jaz sem samo prosil za lepše izrazoslovje, če zmorete.'"
      ]
     },
     "execution_count": 54,
     "metadata": {},
     "output_type": "execute_result"
    }
   ],
   "source": [
    "dfOsem.iloc[2340]['text']"
   ]
  },
  {
   "cell_type": "code",
   "execution_count": 90,
   "id": "5da4d41e",
   "metadata": {},
   "outputs": [],
   "source": [
    "nesovrazniOsem = dfOsem[dfOsem['hs']=='nesovrazni']"
   ]
  },
  {
   "cell_type": "code",
   "execution_count": 41,
   "id": "cd6acb9e",
   "metadata": {},
   "outputs": [
    {
     "data": {
      "text/html": [
       "<div>\n",
       "<style scoped>\n",
       "    .dataframe tbody tr th:only-of-type {\n",
       "        vertical-align: middle;\n",
       "    }\n",
       "\n",
       "    .dataframe tbody tr th {\n",
       "        vertical-align: top;\n",
       "    }\n",
       "\n",
       "    .dataframe thead th {\n",
       "        text-align: right;\n",
       "    }\n",
       "</style>\n",
       "<table border=\"1\" class=\"dataframe\">\n",
       "  <thead>\n",
       "    <tr style=\"text-align: right;\">\n",
       "      <th></th>\n",
       "      <th>text</th>\n",
       "      <th>leto</th>\n",
       "      <th>mesec</th>\n",
       "      <th>rojstvo</th>\n",
       "      <th>stranka</th>\n",
       "      <th>spol</th>\n",
       "      <th>hs</th>\n",
       "    </tr>\n",
       "  </thead>\n",
       "  <tbody>\n",
       "    <tr>\n",
       "      <th>2863</th>\n",
       "      <td>hvala lepa. predlagatelj, gospod jožef horvat....</td>\n",
       "      <td>2018</td>\n",
       "      <td>12</td>\n",
       "      <td>1953</td>\n",
       "      <td>DeSUS</td>\n",
       "      <td>M</td>\n",
       "      <td>nesovrazni</td>\n",
       "    </tr>\n",
       "    <tr>\n",
       "      <th>2578</th>\n",
       "      <td>gospod minister boštjan poklukar, imate besedo...</td>\n",
       "      <td>2018</td>\n",
       "      <td>11</td>\n",
       "      <td>1956</td>\n",
       "      <td>SDS</td>\n",
       "      <td>M</td>\n",
       "      <td>nesovrazni</td>\n",
       "    </tr>\n",
       "    <tr>\n",
       "      <th>1395</th>\n",
       "      <td>hvala, podpredsednik. seveda ne smemo pa pozab...</td>\n",
       "      <td>2018</td>\n",
       "      <td>5</td>\n",
       "      <td>1965</td>\n",
       "      <td>SMC</td>\n",
       "      <td>M</td>\n",
       "      <td>nesovrazni</td>\n",
       "    </tr>\n",
       "    <tr>\n",
       "      <th>783</th>\n",
       "      <td>poslanec jožef horvat, imate besedo, da obrazl...</td>\n",
       "      <td>2018</td>\n",
       "      <td>3</td>\n",
       "      <td>1967</td>\n",
       "      <td>SMC</td>\n",
       "      <td>M</td>\n",
       "      <td>nesovrazni</td>\n",
       "    </tr>\n",
       "    <tr>\n",
       "      <th>1945</th>\n",
       "      <td>hvala, gospod jelinčič, tudi za vaše stališče....</td>\n",
       "      <td>2018</td>\n",
       "      <td>8</td>\n",
       "      <td>1967</td>\n",
       "      <td>SD</td>\n",
       "      <td>M</td>\n",
       "      <td>nesovrazni</td>\n",
       "    </tr>\n",
       "  </tbody>\n",
       "</table>\n",
       "</div>"
      ],
      "text/plain": [
       "                                                   text  leto  mesec rojstvo  \\\n",
       "2863  hvala lepa. predlagatelj, gospod jožef horvat....  2018     12    1953   \n",
       "2578  gospod minister boštjan poklukar, imate besedo...  2018     11    1956   \n",
       "1395  hvala, podpredsednik. seveda ne smemo pa pozab...  2018      5    1965   \n",
       "783   poslanec jožef horvat, imate besedo, da obrazl...  2018      3    1967   \n",
       "1945  hvala, gospod jelinčič, tudi za vaše stališče....  2018      8    1967   \n",
       "\n",
       "     stranka spol          hs  \n",
       "2863   DeSUS    M  nesovrazni  \n",
       "2578     SDS    M  nesovrazni  \n",
       "1395     SMC    M  nesovrazni  \n",
       "783      SMC    M  nesovrazni  \n",
       "1945      SD    M  nesovrazni  "
      ]
     },
     "execution_count": 41,
     "metadata": {},
     "output_type": "execute_result"
    }
   ],
   "source": [
    "nesovrazniOsem.sample(5)"
   ]
  },
  {
   "cell_type": "code",
   "execution_count": 91,
   "id": "c082ff7f",
   "metadata": {},
   "outputs": [
    {
     "data": {
      "text/plain": [
       "M    2339\n",
       "F     524\n",
       "Name: spol, dtype: int64"
      ]
     },
     "execution_count": 91,
     "metadata": {},
     "output_type": "execute_result"
    }
   ],
   "source": [
    "nesovrazniOsem['spol'].value_counts()"
   ]
  },
  {
   "cell_type": "code",
   "execution_count": 92,
   "id": "cc32f319",
   "metadata": {},
   "outputs": [
    {
     "data": {
      "text/plain": [
       "SD        499\n",
       "SMC       491\n",
       "SDS       440\n",
       "DeSUS     415\n",
       "NSi       270\n",
       "LMŠ       222\n",
       "Levica    180\n",
       "SAB        67\n",
       "SNS        41\n",
       "Name: stranka, dtype: int64"
      ]
     },
     "execution_count": 92,
     "metadata": {},
     "output_type": "execute_result"
    }
   ],
   "source": [
    "nesovrazniOsem['stranka'].value_counts()"
   ]
  },
  {
   "cell_type": "code",
   "execution_count": 93,
   "id": "9446a011",
   "metadata": {},
   "outputs": [
    {
     "data": {
      "text/plain": [
       "1967    528\n",
       "1947    224\n",
       "1980    201\n",
       "1983    167\n",
       "1953    151\n",
       "-\\n     149\n",
       "1986    141\n",
       "1956    128\n",
       "1962    100\n",
       "1969     91\n",
       "1955     87\n",
       "1972     74\n",
       "1960     62\n",
       "1965     56\n",
       "1987     51\n",
       "1959     43\n",
       "1963     42\n",
       "1978     41\n",
       "1973     38\n",
       "1971     38\n",
       "1970     37\n",
       "1961     32\n",
       "1974     32\n",
       "1990     31\n",
       "1979     29\n",
       "1989     26\n",
       "1976     25\n",
       "1948     25\n",
       "1958     25\n",
       "1945     24\n",
       "1957     22\n",
       "1952     21\n",
       "1964     18\n",
       "1975     14\n",
       "1977     14\n",
       "1985     13\n",
       "1984     13\n",
       "1968     12\n",
       "1981     10\n",
       "1954      7\n",
       "1944      6\n",
       "1982      5\n",
       "1946      4\n",
       "1949      4\n",
       "1951      2\n",
       "Name: rojstvo, dtype: int64"
      ]
     },
     "execution_count": 93,
     "metadata": {},
     "output_type": "execute_result"
    }
   ],
   "source": [
    "nesovrazniOsem['rojstvo'].value_counts()"
   ]
  },
  {
   "cell_type": "code",
   "execution_count": 55,
   "id": "bced7f8a",
   "metadata": {},
   "outputs": [
    {
     "data": {
      "text/plain": [
       "'gospod minister boštjan poklukar, imate besedo za odgovor.'"
      ]
     },
     "execution_count": 55,
     "metadata": {},
     "output_type": "execute_result"
    }
   ],
   "source": [
    "dfOsem.iloc[2578]['text']"
   ]
  },
  {
   "cell_type": "code",
   "execution_count": 56,
   "id": "48df7e71",
   "metadata": {},
   "outputs": [
    {
     "data": {
      "text/plain": [
       "nesovrazni    2890\n",
       "sovrazni       139\n",
       "Name: hs, dtype: int64"
      ]
     },
     "execution_count": 56,
     "metadata": {},
     "output_type": "execute_result"
    }
   ],
   "source": [
    "dfDevet = pd.read_csv('dvaDevetnajst-crosloengualBERT-hatespeech.csv')\n",
    "dfDevet['hs'].value_counts()"
   ]
  },
  {
   "cell_type": "code",
   "execution_count": 94,
   "id": "58049a93",
   "metadata": {},
   "outputs": [],
   "source": [
    "sovrazniDevet = dfDevet[dfDevet['hs']=='sovrazni']"
   ]
  },
  {
   "cell_type": "code",
   "execution_count": 57,
   "id": "6ebd6c58",
   "metadata": {},
   "outputs": [
    {
     "data": {
      "text/html": [
       "<div>\n",
       "<style scoped>\n",
       "    .dataframe tbody tr th:only-of-type {\n",
       "        vertical-align: middle;\n",
       "    }\n",
       "\n",
       "    .dataframe tbody tr th {\n",
       "        vertical-align: top;\n",
       "    }\n",
       "\n",
       "    .dataframe thead th {\n",
       "        text-align: right;\n",
       "    }\n",
       "</style>\n",
       "<table border=\"1\" class=\"dataframe\">\n",
       "  <thead>\n",
       "    <tr style=\"text-align: right;\">\n",
       "      <th></th>\n",
       "      <th>text</th>\n",
       "      <th>leto</th>\n",
       "      <th>mesec</th>\n",
       "      <th>rojstvo</th>\n",
       "      <th>stranka</th>\n",
       "      <th>spol</th>\n",
       "      <th>hs</th>\n",
       "    </tr>\n",
       "  </thead>\n",
       "  <tbody>\n",
       "    <tr>\n",
       "      <th>414</th>\n",
       "      <td>hvala lepa, predsednik. jaz sem optimist, verj...</td>\n",
       "      <td>2019</td>\n",
       "      <td>3</td>\n",
       "      <td>1976</td>\n",
       "      <td>SDS</td>\n",
       "      <td>M</td>\n",
       "      <td>sovrazni</td>\n",
       "    </tr>\n",
       "    <tr>\n",
       "      <th>1633</th>\n",
       "      <td>zaradi domnevnih zlorab bodo s tem ukrepom pla...</td>\n",
       "      <td>2019</td>\n",
       "      <td>7</td>\n",
       "      <td>1983</td>\n",
       "      <td>Levica</td>\n",
       "      <td>M</td>\n",
       "      <td>sovrazni</td>\n",
       "    </tr>\n",
       "    <tr>\n",
       "      <th>2422</th>\n",
       "      <td>ja, enako kot pri ostalih objektih, kjer je tr...</td>\n",
       "      <td>2019</td>\n",
       "      <td>10</td>\n",
       "      <td>1980</td>\n",
       "      <td>NaN</td>\n",
       "      <td>M</td>\n",
       "      <td>sovrazni</td>\n",
       "    </tr>\n",
       "    <tr>\n",
       "      <th>2953</th>\n",
       "      <td>najlepša hvala. najprej, vesela sem, da je slu...</td>\n",
       "      <td>2019</td>\n",
       "      <td>12</td>\n",
       "      <td>1970</td>\n",
       "      <td>NaN</td>\n",
       "      <td>F</td>\n",
       "      <td>sovrazni</td>\n",
       "    </tr>\n",
       "    <tr>\n",
       "      <th>935</th>\n",
       "      <td>hvala, gospod poslanec. besedo ima predstavnik...</td>\n",
       "      <td>2019</td>\n",
       "      <td>5</td>\n",
       "      <td>1967</td>\n",
       "      <td>SD</td>\n",
       "      <td>M</td>\n",
       "      <td>sovrazni</td>\n",
       "    </tr>\n",
       "  </tbody>\n",
       "</table>\n",
       "</div>"
      ],
      "text/plain": [
       "                                                   text  leto  mesec rojstvo  \\\n",
       "414   hvala lepa, predsednik. jaz sem optimist, verj...  2019      3    1976   \n",
       "1633  zaradi domnevnih zlorab bodo s tem ukrepom pla...  2019      7    1983   \n",
       "2422  ja, enako kot pri ostalih objektih, kjer je tr...  2019     10    1980   \n",
       "2953  najlepša hvala. najprej, vesela sem, da je slu...  2019     12    1970   \n",
       "935   hvala, gospod poslanec. besedo ima predstavnik...  2019      5    1967   \n",
       "\n",
       "     stranka spol        hs  \n",
       "414      SDS    M  sovrazni  \n",
       "1633  Levica    M  sovrazni  \n",
       "2422     NaN    M  sovrazni  \n",
       "2953     NaN    F  sovrazni  \n",
       "935       SD    M  sovrazni  "
      ]
     },
     "execution_count": 57,
     "metadata": {},
     "output_type": "execute_result"
    }
   ],
   "source": [
    "sovrazniDevet.sample(5)"
   ]
  },
  {
   "cell_type": "code",
   "execution_count": 95,
   "id": "101da229",
   "metadata": {},
   "outputs": [
    {
     "data": {
      "text/plain": [
       "M    102\n",
       "F     37\n",
       "Name: spol, dtype: int64"
      ]
     },
     "execution_count": 95,
     "metadata": {},
     "output_type": "execute_result"
    }
   ],
   "source": [
    "sovrazniDevet['spol'].value_counts()"
   ]
  },
  {
   "cell_type": "code",
   "execution_count": 96,
   "id": "1a55c720",
   "metadata": {},
   "outputs": [
    {
     "data": {
      "text/plain": [
       "SDS       22\n",
       "SD        15\n",
       "Levica    14\n",
       "LMŠ       12\n",
       "DeSUS     12\n",
       "SAB       10\n",
       "SMC        8\n",
       "NSi        7\n",
       "SNS        5\n",
       "Name: stranka, dtype: int64"
      ]
     },
     "execution_count": 96,
     "metadata": {},
     "output_type": "execute_result"
    }
   ],
   "source": [
    "sovrazniDevet['stranka'].value_counts()"
   ]
  },
  {
   "cell_type": "code",
   "execution_count": 97,
   "id": "1d47dd19",
   "metadata": {},
   "outputs": [
    {
     "data": {
      "text/plain": [
       "-\\n     22\n",
       "1967    13\n",
       "1979    10\n",
       "1980     9\n",
       "1989     7\n",
       "1969     7\n",
       "1960     7\n",
       "1956     5\n",
       "1986     5\n",
       "1974     5\n",
       "1958     5\n",
       "1970     5\n",
       "1972     4\n",
       "1962     4\n",
       "1990     3\n",
       "1977     3\n",
       "1953     3\n",
       "1964     2\n",
       "1978     2\n",
       "1975     2\n",
       "1983     2\n",
       "1952     2\n",
       "1965     2\n",
       "1971     2\n",
       "1991     1\n",
       "1973     1\n",
       "1961     1\n",
       "1976     1\n",
       "1957     1\n",
       "1959     1\n",
       "1948     1\n",
       "1987     1\n",
       "Name: rojstvo, dtype: int64"
      ]
     },
     "execution_count": 97,
     "metadata": {},
     "output_type": "execute_result"
    }
   ],
   "source": [
    "sovrazniDevet['rojstvo'].value_counts()"
   ]
  },
  {
   "cell_type": "code",
   "execution_count": 59,
   "id": "b23c1168",
   "metadata": {},
   "outputs": [
    {
     "data": {
      "text/plain": [
       "'hvala lepa, predsednik. jaz sem optimist, verjamem v moč parlamentarne razprave, kar pomeni, da so poslanci samostojne osebe, ki se, ko sedejo za poslanske klopi, odločijo na podlagi argumentov, ne pa na podlagi partijske discipline oziroma na podlagi tega, ker jim izvršilna veja oblasti zaukaže. parlamentarna veja oblasti je druga veja oblasti in mislim, da se moramo poslanci tega zelo dobro zavedati. praktično iz vseh poslanskih skupin sem slišal pritrdilo temu, da so invalidske pokojnine prenizke, praktično od vseh. bilo je veliko zamegljevanja in iskanja razlogov, zakaj nekega predloga ne bi potrdili, ampak v glavnem se vsi strinjamo, da je temu tako. spomnite se razprave iz novembra, ko je bil na mizi predlog, da se dvigne denarna socialna pomoč, in sicer na raven , evra. ključni argument ali pa glavni argument vlade in predlagateljev je bil ravno ta, da je to minimum od minimuma za sicer nedostojno, ampak še življenje v republiki sloveniji. pod tem je nesprejemljivo, verjetno se s tem vsi strinjamo, pod tem zneskom je nesprejemljivo. zdaj pa prihajamo do ene zanimive situacije. nekdo, ki ne dela pa nima niti enega dneva delovne dobe, dobi evrov nekdo, ki zaradi svoje invalidnosti ne more delati, pa ne dobi evrov. zdaj mi pa povejte, zakaj smo poslanci poklicani na tem svetu. zato da to neskladje uravnamo in spravimo v normalne okvire, kolikor se da. in vsi se tega zavedamo, tudi vlada se tega zaveda, ampak zdaj manjka samo še tista druga stvar samostojnost poslancev, da bi ravnali tako, kot je prav. ne tako, kot eksekutivna veja oblasti reče, ampak tako, kot je prav, kot so tisti, ki so vas izvolili, rekli. veste, kakšno situacijo imamo danes? imamo približno takšno situacijo, da se nekdo utaplja pred nami v morju, utaplja se, vizualizirajte to, utaplja se pred nami. mi želimo skočiti notri in utapljajočega rešiti. pa pride zraven državni sekretar z ministrstva za delo in nam reče veste kaj, tam je pa znak, da je prepovedano plavati. in poleg tega še doda tako ali tako čez dve uri in pol pride trajekt, ki ima rešilni čoln. vi bi pa gledali. trajekt je sistemska rešitev, ker ima rešilni čoln. znak, da je prepovedano plavati pa kljub temu je plaval in se utaplja, sam si je kriv , je pa to, da bo sprejetje tega predloga prineslo nove krivice. dajte no! rešilo bo tisočim ljudem krivico, ki se jim z vsakim dnem, z vsakim mesecem dogaja. kot sem rekel, pravimo, da je evrov minimum, tukaj imamo pa tiste, ki ne morejo nič, ker ne morejo delati, ker so invalidi in jim je treba zagotoviti teh evrov. tu imam poročilo odbora k predlogu zakona o spremembi zakona o socialnih varstvenih prejemkih, torej o tisti denarni socialni pomoči, o kateri ste razpravljali novembra, da se dvigne na evrov. pa bom prebral samo nekaj izjav iz tistega časa. citiram člani odbora so opozorili, da je potrebno poskrbeti tudi za druge ranljive skupine prebivalstva, ki imajo najnižje prejemke, nizke pokojnine, invalidske pokojnine. ali ste govorili to takrat? ste. mi to predlagamo. naprej. s strani poslanske skupine liste marjana šarca je bil predlagan sklep o zagotovitvi ustreznega povišanja predčasnih in starostnih pokojnin, nižjih od osnovnega zneska minimalnega dohodka, na raven minimalnega dohodka. lista marjana šarca je že sama takrat ugotovila, da so pokojnine nižje od tega in da je treba to dvigniti. takrat ste to predlagali. to se predlaga v nekem drugem zakonu. mi smo to predlagali zdaj, tudi na podlagi tega, kar ste vi rekli ob tisti razpravi novembra. predstavnica poslanske skupine socialnih demokratov je povedala, da njihova poslanska skupina predlogu zakona ne bo nasprotovala, zavedajo pa se, da ob tem prihaja do nesorazmerij. je opozorila na nesorazmernost, pa je kljub temu potrdila ta zakon in dodala prav tako je potrebna sprememba zakona o pokojninskem in invalidskem zavarovanju, ravno zaradi teh razlik, ki pri tem nastanejo. mi smo to pripravili in smo vložili v proceduro. naprej je bila pa še razprava glede amandmaja poslanske skupine sds, ko smo želeli že v tisti fazi to rešiti, s katerim je predlagan potreben uskladitveni dodatek za upokojence, in je večina razpravljavcev menila, da je treba različne tematike urejati z različnimi zakoni, v tem primeru zakon o pokojninskem in invalidskem zavarovanju. zato amandma ni dobil podpore. takrat ste rekli, da zato. zdaj smo to dali v zakon o invalidskem in pokojninskem zavarovanju. kaj pa zdaj pravite? vse argumente, izraz sprave, ko ste dvignili socialne prejemke, smo uporabili za to, da smo pripravili ta zakon in če bi sledil po tistih besedah takrat, je danes jasen ja z vaše strani za ta predlog zakona, ne pa ne . pa pojdimo na to, kaj izvršilna veja oblasti, torej vlada, pravi, zakaj oni vam nalagajo, da ne podpreti tega predloga zakona. vlada republike slovenije se zaveda težkega socialnega položaja, v katerem so nekateri prejemniki invalidske pokojnine. se zaveda in pove, da samo nekateri, torej ne vsi, nekateri. če so nekateri, je to sistemskost ali nesistemskost? ljuba vlada, to je nesistemskost. če dopuščate, da so nekateri prejemniki invalidske pokojnine v zelo težkem položaju, težjem, kot bi si mi lahko privoščili, je to nesistemskost. in je nesistemsko puščati, da je tako ne pa nasprotovati rešitvi, ki to odpravlja. vendar pa meni, da problematike ni primerno reševati parcialno in zgolj za nekatere posameznike znotraj sistema. še enkrat, utaplja se. utaplja se invalid z evri na mesec, ki ne more delati vi pa pravite, znak je, da ne sme plavati tukaj, pa še pomoč pride čez dve uri s trajektom. naprej nasprotuje predlogu zakona, saj le ta ruši razmerja, ki so vzpostavljena pri višini priznavanih pravic in to na neustrezen način. dajte no! tisoč ljudi pri korpusu tisoč upokojencev tu ruši sitem. manj kot jih je, pa to ruši sistem. v ničemer ne ruši sistema vzpostavlja ga. vzpostavlja ga, ker dviga ali pa vrača dostojanstvo tistim, ki ste jim ga vzeli, ker imajo nedopustno nizke prihodke, na kar vsi tukaj v tej dvorani pristajajo. naprej. vlada še meni, da ni smiselno niti pravično dvigovati pravic zgolj nekaterim prejemnikov pravic iz zavarovanja, temveč je potrebno najti ustrezno rešitev za vse prejemnike na način, ki bo ohranjal ustrezna razmerja med temi upravičenci. pod črto, dajmo razpravljati, dajmo nič narediti, dajmo počakati. da je to res, priča izjava državnega sekretarja božiča, ki pravi, da se oblikuje delovna skupina, da se bodo ustvarjala pogajanja, velika razprava, da bodo izračuni, da ne bo napak. krasno, super, ampak medtem se človek utaplja. medtem se človek utaplja. ko ste sprejemali tik pred volitvami, vi ste bili državni sekretar na ministrstvu za finance, denarno socialno pomoč, takrat ste takole naredili en, dva, tri, zakon je prišel, ker je levica predlagala in ste vi sprejeli. en, dva, tri, brez razprave, ni bilo nobenih računov. prej ste rekli, da tega ne boste podprli, ker morate dobro premisliti, da se ne bi zgodila kakšna dodatna krivičnost. tukaj se vam je zgodila krivičnost zaradi tistega predloga takrat, pa niste nič pomišljali. danes pa za tisoč ljudi ne želite reagirati, kot pravite, da je treba dobro premisliti, da ne bo prišlo do kakšne krivičnosti. krivičnost se dogaja danes, zdaj, v tem trenutku, vsak mesec, ko ne uravnavate oziroma ko ne dvignete teh minimalnih invalidskih pokojnin na raven vsaj tistega minimuma, ki ste ga sami dorekli tukaj, v državnem zboru, pri denarni socialni pomoči. naprej v kolikor bi se za vse invalidske upokojence določilo prejemanje invalidske pokojnine v višini osnovnega zneska minimalnega dohodka, bi se porušila razmerja, ki obstajajo pri pravicah iz pokojninskega in invalidskega zavarovanja, kar pa ni ustrezno. dajte no! ni ustrezno to, kar je zdaj. to ni ustrezno! zakaj ste vi? zaradi zakonov ali zaradi ljudi. vi ste zato, da predlagate zakona, ki jih v državnem zboru sprejmemo za ljudi, ne pa da spreminjate zakone oziroma ne spreminjate zakonov, ker pravite, da to ne bi bilo ustrezno, čeprav je rezultat teh zakonov neustrezen. to si moramo priznati. rezultat je neustrezen in treba ga je rešiti, človek se utaplja, še enkrat povem. naprej pravite vlada republike slovenije pojasnjuje še, da se prejemniki invalidskih pokojnin ne štejejo za brezposelne osebe in zato ne more biti prijavljen pri zavodu za zaposlovanje, saj invalidsko pokojnino prejemajo ravno iz razloga, ker zaradi nastopa invalidnosti niso več zmožni za delo v obsegu, da bi s svojim delom še lahko zagotavljali sredstva za preživetje. torej so odvisni zgolj od svoje pokojnine, od socialne države vi pa deset tisočim tega ne daste. to je vaša odgovornost oziroma, spoštovani poslanci, to je naša odgovornost, ker vlada je tukaj odpovedala. to je naša odgovornost in mi smo tisti, ki smo sedaj očitno poklicani, da te krivice rešimo. spoštovana vlada, razložite mi ta stavek v vašem mnenju, ki zavrača ta predlog zakona, ki ga res ne razumem, vsaj upam, da ga ne razumem, ker drugače ste pa izgubili vse moje spoštovanje, to pa res. ga bom prebral, kolegi, če vi to tudi razumete. ne nazadnje pojasnjujemo tudi, da ni nujno, da nekateri posamezniki resnično niso sami krivi, da niso imeli zadosti pokojninske dobe, ker je pri njih nastopila invalidnost kaj hočete reči, da so invalidi sami krivi, da nimajo dovolj pokojninske dobe, ali ste to hoteli reči, ali kaj pa ste zavili v trikratno nikalnico? razložite mi ta zakon. kaj ste s tem zakonom hoteli povedati, zakaj ne podpirate tega zakona? oprostite, če ste na to nakazali, pa ste šli močno preko meje še posebej zato, ker vi osebno pa tudi ministrica prihajate iz tako imenovane moralno etične bivše vlade. naj se še navežem na tisto, na kar je opozoril tudi državni sekretar božič, ko je rekel, da mogoče je pa dobro, da je opomnik za koalicijo od liste marjana šarca prišel tudi do ostalih poslancev. ja, na nek način je dobro, glede na to, da vse vaše sugestije vlade koalicijski poslanci upoštevajo, da bodo tudi vnaprej upoštevali in bodo vse opomnike za zakone, ki se jih predlaga, poslali tudi nam, ostalim poslancem, da bomo videli kakšen mindset, kako razmišljajo koalicijski poslanci. bo to kar dobro. ja, se priporočam za isto, ampak preletimo še ta opomnik, ki ste ga dobili za današnjo odločanje, da bi upravičili svoj glas ne predlogu o spremembi pokojninske zakonodaje, da bi tudi invalidski upokojenci dobili vsaj tisti minimum evrov. pravite takole zakon o pokojninskem in invalidskem zavarovanju iz leta je predstavljal sistemsko rešitev, v vmesnem času se je še dopolnjeval, a se ni nikoli dotaknil urejanja invalidskih upokojencev. prihodki le teh so bistveno manjši od višine mesečnega prihodka, ki meji na prag revščine. ali čutite težo teh besed? prihodki le teh so bistveno manjši od višine mesečnega prihodka, ki meji na prag tveganja revščine. to ste izvedeli tudi koalicijski poslanci iz opomnika. boste prisluhnili vladi, ki vam reče, da tega potem ne rešiti? boste prisluhnili vladi, ko vam v vašem opomniku jasno povedo, da ti ljudje s temi sredstvi ne morejo živeti? še enkrat, utapljajo se. sami to ugotavljali. naprej dogovorjeno je bilo tudi, da ministrstvo za delo, družino in socialne zadeve pošlje argumente proti predlaganemu zakonu. njih morate prositi, vlado, da vam pošljejo predloge, ki jih boste vi tukaj uporabili, da boste nasprotovali temu zakonu. pa kaj ste vi samostojna veja oblasti ali pa ste podaljšana roka vlade ali ministrstva?! ali si sami ne znate izmisliti argumentov proti in morate zato spraševati eksekutivno vejo oblasti, torej vlado, da vam pošlje te argumente? oprostite, ampak to je poden parlamentarizma, da morate vlado spraševati za argumente, ki naj jih tukaj uporabljate proti predlogu zakona, ki rešuje tisoč ljudi in nima barvne oznake oziroma se je ne da vezati na eno ali drugo politično opcijo. in kaj je sedaj ministrstvo naumilo, res naumilo? recimo, kaj bi lahko vi povedali po predlogu ministrstva danes tukaj. predlagane rešitve bi rušile razmerja, ki so vzpostavljena pri višini priznavanja pravic. spoštovani, govorimo o minimalnih standardih. o standardih, glede katerih smo se že vsi uskladili, da pod to ne more iti. nekateri so pa še vedno pod tem. ta argument je prazen. predlog bi pomenil uvedbo uravnilovke v pokojninskem sistemu. ali veste, kaj pomeni uravnilovka? uravnilovka pomeni mejo navzgor, da nihče ne presega tega. navzdol so minimalni standardi. vsi se strinjamo za minimalne standarde, do katerih so upravičeni tudi invalidi, ne samo brezposelni, ampak tudi invalidi. tudi ta argument je prazen. recimo, posamezniki, ki nimajo statusa delovnega invalida, v primeru izgube zaposlitve nimajo nobenih prejemkov iz pokojninskega sistema, dokler ne izpolnijo pogojev starosti, čeprav so morebiti socialno ogroženi in so plačevali v sistem dolgo obdobje. ampak, veste, oni imajo eno bistveno prednost, zato je to neprimerljivo. oni niso invalidi. oni niso invalidi. bistvena prednost. in če gremo naprej, to ste pa danes uporabljali, ste kupili argument, ki vam ga je vlada pripravila. na konkretnem primeru bi to pomenilo, da v primeru, ko je nekdo, ki je v pokojninsko blagajno prispeval let pred invalidsko upokojitvijo, drugi pa samo eno leto v primeru upokojitve pri enaki starosti, bi bil prvi prikrajšan, ker je vplačeval, drugi pa samo eno leto, pa je upravičen do invalidske pokojnine. veste, kaj je kruta resnica? da bi ta drugi vse dal za to, da bi let vplačeval, vse bi dal, verjemite. vse. in je prikrajšan, ker je lahko samo eno leto vplačeval. nekateri še celo nič. jaz imam v družini nekoga, ki ni nič vplačeval v to, in vem, kako je to. to niso tako enostavne zadeve. in na tak jezik spraviti zakon, ki ga je nujno sprejeti, oprostite, ga najlepše povzamejo besede, ki jih pod odstavkom oziroma naslovom argumenti proti sprejetju zakona zapiše poslanska skupina lmš v svojem opomniku in se bere takole predlog zakona, ki ga imamo pred sabo, manifestira neenakost. ali si vi predstavljate to izrazoslovje. predlog zakona, ki ga imamo pred sabo, manifestira neenakost. manifestira neenakost to, kar imamo danes, da ima invalidsko upokojen ki je vsaj nekaj časa plačeval ali pa tudi če ni nič plačeval, ker je, kot sami ugotavljate, nezmožen za delo, ne more nič spremeniti, je odvisen samo od socialne države, je invalid , nižjo pokojnino kot nekdo, ki ne dela, pa je delovno sposoben pa bo lahko delal. to je sistemska neenakost. to je tista neenakost. in to je manifestacija, da ohranjamo tak sistem, manifestacija neenakosti. to je treba rešiti nemudoma. ti ljudje se, kot sem rekel, utapljajo. in da bo mera polna pa potem to, zaradi česar sem malce manj optimističen, kot sem bil na začetku, bom rekel, kar razočaran, je razlog, mislim, da je bil tudi že predhodno povedan, zaradi katerega zavračate ta zakon na usklajevanjih je bilo dogovorjeno, da se predlog zakona zavrne, saj zavira sprejemanje novele zpiz, s katero želi vlada razbremeniti regres. ali veste, kaj sedaj to pomeni? tisti, ki že imajo pa bodo še malo večji regres imeli, so tako vredni za vlado, ker nosijo priljubljenost, volilne glasove da tistih tisoč, ki ne more živeti, ki imajo nižjo pokojnino od minimalnih standardov, ni upravičenih, da se jim predhodno reši situacija. niso upravičeni po vašem mnenju, samo zato, da bi tisti regres zvišali, da bi rekli evo, javnim uslužbencem smo plače zvišali, dali smo regres, super, glejte, koliko smo dobri, še drugo tranšo bodo novembra dobili, koliko smo mi dobri. teh tisoč ljudi, ki se utaplja, je pa za vas nepomembnih. ne zaradi vsebine, vi zaradi postopka zavračate ta predlog zakona, ker bi malce kasneje prišel v veljavo ali pa če mi to pohitimo, lahko ena, dva, tri naredimo, niti ni nujno, da bi kaj zavračali. in ta argument, češ da vi imate že novelo zakona o pokojninskem in invalidskem zavarovanju, ki to spreminja, da tam vse rešuje krasno, super. ampak naš predlog v ničemer ne zavira tega, samo izhodišče bo rahlo drugačno, da za tisoč ljudi ne bo treba več spreminjati te zadeve, vse ostalo pa je isto. torej ni ne vsebinskega ne proceduralnega razloga, da ste proti. mislim, da je to eden tistih zakonov, ki ga je pač enostavno treba podpreti v tem državnem zboru, če želi državni zbor ohraniti neko integriteto, ki mu gre, in če je to zbor izvoljencev ljudstva, ki zagovarjajo ljudi. če je, potem enostavno ta zakon mora sprejeti. in ne morem se čuditi gospodu lepu iz poslanske skupine desus, desus stranka upokojencev, ki pravi, ga citiram, to sem si moral zapisati, ker je bila iz vesolja ta misel ni pa ga primerno s tako lahkoto sprejeti. ne ni ga primerno, nujno ga je sprejeti, nujno, z lahkoto. in to je eden tistih zakonov, pri katerem mislim, da je treba po glasovanju za ta zakon javno objaviti tiste, ki so glasovali proti temu predlogu zakona. redko to rečem, ampak pri tem zakonu je pa res treba, ker nikomur nič ne jemlje, nikomur nič ne jemlje, izenačuje ali pa vsaj prinaša tisto minimalno poštenost, upošteva vsa načela, ki ste jih predstavniki različnih poslanskih skupin v državnem zboru v preteklih razpravah predlagali in je zelo enostaven in hitro sprejet. in tisti, ki bo glasoval proti temu zakonu, mislim, da je ta imena res treba objaviti iz enega preprostega razloga, ker morate stati za svojimi dejanji. in to je eno od tistih dejanj, ki vas loči od tega, ali se to, kar imate v programu, kar obljubljate ali kar v predhodnih razpravah v državnem zboru rečete, potem tudi udejanji pri vašem glasovanju ali pa samo blefirate in delate to, kar vam vlada predlaga. potem ste pa tu res samo glasovalni stroj, daleč nasproti tistega, za kar se posamezne stranke v sicer javnih nastopih zavzemate. hvala.'"
      ]
     },
     "execution_count": 59,
     "metadata": {},
     "output_type": "execute_result"
    }
   ],
   "source": [
    "dfDevet.iloc[414]['text']"
   ]
  },
  {
   "cell_type": "code",
   "execution_count": 98,
   "id": "803b6813",
   "metadata": {},
   "outputs": [],
   "source": [
    "nesovrazniDevet = dfDevet[dfDevet['hs']=='nesovrazni']"
   ]
  },
  {
   "cell_type": "code",
   "execution_count": 58,
   "id": "78346a66",
   "metadata": {},
   "outputs": [
    {
     "data": {
      "text/html": [
       "<div>\n",
       "<style scoped>\n",
       "    .dataframe tbody tr th:only-of-type {\n",
       "        vertical-align: middle;\n",
       "    }\n",
       "\n",
       "    .dataframe tbody tr th {\n",
       "        vertical-align: top;\n",
       "    }\n",
       "\n",
       "    .dataframe thead th {\n",
       "        text-align: right;\n",
       "    }\n",
       "</style>\n",
       "<table border=\"1\" class=\"dataframe\">\n",
       "  <thead>\n",
       "    <tr style=\"text-align: right;\">\n",
       "      <th></th>\n",
       "      <th>text</th>\n",
       "      <th>leto</th>\n",
       "      <th>mesec</th>\n",
       "      <th>rojstvo</th>\n",
       "      <th>stranka</th>\n",
       "      <th>spol</th>\n",
       "      <th>hs</th>\n",
       "    </tr>\n",
       "  </thead>\n",
       "  <tbody>\n",
       "    <tr>\n",
       "      <th>1808</th>\n",
       "      <td>spoštovani, hvala lepa za besedo. pred vami je...</td>\n",
       "      <td>2019</td>\n",
       "      <td>7</td>\n",
       "      <td>-\\n</td>\n",
       "      <td>NaN</td>\n",
       "      <td>F</td>\n",
       "      <td>nesovrazni</td>\n",
       "    </tr>\n",
       "    <tr>\n",
       "      <th>1387</th>\n",
       "      <td>spoštovana poslanka, zdaj lahko predložim sezn...</td>\n",
       "      <td>2019</td>\n",
       "      <td>6</td>\n",
       "      <td>-\\n</td>\n",
       "      <td>NaN</td>\n",
       "      <td>M</td>\n",
       "      <td>nesovrazni</td>\n",
       "    </tr>\n",
       "    <tr>\n",
       "      <th>545</th>\n",
       "      <td>hvala lepa. besedo ima mag. marko pogačnik. iz...</td>\n",
       "      <td>2019</td>\n",
       "      <td>3</td>\n",
       "      <td>1953</td>\n",
       "      <td>DeSUS</td>\n",
       "      <td>M</td>\n",
       "      <td>nesovrazni</td>\n",
       "    </tr>\n",
       "    <tr>\n",
       "      <th>181</th>\n",
       "      <td>hvala lepa, spoštovani podpredsednik. najprej ...</td>\n",
       "      <td>2019</td>\n",
       "      <td>1</td>\n",
       "      <td>1961</td>\n",
       "      <td>SDS</td>\n",
       "      <td>M</td>\n",
       "      <td>nesovrazni</td>\n",
       "    </tr>\n",
       "    <tr>\n",
       "      <th>2443</th>\n",
       "      <td>hvala za odgovor, ministrica. moram reči, da s...</td>\n",
       "      <td>2019</td>\n",
       "      <td>11</td>\n",
       "      <td>1957</td>\n",
       "      <td>DeSUS</td>\n",
       "      <td>M</td>\n",
       "      <td>nesovrazni</td>\n",
       "    </tr>\n",
       "  </tbody>\n",
       "</table>\n",
       "</div>"
      ],
      "text/plain": [
       "                                                   text  leto  mesec rojstvo  \\\n",
       "1808  spoštovani, hvala lepa za besedo. pred vami je...  2019      7     -\\n   \n",
       "1387  spoštovana poslanka, zdaj lahko predložim sezn...  2019      6     -\\n   \n",
       "545   hvala lepa. besedo ima mag. marko pogačnik. iz...  2019      3    1953   \n",
       "181   hvala lepa, spoštovani podpredsednik. najprej ...  2019      1    1961   \n",
       "2443  hvala za odgovor, ministrica. moram reči, da s...  2019     11    1957   \n",
       "\n",
       "     stranka spol          hs  \n",
       "1808     NaN    F  nesovrazni  \n",
       "1387     NaN    M  nesovrazni  \n",
       "545    DeSUS    M  nesovrazni  \n",
       "181      SDS    M  nesovrazni  \n",
       "2443   DeSUS    M  nesovrazni  "
      ]
     },
     "execution_count": 58,
     "metadata": {},
     "output_type": "execute_result"
    }
   ],
   "source": [
    "nesovrazniDevet.sample(5)"
   ]
  },
  {
   "cell_type": "code",
   "execution_count": 99,
   "id": "b3aa38ca",
   "metadata": {},
   "outputs": [
    {
     "data": {
      "text/plain": [
       "M    2226\n",
       "F     664\n",
       "Name: spol, dtype: int64"
      ]
     },
     "execution_count": 99,
     "metadata": {},
     "output_type": "execute_result"
    }
   ],
   "source": [
    "nesovrazniDevet['spol'].value_counts()"
   ]
  },
  {
   "cell_type": "code",
   "execution_count": 100,
   "id": "b021a2df",
   "metadata": {},
   "outputs": [
    {
     "data": {
      "text/plain": [
       "SDS       614\n",
       "SD        614\n",
       "LMŠ       439\n",
       "DeSUS     378\n",
       "Levica    193\n",
       "NSi       113\n",
       "SMC       103\n",
       "SAB        84\n",
       "SNS        74\n",
       "Name: stranka, dtype: int64"
      ]
     },
     "execution_count": 100,
     "metadata": {},
     "output_type": "execute_result"
    }
   ],
   "source": [
    "nesovrazniDevet['stranka'].value_counts()"
   ]
  },
  {
   "cell_type": "code",
   "execution_count": 101,
   "id": "c2e1c3ea",
   "metadata": {},
   "outputs": [
    {
     "data": {
      "text/plain": [
       "1967    549\n",
       "1956    365\n",
       "1986    347\n",
       "1953    341\n",
       "-\\n     180\n",
       "1962    105\n",
       "1969    101\n",
       "1980     81\n",
       "1979     61\n",
       "1970     60\n",
       "1972     55\n",
       "1974     55\n",
       "1960     51\n",
       "1989     44\n",
       "1973     43\n",
       "1987     39\n",
       "1955     38\n",
       "1977     33\n",
       "1978     32\n",
       "1964     31\n",
       "1983     26\n",
       "1959     26\n",
       "1958     25\n",
       "1990     21\n",
       "1976     19\n",
       "1975     18\n",
       "1957     18\n",
       "1952     17\n",
       "1971     17\n",
       "1961     14\n",
       "1948     13\n",
       "1991     12\n",
       "1965     11\n",
       "1968     11\n",
       "1984     10\n",
       "1963      9\n",
       "1954      6\n",
       "1985      5\n",
       "1966      1\n",
       "Name: rojstvo, dtype: int64"
      ]
     },
     "execution_count": 101,
     "metadata": {},
     "output_type": "execute_result"
    }
   ],
   "source": [
    "nesovrazniDevet['rojstvo'].value_counts()"
   ]
  },
  {
   "cell_type": "code",
   "execution_count": 60,
   "id": "5cc1fb05",
   "metadata": {},
   "outputs": [
    {
     "data": {
      "text/plain": [
       "'hvala lepa. besedo ima predlagatelj žan mahnič.'"
      ]
     },
     "execution_count": 60,
     "metadata": {},
     "output_type": "execute_result"
    }
   ],
   "source": [
    "dfDevet.iloc[1378]['text']"
   ]
  },
  {
   "cell_type": "code",
   "execution_count": 61,
   "id": "331c12ac",
   "metadata": {},
   "outputs": [
    {
     "data": {
      "text/plain": [
       "nesovrazni    1697\n",
       "sovrazni       103\n",
       "Name: hs, dtype: int64"
      ]
     },
     "execution_count": 61,
     "metadata": {},
     "output_type": "execute_result"
    }
   ],
   "source": [
    "dfDvajset = pd.read_csv('dvaDvajset-crosloengualBERT-hatespeech.csv')\n",
    "dfDvajset['hs'].value_counts()"
   ]
  },
  {
   "cell_type": "code",
   "execution_count": 102,
   "id": "7bbae45a",
   "metadata": {},
   "outputs": [],
   "source": [
    "sovrazniDvajset = dfDvajset[dfDvajset['hs']=='sovrazni']"
   ]
  },
  {
   "cell_type": "code",
   "execution_count": 74,
   "id": "f8731bbc",
   "metadata": {},
   "outputs": [
    {
     "data": {
      "text/html": [
       "<div>\n",
       "<style scoped>\n",
       "    .dataframe tbody tr th:only-of-type {\n",
       "        vertical-align: middle;\n",
       "    }\n",
       "\n",
       "    .dataframe tbody tr th {\n",
       "        vertical-align: top;\n",
       "    }\n",
       "\n",
       "    .dataframe thead th {\n",
       "        text-align: right;\n",
       "    }\n",
       "</style>\n",
       "<table border=\"1\" class=\"dataframe\">\n",
       "  <thead>\n",
       "    <tr style=\"text-align: right;\">\n",
       "      <th></th>\n",
       "      <th>text</th>\n",
       "      <th>leto</th>\n",
       "      <th>mesec</th>\n",
       "      <th>rojstvo</th>\n",
       "      <th>stranka</th>\n",
       "      <th>spol</th>\n",
       "      <th>hs</th>\n",
       "    </tr>\n",
       "  </thead>\n",
       "  <tbody>\n",
       "    <tr>\n",
       "      <th>1466</th>\n",
       "      <td>hvala lepa. besedo ima poslanska skupina socia...</td>\n",
       "      <td>2020</td>\n",
       "      <td>6</td>\n",
       "      <td>1978</td>\n",
       "      <td>SMC</td>\n",
       "      <td>M</td>\n",
       "      <td>sovrazni</td>\n",
       "    </tr>\n",
       "    <tr>\n",
       "      <th>907</th>\n",
       "      <td>hvala. odbor za infrastrukturo, okolje in pros...</td>\n",
       "      <td>2020</td>\n",
       "      <td>5</td>\n",
       "      <td>1974</td>\n",
       "      <td>SMC</td>\n",
       "      <td>F</td>\n",
       "      <td>sovrazni</td>\n",
       "    </tr>\n",
       "    <tr>\n",
       "      <th>1469</th>\n",
       "      <td>hvala lepa. replika janja sluga.</td>\n",
       "      <td>2020</td>\n",
       "      <td>6</td>\n",
       "      <td>1956</td>\n",
       "      <td>SDS</td>\n",
       "      <td>M</td>\n",
       "      <td>sovrazni</td>\n",
       "    </tr>\n",
       "    <tr>\n",
       "      <th>1718</th>\n",
       "      <td>miha kordiš, drugi opomin. kršitev in zloraba ...</td>\n",
       "      <td>2020</td>\n",
       "      <td>7</td>\n",
       "      <td>1956</td>\n",
       "      <td>SDS</td>\n",
       "      <td>M</td>\n",
       "      <td>sovrazni</td>\n",
       "    </tr>\n",
       "    <tr>\n",
       "      <th>132</th>\n",
       "      <td>hvala lepa, podpredsednica. spoštovani gospod ...</td>\n",
       "      <td>2020</td>\n",
       "      <td>1</td>\n",
       "      <td>1960</td>\n",
       "      <td>SAB</td>\n",
       "      <td>M</td>\n",
       "      <td>sovrazni</td>\n",
       "    </tr>\n",
       "  </tbody>\n",
       "</table>\n",
       "</div>"
      ],
      "text/plain": [
       "                                                   text  leto  mesec rojstvo  \\\n",
       "1466  hvala lepa. besedo ima poslanska skupina socia...  2020      6    1978   \n",
       "907   hvala. odbor za infrastrukturo, okolje in pros...  2020      5    1974   \n",
       "1469                   hvala lepa. replika janja sluga.  2020      6    1956   \n",
       "1718  miha kordiš, drugi opomin. kršitev in zloraba ...  2020      7    1956   \n",
       "132   hvala lepa, podpredsednica. spoštovani gospod ...  2020      1    1960   \n",
       "\n",
       "     stranka spol        hs  \n",
       "1466     SMC    M  sovrazni  \n",
       "907      SMC    F  sovrazni  \n",
       "1469     SDS    M  sovrazni  \n",
       "1718     SDS    M  sovrazni  \n",
       "132      SAB    M  sovrazni  "
      ]
     },
     "execution_count": 74,
     "metadata": {},
     "output_type": "execute_result"
    }
   ],
   "source": [
    "sovrazniDvajset.sample(5)"
   ]
  },
  {
   "cell_type": "code",
   "execution_count": 103,
   "id": "e5476bf5",
   "metadata": {},
   "outputs": [
    {
     "data": {
      "text/plain": [
       "M    87\n",
       "F    16\n",
       "Name: spol, dtype: int64"
      ]
     },
     "execution_count": 103,
     "metadata": {},
     "output_type": "execute_result"
    }
   ],
   "source": [
    "sovrazniDvajset['spol'].value_counts()"
   ]
  },
  {
   "cell_type": "code",
   "execution_count": 104,
   "id": "9ba2d6bc",
   "metadata": {},
   "outputs": [
    {
     "data": {
      "text/plain": [
       "SMC       39\n",
       "SDS       13\n",
       "Levica    10\n",
       "LMŠ        6\n",
       "SNS        6\n",
       "SD         5\n",
       "DeSUS      4\n",
       "SAB        3\n",
       "NSi        1\n",
       "Name: stranka, dtype: int64"
      ]
     },
     "execution_count": 104,
     "metadata": {},
     "output_type": "execute_result"
    }
   ],
   "source": [
    "sovrazniDvajset['stranka'].value_counts()"
   ]
  },
  {
   "cell_type": "code",
   "execution_count": 105,
   "id": "ff3e6980",
   "metadata": {},
   "outputs": [
    {
     "data": {
      "text/plain": [
       "1978    35\n",
       "1956     8\n",
       "-\\n      7\n",
       "1960     5\n",
       "1974     5\n",
       "1989     4\n",
       "1948     4\n",
       "1979     4\n",
       "1980     3\n",
       "1986     3\n",
       "1969     3\n",
       "1971     2\n",
       "1959     2\n",
       "1953     2\n",
       "1964     2\n",
       "1987     2\n",
       "1985     2\n",
       "1976     1\n",
       "1973     1\n",
       "1968     1\n",
       "1962     1\n",
       "1983     1\n",
       "1977     1\n",
       "1984     1\n",
       "1945     1\n",
       "1963     1\n",
       "1958     1\n",
       "Name: rojstvo, dtype: int64"
      ]
     },
     "execution_count": 105,
     "metadata": {},
     "output_type": "execute_result"
    }
   ],
   "source": [
    "sovrazniDvajset['rojstvo'].value_counts()"
   ]
  },
  {
   "cell_type": "code",
   "execution_count": 75,
   "id": "faf03c62",
   "metadata": {},
   "outputs": [
    {
     "data": {
      "text/plain": [
       "'miha kordiš, drugi opomin. kršitev in zloraba in zraven še žalitev.'"
      ]
     },
     "execution_count": 75,
     "metadata": {},
     "output_type": "execute_result"
    }
   ],
   "source": [
    "dfDvajset.iloc[1718]['text']"
   ]
  },
  {
   "cell_type": "code",
   "execution_count": 106,
   "id": "44978bfc",
   "metadata": {},
   "outputs": [],
   "source": [
    "nesovrazniDvajset = dfDvajset[dfDvajset['hs']=='sovrazni']"
   ]
  },
  {
   "cell_type": "code",
   "execution_count": 63,
   "id": "cc36c716",
   "metadata": {},
   "outputs": [
    {
     "data": {
      "text/html": [
       "<div>\n",
       "<style scoped>\n",
       "    .dataframe tbody tr th:only-of-type {\n",
       "        vertical-align: middle;\n",
       "    }\n",
       "\n",
       "    .dataframe tbody tr th {\n",
       "        vertical-align: top;\n",
       "    }\n",
       "\n",
       "    .dataframe thead th {\n",
       "        text-align: right;\n",
       "    }\n",
       "</style>\n",
       "<table border=\"1\" class=\"dataframe\">\n",
       "  <thead>\n",
       "    <tr style=\"text-align: right;\">\n",
       "      <th></th>\n",
       "      <th>text</th>\n",
       "      <th>leto</th>\n",
       "      <th>mesec</th>\n",
       "      <th>rojstvo</th>\n",
       "      <th>stranka</th>\n",
       "      <th>spol</th>\n",
       "      <th>hs</th>\n",
       "    </tr>\n",
       "  </thead>\n",
       "  <tbody>\n",
       "    <tr>\n",
       "      <th>803</th>\n",
       "      <td>hvala lepa. sledi predstavitev stališč poslans...</td>\n",
       "      <td>2020</td>\n",
       "      <td>4</td>\n",
       "      <td>1978</td>\n",
       "      <td>SMC</td>\n",
       "      <td>M</td>\n",
       "      <td>sovrazni</td>\n",
       "    </tr>\n",
       "    <tr>\n",
       "      <th>1141</th>\n",
       "      <td>besedo ima poslanska skupina lista marjana šar...</td>\n",
       "      <td>2020</td>\n",
       "      <td>5</td>\n",
       "      <td>1978</td>\n",
       "      <td>SMC</td>\n",
       "      <td>M</td>\n",
       "      <td>sovrazni</td>\n",
       "    </tr>\n",
       "    <tr>\n",
       "      <th>1208</th>\n",
       "      <td>kolegica sukić, imate besedo za postopkovni pr...</td>\n",
       "      <td>2020</td>\n",
       "      <td>6</td>\n",
       "      <td>1978</td>\n",
       "      <td>SMC</td>\n",
       "      <td>M</td>\n",
       "      <td>sovrazni</td>\n",
       "    </tr>\n",
       "    <tr>\n",
       "      <th>1351</th>\n",
       "      <td>najlepša hvala, gospa podpredsednica. tudi na ...</td>\n",
       "      <td>2020</td>\n",
       "      <td>6</td>\n",
       "      <td>-\\n</td>\n",
       "      <td>NaN</td>\n",
       "      <td>M</td>\n",
       "      <td>sovrazni</td>\n",
       "    </tr>\n",
       "    <tr>\n",
       "      <th>203</th>\n",
       "      <td>končujem. pride z milijonov na milijard. to je...</td>\n",
       "      <td>2020</td>\n",
       "      <td>1</td>\n",
       "      <td>1969</td>\n",
       "      <td>Levica</td>\n",
       "      <td>M</td>\n",
       "      <td>sovrazni</td>\n",
       "    </tr>\n",
       "  </tbody>\n",
       "</table>\n",
       "</div>"
      ],
      "text/plain": [
       "                                                   text  leto  mesec rojstvo  \\\n",
       "803   hvala lepa. sledi predstavitev stališč poslans...  2020      4    1978   \n",
       "1141  besedo ima poslanska skupina lista marjana šar...  2020      5    1978   \n",
       "1208  kolegica sukić, imate besedo za postopkovni pr...  2020      6    1978   \n",
       "1351  najlepša hvala, gospa podpredsednica. tudi na ...  2020      6     -\\n   \n",
       "203   končujem. pride z milijonov na milijard. to je...  2020      1    1969   \n",
       "\n",
       "     stranka spol        hs  \n",
       "803      SMC    M  sovrazni  \n",
       "1141     SMC    M  sovrazni  \n",
       "1208     SMC    M  sovrazni  \n",
       "1351     NaN    M  sovrazni  \n",
       "203   Levica    M  sovrazni  "
      ]
     },
     "execution_count": 63,
     "metadata": {},
     "output_type": "execute_result"
    }
   ],
   "source": [
    "nesovrazniDvajset.sample(5)"
   ]
  },
  {
   "cell_type": "code",
   "execution_count": 107,
   "id": "ab0d5825",
   "metadata": {},
   "outputs": [
    {
     "data": {
      "text/plain": [
       "M    87\n",
       "F    16\n",
       "Name: spol, dtype: int64"
      ]
     },
     "execution_count": 107,
     "metadata": {},
     "output_type": "execute_result"
    }
   ],
   "source": [
    "nesovrazniDvajset['spol'].value_counts()"
   ]
  },
  {
   "cell_type": "code",
   "execution_count": 108,
   "id": "056eb5ac",
   "metadata": {},
   "outputs": [
    {
     "data": {
      "text/plain": [
       "SMC       39\n",
       "SDS       13\n",
       "Levica    10\n",
       "LMŠ        6\n",
       "SNS        6\n",
       "SD         5\n",
       "DeSUS      4\n",
       "SAB        3\n",
       "NSi        1\n",
       "Name: stranka, dtype: int64"
      ]
     },
     "execution_count": 108,
     "metadata": {},
     "output_type": "execute_result"
    }
   ],
   "source": [
    "nesovrazniDvajset['stranka'].value_counts()"
   ]
  },
  {
   "cell_type": "code",
   "execution_count": 109,
   "id": "9cfd6f07",
   "metadata": {},
   "outputs": [
    {
     "data": {
      "text/plain": [
       "1978    35\n",
       "1956     8\n",
       "-\\n      7\n",
       "1960     5\n",
       "1974     5\n",
       "1989     4\n",
       "1948     4\n",
       "1979     4\n",
       "1980     3\n",
       "1986     3\n",
       "1969     3\n",
       "1971     2\n",
       "1959     2\n",
       "1953     2\n",
       "1964     2\n",
       "1987     2\n",
       "1985     2\n",
       "1976     1\n",
       "1973     1\n",
       "1968     1\n",
       "1962     1\n",
       "1983     1\n",
       "1977     1\n",
       "1984     1\n",
       "1945     1\n",
       "1963     1\n",
       "1958     1\n",
       "Name: rojstvo, dtype: int64"
      ]
     },
     "execution_count": 109,
     "metadata": {},
     "output_type": "execute_result"
    }
   ],
   "source": [
    "nesovrazniDvajset['rojstvo'].value_counts()"
   ]
  },
  {
   "cell_type": "code",
   "execution_count": 76,
   "id": "41671e47",
   "metadata": {},
   "outputs": [
    {
     "data": {
      "text/plain": [
       "'najlepša hvala, gospa podpredsednica. tudi na ministrstvu za delo, družino, socialne zadeve in enake možnosti smo kar aktivno pristopili k reševanju teh razmer. med ukrepi, ki smo jih sprejeli ali pa okrepili, so recimo tako takšni, ki so usmerjeni v zagotavljanje dodatnih znanj in kompetenc tistim, ki so že brezposelni, kakor tudi ukrepi, ki so namenjeni tistim, katerih zaposlitev je ogrožena in jim grozi izguba dela. in ravno to je pomembno da preprečimo izgubo delovnih mest oziroma da delavcu, zaposlenemu omogočimo pridobivanje novih znanj, ki mu zagotavljajo večje možnosti pridobiti novo zaposlitev. izpostavim projekt spin, za katerega je v celotni vzhodni kohezijski regiji namenjenih preko , milijona evrov, vključno s projektom štartaj kariero s potencialom, ki naslavlja sicer še posebej ogroženo regijo podravje. zavod za zaposlovanje pa tudi že izvaja program aktivne politike zaposlovanja usposabljamo lokalno, katerega namen je usposabljanje brezposelnih za deficitarne poklice s ciljem izboljšati njihove zaposlitvene možnosti. toliko zaenkrat.'"
      ]
     },
     "execution_count": 76,
     "metadata": {},
     "output_type": "execute_result"
    }
   ],
   "source": [
    "dfDvajset.iloc[1351]['text']"
   ]
  },
  {
   "cell_type": "code",
   "execution_count": null,
   "id": "9a01ec72",
   "metadata": {},
   "outputs": [],
   "source": []
  }
 ],
 "metadata": {
  "kernelspec": {
   "display_name": "Python 3 (ipykernel)",
   "language": "python",
   "name": "python3"
  },
  "language_info": {
   "codemirror_mode": {
    "name": "ipython",
    "version": 3
   },
   "file_extension": ".py",
   "mimetype": "text/x-python",
   "name": "python",
   "nbconvert_exporter": "python",
   "pygments_lexer": "ipython3",
   "version": "3.8.10"
  }
 },
 "nbformat": 4,
 "nbformat_minor": 5
}
