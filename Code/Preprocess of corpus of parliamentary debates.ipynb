{
 "cells": [
  {
   "cell_type": "markdown",
   "id": "3c1eaca3",
   "metadata": {},
   "source": [
    "## Branje tekstovnih datotek in shranjevanje podatkov v tabelo"
   ]
  },
  {
   "cell_type": "code",
   "execution_count": 1,
   "id": "c441fd84",
   "metadata": {},
   "outputs": [],
   "source": [
    "import os\n",
    "directory = 'C:\\\\Users\\\\gogi1\\\\Desktop\\\\diploma\\\\ParlaMint-SI\\\\ParlaMint-SI.txt'\n",
    "files = []\n",
    "\n",
    "for filename in os.listdir(directory):\n",
    "    f = os.path.join(directory, filename)\n",
    "    if os.path.isfile(f) and f[-1]=='t':\n",
    "        files.append(f)"
   ]
  },
  {
   "cell_type": "code",
   "execution_count": 2,
   "id": "e85e746a",
   "metadata": {},
   "outputs": [
    {
     "data": {
      "text/plain": [
       "415"
      ]
     },
     "execution_count": 2,
     "metadata": {},
     "output_type": "execute_result"
    }
   ],
   "source": [
    "len(files)"
   ]
  },
  {
   "cell_type": "code",
   "execution_count": 3,
   "id": "2c725b72",
   "metadata": {},
   "outputs": [],
   "source": [
    "import re\n",
    "data = []\n",
    "directory = 'C:\\\\Users\\\\gogi1\\\\Desktop\\\\diploma\\\\ParlaMint-SI\\\\ParlaMint-SI.txt'\n",
    "\n",
    "for file in files[1:]:\n",
    "    with open(file, encoding='utf-8') as f:\n",
    "        lines = f.readlines()\n",
    "        for line in lines:\n",
    "            datum = line[13:23]\n",
    "            vrsta = line[29:34]\n",
    "            tekst = line[41:]\n",
    "            tekst = re.sub('[^A-Z\\Č\\Š\\Ž\\Ća-z\\č\\š\\ž\\ć]+', ' ', tekst)\n",
    "            tekst = tekst.strip()\n",
    "            data.append([tekst, datum, vrsta])\n",
    "            "
   ]
  },
  {
   "cell_type": "code",
   "execution_count": 4,
   "id": "c849f612",
   "metadata": {},
   "outputs": [
    {
     "data": {
      "text/plain": [
       "75122"
      ]
     },
     "execution_count": 4,
     "metadata": {},
     "output_type": "execute_result"
    }
   ],
   "source": [
    "len(data)"
   ]
  },
  {
   "cell_type": "code",
   "execution_count": 5,
   "id": "6fdc2286",
   "metadata": {},
   "outputs": [],
   "source": [
    "import pandas as pd\n",
    "df = pd.DataFrame(data, index=None, columns=['Tekst', 'Datum', 'Vrsta'])"
   ]
  },
  {
   "cell_type": "code",
   "execution_count": 6,
   "id": "9c7cf683",
   "metadata": {},
   "outputs": [
    {
     "data": {
      "text/html": [
       "<div>\n",
       "<style scoped>\n",
       "    .dataframe tbody tr th:only-of-type {\n",
       "        vertical-align: middle;\n",
       "    }\n",
       "\n",
       "    .dataframe tbody tr th {\n",
       "        vertical-align: top;\n",
       "    }\n",
       "\n",
       "    .dataframe thead th {\n",
       "        text-align: right;\n",
       "    }\n",
       "</style>\n",
       "<table border=\"1\" class=\"dataframe\">\n",
       "  <thead>\n",
       "    <tr style=\"text-align: right;\">\n",
       "      <th></th>\n",
       "      <th>Tekst</th>\n",
       "      <th>Datum</th>\n",
       "      <th>Vrsta</th>\n",
       "    </tr>\n",
       "  </thead>\n",
       "  <tbody>\n",
       "    <tr>\n",
       "      <th>0</th>\n",
       "      <td>Spoštovani prosim da zasedete svoja mesta V na...</td>\n",
       "      <td>2014-08-01</td>\n",
       "      <td>Redna</td>\n",
       "    </tr>\n",
       "    <tr>\n",
       "      <th>1</th>\n",
       "      <td>Hvala za besedo predsedujoča Spoštovani predse...</td>\n",
       "      <td>2014-08-01</td>\n",
       "      <td>Redna</td>\n",
       "    </tr>\n",
       "    <tr>\n",
       "      <th>2</th>\n",
       "      <td>Zahvaljujem se spoštovanemu gospodu Janku Vebr...</td>\n",
       "      <td>2014-08-01</td>\n",
       "      <td>Redna</td>\n",
       "    </tr>\n",
       "    <tr>\n",
       "      <th>3</th>\n",
       "      <td>Spoštovana gospa predsedujoča spoštovane posla...</td>\n",
       "      <td>2014-08-01</td>\n",
       "      <td>Redna</td>\n",
       "    </tr>\n",
       "    <tr>\n",
       "      <th>4</th>\n",
       "      <td>Predsedniku republike spoštovanemu gospodu Bor...</td>\n",
       "      <td>2014-08-01</td>\n",
       "      <td>Redna</td>\n",
       "    </tr>\n",
       "    <tr>\n",
       "      <th>...</th>\n",
       "      <td>...</td>\n",
       "      <td>...</td>\n",
       "      <td>...</td>\n",
       "    </tr>\n",
       "    <tr>\n",
       "      <th>75117</th>\n",
       "      <td>Hvala lepa Jože Lenart želite besedo</td>\n",
       "      <td>2020-07-16</td>\n",
       "      <td>Izred</td>\n",
       "    </tr>\n",
       "    <tr>\n",
       "      <th>75118</th>\n",
       "      <td>Ja hvala lepa Spoštovane kolegice in kolegi Ko...</td>\n",
       "      <td>2020-07-16</td>\n",
       "      <td>Izred</td>\n",
       "    </tr>\n",
       "    <tr>\n",
       "      <th>75119</th>\n",
       "      <td>Hvala lepa Kot zadnji ima besedo predstavnik V...</td>\n",
       "      <td>2020-07-16</td>\n",
       "      <td>Izred</td>\n",
       "    </tr>\n",
       "    <tr>\n",
       "      <th>75120</th>\n",
       "      <td>Drage poslanke in poslanci Vsem vam privoščim ...</td>\n",
       "      <td>2020-07-16</td>\n",
       "      <td>Izred</td>\n",
       "    </tr>\n",
       "    <tr>\n",
       "      <th>75121</th>\n",
       "      <td>Hvala lepa Zaključujem splošno razpravo in pre...</td>\n",
       "      <td>2020-07-16</td>\n",
       "      <td>Izred</td>\n",
       "    </tr>\n",
       "  </tbody>\n",
       "</table>\n",
       "<p>75122 rows × 3 columns</p>\n",
       "</div>"
      ],
      "text/plain": [
       "                                                   Tekst       Datum  Vrsta\n",
       "0      Spoštovani prosim da zasedete svoja mesta V na...  2014-08-01  Redna\n",
       "1      Hvala za besedo predsedujoča Spoštovani predse...  2014-08-01  Redna\n",
       "2      Zahvaljujem se spoštovanemu gospodu Janku Vebr...  2014-08-01  Redna\n",
       "3      Spoštovana gospa predsedujoča spoštovane posla...  2014-08-01  Redna\n",
       "4      Predsedniku republike spoštovanemu gospodu Bor...  2014-08-01  Redna\n",
       "...                                                  ...         ...    ...\n",
       "75117               Hvala lepa Jože Lenart želite besedo  2020-07-16  Izred\n",
       "75118  Ja hvala lepa Spoštovane kolegice in kolegi Ko...  2020-07-16  Izred\n",
       "75119  Hvala lepa Kot zadnji ima besedo predstavnik V...  2020-07-16  Izred\n",
       "75120  Drage poslanke in poslanci Vsem vam privoščim ...  2020-07-16  Izred\n",
       "75121  Hvala lepa Zaključujem splošno razpravo in pre...  2020-07-16  Izred\n",
       "\n",
       "[75122 rows x 3 columns]"
      ]
     },
     "execution_count": 6,
     "metadata": {},
     "output_type": "execute_result"
    }
   ],
   "source": [
    "df"
   ]
  },
  {
   "cell_type": "markdown",
   "id": "e740f2a9",
   "metadata": {},
   "source": [
    "## Preprocesiranje\n",
    "### Pretvorba v male črke"
   ]
  },
  {
   "cell_type": "code",
   "execution_count": 7,
   "id": "2289149f",
   "metadata": {},
   "outputs": [],
   "source": [
    "df['Tekst'] = df['Tekst'].apply(lambda x: ' '.join(x.lower().split()))"
   ]
  },
  {
   "cell_type": "code",
   "execution_count": 8,
   "id": "b082d978",
   "metadata": {},
   "outputs": [
    {
     "data": {
      "text/html": [
       "<div>\n",
       "<style scoped>\n",
       "    .dataframe tbody tr th:only-of-type {\n",
       "        vertical-align: middle;\n",
       "    }\n",
       "\n",
       "    .dataframe tbody tr th {\n",
       "        vertical-align: top;\n",
       "    }\n",
       "\n",
       "    .dataframe thead th {\n",
       "        text-align: right;\n",
       "    }\n",
       "</style>\n",
       "<table border=\"1\" class=\"dataframe\">\n",
       "  <thead>\n",
       "    <tr style=\"text-align: right;\">\n",
       "      <th></th>\n",
       "      <th>Tekst</th>\n",
       "      <th>Datum</th>\n",
       "      <th>Vrsta</th>\n",
       "    </tr>\n",
       "  </thead>\n",
       "  <tbody>\n",
       "    <tr>\n",
       "      <th>3152</th>\n",
       "      <td>spoštovani gospod predsednik gospod minister l...</td>\n",
       "      <td>2014-12-16</td>\n",
       "      <td>Redna</td>\n",
       "    </tr>\n",
       "    <tr>\n",
       "      <th>59172</th>\n",
       "      <td>hvala lepa predsedujoča za besedo lep pozdrav ...</td>\n",
       "      <td>2019-04-15</td>\n",
       "      <td>Redna</td>\n",
       "    </tr>\n",
       "    <tr>\n",
       "      <th>34650</th>\n",
       "      <td>no moram reči da na dogovoru vodij poslanskih ...</td>\n",
       "      <td>2017-01-23</td>\n",
       "      <td>Redna</td>\n",
       "    </tr>\n",
       "    <tr>\n",
       "      <th>12200</th>\n",
       "      <td>besedo ima gospa andreja potočnik</td>\n",
       "      <td>2015-07-10</td>\n",
       "      <td>Redna</td>\n",
       "    </tr>\n",
       "    <tr>\n",
       "      <th>73673</th>\n",
       "      <td>hvala za besedo gospa podpredsednica prav lepo...</td>\n",
       "      <td>2020-06-17</td>\n",
       "      <td>Redna</td>\n",
       "    </tr>\n",
       "  </tbody>\n",
       "</table>\n",
       "</div>"
      ],
      "text/plain": [
       "                                                   Tekst       Datum  Vrsta\n",
       "3152   spoštovani gospod predsednik gospod minister l...  2014-12-16  Redna\n",
       "59172  hvala lepa predsedujoča za besedo lep pozdrav ...  2019-04-15  Redna\n",
       "34650  no moram reči da na dogovoru vodij poslanskih ...  2017-01-23  Redna\n",
       "12200                  besedo ima gospa andreja potočnik  2015-07-10  Redna\n",
       "73673  hvala za besedo gospa podpredsednica prav lepo...  2020-06-17  Redna"
      ]
     },
     "execution_count": 8,
     "metadata": {},
     "output_type": "execute_result"
    }
   ],
   "source": [
    "df.sample(5)"
   ]
  },
  {
   "cell_type": "markdown",
   "id": "a93fe8e7",
   "metadata": {},
   "source": [
    "### Odstranjevanje 'stop words' iz besedila"
   ]
  },
  {
   "cell_type": "code",
   "execution_count": 9,
   "id": "a0e0c316",
   "metadata": {},
   "outputs": [],
   "source": [
    "from nltk.corpus import stopwords"
   ]
  },
  {
   "cell_type": "code",
   "execution_count": 10,
   "id": "a3c31db7",
   "metadata": {},
   "outputs": [],
   "source": [
    "stop_words = stopwords.words('slovene')"
   ]
  },
  {
   "cell_type": "code",
   "execution_count": 11,
   "id": "e6a0a439",
   "metadata": {},
   "outputs": [
    {
     "data": {
      "text/plain": [
       "['ali',\n",
       " 'ampak',\n",
       " 'bodisi',\n",
       " 'in',\n",
       " 'kajti',\n",
       " 'marveč',\n",
       " 'namreč',\n",
       " 'ne',\n",
       " 'niti',\n",
       " 'oziroma']"
      ]
     },
     "execution_count": 11,
     "metadata": {},
     "output_type": "execute_result"
    }
   ],
   "source": [
    "stop_words[:10]"
   ]
  },
  {
   "cell_type": "code",
   "execution_count": 12,
   "id": "9232ace7",
   "metadata": {},
   "outputs": [],
   "source": [
    "stop_words = set(stop_words)"
   ]
  },
  {
   "cell_type": "code",
   "execution_count": 13,
   "id": "8190acff",
   "metadata": {},
   "outputs": [],
   "source": [
    "df['Tekst'] = df['Tekst'].apply(lambda x: ' '.join([t for t in x.split() if t not in stop_words]))"
   ]
  },
  {
   "cell_type": "code",
   "execution_count": 14,
   "id": "f953245b",
   "metadata": {},
   "outputs": [
    {
     "data": {
      "text/html": [
       "<div>\n",
       "<style scoped>\n",
       "    .dataframe tbody tr th:only-of-type {\n",
       "        vertical-align: middle;\n",
       "    }\n",
       "\n",
       "    .dataframe tbody tr th {\n",
       "        vertical-align: top;\n",
       "    }\n",
       "\n",
       "    .dataframe thead th {\n",
       "        text-align: right;\n",
       "    }\n",
       "</style>\n",
       "<table border=\"1\" class=\"dataframe\">\n",
       "  <thead>\n",
       "    <tr style=\"text-align: right;\">\n",
       "      <th></th>\n",
       "      <th>Tekst</th>\n",
       "      <th>Datum</th>\n",
       "      <th>Vrsta</th>\n",
       "    </tr>\n",
       "  </thead>\n",
       "  <tbody>\n",
       "    <tr>\n",
       "      <th>0</th>\n",
       "      <td>spoštovani prosim zasedete mesta sredini pozdr...</td>\n",
       "      <td>2014-08-01</td>\n",
       "      <td>Redna</td>\n",
       "    </tr>\n",
       "    <tr>\n",
       "      <th>1</th>\n",
       "      <td>hvala besedo predsedujoča spoštovani predsedni...</td>\n",
       "      <td>2014-08-01</td>\n",
       "      <td>Redna</td>\n",
       "    </tr>\n",
       "    <tr>\n",
       "      <th>2</th>\n",
       "      <td>zahvaljujem spoštovanemu gospodu janku vebru p...</td>\n",
       "      <td>2014-08-01</td>\n",
       "      <td>Redna</td>\n",
       "    </tr>\n",
       "    <tr>\n",
       "      <th>3</th>\n",
       "      <td>spoštovana gospa predsedujoča spoštovane posla...</td>\n",
       "      <td>2014-08-01</td>\n",
       "      <td>Redna</td>\n",
       "    </tr>\n",
       "    <tr>\n",
       "      <th>4</th>\n",
       "      <td>predsedniku republike spoštovanemu gospodu bor...</td>\n",
       "      <td>2014-08-01</td>\n",
       "      <td>Redna</td>\n",
       "    </tr>\n",
       "  </tbody>\n",
       "</table>\n",
       "</div>"
      ],
      "text/plain": [
       "                                               Tekst       Datum  Vrsta\n",
       "0  spoštovani prosim zasedete mesta sredini pozdr...  2014-08-01  Redna\n",
       "1  hvala besedo predsedujoča spoštovani predsedni...  2014-08-01  Redna\n",
       "2  zahvaljujem spoštovanemu gospodu janku vebru p...  2014-08-01  Redna\n",
       "3  spoštovana gospa predsedujoča spoštovane posla...  2014-08-01  Redna\n",
       "4  predsedniku republike spoštovanemu gospodu bor...  2014-08-01  Redna"
      ]
     },
     "execution_count": 14,
     "metadata": {},
     "output_type": "execute_result"
    }
   ],
   "source": [
    "df.head()"
   ]
  },
  {
   "cell_type": "code",
   "execution_count": 16,
   "id": "0d75d4a6",
   "metadata": {},
   "outputs": [],
   "source": [
    "df.to_csv('dataframe.csv', encoding='utf-8', index=False)"
   ]
  },
  {
   "cell_type": "code",
   "execution_count": null,
   "id": "e19abb95",
   "metadata": {},
   "outputs": [],
   "source": []
  },
  {
   "cell_type": "code",
   "execution_count": null,
   "id": "9a513a07",
   "metadata": {},
   "outputs": [],
   "source": []
  },
  {
   "cell_type": "code",
   "execution_count": null,
   "id": "ba14c265",
   "metadata": {},
   "outputs": [],
   "source": []
  }
 ],
 "metadata": {
  "kernelspec": {
   "display_name": "Python 3 (ipykernel)",
   "language": "python",
   "name": "python3"
  },
  "language_info": {
   "codemirror_mode": {
    "name": "ipython",
    "version": 3
   },
   "file_extension": ".py",
   "mimetype": "text/x-python",
   "name": "python",
   "nbconvert_exporter": "python",
   "pygments_lexer": "ipython3",
   "version": "3.9.7"
  }
 },
 "nbformat": 4,
 "nbformat_minor": 5
}
