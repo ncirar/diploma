{
 "cells": [
  {
   "cell_type": "markdown",
   "metadata": {},
   "source": [
    "[Podatkovno zbirko](https://www.clarin.si/repository/xmlui/handle/11356/1398) z označenim sovražnim govorom v objavah s Twitterja smo pridobili s portala Clarin.si V prvem delu se lotimo pridobitve besedila vseh objav v podatkovni zbirki, saj so v prvotni obliki twitti identificirani le z ID-jem in ne s celotnim besedilom objave. V drugem delu se lotimo preprocesiranja podatkov."
   ]
  },
  {
   "cell_type": "markdown",
   "metadata": {},
   "source": [
    "## Pridobivanje podatkov s pomočjo Twitter API-ja Tweepy\n",
    "Na portalu Twitter developer smo si ustvarili račun in pridobili ključe za uporabo Tweepy API-ja.\n",
    "### Tweepy API ključi"
   ]
  },
  {
   "cell_type": "code",
   "execution_count": 1,
   "metadata": {
    "id": "lhIDzVYXgAlB"
   },
   "outputs": [],
   "source": [
    "import tweepy"
   ]
  },
  {
   "cell_type": "code",
   "execution_count": 2,
   "metadata": {
    "id": "8sHApvx6gHo7"
   },
   "outputs": [],
   "source": [
    "consumer_key = 'tJJWBrVL5ePKzrNMd0upUNCkx'\n",
    "consumer_secret = 'wpb4Jx04ZufeZCIAdpLqSZfpIFO01OvU6F2jwM5QxoL8uDPKC2'\n",
    "access_token = '1549038171714998272-4176ZxEc2amIJWhBJMM8NtstEzWBoC'\n",
    "access_token_secret = 'GQP0HFsWTYN8JEbr9yK47ZJMCzGBHkUsyuatZLsszoPuA'\n",
    "\n",
    "auth = tweepy.OAuthHandler(consumer_key, consumer_secret)\n",
    "auth.set_access_token(access_token, access_token_secret)\n",
    "\n",
    "api = tweepy.API(auth, wait_on_rate_limit = True, wait_on_rate_limit_notify = True)"
   ]
  },
  {
   "cell_type": "markdown",
   "metadata": {},
   "source": [
    "Naložimo datoteko, pridobljeno s portala Clarin."
   ]
  },
  {
   "cell_type": "code",
   "execution_count": 3,
   "metadata": {
    "colab": {
     "base_uri": "https://localhost:8080/",
     "height": 90,
     "resources": {
      "http://localhost:8080/nbextensions/google.colab/files.js": {
       "data": "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",
       "headers": [
        [
         "content-type",
         "application/javascript"
        ]
       ],
       "ok": true,
       "status": 200,
       "status_text": ""
      }
     }
    },
    "id": "xcJgTajdgJ9O",
    "outputId": "a5aa3aad-72a5-4553-b237-e34f2036d09d"
   },
   "outputs": [
    {
     "data": {
      "text/html": [
       "\n",
       "     <input type=\"file\" id=\"files-72952856-0c63-4040-88a1-991b45598a21\" name=\"files[]\" multiple disabled\n",
       "        style=\"border:none\" />\n",
       "     <output id=\"result-72952856-0c63-4040-88a1-991b45598a21\">\n",
       "      Upload widget is only available when the cell has been executed in the\n",
       "      current browser session. Please rerun this cell to enable.\n",
       "      </output>\n",
       "      <script src=\"/nbextensions/google.colab/files.js\"></script> "
      ],
      "text/plain": [
       "<IPython.core.display.HTML object>"
      ]
     },
     "metadata": {},
     "output_type": "display_data"
    },
    {
     "name": "stdout",
     "output_type": "stream",
     "text": [
      "Saving IMSyPP_SI_anotacije_training-clarin.csv to IMSyPP_SI_anotacije_training-clarin.csv\n",
      "User uploaded file \"IMSyPP_SI_anotacije_training-clarin.csv\" with length 4481908 bytes\n"
     ]
    }
   ],
   "source": [
    "from google.colab import files\n",
    "\n",
    "uploaded = files.upload()\n",
    "\n",
    "for fn in uploaded.keys():\n",
    "  print('User uploaded file \"{name}\" with length {length} bytes'.format(\n",
    "      name=fn, length=len(uploaded[fn])))"
   ]
  },
  {
   "cell_type": "markdown",
   "metadata": {},
   "source": [
    "### Shranjevanje podatkovne zbirke sovražnega govora v seznam"
   ]
  },
  {
   "cell_type": "code",
   "execution_count": 1,
   "metadata": {
    "id": "YYrk28E0gMU5"
   },
   "outputs": [],
   "source": [
    "import csv\n",
    "corpus = []\n",
    "\n",
    "with open('IMSyPP_SI_anotacije_training-clarin.csv', 'r', encoding='utf-8') as f:\n",
    "    lineReader = csv.reader(f, delimiter=',', quotechar=\"\\\"\")\n",
    "    for row in lineReader:\n",
    "        if row:\n",
    "            #print(row)\n",
    "            corpus.append({'ID': row[0], 'hateSpeech': row[1]})"
   ]
  },
  {
   "cell_type": "code",
   "execution_count": 2,
   "metadata": {
    "id": "K1h5tUZagpMv"
   },
   "outputs": [],
   "source": [
    "corpus = corpus[1:]"
   ]
  },
  {
   "cell_type": "code",
   "execution_count": 3,
   "metadata": {
    "colab": {
     "base_uri": "https://localhost:8080/"
    },
    "id": "V8i4IawfyfA-",
    "outputId": "22fbf550-f4fe-47fe-c81d-305952500317"
   },
   "outputs": [
    {
     "data": {
      "text/plain": [
       "100000"
      ]
     },
     "execution_count": 3,
     "metadata": {},
     "output_type": "execute_result"
    }
   ],
   "source": [
    "len(corpus)"
   ]
  },
  {
   "cell_type": "code",
   "execution_count": 4,
   "metadata": {
    "colab": {
     "base_uri": "https://localhost:8080/"
    },
    "id": "BD-akj1ShHb7",
    "outputId": "db3d4cea-0136-40d1-ba27-da868bc0934c"
   },
   "outputs": [
    {
     "data": {
      "text/plain": [
       "{'ID': '1130968110834606080', 'hateSpeech': '2 žalitev'}"
      ]
     },
     "execution_count": 4,
     "metadata": {},
     "output_type": "execute_result"
    }
   ],
   "source": [
    "corpus[1]"
   ]
  },
  {
   "cell_type": "markdown",
   "metadata": {},
   "source": [
    "### Pridobivanje besedila objav s Twitterja\n",
    "Zapise, ki jih pridobimo s pomočjo Tweepy API-ja, sproti shranjujemo v seznam."
   ]
  },
  {
   "cell_type": "code",
   "execution_count": null,
   "metadata": {
    "colab": {
     "base_uri": "https://localhost:8080/"
    },
    "id": "Qk4HRJYHgp94",
    "outputId": "bea79879-b1d2-45d4-a963-71ed1be7fec8"
   },
   "outputs": [],
   "source": [
    "t = ''\n",
    "i = 0\n",
    "\n",
    "with open('hateSpeechTweet.txt', 'w'):\n",
    "    for tweet in corpus:\n",
    "        id = tweet['ID']\n",
    "        #govor = tweet['hateSpeech']\n",
    "        #print(id)\n",
    "        try:\n",
    "            fetched = api.get_status(id)\n",
    "            t = fetched.text\n",
    "\n",
    "            if \"\\n\" in t:\n",
    "              t = t.replace(\"\\n\", \" \")\n",
    "\n",
    "            #print(i, t, id)\n",
    "\n",
    "        except tweepy.TweepError as e: \n",
    "            t = e\n",
    "            #print(i, t, id)\n",
    "\n",
    "        i += 1\n",
    "        #tweetsSlo.append({'id': id, 'text': t})\n",
    "        f.write(i, t, id)"
   ]
  },
  {
   "cell_type": "code",
   "execution_count": 5,
   "metadata": {
    "id": "BlLMv91bg5r8"
   },
   "outputs": [],
   "source": [
    "tweets = []"
   ]
  },
  {
   "cell_type": "code",
   "execution_count": 9,
   "metadata": {
    "colab": {
     "base_uri": "https://localhost:8080/",
     "height": 90,
     "resources": {
      "http://localhost:8080/nbextensions/google.colab/files.js": {
       "data": "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",
       "headers": [
        [
         "content-type",
         "application/javascript"
        ]
       ],
       "ok": true,
       "status": 200,
       "status_text": ""
      }
     }
    },
    "id": "EwY9OjIMjK6z",
    "outputId": "2e85ea55-ff6a-4e82-ad3c-44cc04fcd17a"
   },
   "outputs": [
    {
     "data": {
      "text/html": [
       "\n",
       "     <input type=\"file\" id=\"files-1bd0c271-6b1f-4653-8fd6-80d7ec2823ab\" name=\"files[]\" multiple disabled\n",
       "        style=\"border:none\" />\n",
       "     <output id=\"result-1bd0c271-6b1f-4653-8fd6-80d7ec2823ab\">\n",
       "      Upload widget is only available when the cell has been executed in the\n",
       "      current browser session. Please rerun this cell to enable.\n",
       "      </output>\n",
       "      <script src=\"/nbextensions/google.colab/files.js\"></script> "
      ],
      "text/plain": [
       "<IPython.core.display.HTML object>"
      ]
     },
     "metadata": {},
     "output_type": "display_data"
    },
    {
     "name": "stdout",
     "output_type": "stream",
     "text": [
      "Saving hateSpeechTweet.txt to hateSpeechTweet.txt\n",
      "User uploaded file \"hateSpeechTweet.txt\" with length 12806919 bytes\n"
     ]
    }
   ],
   "source": [
    "from google.colab import files\n",
    "\n",
    "uploaded = files.upload()\n",
    "\n",
    "for fn in uploaded.keys():\n",
    "  print('User uploaded file \"{name}\" with length {length} bytes'.format(\n",
    "      name=fn, length=len(uploaded[fn])))"
   ]
  },
  {
   "cell_type": "code",
   "execution_count": 6,
   "metadata": {
    "id": "aVj4TCGfi-Be"
   },
   "outputs": [],
   "source": [
    "import re\n",
    "import csv\n",
    "\n",
    "with open('hateSpeechTweet.txt', 'r', encoding='utf-8') as f:\n",
    "  lineReader = csv.reader(f, delimiter=',', quotechar=\"\\\"\")\n",
    "  for row in lineReader:\n",
    "    if row:\n",
    "      row = ' '.join(row)\n",
    "      tweets.append(row)"
   ]
  },
  {
   "cell_type": "code",
   "execution_count": 7,
   "metadata": {
    "colab": {
     "base_uri": "https://localhost:8080/"
    },
    "id": "ecPN1kKIkdJK",
    "outputId": "768fd130-c695-46fd-da5d-7e04683cf168"
   },
   "outputs": [
    {
     "data": {
      "text/plain": [
       "98466"
      ]
     },
     "execution_count": 7,
     "metadata": {},
     "output_type": "execute_result"
    }
   ],
   "source": [
    "len(tweets)"
   ]
  },
  {
   "cell_type": "code",
   "execution_count": 8,
   "metadata": {
    "id": "vNsL1VqvkfU4"
   },
   "outputs": [],
   "source": [
    "import pandas as pd\n",
    "df = pd.DataFrame(tweets, index=None, columns=['Tweet'])"
   ]
  },
  {
   "cell_type": "code",
   "execution_count": 9,
   "metadata": {
    "colab": {
     "base_uri": "https://localhost:8080/"
    },
    "id": "p-OzxpUmkkLw",
    "outputId": "a32cb14e-b980-48b9-f2bc-c383a2c4f81e"
   },
   "outputs": [
    {
     "data": {
      "text/plain": [
       "(98466, 1)"
      ]
     },
     "execution_count": 9,
     "metadata": {},
     "output_type": "execute_result"
    }
   ],
   "source": [
    "df.shape"
   ]
  },
  {
   "cell_type": "markdown",
   "metadata": {},
   "source": [
    "### Preprocesiranje in čiščenje besedila zbirke\n",
    "Poiščemo indekse vseh vrstic, ki namesto besedil objav s Twitterja vsebujejo besedila napak: doseženih limitov pridobljenih twittov ali napak, ki povedo, da račun objavljenega twitta ne obstaja več. Besedilo pretvorimo v majhne črke ter odstranimo morebitne dodatne presledke. Odstranimo vrstice, ki vsebujejo napake o doseženem limitu."
   ]
  },
  {
   "cell_type": "code",
   "execution_count": 10,
   "metadata": {
    "id": "GS78KcieklPC"
   },
   "outputs": [],
   "source": [
    "s = \"Rate limit reached\"\n",
    "limiti = []\n",
    "errorji = []\n",
    "\n",
    "for i in range(len(df['Tweet'])):\n",
    "  #print(i)\n",
    "  elementi = df['Tweet'][i].split()\n",
    "  if s in df['Tweet'][i]:\n",
    "    limiti.append(i)\n",
    "    df['Tweet'][i-1] += \" \" + df['Tweet'][i]\n",
    "  elif elementi[1] == \"[{'code':\":\n",
    "    errorji.append(i)"
   ]
  },
  {
   "cell_type": "code",
   "execution_count": 11,
   "metadata": {
    "colab": {
     "base_uri": "https://localhost:8080/"
    },
    "id": "XneC_SLPktgn",
    "outputId": "33208811-de26-41e5-a5b6-43e1aa2e20ed"
   },
   "outputs": [
    {
     "data": {
      "text/plain": [
       "96"
      ]
     },
     "execution_count": 11,
     "metadata": {},
     "output_type": "execute_result"
    }
   ],
   "source": [
    "len(limiti)"
   ]
  },
  {
   "cell_type": "code",
   "execution_count": 12,
   "metadata": {
    "colab": {
     "base_uri": "https://localhost:8080/"
    },
    "id": "nxOgT39hkvgL",
    "outputId": "894595b2-d65e-4885-b397-5f4cf57bb4aa"
   },
   "outputs": [
    {
     "data": {
      "text/plain": [
       "20052"
      ]
     },
     "execution_count": 12,
     "metadata": {},
     "output_type": "execute_result"
    }
   ],
   "source": [
    "len(errorji)"
   ]
  },
  {
   "cell_type": "code",
   "execution_count": 13,
   "metadata": {
    "id": "L5ZIvEgCkwsm"
   },
   "outputs": [],
   "source": [
    "df['Tweet'] = df['Tweet'].apply(lambda x: ' '.join(x.lower().split()))"
   ]
  },
  {
   "cell_type": "code",
   "execution_count": 14,
   "metadata": {
    "id": "5Abj4n46kzpN"
   },
   "outputs": [],
   "source": [
    "df['Tweet'] = df['Tweet'].apply(lambda x: ' '.join(x.split()))"
   ]
  },
  {
   "cell_type": "code",
   "execution_count": 15,
   "metadata": {
    "colab": {
     "base_uri": "https://localhost:8080/"
    },
    "id": "G5EyMV0-k17Y",
    "outputId": "97fa30ba-c46f-414e-9159-68dc90229ed2"
   },
   "outputs": [
    {
     "name": "stderr",
     "output_type": "stream",
     "text": [
      "C:\\Users\\gogi1\\AppData\\Local\\Temp\\ipykernel_12336\\3119456342.py:1: FutureWarning: In a future version of pandas all arguments of DataFrame.drop except for the argument 'labels' will be keyword-only.\n",
      "  df.drop(limiti,0,inplace=True)\n"
     ]
    }
   ],
   "source": [
    "df.drop(limiti,0,inplace=True)"
   ]
  },
  {
   "cell_type": "code",
   "execution_count": 16,
   "metadata": {
    "colab": {
     "base_uri": "https://localhost:8080/",
     "height": 363
    },
    "id": "9qE9AQmRk4qL",
    "outputId": "4224b390-e51e-4490-e5d5-db2aa92e0bc3"
   },
   "outputs": [
    {
     "data": {
      "text/html": [
       "<div>\n",
       "<style scoped>\n",
       "    .dataframe tbody tr th:only-of-type {\n",
       "        vertical-align: middle;\n",
       "    }\n",
       "\n",
       "    .dataframe tbody tr th {\n",
       "        vertical-align: top;\n",
       "    }\n",
       "\n",
       "    .dataframe thead th {\n",
       "        text-align: right;\n",
       "    }\n",
       "</style>\n",
       "<table border=\"1\" class=\"dataframe\">\n",
       "  <thead>\n",
       "    <tr style=\"text-align: right;\">\n",
       "      <th></th>\n",
       "      <th>Tweet</th>\n",
       "    </tr>\n",
       "  </thead>\n",
       "  <tbody>\n",
       "    <tr>\n",
       "      <th>0</th>\n",
       "      <td>0 [{'code': 144 'message': 'no status found wi...</td>\n",
       "    </tr>\n",
       "    <tr>\n",
       "      <th>1</th>\n",
       "      <td>1 @vitomilz @lukavalas ker poslanci v slovensk...</td>\n",
       "    </tr>\n",
       "    <tr>\n",
       "      <th>2</th>\n",
       "      <td>2 @studiocity_ @suzanalovec v novinarstvu je m...</td>\n",
       "    </tr>\n",
       "    <tr>\n",
       "      <th>3</th>\n",
       "      <td>3 moja reportaza iz severne koreje:travmatizir...</td>\n",
       "    </tr>\n",
       "    <tr>\n",
       "      <th>4</th>\n",
       "      <td>4 [{'code': 144 'message': 'no status found wi...</td>\n",
       "    </tr>\n",
       "    <tr>\n",
       "      <th>5</th>\n",
       "      <td>5 @petra_jansa limbarska gora. podpisa ne bo. ...</td>\n",
       "    </tr>\n",
       "    <tr>\n",
       "      <th>6</th>\n",
       "      <td>6 [{'code': 144 'message': 'no status found wi...</td>\n",
       "    </tr>\n",
       "    <tr>\n",
       "      <th>7</th>\n",
       "      <td>7 [{'code': 144 'message': 'no status found wi...</td>\n",
       "    </tr>\n",
       "    <tr>\n",
       "      <th>8</th>\n",
       "      <td>8 @bojanpozar @vladars poklon sodniku! edino o...</td>\n",
       "    </tr>\n",
       "    <tr>\n",
       "      <th>9</th>\n",
       "      <td>9 @dixitrader @romanvodeb @bo7ksar kaj je neub...</td>\n",
       "    </tr>\n",
       "  </tbody>\n",
       "</table>\n",
       "</div>"
      ],
      "text/plain": [
       "                                               Tweet\n",
       "0  0 [{'code': 144 'message': 'no status found wi...\n",
       "1  1 @vitomilz @lukavalas ker poslanci v slovensk...\n",
       "2  2 @studiocity_ @suzanalovec v novinarstvu je m...\n",
       "3  3 moja reportaza iz severne koreje:travmatizir...\n",
       "4  4 [{'code': 144 'message': 'no status found wi...\n",
       "5  5 @petra_jansa limbarska gora. podpisa ne bo. ...\n",
       "6  6 [{'code': 144 'message': 'no status found wi...\n",
       "7  7 [{'code': 144 'message': 'no status found wi...\n",
       "8  8 @bojanpozar @vladars poklon sodniku! edino o...\n",
       "9  9 @dixitrader @romanvodeb @bo7ksar kaj je neub..."
      ]
     },
     "execution_count": 16,
     "metadata": {},
     "output_type": "execute_result"
    }
   ],
   "source": [
    "df.head(10)"
   ]
  },
  {
   "cell_type": "markdown",
   "metadata": {},
   "source": [
    "Tabeli dodamo stolpec z označbo vrste sovražnega govora v objavi."
   ]
  },
  {
   "cell_type": "code",
   "execution_count": 17,
   "metadata": {
    "id": "nF6wEDYmk6kg"
   },
   "outputs": [],
   "source": [
    "hateSpeech = []\n",
    "for tweet in corpus:\n",
    "  hs = tweet['hateSpeech']\n",
    "  hateSpeech.append(hs)"
   ]
  },
  {
   "cell_type": "code",
   "execution_count": 18,
   "metadata": {
    "colab": {
     "base_uri": "https://localhost:8080/"
    },
    "id": "gmCIV-j_ldv-",
    "outputId": "c73b9867-f701-47de-9daf-35f15926234e"
   },
   "outputs": [
    {
     "data": {
      "text/plain": [
       "100000"
      ]
     },
     "execution_count": 18,
     "metadata": {},
     "output_type": "execute_result"
    }
   ],
   "source": [
    "len(hateSpeech)"
   ]
  },
  {
   "cell_type": "code",
   "execution_count": 19,
   "metadata": {
    "id": "I4tttX5nlinu"
   },
   "outputs": [],
   "source": [
    "hateSpeech = hateSpeech[:df.shape[0]]"
   ]
  },
  {
   "cell_type": "code",
   "execution_count": 20,
   "metadata": {
    "id": "x31pIGxIlqyD"
   },
   "outputs": [],
   "source": [
    "df['HateSpeech'] = hateSpeech"
   ]
  },
  {
   "cell_type": "code",
   "execution_count": 21,
   "metadata": {
    "colab": {
     "base_uri": "https://localhost:8080/"
    },
    "id": "Yq5o92ColoOD",
    "outputId": "3a3ed926-b85f-41f8-c788-7bbc43b14c3f"
   },
   "outputs": [
    {
     "data": {
      "text/plain": [
       "98370"
      ]
     },
     "execution_count": 21,
     "metadata": {},
     "output_type": "execute_result"
    }
   ],
   "source": [
    "len(df['Tweet'])"
   ]
  },
  {
   "cell_type": "code",
   "execution_count": 22,
   "metadata": {
    "colab": {
     "base_uri": "https://localhost:8080/"
    },
    "id": "-7cNmUDclwqB",
    "outputId": "4f409e68-d33f-432b-f97f-a41a80d8ae45"
   },
   "outputs": [
    {
     "data": {
      "text/plain": [
       "98370"
      ]
     },
     "execution_count": 22,
     "metadata": {},
     "output_type": "execute_result"
    }
   ],
   "source": [
    "len(df['HateSpeech'])"
   ]
  },
  {
   "cell_type": "markdown",
   "metadata": {},
   "source": [
    "Iz posamezne vrstice v besedilu twitta odstranimo število na začetku. Nato odstranimo tudi ID na koncu posamezne vrstice ter izbrišemo vse vrstice, ki vsebujejo besedila o doseženih napakah: uporabnik ne obstaja, uporabnik je bil blokiran, objava ne obstaja."
   ]
  },
  {
   "cell_type": "code",
   "execution_count": 23,
   "metadata": {
    "id": "ePPtRkTHl1IW"
   },
   "outputs": [],
   "source": [
    "tweets = []\n",
    "\n",
    "for tweet in df['Tweet']:\n",
    "  elementi = tweet.split()\n",
    "  #print(elementi)\n",
    "  if elementi[0].isdigit():\n",
    "    elementi = elementi[1:]\n",
    "    tweets.append(' '.join(elementi))\n",
    "  else:\n",
    "    tweets.append(tweet)"
   ]
  },
  {
   "cell_type": "code",
   "execution_count": 24,
   "metadata": {
    "id": "IjKpJmg5l76t"
   },
   "outputs": [],
   "source": [
    "df['Tweet'] = tweets"
   ]
  },
  {
   "cell_type": "code",
   "execution_count": 25,
   "metadata": {
    "colab": {
     "base_uri": "https://localhost:8080/",
     "height": 520
    },
    "id": "oU4x0sy5l-Tp",
    "outputId": "e45e7eae-dc3a-4fae-e810-f82096d1a8a5"
   },
   "outputs": [
    {
     "data": {
      "text/html": [
       "<div>\n",
       "<style scoped>\n",
       "    .dataframe tbody tr th:only-of-type {\n",
       "        vertical-align: middle;\n",
       "    }\n",
       "\n",
       "    .dataframe tbody tr th {\n",
       "        vertical-align: top;\n",
       "    }\n",
       "\n",
       "    .dataframe thead th {\n",
       "        text-align: right;\n",
       "    }\n",
       "</style>\n",
       "<table border=\"1\" class=\"dataframe\">\n",
       "  <thead>\n",
       "    <tr style=\"text-align: right;\">\n",
       "      <th></th>\n",
       "      <th>Tweet</th>\n",
       "      <th>HateSpeech</th>\n",
       "    </tr>\n",
       "  </thead>\n",
       "  <tbody>\n",
       "    <tr>\n",
       "      <th>0</th>\n",
       "      <td>[{'code': 144 'message': 'no status found with...</td>\n",
       "      <td>0 ni sporni govor</td>\n",
       "    </tr>\n",
       "    <tr>\n",
       "      <th>1</th>\n",
       "      <td>@vitomilz @lukavalas ker poslanci v slovenskem...</td>\n",
       "      <td>2 žalitev</td>\n",
       "    </tr>\n",
       "    <tr>\n",
       "      <th>2</th>\n",
       "      <td>@studiocity_ @suzanalovec v novinarstvu je moč...</td>\n",
       "      <td>2 žalitev</td>\n",
       "    </tr>\n",
       "    <tr>\n",
       "      <th>3</th>\n",
       "      <td>moja reportaza iz severne koreje:travmatiziran...</td>\n",
       "      <td>0 ni sporni govor</td>\n",
       "    </tr>\n",
       "    <tr>\n",
       "      <th>4</th>\n",
       "      <td>[{'code': 144 'message': 'no status found with...</td>\n",
       "      <td>0 ni sporni govor</td>\n",
       "    </tr>\n",
       "    <tr>\n",
       "      <th>5</th>\n",
       "      <td>@petra_jansa limbarska gora. podpisa ne bo. ce...</td>\n",
       "      <td>0 ni sporni govor</td>\n",
       "    </tr>\n",
       "    <tr>\n",
       "      <th>6</th>\n",
       "      <td>[{'code': 144 'message': 'no status found with...</td>\n",
       "      <td>0 ni sporni govor</td>\n",
       "    </tr>\n",
       "    <tr>\n",
       "      <th>7</th>\n",
       "      <td>[{'code': 144 'message': 'no status found with...</td>\n",
       "      <td>2 žalitev</td>\n",
       "    </tr>\n",
       "    <tr>\n",
       "      <th>8</th>\n",
       "      <td>@bojanpozar @vladars poklon sodniku! edino oro...</td>\n",
       "      <td>0 ni sporni govor</td>\n",
       "    </tr>\n",
       "    <tr>\n",
       "      <th>9</th>\n",
       "      <td>@dixitrader @romanvodeb @bo7ksar kaj je neubra...</td>\n",
       "      <td>2 žalitev</td>\n",
       "    </tr>\n",
       "    <tr>\n",
       "      <th>10</th>\n",
       "      <td>@dominikasvarc po mojem sploh ni opazil da nek...</td>\n",
       "      <td>2 žalitev</td>\n",
       "    </tr>\n",
       "    <tr>\n",
       "      <th>11</th>\n",
       "      <td>pešci naj posebej pazijo na “železne zavese” k...</td>\n",
       "      <td>0 ni sporni govor</td>\n",
       "    </tr>\n",
       "    <tr>\n",
       "      <th>12</th>\n",
       "      <td>[{'code': 144 'message': 'no status found with...</td>\n",
       "      <td>0 ni sporni govor</td>\n",
       "    </tr>\n",
       "    <tr>\n",
       "      <th>13</th>\n",
       "      <td>@pengovsky @lculiberg @katarinajenko @miharejc...</td>\n",
       "      <td>2 žalitev</td>\n",
       "    </tr>\n",
       "    <tr>\n",
       "      <th>14</th>\n",
       "      <td>@bojan__bozic @ajitamxy @petra_jansa morda zat...</td>\n",
       "      <td>2 žalitev</td>\n",
       "    </tr>\n",
       "  </tbody>\n",
       "</table>\n",
       "</div>"
      ],
      "text/plain": [
       "                                                Tweet         HateSpeech\n",
       "0   [{'code': 144 'message': 'no status found with...  0 ni sporni govor\n",
       "1   @vitomilz @lukavalas ker poslanci v slovenskem...          2 žalitev\n",
       "2   @studiocity_ @suzanalovec v novinarstvu je moč...          2 žalitev\n",
       "3   moja reportaza iz severne koreje:travmatiziran...  0 ni sporni govor\n",
       "4   [{'code': 144 'message': 'no status found with...  0 ni sporni govor\n",
       "5   @petra_jansa limbarska gora. podpisa ne bo. ce...  0 ni sporni govor\n",
       "6   [{'code': 144 'message': 'no status found with...  0 ni sporni govor\n",
       "7   [{'code': 144 'message': 'no status found with...          2 žalitev\n",
       "8   @bojanpozar @vladars poklon sodniku! edino oro...  0 ni sporni govor\n",
       "9   @dixitrader @romanvodeb @bo7ksar kaj je neubra...          2 žalitev\n",
       "10  @dominikasvarc po mojem sploh ni opazil da nek...          2 žalitev\n",
       "11  pešci naj posebej pazijo na “železne zavese” k...  0 ni sporni govor\n",
       "12  [{'code': 144 'message': 'no status found with...  0 ni sporni govor\n",
       "13  @pengovsky @lculiberg @katarinajenko @miharejc...          2 žalitev\n",
       "14  @bojan__bozic @ajitamxy @petra_jansa morda zat...          2 žalitev"
      ]
     },
     "execution_count": 25,
     "metadata": {},
     "output_type": "execute_result"
    }
   ],
   "source": [
    "df.head(15)"
   ]
  },
  {
   "cell_type": "code",
   "execution_count": 26,
   "metadata": {
    "id": "cdqvRCmVl_fd"
   },
   "outputs": [],
   "source": [
    "tweets = []\n",
    "\n",
    "for tweet in df['Tweet']:\n",
    "  elementi = tweet.split()\n",
    "  elementi = elementi[:-1]\n",
    "  tweets.append(' '.join(elementi))"
   ]
  },
  {
   "cell_type": "code",
   "execution_count": 27,
   "metadata": {
    "id": "wkQBtU1zmFGz"
   },
   "outputs": [],
   "source": [
    "df['Tweet'] = tweets"
   ]
  },
  {
   "cell_type": "code",
   "execution_count": 28,
   "metadata": {
    "colab": {
     "base_uri": "https://localhost:8080/"
    },
    "id": "ThTT-sfpmJQ2",
    "outputId": "14881091-ac04-4d20-c1aa-dc55bd8bc8d0"
   },
   "outputs": [
    {
     "name": "stderr",
     "output_type": "stream",
     "text": [
      "C:\\Users\\gogi1\\AppData\\Local\\Temp\\ipykernel_12336\\3663003353.py:1: FutureWarning: In a future version of pandas all arguments of DataFrame.drop except for the argument 'labels' will be keyword-only.\n",
      "  df.drop(errorji,0,inplace=True)\n"
     ]
    }
   ],
   "source": [
    "df.drop(errorji,0,inplace=True)"
   ]
  },
  {
   "cell_type": "code",
   "execution_count": 29,
   "metadata": {
    "colab": {
     "base_uri": "https://localhost:8080/",
     "height": 520
    },
    "id": "VHH9Ln91mNXO",
    "outputId": "be02b090-bf84-45fd-935e-b046d5c9a7de"
   },
   "outputs": [
    {
     "data": {
      "text/html": [
       "<div>\n",
       "<style scoped>\n",
       "    .dataframe tbody tr th:only-of-type {\n",
       "        vertical-align: middle;\n",
       "    }\n",
       "\n",
       "    .dataframe tbody tr th {\n",
       "        vertical-align: top;\n",
       "    }\n",
       "\n",
       "    .dataframe thead th {\n",
       "        text-align: right;\n",
       "    }\n",
       "</style>\n",
       "<table border=\"1\" class=\"dataframe\">\n",
       "  <thead>\n",
       "    <tr style=\"text-align: right;\">\n",
       "      <th></th>\n",
       "      <th>Tweet</th>\n",
       "      <th>HateSpeech</th>\n",
       "    </tr>\n",
       "  </thead>\n",
       "  <tbody>\n",
       "    <tr>\n",
       "      <th>1</th>\n",
       "      <td>@vitomilz @lukavalas ker poslanci v slovenskem...</td>\n",
       "      <td>2 žalitev</td>\n",
       "    </tr>\n",
       "    <tr>\n",
       "      <th>2</th>\n",
       "      <td>@studiocity_ @suzanalovec v novinarstvu je moč...</td>\n",
       "      <td>2 žalitev</td>\n",
       "    </tr>\n",
       "    <tr>\n",
       "      <th>3</th>\n",
       "      <td>moja reportaza iz severne koreje:travmatiziran...</td>\n",
       "      <td>0 ni sporni govor</td>\n",
       "    </tr>\n",
       "    <tr>\n",
       "      <th>5</th>\n",
       "      <td>@petra_jansa limbarska gora. podpisa ne bo. ce...</td>\n",
       "      <td>0 ni sporni govor</td>\n",
       "    </tr>\n",
       "    <tr>\n",
       "      <th>8</th>\n",
       "      <td>@bojanpozar @vladars poklon sodniku! edino oro...</td>\n",
       "      <td>0 ni sporni govor</td>\n",
       "    </tr>\n",
       "    <tr>\n",
       "      <th>9</th>\n",
       "      <td>@dixitrader @romanvodeb @bo7ksar kaj je neubra...</td>\n",
       "      <td>2 žalitev</td>\n",
       "    </tr>\n",
       "    <tr>\n",
       "      <th>10</th>\n",
       "      <td>@dominikasvarc po mojem sploh ni opazil da nek...</td>\n",
       "      <td>2 žalitev</td>\n",
       "    </tr>\n",
       "    <tr>\n",
       "      <th>11</th>\n",
       "      <td>pešci naj posebej pazijo na “železne zavese” k...</td>\n",
       "      <td>0 ni sporni govor</td>\n",
       "    </tr>\n",
       "    <tr>\n",
       "      <th>13</th>\n",
       "      <td>@pengovsky @lculiberg @katarinajenko @miharejc...</td>\n",
       "      <td>2 žalitev</td>\n",
       "    </tr>\n",
       "    <tr>\n",
       "      <th>14</th>\n",
       "      <td>@bojan__bozic @ajitamxy @petra_jansa morda zat...</td>\n",
       "      <td>2 žalitev</td>\n",
       "    </tr>\n",
       "    <tr>\n",
       "      <th>15</th>\n",
       "      <td>\"a veš tist ko srečaš neke entitete pa bi jih ...</td>\n",
       "      <td>3 nasilje</td>\n",
       "    </tr>\n",
       "    <tr>\n",
       "      <th>16</th>\n",
       "      <td>@p_tadeja včasih so rekl: junij julij avgust b...</td>\n",
       "      <td>2 žalitev</td>\n",
       "    </tr>\n",
       "    <tr>\n",
       "      <th>17</th>\n",
       "      <td>@milijonar kako se je jonas zajebal z twittom ...</td>\n",
       "      <td>1 nespodobni govor</td>\n",
       "    </tr>\n",
       "    <tr>\n",
       "      <th>18</th>\n",
       "      <td>že na prvem letošnjem teku pred biki v pamplon...</td>\n",
       "      <td>0 ni sporni govor</td>\n",
       "    </tr>\n",
       "    <tr>\n",
       "      <th>19</th>\n",
       "      <td>danes sem sedel za mizo. z veganko. ki je popr...</td>\n",
       "      <td>0 ni sporni govor</td>\n",
       "    </tr>\n",
       "  </tbody>\n",
       "</table>\n",
       "</div>"
      ],
      "text/plain": [
       "                                                Tweet          HateSpeech\n",
       "1   @vitomilz @lukavalas ker poslanci v slovenskem...           2 žalitev\n",
       "2   @studiocity_ @suzanalovec v novinarstvu je moč...           2 žalitev\n",
       "3   moja reportaza iz severne koreje:travmatiziran...   0 ni sporni govor\n",
       "5   @petra_jansa limbarska gora. podpisa ne bo. ce...   0 ni sporni govor\n",
       "8   @bojanpozar @vladars poklon sodniku! edino oro...   0 ni sporni govor\n",
       "9   @dixitrader @romanvodeb @bo7ksar kaj je neubra...           2 žalitev\n",
       "10  @dominikasvarc po mojem sploh ni opazil da nek...           2 žalitev\n",
       "11  pešci naj posebej pazijo na “železne zavese” k...   0 ni sporni govor\n",
       "13  @pengovsky @lculiberg @katarinajenko @miharejc...           2 žalitev\n",
       "14  @bojan__bozic @ajitamxy @petra_jansa morda zat...           2 žalitev\n",
       "15  \"a veš tist ko srečaš neke entitete pa bi jih ...           3 nasilje\n",
       "16  @p_tadeja včasih so rekl: junij julij avgust b...           2 žalitev\n",
       "17  @milijonar kako se je jonas zajebal z twittom ...  1 nespodobni govor\n",
       "18  že na prvem letošnjem teku pred biki v pamplon...   0 ni sporni govor\n",
       "19  danes sem sedel za mizo. z veganko. ki je popr...   0 ni sporni govor"
      ]
     },
     "execution_count": 29,
     "metadata": {},
     "output_type": "execute_result"
    }
   ],
   "source": [
    "df.head(15)"
   ]
  },
  {
   "cell_type": "markdown",
   "metadata": {},
   "source": [
    "Iz besedil twittov odstranimo vse *@označbeProfilov*, *#ključnike*, elektronsko pošto, URL naslove, *retweete* ter vse posebne simbole"
   ]
  },
  {
   "cell_type": "code",
   "execution_count": 30,
   "metadata": {
    "id": "GRkOOaXVjgsH"
   },
   "outputs": [],
   "source": [
    "#remove mentions\n",
    "df['Tweet'] = df['Tweet'].apply(lambda x: re.sub(r'#([a-zA-Z0-9_]{1,50})', '', x).strip())"
   ]
  },
  {
   "cell_type": "code",
   "execution_count": 31,
   "metadata": {
    "id": "tgVbnXnoiag-"
   },
   "outputs": [],
   "source": [
    "#remove hashtags\n",
    "df['Tweet'] = df['Tweet'].apply(lambda x: re.sub(r'@([a-zA-Z0-9_]{1,50})', '', x).strip())"
   ]
  },
  {
   "cell_type": "code",
   "execution_count": 32,
   "metadata": {
    "id": "eVSrkSCVhooJ"
   },
   "outputs": [],
   "source": [
    "#remove emails\n",
    "df['Tweet'] = df['Tweet'].apply(lambda x: re.sub(r'([a-z0-9+._-]+@[a-z0-9+._-]+\\.[a-z0-9+_-]+)', \"\", x))"
   ]
  },
  {
   "cell_type": "code",
   "execution_count": 33,
   "metadata": {
    "id": "SU1ovnichtTf"
   },
   "outputs": [],
   "source": [
    "#remove URLs\n",
    "df['Tweet'] = df['Tweet'].apply(lambda x: re.sub(r'(http|https|ftp|ssh)://([\\w_-]+(?:(?:\\.[\\w_-]+)+))([\\w.,@?^=%&:/~+#-]*[\\w@?^=%&/~+#-])?', \"\", x))"
   ]
  },
  {
   "cell_type": "code",
   "execution_count": 34,
   "metadata": {
    "id": "QksM5UP9h-tk"
   },
   "outputs": [],
   "source": [
    "#remove RTs\n",
    "df['Tweet'] = df['Tweet'].apply(lambda x: re.sub(r'\\brt\\b', '', x).strip())"
   ]
  },
  {
   "cell_type": "code",
   "execution_count": 35,
   "metadata": {
    "id": "9V5zKASuiBtm"
   },
   "outputs": [],
   "source": [
    "#remove special characters and punctuation\n",
    "df['Tweet'] = df['Tweet'].apply(lambda x: re.sub(r'[^\\w ]+', \"\", x))"
   ]
  },
  {
   "cell_type": "code",
   "execution_count": 36,
   "metadata": {
    "id": "Kkr7by9wYluL"
   },
   "outputs": [],
   "source": [
    "#remove multiple spaces\n",
    "df['Tweet'] = df['Tweet'].apply(lambda x: ' '.join(x.split()))"
   ]
  },
  {
   "cell_type": "code",
   "execution_count": 37,
   "metadata": {
    "id": "aRmsa0Riw69L"
   },
   "outputs": [],
   "source": [
    "df = df.reset_index(drop=True)"
   ]
  },
  {
   "cell_type": "code",
   "execution_count": 38,
   "metadata": {
    "colab": {
     "base_uri": "https://localhost:8080/",
     "height": 990
    },
    "id": "myKQ_BU1mXWW",
    "outputId": "fdc1fbe5-eb11-4eb4-b6fc-2a86fc322873"
   },
   "outputs": [
    {
     "data": {
      "text/html": [
       "<div>\n",
       "<style scoped>\n",
       "    .dataframe tbody tr th:only-of-type {\n",
       "        vertical-align: middle;\n",
       "    }\n",
       "\n",
       "    .dataframe tbody tr th {\n",
       "        vertical-align: top;\n",
       "    }\n",
       "\n",
       "    .dataframe thead th {\n",
       "        text-align: right;\n",
       "    }\n",
       "</style>\n",
       "<table border=\"1\" class=\"dataframe\">\n",
       "  <thead>\n",
       "    <tr style=\"text-align: right;\">\n",
       "      <th></th>\n",
       "      <th>Tweet</th>\n",
       "      <th>HateSpeech</th>\n",
       "    </tr>\n",
       "  </thead>\n",
       "  <tbody>\n",
       "    <tr>\n",
       "      <th>0</th>\n",
       "      <td>ker poslanci v slovenskem parlamentu prav nič ...</td>\n",
       "      <td>2 žalitev</td>\n",
       "    </tr>\n",
       "    <tr>\n",
       "      <th>1</th>\n",
       "      <td>v novinarstvu je močan kruhoborski boja bi lah...</td>\n",
       "      <td>2 žalitev</td>\n",
       "    </tr>\n",
       "    <tr>\n",
       "      <th>2</th>\n",
       "      <td>moja reportaza iz severne korejetravmatizirani...</td>\n",
       "      <td>0 ni sporni govor</td>\n",
       "    </tr>\n",
       "    <tr>\n",
       "      <th>3</th>\n",
       "      <td>limbarska gora podpisa ne bo cerkev se ne prem...</td>\n",
       "      <td>0 ni sporni govor</td>\n",
       "    </tr>\n",
       "    <tr>\n",
       "      <th>4</th>\n",
       "      <td>poklon sodniku edino orožje je seznaniti javno...</td>\n",
       "      <td>0 ni sporni govor</td>\n",
       "    </tr>\n",
       "    <tr>\n",
       "      <th>5</th>\n",
       "      <td>kaj je neubranljivo partizanski boj za komuniz...</td>\n",
       "      <td>2 žalitev</td>\n",
       "    </tr>\n",
       "    <tr>\n",
       "      <th>6</th>\n",
       "      <td>po mojem sploh ni opazil da nekdo za njim drži...</td>\n",
       "      <td>2 žalitev</td>\n",
       "    </tr>\n",
       "    <tr>\n",
       "      <th>7</th>\n",
       "      <td>pešci naj posebej pazijo na železne zavese ki ...</td>\n",
       "      <td>0 ni sporni govor</td>\n",
       "    </tr>\n",
       "    <tr>\n",
       "      <th>8</th>\n",
       "      <td>državne banke pa so zajebale zakaj ker so reše...</td>\n",
       "      <td>2 žalitev</td>\n",
       "    </tr>\n",
       "    <tr>\n",
       "      <th>9</th>\n",
       "      <td>morda zato ker je to storil kot ena debela rit...</td>\n",
       "      <td>2 žalitev</td>\n",
       "    </tr>\n",
       "    <tr>\n",
       "      <th>10</th>\n",
       "      <td>a veš tist ko srečaš neke entitete pa bi jih t...</td>\n",
       "      <td>3 nasilje</td>\n",
       "    </tr>\n",
       "    <tr>\n",
       "      <th>11</th>\n",
       "      <td>včasih so rekl junij julij avgust babe prmr pu...</td>\n",
       "      <td>2 žalitev</td>\n",
       "    </tr>\n",
       "    <tr>\n",
       "      <th>12</th>\n",
       "      <td>kako se je jonas zajebal z twittom le kaj mu j...</td>\n",
       "      <td>1 nespodobni govor</td>\n",
       "    </tr>\n",
       "    <tr>\n",
       "      <th>13</th>\n",
       "      <td>že na prvem letošnjem teku pred biki v pamplon...</td>\n",
       "      <td>0 ni sporni govor</td>\n",
       "    </tr>\n",
       "    <tr>\n",
       "      <th>14</th>\n",
       "      <td>danes sem sedel za mizo z veganko ki je poprej...</td>\n",
       "      <td>0 ni sporni govor</td>\n",
       "    </tr>\n",
       "    <tr>\n",
       "      <th>15</th>\n",
       "      <td>ce bi ti bil sexy glupa zenska z velkimi joski...</td>\n",
       "      <td>2 žalitev</td>\n",
       "    </tr>\n",
       "    <tr>\n",
       "      <th>16</th>\n",
       "      <td>sladki kanibalizem slovenija pocena lobanja</td>\n",
       "      <td>0 ni sporni govor</td>\n",
       "    </tr>\n",
       "    <tr>\n",
       "      <th>17</th>\n",
       "      <td>to je eden jj lokalnih medijev služi torej ist...</td>\n",
       "      <td>2 žalitev</td>\n",
       "    </tr>\n",
       "    <tr>\n",
       "      <th>18</th>\n",
       "      <td>jbtpmkomunistična povojna oblast je bila zgraj...</td>\n",
       "      <td>2 žalitev</td>\n",
       "    </tr>\n",
       "    <tr>\n",
       "      <th>19</th>\n",
       "      <td>in seveda rkc ki jo vodijo pedri ljudem pa pri...</td>\n",
       "      <td>2 žalitev</td>\n",
       "    </tr>\n",
       "    <tr>\n",
       "      <th>20</th>\n",
       "      <td>nisem samo trolam kar se mi zdi edini konstruk...</td>\n",
       "      <td>0 ni sporni govor</td>\n",
       "    </tr>\n",
       "    <tr>\n",
       "      <th>21</th>\n",
       "      <td>v eu ni zdravstvenega ministra ki je pred tem ...</td>\n",
       "      <td>0 ni sporni govor</td>\n",
       "    </tr>\n",
       "    <tr>\n",
       "      <th>22</th>\n",
       "      <td>razgalili so se že zdavnaj tale reklama je sam...</td>\n",
       "      <td>2 žalitev</td>\n",
       "    </tr>\n",
       "    <tr>\n",
       "      <th>23</th>\n",
       "      <td>cubus postrv na žaru piščanec v omaki gobova e...</td>\n",
       "      <td>0 ni sporni govor</td>\n",
       "    </tr>\n",
       "    <tr>\n",
       "      <th>24</th>\n",
       "      <td>cetrtkova terenska kolumna kitajska kapitaloko...</td>\n",
       "      <td>0 ni sporni govor</td>\n",
       "    </tr>\n",
       "    <tr>\n",
       "      <th>25</th>\n",
       "      <td>tega ti pa res ne bi bilo treba pisat a ni že ...</td>\n",
       "      <td>2 žalitev</td>\n",
       "    </tr>\n",
       "    <tr>\n",
       "      <th>26</th>\n",
       "      <td>s cepivi se uničuje imunost katere nore gobe s...</td>\n",
       "      <td>2 žalitev</td>\n",
       "    </tr>\n",
       "    <tr>\n",
       "      <th>27</th>\n",
       "      <td>problem je da se janezu janši iz podzavesti og...</td>\n",
       "      <td>2 žalitev</td>\n",
       "    </tr>\n",
       "    <tr>\n",
       "      <th>28</th>\n",
       "      <td>in bencinske bone in par neparsocialistični raj</td>\n",
       "      <td>2 žalitev</td>\n",
       "    </tr>\n",
       "    <tr>\n",
       "      <th>29</th>\n",
       "      <td>pravkar igram igro biathlon mania pridruži se ...</td>\n",
       "      <td>0 ni sporni govor</td>\n",
       "    </tr>\n",
       "  </tbody>\n",
       "</table>\n",
       "</div>"
      ],
      "text/plain": [
       "                                                Tweet          HateSpeech\n",
       "0   ker poslanci v slovenskem parlamentu prav nič ...           2 žalitev\n",
       "1   v novinarstvu je močan kruhoborski boja bi lah...           2 žalitev\n",
       "2   moja reportaza iz severne korejetravmatizirani...   0 ni sporni govor\n",
       "3   limbarska gora podpisa ne bo cerkev se ne prem...   0 ni sporni govor\n",
       "4   poklon sodniku edino orožje je seznaniti javno...   0 ni sporni govor\n",
       "5   kaj je neubranljivo partizanski boj za komuniz...           2 žalitev\n",
       "6   po mojem sploh ni opazil da nekdo za njim drži...           2 žalitev\n",
       "7   pešci naj posebej pazijo na železne zavese ki ...   0 ni sporni govor\n",
       "8   državne banke pa so zajebale zakaj ker so reše...           2 žalitev\n",
       "9   morda zato ker je to storil kot ena debela rit...           2 žalitev\n",
       "10  a veš tist ko srečaš neke entitete pa bi jih t...           3 nasilje\n",
       "11  včasih so rekl junij julij avgust babe prmr pu...           2 žalitev\n",
       "12  kako se je jonas zajebal z twittom le kaj mu j...  1 nespodobni govor\n",
       "13  že na prvem letošnjem teku pred biki v pamplon...   0 ni sporni govor\n",
       "14  danes sem sedel za mizo z veganko ki je poprej...   0 ni sporni govor\n",
       "15  ce bi ti bil sexy glupa zenska z velkimi joski...           2 žalitev\n",
       "16        sladki kanibalizem slovenija pocena lobanja   0 ni sporni govor\n",
       "17  to je eden jj lokalnih medijev služi torej ist...           2 žalitev\n",
       "18  jbtpmkomunistična povojna oblast je bila zgraj...           2 žalitev\n",
       "19  in seveda rkc ki jo vodijo pedri ljudem pa pri...           2 žalitev\n",
       "20  nisem samo trolam kar se mi zdi edini konstruk...   0 ni sporni govor\n",
       "21  v eu ni zdravstvenega ministra ki je pred tem ...   0 ni sporni govor\n",
       "22  razgalili so se že zdavnaj tale reklama je sam...           2 žalitev\n",
       "23  cubus postrv na žaru piščanec v omaki gobova e...   0 ni sporni govor\n",
       "24  cetrtkova terenska kolumna kitajska kapitaloko...   0 ni sporni govor\n",
       "25  tega ti pa res ne bi bilo treba pisat a ni že ...           2 žalitev\n",
       "26  s cepivi se uničuje imunost katere nore gobe s...           2 žalitev\n",
       "27  problem je da se janezu janši iz podzavesti og...           2 žalitev\n",
       "28    in bencinske bone in par neparsocialistični raj           2 žalitev\n",
       "29  pravkar igram igro biathlon mania pridruži se ...   0 ni sporni govor"
      ]
     },
     "execution_count": 38,
     "metadata": {},
     "output_type": "execute_result"
    }
   ],
   "source": [
    "df.head(30)"
   ]
  },
  {
   "cell_type": "markdown",
   "metadata": {},
   "source": [
    "Preverimo, če obstajajo vrstice, ki imajo vrednost v stolpcu *Tweet* ali *HateSpeech* prazno vrednost in take vrstice odstranimo."
   ]
  },
  {
   "cell_type": "code",
   "execution_count": 39,
   "metadata": {
    "id": "TU-z6235yYme"
   },
   "outputs": [],
   "source": [
    "prazniHS = []\n",
    "for i in range(len(df['HateSpeech'])):\n",
    "  hs = df['HateSpeech'][i]\n",
    "  if not hs:\n",
    "    prazniHS.append(i)"
   ]
  },
  {
   "cell_type": "code",
   "execution_count": 40,
   "metadata": {
    "colab": {
     "base_uri": "https://localhost:8080/"
    },
    "id": "rAwV_NebyiBc",
    "outputId": "e932d112-50ea-41ed-e78d-694bfe645c2b"
   },
   "outputs": [
    {
     "data": {
      "text/plain": [
       "144"
      ]
     },
     "execution_count": 40,
     "metadata": {},
     "output_type": "execute_result"
    }
   ],
   "source": [
    "len(prazniHS)"
   ]
  },
  {
   "cell_type": "code",
   "execution_count": 41,
   "metadata": {
    "colab": {
     "base_uri": "https://localhost:8080/"
    },
    "id": "YOLQI67dynzV",
    "outputId": "319f05e9-6535-4bdc-fbcc-604a0258b453"
   },
   "outputs": [
    {
     "name": "stderr",
     "output_type": "stream",
     "text": [
      "C:\\Users\\gogi1\\AppData\\Local\\Temp\\ipykernel_12336\\3001810364.py:1: FutureWarning: In a future version of pandas all arguments of DataFrame.drop except for the argument 'labels' will be keyword-only.\n",
      "  df.drop(prazniHS,0,inplace=True)\n"
     ]
    }
   ],
   "source": [
    "df.drop(prazniHS,0,inplace=True)"
   ]
  },
  {
   "cell_type": "code",
   "execution_count": 42,
   "metadata": {
    "id": "Cqn2Pf4WyqOn"
   },
   "outputs": [],
   "source": [
    "df = df.reset_index(drop=True)"
   ]
  },
  {
   "cell_type": "code",
   "execution_count": 43,
   "metadata": {
    "id": "Wb9vk3c2A9Sc"
   },
   "outputs": [],
   "source": [
    "prazniText = []\n",
    "for i in range(len(df['Tweet'])):\n",
    "  t = df['Tweet'][i]\n",
    "  if not t:\n",
    "    prazniText.append(i)"
   ]
  },
  {
   "cell_type": "code",
   "execution_count": 44,
   "metadata": {
    "colab": {
     "base_uri": "https://localhost:8080/"
    },
    "id": "rN-X9-XMBSL_",
    "outputId": "c6607d70-854d-49c5-e640-62e4e3ed69ee"
   },
   "outputs": [
    {
     "data": {
      "text/plain": [
       "[7184, 19612, 20046, 71305]"
      ]
     },
     "execution_count": 44,
     "metadata": {},
     "output_type": "execute_result"
    }
   ],
   "source": [
    "prazniText"
   ]
  },
  {
   "cell_type": "code",
   "execution_count": 45,
   "metadata": {
    "colab": {
     "base_uri": "https://localhost:8080/"
    },
    "id": "mT45J9ORBT_t",
    "outputId": "cde122ad-d612-4768-f1ae-b7eaa66fd688"
   },
   "outputs": [
    {
     "name": "stderr",
     "output_type": "stream",
     "text": [
      "C:\\Users\\gogi1\\AppData\\Local\\Temp\\ipykernel_12336\\2355411362.py:1: FutureWarning: In a future version of pandas all arguments of DataFrame.drop except for the argument 'labels' will be keyword-only.\n",
      "  df.drop(prazniText,0,inplace=True)\n"
     ]
    }
   ],
   "source": [
    "df.drop(prazniText,0,inplace=True)"
   ]
  },
  {
   "cell_type": "code",
   "execution_count": 46,
   "metadata": {
    "id": "bEix1XHZBYX-"
   },
   "outputs": [],
   "source": [
    "df = df.reset_index(drop=True)"
   ]
  },
  {
   "cell_type": "code",
   "execution_count": 47,
   "metadata": {
    "colab": {
     "base_uri": "https://localhost:8080/"
    },
    "id": "VqOoJ3vBBbr1",
    "outputId": "7f316100-458c-4147-e816-969464d84483"
   },
   "outputs": [
    {
     "data": {
      "text/plain": [
       "(78170, 2)"
      ]
     },
     "execution_count": 47,
     "metadata": {},
     "output_type": "execute_result"
    }
   ],
   "source": [
    "df.shape"
   ]
  },
  {
   "cell_type": "code",
   "execution_count": 49,
   "metadata": {},
   "outputs": [],
   "source": [
    "hatespeech=[]\n",
    "for hs in df['HateSpeech']:\n",
    "    if hs == '0 ni sporni govor':\n",
    "        hs = 'nesovrazni'\n",
    "        hatespeech.append(hs)\n",
    "        #print(hs)\n",
    "    else:\n",
    "        hs = 'sovrazni'\n",
    "        hatespeech.append(hs)\n",
    "        #print(hs)"
   ]
  },
  {
   "cell_type": "code",
   "execution_count": 50,
   "metadata": {},
   "outputs": [],
   "source": [
    "df['HateSpeech'] = hatespeech"
   ]
  },
  {
   "cell_type": "code",
   "execution_count": 51,
   "metadata": {},
   "outputs": [
    {
     "data": {
      "text/html": [
       "<div>\n",
       "<style scoped>\n",
       "    .dataframe tbody tr th:only-of-type {\n",
       "        vertical-align: middle;\n",
       "    }\n",
       "\n",
       "    .dataframe tbody tr th {\n",
       "        vertical-align: top;\n",
       "    }\n",
       "\n",
       "    .dataframe thead th {\n",
       "        text-align: right;\n",
       "    }\n",
       "</style>\n",
       "<table border=\"1\" class=\"dataframe\">\n",
       "  <thead>\n",
       "    <tr style=\"text-align: right;\">\n",
       "      <th></th>\n",
       "      <th>Tweet</th>\n",
       "      <th>HateSpeech</th>\n",
       "    </tr>\n",
       "  </thead>\n",
       "  <tbody>\n",
       "    <tr>\n",
       "      <th>0</th>\n",
       "      <td>ker poslanci v slovenskem parlamentu prav nič ...</td>\n",
       "      <td>sovrazni</td>\n",
       "    </tr>\n",
       "    <tr>\n",
       "      <th>1</th>\n",
       "      <td>v novinarstvu je močan kruhoborski boja bi lah...</td>\n",
       "      <td>sovrazni</td>\n",
       "    </tr>\n",
       "    <tr>\n",
       "      <th>2</th>\n",
       "      <td>moja reportaza iz severne korejetravmatizirani...</td>\n",
       "      <td>nesovrazni</td>\n",
       "    </tr>\n",
       "    <tr>\n",
       "      <th>3</th>\n",
       "      <td>limbarska gora podpisa ne bo cerkev se ne prem...</td>\n",
       "      <td>nesovrazni</td>\n",
       "    </tr>\n",
       "    <tr>\n",
       "      <th>4</th>\n",
       "      <td>poklon sodniku edino orožje je seznaniti javno...</td>\n",
       "      <td>nesovrazni</td>\n",
       "    </tr>\n",
       "    <tr>\n",
       "      <th>5</th>\n",
       "      <td>kaj je neubranljivo partizanski boj za komuniz...</td>\n",
       "      <td>sovrazni</td>\n",
       "    </tr>\n",
       "    <tr>\n",
       "      <th>6</th>\n",
       "      <td>po mojem sploh ni opazil da nekdo za njim drži...</td>\n",
       "      <td>sovrazni</td>\n",
       "    </tr>\n",
       "    <tr>\n",
       "      <th>7</th>\n",
       "      <td>pešci naj posebej pazijo na železne zavese ki ...</td>\n",
       "      <td>nesovrazni</td>\n",
       "    </tr>\n",
       "    <tr>\n",
       "      <th>8</th>\n",
       "      <td>državne banke pa so zajebale zakaj ker so reše...</td>\n",
       "      <td>sovrazni</td>\n",
       "    </tr>\n",
       "    <tr>\n",
       "      <th>9</th>\n",
       "      <td>morda zato ker je to storil kot ena debela rit...</td>\n",
       "      <td>sovrazni</td>\n",
       "    </tr>\n",
       "    <tr>\n",
       "      <th>10</th>\n",
       "      <td>a veš tist ko srečaš neke entitete pa bi jih t...</td>\n",
       "      <td>sovrazni</td>\n",
       "    </tr>\n",
       "    <tr>\n",
       "      <th>11</th>\n",
       "      <td>včasih so rekl junij julij avgust babe prmr pu...</td>\n",
       "      <td>sovrazni</td>\n",
       "    </tr>\n",
       "    <tr>\n",
       "      <th>12</th>\n",
       "      <td>kako se je jonas zajebal z twittom le kaj mu j...</td>\n",
       "      <td>sovrazni</td>\n",
       "    </tr>\n",
       "    <tr>\n",
       "      <th>13</th>\n",
       "      <td>že na prvem letošnjem teku pred biki v pamplon...</td>\n",
       "      <td>nesovrazni</td>\n",
       "    </tr>\n",
       "    <tr>\n",
       "      <th>14</th>\n",
       "      <td>danes sem sedel za mizo z veganko ki je poprej...</td>\n",
       "      <td>nesovrazni</td>\n",
       "    </tr>\n",
       "    <tr>\n",
       "      <th>15</th>\n",
       "      <td>ce bi ti bil sexy glupa zenska z velkimi joski...</td>\n",
       "      <td>sovrazni</td>\n",
       "    </tr>\n",
       "    <tr>\n",
       "      <th>16</th>\n",
       "      <td>sladki kanibalizem slovenija pocena lobanja</td>\n",
       "      <td>nesovrazni</td>\n",
       "    </tr>\n",
       "    <tr>\n",
       "      <th>17</th>\n",
       "      <td>to je eden jj lokalnih medijev služi torej ist...</td>\n",
       "      <td>sovrazni</td>\n",
       "    </tr>\n",
       "    <tr>\n",
       "      <th>18</th>\n",
       "      <td>jbtpmkomunistična povojna oblast je bila zgraj...</td>\n",
       "      <td>sovrazni</td>\n",
       "    </tr>\n",
       "    <tr>\n",
       "      <th>19</th>\n",
       "      <td>in seveda rkc ki jo vodijo pedri ljudem pa pri...</td>\n",
       "      <td>sovrazni</td>\n",
       "    </tr>\n",
       "    <tr>\n",
       "      <th>20</th>\n",
       "      <td>nisem samo trolam kar se mi zdi edini konstruk...</td>\n",
       "      <td>nesovrazni</td>\n",
       "    </tr>\n",
       "    <tr>\n",
       "      <th>21</th>\n",
       "      <td>v eu ni zdravstvenega ministra ki je pred tem ...</td>\n",
       "      <td>nesovrazni</td>\n",
       "    </tr>\n",
       "    <tr>\n",
       "      <th>22</th>\n",
       "      <td>razgalili so se že zdavnaj tale reklama je sam...</td>\n",
       "      <td>sovrazni</td>\n",
       "    </tr>\n",
       "    <tr>\n",
       "      <th>23</th>\n",
       "      <td>cubus postrv na žaru piščanec v omaki gobova e...</td>\n",
       "      <td>nesovrazni</td>\n",
       "    </tr>\n",
       "    <tr>\n",
       "      <th>24</th>\n",
       "      <td>cetrtkova terenska kolumna kitajska kapitaloko...</td>\n",
       "      <td>nesovrazni</td>\n",
       "    </tr>\n",
       "    <tr>\n",
       "      <th>25</th>\n",
       "      <td>tega ti pa res ne bi bilo treba pisat a ni že ...</td>\n",
       "      <td>sovrazni</td>\n",
       "    </tr>\n",
       "    <tr>\n",
       "      <th>26</th>\n",
       "      <td>s cepivi se uničuje imunost katere nore gobe s...</td>\n",
       "      <td>sovrazni</td>\n",
       "    </tr>\n",
       "    <tr>\n",
       "      <th>27</th>\n",
       "      <td>problem je da se janezu janši iz podzavesti og...</td>\n",
       "      <td>sovrazni</td>\n",
       "    </tr>\n",
       "    <tr>\n",
       "      <th>28</th>\n",
       "      <td>in bencinske bone in par neparsocialistični raj</td>\n",
       "      <td>sovrazni</td>\n",
       "    </tr>\n",
       "    <tr>\n",
       "      <th>29</th>\n",
       "      <td>pravkar igram igro biathlon mania pridruži se ...</td>\n",
       "      <td>nesovrazni</td>\n",
       "    </tr>\n",
       "  </tbody>\n",
       "</table>\n",
       "</div>"
      ],
      "text/plain": [
       "                                                Tweet  HateSpeech\n",
       "0   ker poslanci v slovenskem parlamentu prav nič ...    sovrazni\n",
       "1   v novinarstvu je močan kruhoborski boja bi lah...    sovrazni\n",
       "2   moja reportaza iz severne korejetravmatizirani...  nesovrazni\n",
       "3   limbarska gora podpisa ne bo cerkev se ne prem...  nesovrazni\n",
       "4   poklon sodniku edino orožje je seznaniti javno...  nesovrazni\n",
       "5   kaj je neubranljivo partizanski boj za komuniz...    sovrazni\n",
       "6   po mojem sploh ni opazil da nekdo za njim drži...    sovrazni\n",
       "7   pešci naj posebej pazijo na železne zavese ki ...  nesovrazni\n",
       "8   državne banke pa so zajebale zakaj ker so reše...    sovrazni\n",
       "9   morda zato ker je to storil kot ena debela rit...    sovrazni\n",
       "10  a veš tist ko srečaš neke entitete pa bi jih t...    sovrazni\n",
       "11  včasih so rekl junij julij avgust babe prmr pu...    sovrazni\n",
       "12  kako se je jonas zajebal z twittom le kaj mu j...    sovrazni\n",
       "13  že na prvem letošnjem teku pred biki v pamplon...  nesovrazni\n",
       "14  danes sem sedel za mizo z veganko ki je poprej...  nesovrazni\n",
       "15  ce bi ti bil sexy glupa zenska z velkimi joski...    sovrazni\n",
       "16        sladki kanibalizem slovenija pocena lobanja  nesovrazni\n",
       "17  to je eden jj lokalnih medijev služi torej ist...    sovrazni\n",
       "18  jbtpmkomunistična povojna oblast je bila zgraj...    sovrazni\n",
       "19  in seveda rkc ki jo vodijo pedri ljudem pa pri...    sovrazni\n",
       "20  nisem samo trolam kar se mi zdi edini konstruk...  nesovrazni\n",
       "21  v eu ni zdravstvenega ministra ki je pred tem ...  nesovrazni\n",
       "22  razgalili so se že zdavnaj tale reklama je sam...    sovrazni\n",
       "23  cubus postrv na žaru piščanec v omaki gobova e...  nesovrazni\n",
       "24  cetrtkova terenska kolumna kitajska kapitaloko...  nesovrazni\n",
       "25  tega ti pa res ne bi bilo treba pisat a ni že ...    sovrazni\n",
       "26  s cepivi se uničuje imunost katere nore gobe s...    sovrazni\n",
       "27  problem je da se janezu janši iz podzavesti og...    sovrazni\n",
       "28    in bencinske bone in par neparsocialistični raj    sovrazni\n",
       "29  pravkar igram igro biathlon mania pridruži se ...  nesovrazni"
      ]
     },
     "execution_count": 51,
     "metadata": {},
     "output_type": "execute_result"
    }
   ],
   "source": [
    "df.head(30)"
   ]
  },
  {
   "cell_type": "markdown",
   "metadata": {},
   "source": [
    "Tabelo razdelimo na tri dele v razmerju 8:1:1, ki predstavljajo *train dataset*, *evaluation dataset* in *test dataset*."
   ]
  },
  {
   "cell_type": "code",
   "execution_count": 52,
   "metadata": {
    "id": "6kQm1Lqapl88"
   },
   "outputs": [],
   "source": [
    "test = df[:1000]"
   ]
  },
  {
   "cell_type": "code",
   "execution_count": 53,
   "metadata": {
    "colab": {
     "base_uri": "https://localhost:8080/"
    },
    "id": "EFiu6Q0qqA3r",
    "outputId": "83725f47-e265-4826-dd7f-aabae63ab574"
   },
   "outputs": [
    {
     "data": {
      "text/plain": [
       "(1000, 2)"
      ]
     },
     "execution_count": 53,
     "metadata": {},
     "output_type": "execute_result"
    }
   ],
   "source": [
    "test.shape"
   ]
  },
  {
   "cell_type": "code",
   "execution_count": 54,
   "metadata": {
    "colab": {
     "base_uri": "https://localhost:8080/",
     "height": 520
    },
    "id": "B034LvT-1yxW",
    "outputId": "b512013e-8f82-48f6-af7c-f56d421019ed"
   },
   "outputs": [
    {
     "data": {
      "text/html": [
       "<div>\n",
       "<style scoped>\n",
       "    .dataframe tbody tr th:only-of-type {\n",
       "        vertical-align: middle;\n",
       "    }\n",
       "\n",
       "    .dataframe tbody tr th {\n",
       "        vertical-align: top;\n",
       "    }\n",
       "\n",
       "    .dataframe thead th {\n",
       "        text-align: right;\n",
       "    }\n",
       "</style>\n",
       "<table border=\"1\" class=\"dataframe\">\n",
       "  <thead>\n",
       "    <tr style=\"text-align: right;\">\n",
       "      <th></th>\n",
       "      <th>Tweet</th>\n",
       "      <th>HateSpeech</th>\n",
       "    </tr>\n",
       "  </thead>\n",
       "  <tbody>\n",
       "    <tr>\n",
       "      <th>0</th>\n",
       "      <td>ker poslanci v slovenskem parlamentu prav nič ...</td>\n",
       "      <td>sovrazni</td>\n",
       "    </tr>\n",
       "    <tr>\n",
       "      <th>1</th>\n",
       "      <td>v novinarstvu je močan kruhoborski boja bi lah...</td>\n",
       "      <td>sovrazni</td>\n",
       "    </tr>\n",
       "    <tr>\n",
       "      <th>2</th>\n",
       "      <td>moja reportaza iz severne korejetravmatizirani...</td>\n",
       "      <td>nesovrazni</td>\n",
       "    </tr>\n",
       "    <tr>\n",
       "      <th>3</th>\n",
       "      <td>limbarska gora podpisa ne bo cerkev se ne prem...</td>\n",
       "      <td>nesovrazni</td>\n",
       "    </tr>\n",
       "    <tr>\n",
       "      <th>4</th>\n",
       "      <td>poklon sodniku edino orožje je seznaniti javno...</td>\n",
       "      <td>nesovrazni</td>\n",
       "    </tr>\n",
       "    <tr>\n",
       "      <th>5</th>\n",
       "      <td>kaj je neubranljivo partizanski boj za komuniz...</td>\n",
       "      <td>sovrazni</td>\n",
       "    </tr>\n",
       "    <tr>\n",
       "      <th>6</th>\n",
       "      <td>po mojem sploh ni opazil da nekdo za njim drži...</td>\n",
       "      <td>sovrazni</td>\n",
       "    </tr>\n",
       "    <tr>\n",
       "      <th>7</th>\n",
       "      <td>pešci naj posebej pazijo na železne zavese ki ...</td>\n",
       "      <td>nesovrazni</td>\n",
       "    </tr>\n",
       "    <tr>\n",
       "      <th>8</th>\n",
       "      <td>državne banke pa so zajebale zakaj ker so reše...</td>\n",
       "      <td>sovrazni</td>\n",
       "    </tr>\n",
       "    <tr>\n",
       "      <th>9</th>\n",
       "      <td>morda zato ker je to storil kot ena debela rit...</td>\n",
       "      <td>sovrazni</td>\n",
       "    </tr>\n",
       "    <tr>\n",
       "      <th>10</th>\n",
       "      <td>a veš tist ko srečaš neke entitete pa bi jih t...</td>\n",
       "      <td>sovrazni</td>\n",
       "    </tr>\n",
       "    <tr>\n",
       "      <th>11</th>\n",
       "      <td>včasih so rekl junij julij avgust babe prmr pu...</td>\n",
       "      <td>sovrazni</td>\n",
       "    </tr>\n",
       "    <tr>\n",
       "      <th>12</th>\n",
       "      <td>kako se je jonas zajebal z twittom le kaj mu j...</td>\n",
       "      <td>sovrazni</td>\n",
       "    </tr>\n",
       "    <tr>\n",
       "      <th>13</th>\n",
       "      <td>že na prvem letošnjem teku pred biki v pamplon...</td>\n",
       "      <td>nesovrazni</td>\n",
       "    </tr>\n",
       "    <tr>\n",
       "      <th>14</th>\n",
       "      <td>danes sem sedel za mizo z veganko ki je poprej...</td>\n",
       "      <td>nesovrazni</td>\n",
       "    </tr>\n",
       "  </tbody>\n",
       "</table>\n",
       "</div>"
      ],
      "text/plain": [
       "                                                Tweet  HateSpeech\n",
       "0   ker poslanci v slovenskem parlamentu prav nič ...    sovrazni\n",
       "1   v novinarstvu je močan kruhoborski boja bi lah...    sovrazni\n",
       "2   moja reportaza iz severne korejetravmatizirani...  nesovrazni\n",
       "3   limbarska gora podpisa ne bo cerkev se ne prem...  nesovrazni\n",
       "4   poklon sodniku edino orožje je seznaniti javno...  nesovrazni\n",
       "5   kaj je neubranljivo partizanski boj za komuniz...    sovrazni\n",
       "6   po mojem sploh ni opazil da nekdo za njim drži...    sovrazni\n",
       "7   pešci naj posebej pazijo na železne zavese ki ...  nesovrazni\n",
       "8   državne banke pa so zajebale zakaj ker so reše...    sovrazni\n",
       "9   morda zato ker je to storil kot ena debela rit...    sovrazni\n",
       "10  a veš tist ko srečaš neke entitete pa bi jih t...    sovrazni\n",
       "11  včasih so rekl junij julij avgust babe prmr pu...    sovrazni\n",
       "12  kako se je jonas zajebal z twittom le kaj mu j...    sovrazni\n",
       "13  že na prvem letošnjem teku pred biki v pamplon...  nesovrazni\n",
       "14  danes sem sedel za mizo z veganko ki je poprej...  nesovrazni"
      ]
     },
     "execution_count": 54,
     "metadata": {},
     "output_type": "execute_result"
    }
   ],
   "source": [
    "test.head(15)"
   ]
  },
  {
   "cell_type": "code",
   "execution_count": 55,
   "metadata": {
    "id": "_7EouAFdqB4V"
   },
   "outputs": [],
   "source": [
    "evaluation = df[1001:2001]"
   ]
  },
  {
   "cell_type": "code",
   "execution_count": 56,
   "metadata": {
    "colab": {
     "base_uri": "https://localhost:8080/"
    },
    "id": "6OH-APm1qH4-",
    "outputId": "7a68c2d5-d1e5-4571-f3bd-114ca20c427e"
   },
   "outputs": [
    {
     "data": {
      "text/plain": [
       "(1000, 2)"
      ]
     },
     "execution_count": 56,
     "metadata": {},
     "output_type": "execute_result"
    }
   ],
   "source": [
    "evaluation.shape"
   ]
  },
  {
   "cell_type": "code",
   "execution_count": 57,
   "metadata": {
    "colab": {
     "base_uri": "https://localhost:8080/",
     "height": 424
    },
    "id": "nefEq7Kp1n3R",
    "outputId": "c3f6ecef-7211-4f39-a113-bf34ac5dad3f"
   },
   "outputs": [
    {
     "data": {
      "text/html": [
       "<div>\n",
       "<style scoped>\n",
       "    .dataframe tbody tr th:only-of-type {\n",
       "        vertical-align: middle;\n",
       "    }\n",
       "\n",
       "    .dataframe tbody tr th {\n",
       "        vertical-align: top;\n",
       "    }\n",
       "\n",
       "    .dataframe thead th {\n",
       "        text-align: right;\n",
       "    }\n",
       "</style>\n",
       "<table border=\"1\" class=\"dataframe\">\n",
       "  <thead>\n",
       "    <tr style=\"text-align: right;\">\n",
       "      <th></th>\n",
       "      <th>Tweet</th>\n",
       "      <th>HateSpeech</th>\n",
       "    </tr>\n",
       "  </thead>\n",
       "  <tbody>\n",
       "    <tr>\n",
       "      <th>0</th>\n",
       "      <td>po moje so že tam in so pred časom k nam prile...</td>\n",
       "      <td>sovrazni</td>\n",
       "    </tr>\n",
       "    <tr>\n",
       "      <th>1</th>\n",
       "      <td>to je lahk človk še ne vem kolk depressed ko g...</td>\n",
       "      <td>sovrazni</td>\n",
       "    </tr>\n",
       "    <tr>\n",
       "      <th>2</th>\n",
       "      <td>in ne zgolj to po trejlerju sodeč je lisbeth s...</td>\n",
       "      <td>nesovrazni</td>\n",
       "    </tr>\n",
       "    <tr>\n",
       "      <th>3</th>\n",
       "      <td>pravi povolilni golaž cmarim že 4 ure jutri bo...</td>\n",
       "      <td>nesovrazni</td>\n",
       "    </tr>\n",
       "    <tr>\n",
       "      <th>4</th>\n",
       "      <td>levice so polna usta človečnostiahmad za stoti...</td>\n",
       "      <td>nesovrazni</td>\n",
       "    </tr>\n",
       "    <tr>\n",
       "      <th>...</th>\n",
       "      <td>...</td>\n",
       "      <td>...</td>\n",
       "    </tr>\n",
       "    <tr>\n",
       "      <th>995</th>\n",
       "      <td>nategunska zdravila brez gso kam že to prijavi...</td>\n",
       "      <td>sovrazni</td>\n",
       "    </tr>\n",
       "    <tr>\n",
       "      <th>996</th>\n",
       "      <td>migrantje so pičkim dim proti tem mlečno zobim...</td>\n",
       "      <td>sovrazni</td>\n",
       "    </tr>\n",
       "    <tr>\n",
       "      <th>997</th>\n",
       "      <td>tuki ji moraš samo rečt da okej ti boš pa tut ...</td>\n",
       "      <td>sovrazni</td>\n",
       "    </tr>\n",
       "    <tr>\n",
       "      <th>998</th>\n",
       "      <td>ta usrane ni imel ne čutarice ne cigaretne doz...</td>\n",
       "      <td>sovrazni</td>\n",
       "    </tr>\n",
       "    <tr>\n",
       "      <th>999</th>\n",
       "      <td>ne vem kaj ste pricakovali pa tudi zanima me n...</td>\n",
       "      <td>nesovrazni</td>\n",
       "    </tr>\n",
       "  </tbody>\n",
       "</table>\n",
       "<p>1000 rows × 2 columns</p>\n",
       "</div>"
      ],
      "text/plain": [
       "                                                 Tweet  HateSpeech\n",
       "0    po moje so že tam in so pred časom k nam prile...    sovrazni\n",
       "1    to je lahk človk še ne vem kolk depressed ko g...    sovrazni\n",
       "2    in ne zgolj to po trejlerju sodeč je lisbeth s...  nesovrazni\n",
       "3    pravi povolilni golaž cmarim že 4 ure jutri bo...  nesovrazni\n",
       "4    levice so polna usta človečnostiahmad za stoti...  nesovrazni\n",
       "..                                                 ...         ...\n",
       "995  nategunska zdravila brez gso kam že to prijavi...    sovrazni\n",
       "996  migrantje so pičkim dim proti tem mlečno zobim...    sovrazni\n",
       "997  tuki ji moraš samo rečt da okej ti boš pa tut ...    sovrazni\n",
       "998  ta usrane ni imel ne čutarice ne cigaretne doz...    sovrazni\n",
       "999  ne vem kaj ste pricakovali pa tudi zanima me n...  nesovrazni\n",
       "\n",
       "[1000 rows x 2 columns]"
      ]
     },
     "execution_count": 57,
     "metadata": {},
     "output_type": "execute_result"
    }
   ],
   "source": [
    "evaluation.reset_index(drop=True)"
   ]
  },
  {
   "cell_type": "code",
   "execution_count": 58,
   "metadata": {},
   "outputs": [],
   "source": [
    "train = df[2002:10002]"
   ]
  },
  {
   "cell_type": "code",
   "execution_count": 59,
   "metadata": {},
   "outputs": [
    {
     "data": {
      "text/plain": [
       "(8000, 2)"
      ]
     },
     "execution_count": 59,
     "metadata": {},
     "output_type": "execute_result"
    }
   ],
   "source": [
    "train.shape"
   ]
  },
  {
   "cell_type": "code",
   "execution_count": 60,
   "metadata": {},
   "outputs": [
    {
     "data": {
      "text/html": [
       "<div>\n",
       "<style scoped>\n",
       "    .dataframe tbody tr th:only-of-type {\n",
       "        vertical-align: middle;\n",
       "    }\n",
       "\n",
       "    .dataframe tbody tr th {\n",
       "        vertical-align: top;\n",
       "    }\n",
       "\n",
       "    .dataframe thead th {\n",
       "        text-align: right;\n",
       "    }\n",
       "</style>\n",
       "<table border=\"1\" class=\"dataframe\">\n",
       "  <thead>\n",
       "    <tr style=\"text-align: right;\">\n",
       "      <th></th>\n",
       "      <th>Tweet</th>\n",
       "      <th>HateSpeech</th>\n",
       "    </tr>\n",
       "  </thead>\n",
       "  <tbody>\n",
       "    <tr>\n",
       "      <th>0</th>\n",
       "      <td>po moje so že tam in so pred časom k nam prile...</td>\n",
       "      <td>sovrazni</td>\n",
       "    </tr>\n",
       "    <tr>\n",
       "      <th>1</th>\n",
       "      <td>to je lahk človk še ne vem kolk depressed ko g...</td>\n",
       "      <td>sovrazni</td>\n",
       "    </tr>\n",
       "    <tr>\n",
       "      <th>2</th>\n",
       "      <td>in ne zgolj to po trejlerju sodeč je lisbeth s...</td>\n",
       "      <td>nesovrazni</td>\n",
       "    </tr>\n",
       "    <tr>\n",
       "      <th>3</th>\n",
       "      <td>pravi povolilni golaž cmarim že 4 ure jutri bo...</td>\n",
       "      <td>nesovrazni</td>\n",
       "    </tr>\n",
       "    <tr>\n",
       "      <th>4</th>\n",
       "      <td>levice so polna usta človečnostiahmad za stoti...</td>\n",
       "      <td>nesovrazni</td>\n",
       "    </tr>\n",
       "    <tr>\n",
       "      <th>...</th>\n",
       "      <td>...</td>\n",
       "      <td>...</td>\n",
       "    </tr>\n",
       "    <tr>\n",
       "      <th>995</th>\n",
       "      <td>nategunska zdravila brez gso kam že to prijavi...</td>\n",
       "      <td>sovrazni</td>\n",
       "    </tr>\n",
       "    <tr>\n",
       "      <th>996</th>\n",
       "      <td>migrantje so pičkim dim proti tem mlečno zobim...</td>\n",
       "      <td>sovrazni</td>\n",
       "    </tr>\n",
       "    <tr>\n",
       "      <th>997</th>\n",
       "      <td>tuki ji moraš samo rečt da okej ti boš pa tut ...</td>\n",
       "      <td>sovrazni</td>\n",
       "    </tr>\n",
       "    <tr>\n",
       "      <th>998</th>\n",
       "      <td>ta usrane ni imel ne čutarice ne cigaretne doz...</td>\n",
       "      <td>sovrazni</td>\n",
       "    </tr>\n",
       "    <tr>\n",
       "      <th>999</th>\n",
       "      <td>ne vem kaj ste pricakovali pa tudi zanima me n...</td>\n",
       "      <td>nesovrazni</td>\n",
       "    </tr>\n",
       "  </tbody>\n",
       "</table>\n",
       "<p>1000 rows × 2 columns</p>\n",
       "</div>"
      ],
      "text/plain": [
       "                                                 Tweet  HateSpeech\n",
       "0    po moje so že tam in so pred časom k nam prile...    sovrazni\n",
       "1    to je lahk človk še ne vem kolk depressed ko g...    sovrazni\n",
       "2    in ne zgolj to po trejlerju sodeč je lisbeth s...  nesovrazni\n",
       "3    pravi povolilni golaž cmarim že 4 ure jutri bo...  nesovrazni\n",
       "4    levice so polna usta človečnostiahmad za stoti...  nesovrazni\n",
       "..                                                 ...         ...\n",
       "995  nategunska zdravila brez gso kam že to prijavi...    sovrazni\n",
       "996  migrantje so pičkim dim proti tem mlečno zobim...    sovrazni\n",
       "997  tuki ji moraš samo rečt da okej ti boš pa tut ...    sovrazni\n",
       "998  ta usrane ni imel ne čutarice ne cigaretne doz...    sovrazni\n",
       "999  ne vem kaj ste pricakovali pa tudi zanima me n...  nesovrazni\n",
       "\n",
       "[1000 rows x 2 columns]"
      ]
     },
     "execution_count": 60,
     "metadata": {},
     "output_type": "execute_result"
    }
   ],
   "source": [
    "evaluation.reset_index(drop=True)"
   ]
  },
  {
   "cell_type": "markdown",
   "metadata": {},
   "source": [
    "Pridobljeno prečiščeni tabeli za *training* in *test dataset* shranimo v novi csv datoteki."
   ]
  },
  {
   "cell_type": "code",
   "execution_count": 61,
   "metadata": {
    "colab": {
     "base_uri": "https://localhost:8080/",
     "height": 17
    },
    "id": "VhIxrIIAqJos",
    "outputId": "3c57367c-7b40-4868-8841-fa14039b0b58"
   },
   "outputs": [],
   "source": [
    "train.to_csv('hateSpeechTrain.csv', encoding = 'utf-8-sig', index=False) "
   ]
  },
  {
   "cell_type": "code",
   "execution_count": 62,
   "metadata": {
    "colab": {
     "base_uri": "https://localhost:8080/",
     "height": 17
    },
    "id": "n-AorVCrqWh4",
    "outputId": "d5158026-94c4-4a49-f26c-701587a210bb"
   },
   "outputs": [],
   "source": [
    "test.to_csv('hateSpeechTest.csv', encoding = 'utf-8-sig', index=False) "
   ]
  },
  {
   "cell_type": "code",
   "execution_count": 63,
   "metadata": {
    "id": "Wl-SHTvGCDqr"
   },
   "outputs": [],
   "source": [
    "evaluation.to_csv('hateSpeechEvaluation.csv', encoding = 'utf-8-sig', index=False)"
   ]
  },
  {
   "cell_type": "code",
   "execution_count": null,
   "metadata": {},
   "outputs": [],
   "source": []
  }
 ],
 "metadata": {
  "colab": {
   "collapsed_sections": [],
   "name": "Getting_the_data_Hate_speech.ipynb",
   "provenance": []
  },
  "kernelspec": {
   "display_name": "Python 3 (ipykernel)",
   "language": "python",
   "name": "python3"
  },
  "language_info": {
   "codemirror_mode": {
    "name": "ipython",
    "version": 3
   },
   "file_extension": ".py",
   "mimetype": "text/x-python",
   "name": "python",
   "nbconvert_exporter": "python",
   "pygments_lexer": "ipython3",
   "version": "3.9.7"
  }
 },
 "nbformat": 4,
 "nbformat_minor": 1
}
